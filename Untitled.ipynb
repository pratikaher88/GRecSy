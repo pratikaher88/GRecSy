{
 "cells": [
  {
   "cell_type": "code",
   "execution_count": 1,
   "id": "b833965e",
   "metadata": {},
   "outputs": [
    {
     "name": "stderr",
     "output_type": "stream",
     "text": [
      "/Users/pratikaher/DGL/graph-rec/venv/lib/python3.8/site-packages/tqdm/auto.py:22: TqdmWarning: IProgress not found. Please update jupyter and ipywidgets. See https://ipywidgets.readthedocs.io/en/stable/user_install.html\n",
      "  from .autonotebook import tqdm as notebook_tqdm\n"
     ]
    }
   ],
   "source": [
    "import dgl\n",
    "import torch"
   ]
  },
  {
   "cell_type": "code",
   "execution_count": 47,
   "id": "e158a5ab",
   "metadata": {},
   "outputs": [],
   "source": [
    "graph_data = {\n",
    "    ('user','rates','movie') : (torch.tensor([5, 2, 2]), torch.tensor([10, 10, 7])),\n",
    "    ('movie','rev-rates','user') : (torch.tensor([10, 7]), torch.tensor([5, 15]))\n",
    "}\n",
    "\n",
    "hetero_graph = dgl.heterograph(graph_data)\n",
    "\n",
    "\n",
    "\n",
    "all_edges_rates = hetero_graph.edges(etype='rates')\n",
    "all_edges_rev_rates = hetero_graph.edges(etype='rev-rates')\n",
    "\n",
    "actual_users = list(set(all_edges_rates[0].tolist()).union(all_edges_rev_rates[1].tolist()))\n",
    "actual_movies = list(set(all_edges_rates[1].tolist()).union(all_edges_rev_rates[0].tolist()))\n",
    "\n",
    "ex_users = hetero_graph.nodes(ntype='user').tolist()\n",
    "ex_movies = hetero_graph.nodes(ntype='movie').tolist()\n",
    "\n",
    "hetero_graph.nodes['user'].data['node_ID'] = torch.tensor(ex_users).squeeze()\n",
    "hetero_graph.nodes['movie'].data['node_ID'] = torch.tensor(ex_movies).squeeze()\n",
    "\n",
    "not_users = list(set(ex_users).difference(set(actual_users)))\n",
    "not_movies = list(set(ex_movies).difference(set(actual_movies)))\n",
    "\n",
    "hetero_graph.remove_nodes(torch.tensor(not_users), ntype='user')\n",
    "hetero_graph.remove_nodes(torch.tensor(not_movies), ntype='movie')\n",
    "# hetero_graph.remove_nodes(torch.tensor(not_users), ntype='A')\n",
    "# hetero_graph.remove_nodes(torch.tensor(not_movies), ntype='C')"
   ]
  },
  {
   "cell_type": "code",
   "execution_count": 49,
   "id": "64ed2aa4",
   "metadata": {},
   "outputs": [
    {
     "data": {
      "text/plain": [
       "tensor([ 7, 10])"
      ]
     },
     "execution_count": 49,
     "metadata": {},
     "output_type": "execute_result"
    }
   ],
   "source": [
    "hetero_graph.nodes['movie'].data['node_ID']"
   ]
  },
  {
   "cell_type": "code",
   "execution_count": 61,
   "id": "b50962dc",
   "metadata": {},
   "outputs": [
    {
     "ename": "KeyError",
     "evalue": "'age'",
     "output_type": "error",
     "traceback": [
      "\u001b[0;31m---------------------------------------------------------------------------\u001b[0m",
      "\u001b[0;31mKeyError\u001b[0m                                  Traceback (most recent call last)",
      "Cell \u001b[0;32mIn [61], line 1\u001b[0m\n\u001b[0;32m----> 1\u001b[0m \u001b[43mhetero_graph\u001b[49m\u001b[38;5;241;43m.\u001b[39;49m\u001b[43mnodes\u001b[49m\u001b[43m[\u001b[49m\u001b[38;5;124;43m'\u001b[39;49m\u001b[38;5;124;43muser\u001b[39;49m\u001b[38;5;124;43m'\u001b[39;49m\u001b[43m]\u001b[49m\u001b[38;5;241;43m.\u001b[39;49m\u001b[43mdata\u001b[49m\u001b[43m[\u001b[49m\u001b[38;5;124;43m'\u001b[39;49m\u001b[38;5;124;43mage\u001b[39;49m\u001b[38;5;124;43m'\u001b[39;49m\u001b[43m]\u001b[49m[\u001b[38;5;241m0\u001b[39m] \u001b[38;5;241m=\u001b[39m torch\u001b[38;5;241m.\u001b[39mtensor(\u001b[38;5;241m42\u001b[39m)\u001b[38;5;241m.\u001b[39msqueeze()\n",
      "File \u001b[0;32m~/DGL/graph-rec/venv/lib/python3.8/site-packages/dgl/view.py:67\u001b[0m, in \u001b[0;36mHeteroNodeDataView.__getitem__\u001b[0;34m(self, key)\u001b[0m\n\u001b[1;32m     65\u001b[0m     \u001b[38;5;28;01mreturn\u001b[39;00m ret\n\u001b[1;32m     66\u001b[0m \u001b[38;5;28;01melse\u001b[39;00m:\n\u001b[0;32m---> 67\u001b[0m     \u001b[38;5;28;01mreturn\u001b[39;00m \u001b[38;5;28;43mself\u001b[39;49m\u001b[38;5;241;43m.\u001b[39;49m\u001b[43m_graph\u001b[49m\u001b[38;5;241;43m.\u001b[39;49m\u001b[43m_get_n_repr\u001b[49m\u001b[43m(\u001b[49m\u001b[38;5;28;43mself\u001b[39;49m\u001b[38;5;241;43m.\u001b[39;49m\u001b[43m_ntid\u001b[49m\u001b[43m,\u001b[49m\u001b[43m \u001b[49m\u001b[38;5;28;43mself\u001b[39;49m\u001b[38;5;241;43m.\u001b[39;49m\u001b[43m_nodes\u001b[49m\u001b[43m)\u001b[49m\u001b[43m[\u001b[49m\u001b[43mkey\u001b[49m\u001b[43m]\u001b[49m\n",
      "File \u001b[0;32m~/DGL/graph-rec/venv/lib/python3.8/site-packages/dgl/frame.py:607\u001b[0m, in \u001b[0;36mFrame.__getitem__\u001b[0;34m(self, name)\u001b[0m\n\u001b[1;32m    594\u001b[0m \u001b[38;5;28;01mdef\u001b[39;00m \u001b[38;5;21m__getitem__\u001b[39m(\u001b[38;5;28mself\u001b[39m, name):\n\u001b[1;32m    595\u001b[0m     \u001b[38;5;124;03m\"\"\"Return the column of the given name.\u001b[39;00m\n\u001b[1;32m    596\u001b[0m \n\u001b[1;32m    597\u001b[0m \u001b[38;5;124;03m    Parameters\u001b[39;00m\n\u001b[0;32m   (...)\u001b[0m\n\u001b[1;32m    605\u001b[0m \u001b[38;5;124;03m        Column data.\u001b[39;00m\n\u001b[1;32m    606\u001b[0m \u001b[38;5;124;03m    \"\"\"\u001b[39;00m\n\u001b[0;32m--> 607\u001b[0m     \u001b[38;5;28;01mreturn\u001b[39;00m \u001b[38;5;28;43mself\u001b[39;49m\u001b[38;5;241;43m.\u001b[39;49m\u001b[43m_columns\u001b[49m\u001b[43m[\u001b[49m\u001b[43mname\u001b[49m\u001b[43m]\u001b[49m\u001b[38;5;241m.\u001b[39mdata\n",
      "\u001b[0;31mKeyError\u001b[0m: 'age'"
     ]
    }
   ],
   "source": [
    "hetero_graph.nodes['user'].data['node_ID'] = torch.tensor(ex_users).squeeze()"
   ]
  },
  {
   "cell_type": "code",
   "execution_count": 70,
   "id": "0685064e",
   "metadata": {},
   "outputs": [
    {
     "data": {
      "text/plain": [
       "defaultdict(<class 'dict'>, {'node_ID': {'movie': tensor([ 7, 10]), 'user': tensor([ 2,  5, 15])}})"
      ]
     },
     "execution_count": 70,
     "metadata": {},
     "output_type": "execute_result"
    }
   ],
   "source": [
    "hetero_graph.ndata"
   ]
  },
  {
   "cell_type": "code",
   "execution_count": 69,
   "id": "524932d7",
   "metadata": {},
   "outputs": [
    {
     "ename": "KeyError",
     "evalue": "'age'",
     "output_type": "error",
     "traceback": [
      "\u001b[0;31m---------------------------------------------------------------------------\u001b[0m",
      "\u001b[0;31mKeyError\u001b[0m                                  Traceback (most recent call last)",
      "Cell \u001b[0;32mIn [69], line 1\u001b[0m\n\u001b[0;32m----> 1\u001b[0m \u001b[43mhetero_graph\u001b[49m\u001b[38;5;241;43m.\u001b[39;49m\u001b[43mnodes\u001b[49m\u001b[43m[\u001b[49m\u001b[38;5;124;43m'\u001b[39;49m\u001b[38;5;124;43muser\u001b[39;49m\u001b[38;5;124;43m'\u001b[39;49m\u001b[43m]\u001b[49m\u001b[38;5;241;43m.\u001b[39;49m\u001b[43mdata\u001b[49m\u001b[43m[\u001b[49m\u001b[38;5;124;43m'\u001b[39;49m\u001b[38;5;124;43mage\u001b[39;49m\u001b[38;5;124;43m'\u001b[39;49m\u001b[43m]\u001b[49m[\u001b[38;5;241m0\u001b[39m] \u001b[38;5;241m=\u001b[39m \u001b[38;5;241m1\u001b[39m\n",
      "File \u001b[0;32m~/DGL/graph-rec/venv/lib/python3.8/site-packages/dgl/view.py:67\u001b[0m, in \u001b[0;36mHeteroNodeDataView.__getitem__\u001b[0;34m(self, key)\u001b[0m\n\u001b[1;32m     65\u001b[0m     \u001b[38;5;28;01mreturn\u001b[39;00m ret\n\u001b[1;32m     66\u001b[0m \u001b[38;5;28;01melse\u001b[39;00m:\n\u001b[0;32m---> 67\u001b[0m     \u001b[38;5;28;01mreturn\u001b[39;00m \u001b[38;5;28;43mself\u001b[39;49m\u001b[38;5;241;43m.\u001b[39;49m\u001b[43m_graph\u001b[49m\u001b[38;5;241;43m.\u001b[39;49m\u001b[43m_get_n_repr\u001b[49m\u001b[43m(\u001b[49m\u001b[38;5;28;43mself\u001b[39;49m\u001b[38;5;241;43m.\u001b[39;49m\u001b[43m_ntid\u001b[49m\u001b[43m,\u001b[49m\u001b[43m \u001b[49m\u001b[38;5;28;43mself\u001b[39;49m\u001b[38;5;241;43m.\u001b[39;49m\u001b[43m_nodes\u001b[49m\u001b[43m)\u001b[49m\u001b[43m[\u001b[49m\u001b[43mkey\u001b[49m\u001b[43m]\u001b[49m\n",
      "File \u001b[0;32m~/DGL/graph-rec/venv/lib/python3.8/site-packages/dgl/frame.py:607\u001b[0m, in \u001b[0;36mFrame.__getitem__\u001b[0;34m(self, name)\u001b[0m\n\u001b[1;32m    594\u001b[0m \u001b[38;5;28;01mdef\u001b[39;00m \u001b[38;5;21m__getitem__\u001b[39m(\u001b[38;5;28mself\u001b[39m, name):\n\u001b[1;32m    595\u001b[0m     \u001b[38;5;124;03m\"\"\"Return the column of the given name.\u001b[39;00m\n\u001b[1;32m    596\u001b[0m \n\u001b[1;32m    597\u001b[0m \u001b[38;5;124;03m    Parameters\u001b[39;00m\n\u001b[0;32m   (...)\u001b[0m\n\u001b[1;32m    605\u001b[0m \u001b[38;5;124;03m        Column data.\u001b[39;00m\n\u001b[1;32m    606\u001b[0m \u001b[38;5;124;03m    \"\"\"\u001b[39;00m\n\u001b[0;32m--> 607\u001b[0m     \u001b[38;5;28;01mreturn\u001b[39;00m \u001b[38;5;28;43mself\u001b[39;49m\u001b[38;5;241;43m.\u001b[39;49m\u001b[43m_columns\u001b[49m\u001b[43m[\u001b[49m\u001b[43mname\u001b[49m\u001b[43m]\u001b[49m\u001b[38;5;241m.\u001b[39mdata\n",
      "\u001b[0;31mKeyError\u001b[0m: 'age'"
     ]
    }
   ],
   "source": [
    "hetero_graph.nodes['user'].data['age'][0] = 1"
   ]
  },
  {
   "cell_type": "code",
   "execution_count": 64,
   "id": "a5687718",
   "metadata": {},
   "outputs": [
    {
     "data": {
      "text/plain": [
       "tensor([ 7, 10])"
      ]
     },
     "execution_count": 64,
     "metadata": {},
     "output_type": "execute_result"
    }
   ],
   "source": [
    "hetero_graph.nodes['movie'].data['node_ID']"
   ]
  },
  {
   "cell_type": "code",
   "execution_count": null,
   "id": "dcc882e3",
   "metadata": {},
   "outputs": [],
   "source": []
  }
 ],
 "metadata": {
  "kernelspec": {
   "display_name": "venv",
   "language": "python",
   "name": "venv"
  },
  "language_info": {
   "codemirror_mode": {
    "name": "ipython",
    "version": 3
   },
   "file_extension": ".py",
   "mimetype": "text/x-python",
   "name": "python",
   "nbconvert_exporter": "python",
   "pygments_lexer": "ipython3",
   "version": "3.8.8"
  }
 },
 "nbformat": 4,
 "nbformat_minor": 5
}
