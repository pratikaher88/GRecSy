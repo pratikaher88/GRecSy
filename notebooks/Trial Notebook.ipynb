{
 "cells": [
  {
   "cell_type": "code",
   "execution_count": 1,
   "id": "de3bfe6c",
   "metadata": {},
   "outputs": [
    {
     "name": "stderr",
     "output_type": "stream",
     "text": [
      "/Users/pratikaher/DGL/graph-rec/venv/lib/python3.8/site-packages/tqdm/auto.py:22: TqdmWarning: IProgress not found. Please update jupyter and ipywidgets. See https://ipywidgets.readthedocs.io/en/stable/user_install.html\n",
      "  from .autonotebook import tqdm as notebook_tqdm\n"
     ]
    }
   ],
   "source": [
    "import torch"
   ]
  },
  {
   "cell_type": "code",
   "execution_count": 10,
   "id": "4e1ad639",
   "metadata": {},
   "outputs": [],
   "source": [
    "a = torch.tensor([[0.0247],\n",
    "        [0.0276],\n",
    "        [0.0244],\n",
    "        [0.0248],\n",
    "        [0.0244]])"
   ]
  },
  {
   "cell_type": "code",
   "execution_count": 11,
   "id": "ee2ddfdd",
   "metadata": {},
   "outputs": [
    {
     "data": {
      "text/plain": [
       "tensor([[0.0247],\n",
       "        [0.0276],\n",
       "        [0.0244],\n",
       "        [0.0248],\n",
       "        [0.0244]])"
      ]
     },
     "execution_count": 11,
     "metadata": {},
     "output_type": "execute_result"
    }
   ],
   "source": [
    "a"
   ]
  },
  {
   "cell_type": "code",
   "execution_count": 39,
   "id": "5deb13a2",
   "metadata": {},
   "outputs": [],
   "source": [
    "b = torch.tensor(0)"
   ]
  },
  {
   "cell_type": "code",
   "execution_count": 38,
   "id": "443f4f8b",
   "metadata": {},
   "outputs": [
    {
     "data": {
      "text/plain": [
       "True"
      ]
     },
     "execution_count": 38,
     "metadata": {},
     "output_type": "execute_result"
    }
   ],
   "source": [
    "len(b.size()) == 0"
   ]
  },
  {
   "cell_type": "code",
   "execution_count": 36,
   "id": "b9242055",
   "metadata": {},
   "outputs": [],
   "source": [
    "b = b.squeeze(dim=-1)"
   ]
  },
  {
   "cell_type": "code",
   "execution_count": 40,
   "id": "381325d0",
   "metadata": {},
   "outputs": [
    {
     "data": {
      "text/plain": [
       "tensor(0)"
      ]
     },
     "execution_count": 40,
     "metadata": {},
     "output_type": "execute_result"
    }
   ],
   "source": [
    "b"
   ]
  },
  {
   "cell_type": "code",
   "execution_count": 46,
   "id": "aebc4d4f",
   "metadata": {},
   "outputs": [],
   "source": [
    "scores = torch.hstack([a, b])"
   ]
  },
  {
   "cell_type": "code",
   "execution_count": 47,
   "id": "ae2cefc6",
   "metadata": {},
   "outputs": [
    {
     "data": {
      "text/plain": [
       "tensor([0.3624, 0.3637, 0.3624, 0.3622, 0.3644, 0.3618, 0.3651, 0.3630, 0.3594,\n",
       "        0.3561, 0.3628, 0.3629, 0.3577, 0.2875, 0.3563, 0.3777, 0.3635, 0.2957,\n",
       "        0.3625, 0.3623, 0.3625, 0.3547, 0.3568, 0.3612, 0.3547, 0.3620, 0.3624,\n",
       "        0.3570, 0.3645, 0.3651, 0.3651, 0.3643, 0.3620, 0.3581, 0.3626, 0.3624,\n",
       "        0.3590, 0.3643, 0.3652, 0.3629, 0.3583, 0.3655])"
      ]
     },
     "execution_count": 47,
     "metadata": {},
     "output_type": "execute_result"
    }
   ],
   "source": [
    "scores"
   ]
  },
  {
   "cell_type": "code",
   "execution_count": 41,
   "id": "edda0970",
   "metadata": {},
   "outputs": [],
   "source": [
    "a = torch.tensor([0.3624, 0.3637, 0.3624, 0.3622, 0.3644, 0.3618, 0.3651]) \n",
    "\n",
    "b = torch.tensor([0.3630, 0.3594, 0.3561, 0.3628, 0.3629, 0.3577, 0.2875, 0.3563, 0.3777,\n",
    "        0.3635, 0.2957, 0.3625, 0.3623, 0.3625, 0.3547, 0.3568, 0.3612, 0.3547,\n",
    "        0.3620, 0.3624, 0.3570, 0.3645, 0.3651, 0.3651, 0.3643, 0.3620, 0.3581,\n",
    "        0.3626, 0.3624, 0.3590, 0.3643, 0.3652, 0.3629, 0.3583, 0.3655])"
   ]
  },
  {
   "cell_type": "code",
   "execution_count": 57,
   "id": "b9e3c80c",
   "metadata": {},
   "outputs": [],
   "source": [
    "import torch\n",
    "import torch.nn.functional as F\n",
    "\n",
    "input = torch.randn(3, requires_grad=True)\n",
    "target = torch.empty(3).random_(2)\n",
    "loss = F.binary_cross_entropy_with_logits(input, target)\n",
    "loss.backward()"
   ]
  },
  {
   "cell_type": "code",
   "execution_count": 51,
   "id": "3b1cb28a",
   "metadata": {},
   "outputs": [
    {
     "data": {
      "text/plain": [
       "tensor([ 1.2692, -0.8965, -0.8134], requires_grad=True)"
      ]
     },
     "execution_count": 51,
     "metadata": {},
     "output_type": "execute_result"
    }
   ],
   "source": [
    "input"
   ]
  },
  {
   "cell_type": "code",
   "execution_count": 52,
   "id": "b77c3707",
   "metadata": {},
   "outputs": [
    {
     "data": {
      "text/plain": [
       "tensor([0., 1., 1.])"
      ]
     },
     "execution_count": 52,
     "metadata": {},
     "output_type": "execute_result"
    }
   ],
   "source": [
    "target"
   ]
  },
  {
   "cell_type": "code",
   "execution_count": 53,
   "id": "ed3da213",
   "metadata": {},
   "outputs": [
    {
     "data": {
      "text/plain": [
       "tensor(1.3120, grad_fn=<BinaryCrossEntropyWithLogitsBackward>)"
      ]
     },
     "execution_count": 53,
     "metadata": {},
     "output_type": "execute_result"
    }
   ],
   "source": [
    "loss"
   ]
  },
  {
   "cell_type": "code",
   "execution_count": 54,
   "id": "5b1a9790",
   "metadata": {},
   "outputs": [],
   "source": [
    "all_scores = torch.empty(0)"
   ]
  },
  {
   "cell_type": "code",
   "execution_count": 58,
   "id": "763f9636",
   "metadata": {},
   "outputs": [],
   "source": [
    "all_scores = torch.hstack([all_scores, loss])"
   ]
  },
  {
   "cell_type": "code",
   "execution_count": 59,
   "id": "379794da",
   "metadata": {},
   "outputs": [
    {
     "data": {
      "text/plain": [
       "tensor([1.3120, 0.7512], grad_fn=<CatBackward>)"
      ]
     },
     "execution_count": 59,
     "metadata": {},
     "output_type": "execute_result"
    }
   ],
   "source": [
    "all_scores"
   ]
  },
  {
   "cell_type": "code",
   "execution_count": 67,
   "id": "80960ed0",
   "metadata": {},
   "outputs": [],
   "source": [
    "a = torch.tensor([[0.3948, 0.3937, 0.3946, 0.3948, 0.3948],\n",
    "        [0.3868, 0.3869, 0.3876, 0.3868, 0.3871],\n",
    "        [0.3887, 0.3896, 0.3896, 0.3908, 0.3892],\n",
    "        [0.3888, 0.3963, 0.3884, 0.3872, 0.3975],\n",
    "        [0.3994, 0.3983, 0.3980, 0.3989, 0.3970],\n",
    "        [0.3907, 0.3884, 0.3899, 0.3898, 0.3902],\n",
    "        [0.3889, 0.3899, 0.3877, 0.3879, 0.3895],\n",
    "        [0.3885, 0.3892, 0.3881, 0.3897, 0.3889]])"
   ]
  },
  {
   "cell_type": "code",
   "execution_count": 68,
   "id": "e5514537",
   "metadata": {},
   "outputs": [],
   "source": [
    "b = torch.tensor([[0.3943],\n",
    "        [0.3865],\n",
    "        [0.3883],\n",
    "        [0.3879],\n",
    "        [0.3977],\n",
    "        [0.3902],\n",
    "        [0.3879],\n",
    "        [0.3885]])"
   ]
  },
  {
   "cell_type": "code",
   "execution_count": 71,
   "id": "1a9c2378",
   "metadata": {},
   "outputs": [],
   "source": [
    "scores = a-b"
   ]
  },
  {
   "cell_type": "code",
   "execution_count": 70,
   "id": "800e334a",
   "metadata": {},
   "outputs": [],
   "source": [
    "all_scores = torch.empty(0)\n"
   ]
  },
  {
   "cell_type": "code",
   "execution_count": 72,
   "id": "eb2987fa",
   "metadata": {},
   "outputs": [],
   "source": [
    "all_scores = torch.cat((all_scores, scores), 0)"
   ]
  },
  {
   "cell_type": "code",
   "execution_count": 74,
   "id": "9d6bf6d1",
   "metadata": {},
   "outputs": [
    {
     "data": {
      "text/plain": [
       "tensor(0.0009)"
      ]
     },
     "execution_count": 74,
     "metadata": {},
     "output_type": "execute_result"
    }
   ],
   "source": [
    "torch.mean(all_scores)"
   ]
  },
  {
   "cell_type": "code",
   "execution_count": null,
   "id": "8477e9b3",
   "metadata": {},
   "outputs": [],
   "source": []
  }
 ],
 "metadata": {
  "kernelspec": {
   "display_name": "venv",
   "language": "python",
   "name": "venv"
  },
  "language_info": {
   "codemirror_mode": {
    "name": "ipython",
    "version": 3
   },
   "file_extension": ".py",
   "mimetype": "text/x-python",
   "name": "python",
   "nbconvert_exporter": "python",
   "pygments_lexer": "ipython3",
   "version": "3.8.8"
  }
 },
 "nbformat": 4,
 "nbformat_minor": 5
}
