{
 "cells": [
  {
   "cell_type": "code",
   "execution_count": 1,
   "id": "1f07f0aa",
   "metadata": {},
   "outputs": [
    {
     "name": "stderr",
     "output_type": "stream",
     "text": [
      "/Users/pratikaher/DGL/graph-rec/venv/lib/python3.8/site-packages/tqdm/auto.py:22: TqdmWarning: IProgress not found. Please update jupyter and ipywidgets. See https://ipywidgets.readthedocs.io/en/stable/user_install.html\n",
      "  from .autonotebook import tqdm as notebook_tqdm\n"
     ]
    }
   ],
   "source": [
    "import sys  \n",
    "sys.path.insert(0, '/Users/pratikaher/DGL/GRecSy/')\n",
    "\n",
    "from random import sample\n",
    "import dgl\n",
    "import torch\n",
    "import torch.nn.functional as F\n",
    "import pandas as pd\n",
    "from utils import set_random_seed, collate_molgraphs, load_model, collate_movie_graphs, train_test_split_by_time, _split_data\n",
    "import numpy as np\n",
    "import torch\n",
    "import torch.nn as nn\n",
    "import argparse\n",
    "from configure import get_exp_configure\n",
    "import scipy.sparse as sp\n",
    "from torch.utils.data import DataLoader\n",
    "\n",
    "from dgllife.utils import EarlyStopping, Meter\n",
    "from model import compute_loss\n",
    "\n",
    "df_rating = pd.read_csv('/Users/pratikaher/DGL/graph-rec/ml-1m/ratings.dat', sep='::', header=None, names=['user_id', 'movie_id', 'rating', 'timestamp'],  engine='python')\n",
    "df_user = pd.read_csv('/Users/pratikaher/DGL/graph-rec/ml-1m/users.dat', sep='::', header=None, names=['user_id', 'gender', 'age', 'occupation', 'zipcode'],  engine='python')\n",
    "df_movie = pd.read_csv('/Users/pratikaher/DGL/graph-rec/ml-1m/movies.dat', sep='::', header=None, names=['movie_id', 'title', 'genre'],  engine='python')\n",
    "\n",
    "df_temp = df_rating.merge(df_movie, left_on='movie_id', right_on='movie_id', how='left')\n",
    "df_final = df_temp.merge(df_user, left_on='user_id', right_on='user_id', how='left')\n",
    "\n",
    "df_final = df_final[[\"user_id\",\"movie_id\",\"rating\",\"age\"]]"
   ]
  },
  {
   "cell_type": "code",
   "execution_count": 2,
   "id": "32d41d79",
   "metadata": {},
   "outputs": [
    {
     "data": {
      "text/html": [
       "<div>\n",
       "<style scoped>\n",
       "    .dataframe tbody tr th:only-of-type {\n",
       "        vertical-align: middle;\n",
       "    }\n",
       "\n",
       "    .dataframe tbody tr th {\n",
       "        vertical-align: top;\n",
       "    }\n",
       "\n",
       "    .dataframe thead th {\n",
       "        text-align: right;\n",
       "    }\n",
       "</style>\n",
       "<table border=\"1\" class=\"dataframe\">\n",
       "  <thead>\n",
       "    <tr style=\"text-align: right;\">\n",
       "      <th></th>\n",
       "      <th>user_id</th>\n",
       "      <th>movie_id</th>\n",
       "      <th>rating</th>\n",
       "      <th>age</th>\n",
       "    </tr>\n",
       "  </thead>\n",
       "  <tbody>\n",
       "    <tr>\n",
       "      <th>1000204</th>\n",
       "      <td>6040</td>\n",
       "      <td>1091</td>\n",
       "      <td>1</td>\n",
       "      <td>25</td>\n",
       "    </tr>\n",
       "    <tr>\n",
       "      <th>1000205</th>\n",
       "      <td>6040</td>\n",
       "      <td>1094</td>\n",
       "      <td>5</td>\n",
       "      <td>25</td>\n",
       "    </tr>\n",
       "    <tr>\n",
       "      <th>1000206</th>\n",
       "      <td>6040</td>\n",
       "      <td>562</td>\n",
       "      <td>5</td>\n",
       "      <td>25</td>\n",
       "    </tr>\n",
       "    <tr>\n",
       "      <th>1000207</th>\n",
       "      <td>6040</td>\n",
       "      <td>1096</td>\n",
       "      <td>4</td>\n",
       "      <td>25</td>\n",
       "    </tr>\n",
       "    <tr>\n",
       "      <th>1000208</th>\n",
       "      <td>6040</td>\n",
       "      <td>1097</td>\n",
       "      <td>4</td>\n",
       "      <td>25</td>\n",
       "    </tr>\n",
       "  </tbody>\n",
       "</table>\n",
       "</div>"
      ],
      "text/plain": [
       "         user_id  movie_id  rating  age\n",
       "1000204     6040      1091       1   25\n",
       "1000205     6040      1094       5   25\n",
       "1000206     6040       562       5   25\n",
       "1000207     6040      1096       4   25\n",
       "1000208     6040      1097       4   25"
      ]
     },
     "execution_count": 2,
     "metadata": {},
     "output_type": "execute_result"
    }
   ],
   "source": [
    "df_final.tail()"
   ]
  },
  {
   "cell_type": "markdown",
   "id": "f5520224",
   "metadata": {},
   "source": [
    "# Prepare Dataloaders"
   ]
  },
  {
   "cell_type": "code",
   "execution_count": 3,
   "id": "f95927d9",
   "metadata": {},
   "outputs": [],
   "source": [
    "df_final['movie_id'] = df_final['movie_id'] + 6040"
   ]
  },
  {
   "cell_type": "code",
   "execution_count": 6,
   "id": "1ebedbcf",
   "metadata": {},
   "outputs": [],
   "source": [
    "g = dgl.graph((df_final['user_id'].to_numpy(), df_final['movie_id'].to_numpy()))\n",
    "\n",
    "isolated_nodes = ((g.in_degrees() == 0) & (g.out_degrees() == 0)).nonzero().squeeze(1)\n",
    "g = dgl.remove_nodes(g, isolated_nodes)\n",
    "\n",
    "g.edata['rating'] = torch.unsqueeze(torch.tensor(df_final['rating'].to_numpy()), dim = 1)\n",
    "g.ndata['age'] = torch.randn(9746, 1).float()\n",
    "# g.ndata['age'] = torch.unsqueeze(torch.tensor(df_user['age'].to_numpy()).float() / 100, dim = 1)"
   ]
  },
  {
   "cell_type": "code",
   "execution_count": 7,
   "id": "312f74ef",
   "metadata": {},
   "outputs": [
    {
     "data": {
      "text/plain": [
       "Graph(num_nodes=9746, num_edges=1000209,\n",
       "      ndata_schemes={'age': Scheme(shape=(1,), dtype=torch.float32)}\n",
       "      edata_schemes={'rating': Scheme(shape=(1,), dtype=torch.int64)})"
      ]
     },
     "execution_count": 7,
     "metadata": {},
     "output_type": "execute_result"
    }
   ],
   "source": [
    "g"
   ]
  },
  {
   "cell_type": "code",
   "execution_count": 8,
   "id": "3d505797",
   "metadata": {},
   "outputs": [],
   "source": [
    "u, v = g.edges()\n",
    "\n",
    "eids = np.arange(g.number_of_edges())\n",
    "eids = np.random.permutation(eids)\n",
    "test_size = int(len(eids) * 0.1)\n",
    "train_size = g.number_of_edges() - test_size"
   ]
  },
  {
   "cell_type": "code",
   "execution_count": 9,
   "id": "6ab07521",
   "metadata": {},
   "outputs": [
    {
     "data": {
      "text/plain": [
       "(100020, 900189)"
      ]
     },
     "execution_count": 9,
     "metadata": {},
     "output_type": "execute_result"
    }
   ],
   "source": [
    "test_size, train_size"
   ]
  },
  {
   "cell_type": "code",
   "execution_count": 10,
   "id": "31688b0e",
   "metadata": {},
   "outputs": [],
   "source": [
    "train_g = dgl.remove_edges(g, eids[:test_size])"
   ]
  },
  {
   "cell_type": "code",
   "execution_count": 11,
   "id": "996441f1",
   "metadata": {},
   "outputs": [
    {
     "name": "stderr",
     "output_type": "stream",
     "text": [
      "/Users/pratikaher/DGL/graph-rec/venv/lib/python3.8/site-packages/dgl/dataloading/dataloader.py:968: DGLWarning: EdgeDataLoader directly taking a BlockSampler will be deprecated and it will not support feature prefetching. Please use dgl.dataloading.as_edge_prediction_sampler to wrap it.\n",
      "  dgl_warning(\n"
     ]
    }
   ],
   "source": [
    "sampler = dgl.dataloading.MultiLayerNeighborSampler([15, 10, 5])\n",
    "dataloader = dgl.dataloading.EdgeDataLoader(\n",
    "        train_g, train_g.nodes(), \n",
    "        sampler, negative_sampler=dgl.dataloading.negative_sampler.Uniform(5), \n",
    "        shuffle=True, drop_last=False,\n",
    "        batch_size=16\n",
    "        )"
   ]
  },
  {
   "cell_type": "code",
   "execution_count": 45,
   "id": "320aea46",
   "metadata": {},
   "outputs": [],
   "source": [
    "test_g = dgl.remove_edges(g, eids[test_size:])"
   ]
  },
  {
   "cell_type": "code",
   "execution_count": 56,
   "id": "5d7c658d",
   "metadata": {},
   "outputs": [
    {
     "data": {
      "text/plain": [
       "Graph(num_nodes=9746, num_edges=100020,\n",
       "      ndata_schemes={'age': Scheme(shape=(1,), dtype=torch.float32)}\n",
       "      edata_schemes={'rating': Scheme(shape=(1,), dtype=torch.int64)})"
      ]
     },
     "execution_count": 56,
     "metadata": {},
     "output_type": "execute_result"
    }
   ],
   "source": [
    "test_g"
   ]
  },
  {
   "cell_type": "code",
   "execution_count": 15,
   "id": "865e0202",
   "metadata": {},
   "outputs": [],
   "source": [
    "test_dataloader = dgl.dataloading.EdgeDataLoader(\n",
    "        test_g, test_g.nodes(), \n",
    "        sampler, negative_sampler=dgl.dataloading.negative_sampler.Uniform(5), \n",
    "        shuffle=True, drop_last=False,\n",
    "        batch_size=16\n",
    "        )"
   ]
  },
  {
   "cell_type": "markdown",
   "id": "addd0ece",
   "metadata": {},
   "source": [
    "# Define the GNN Model"
   ]
  },
  {
   "cell_type": "code",
   "execution_count": 32,
   "id": "33fc2c01",
   "metadata": {},
   "outputs": [],
   "source": [
    "from dgllife.model.gnn import MPNNGNN\n",
    "import dgl.function as fn\n",
    "\n",
    "class DotProductPredictor(nn.Module):\n",
    "    def forward(self, graph, h):\n",
    "        # h contains the node representations computed from the GNN defined\n",
    "        # in the node classification section (Section 5.1).\n",
    "        with graph.local_scope():\n",
    "            graph.ndata['h'] = h\n",
    "            graph.apply_edges(fn.u_dot_v('h', 'h', 'score'))\n",
    "            return graph.edata['score']\n",
    "\n",
    "class MPNNPredictor(nn.Module):\n",
    "    def __init__(self,\n",
    "                 node_in_feats,\n",
    "                 edge_in_feats,\n",
    "                 node_out_feats=64,\n",
    "                 edge_hidden_feats=128,\n",
    "                 n_tasks=1,\n",
    "                 num_step_message_passing=6):\n",
    "        super(MPNNPredictor, self).__init__()\n",
    "\n",
    "        self.gnn = MPNNGNN(node_in_feats=node_in_feats,\n",
    "                           node_out_feats=node_out_feats,\n",
    "                           edge_in_feats=edge_in_feats,\n",
    "                           edge_hidden_feats=edge_hidden_feats,\n",
    "                           num_step_message_passing=num_step_message_passing)\n",
    "        self.predictor = DotProductPredictor()\n",
    "    \n",
    "    def forward(self, g, node_feats, edge_feats, node_subgraph_negative):\n",
    "        ```\n",
    "        ```\n",
    "        node_feats = self.gnn(g, node_feats, edge_feats)\n",
    "        return self.predictor(g, node_feats), self.predictor(node_subgraph_negative, node_feats)\n",
    "    \n",
    "    def get_repr(self, g, node_feats, edge_feats):\n",
    "        \"\"\"Returns the embedded representation given block made from sampling neighboring nodes.\"\"\"\n",
    "        \n",
    "        node_feats = self.gnn(g, node_feats, edge_feats)\n",
    "        return node_feats\n",
    "        \n",
    "#         # project features\n",
    "#         h_item = self.project_node_feats(node_feats_src)\n",
    "#         # node's own learnable embedding\n",
    "#         h_item_dst = self.proj(node_feats_dst)\n",
    "\n",
    "        # embedding + GNN output\n",
    "#         return h_item_dst + self.sage(blocks, h_item)"
   ]
  },
  {
   "cell_type": "code",
   "execution_count": 33,
   "id": "766d84e7",
   "metadata": {},
   "outputs": [],
   "source": [
    "mpnn_model = MPNNPredictor(train_g.ndata['age'].shape[1], train_g.edata['rating'].shape[1])"
   ]
  },
  {
   "cell_type": "code",
   "execution_count": 34,
   "id": "e4af3c76",
   "metadata": {},
   "outputs": [],
   "source": [
    "optimizer = torch.optim.Adam(mpnn_model.parameters(), lr=0.0001,weight_decay=0)"
   ]
  },
  {
   "cell_type": "code",
   "execution_count": 35,
   "id": "fde9e35e",
   "metadata": {},
   "outputs": [],
   "source": [
    "def compute_loss(pos_score, neg_score):\n",
    "    pos_score, neg_score = pos_score.squeeze(), neg_score.squeeze()\n",
    "    scores = torch.cat([pos_score, neg_score])\n",
    "    labels = torch.cat([torch.ones(pos_score.shape[0]), torch.zeros(neg_score.shape[0])])\n",
    "    return F.binary_cross_entropy_with_logits(scores, labels)\n",
    "\n",
    "# def compute_loss(pos_score, neg_score):\n",
    "#     # Margin loss\n",
    "#     n_edges = pos_score.shape[0]\n",
    "#     return (1 - pos_score + neg_score.view(n_edges, -1)).clamp(min=0).mean()"
   ]
  },
  {
   "cell_type": "code",
   "execution_count": 36,
   "id": "3333efef",
   "metadata": {},
   "outputs": [],
   "source": [
    "def run_a_train_epoch(epoch, model, dataloader, optimizer):\n",
    "    \n",
    "    total_loss = 0\n",
    "    batch_number = 0\n",
    "    \n",
    "    for _, pos_g, neg_g, blocks in dataloader:\n",
    "        \n",
    "        h = pos_g.ndata.pop('age')\n",
    "        e = pos_g.edata.pop('rating')\n",
    "        h, e = h.to('cpu', dtype=torch.float), e.to('cpu', dtype=torch.float)\n",
    "\n",
    "        pos_score, neg_score = model(pos_g, h, e, neg_g)\n",
    "        loss = compute_loss(pos_score, neg_score)\n",
    "\n",
    "        if epoch > 0:  # For the epoch 0, no training (just report loss)\n",
    "            optimizer.zero_grad()\n",
    "            loss.backward()\n",
    "            optimizer.step()\n",
    "            \n",
    "        total_loss += loss.item()\n",
    "        batch_number += 1\n",
    "\n",
    "    train_avg_loss = total_loss / batch_number\n",
    "    \n",
    "    return total_loss"
   ]
  },
  {
   "cell_type": "markdown",
   "id": "83da47ce",
   "metadata": {},
   "source": [
    "## Train the model"
   ]
  },
  {
   "cell_type": "code",
   "execution_count": 37,
   "id": "6e167dc2",
   "metadata": {},
   "outputs": [
    {
     "name": "stdout",
     "output_type": "stream",
     "text": [
      "Epoch :0 has a average loss of : 570.2678933143616\n",
      "Epoch :1 has a average loss of : 404.3635984659195\n"
     ]
    }
   ],
   "source": [
    "for epoch in range(2):\n",
    "    \n",
    "    average_loss = run_a_train_epoch(epoch, mpnn_model, dataloader, optimizer)\n",
    "    print(\"Epoch :{} has a average loss of : {}\".format(epoch, average_loss))"
   ]
  },
  {
   "cell_type": "markdown",
   "id": "c855e0df",
   "metadata": {},
   "source": [
    "# Save Down Models"
   ]
  },
  {
   "cell_type": "code",
   "execution_count": 60,
   "id": "5b228fbc",
   "metadata": {},
   "outputs": [],
   "source": [
    "# use this to resume training for models\n",
    "state = {\n",
    "        'model_state_dict': mpnn_model.state_dict(),\n",
    "        'optimizer_state_dict': optimizer.state_dict(),\n",
    "#         'loss': total_val_loss,\n",
    "#         'item_embeddings': h_item,\n",
    "        'batch_size': 16\n",
    "            }\n",
    "import os\n",
    "model_dir = '/Users/pratikaher/DGL/models/'\n",
    "model_fn = \"{}_model_{}.pth\".format('gnn_trained_model', 10)\n",
    "torch.save(state, os.path.join(model_dir, model_fn))"
   ]
  },
  {
   "cell_type": "code",
   "execution_count": 70,
   "id": "50936820",
   "metadata": {},
   "outputs": [],
   "source": [
    "# use this to save down entire models\n",
    "torch.save(mpnn_model, os.path.join(model_dir, 'mpnn_model_save.pth'))\n",
    "\n",
    "# Then later:\n",
    "mpnn_model_loaded = torch.load(os.path.join(model_dir, 'mpnn_model_save.pth'))"
   ]
  },
  {
   "cell_type": "code",
   "execution_count": 71,
   "id": "fd31b7ef",
   "metadata": {},
   "outputs": [
    {
     "data": {
      "text/plain": [
       "MPNNPredictor(\n",
       "  (gnn): MPNNGNN(\n",
       "    (project_node_feats): Sequential(\n",
       "      (0): Linear(in_features=1, out_features=64, bias=True)\n",
       "      (1): ReLU()\n",
       "    )\n",
       "    (gnn_layer): NNConv(\n",
       "      (edge_func): Sequential(\n",
       "        (0): Linear(in_features=1, out_features=128, bias=True)\n",
       "        (1): ReLU()\n",
       "        (2): Linear(in_features=128, out_features=4096, bias=True)\n",
       "      )\n",
       "    )\n",
       "    (gru): GRU(64, 64)\n",
       "  )\n",
       "  (predictor): DotProductPredictor()\n",
       ")"
      ]
     },
     "execution_count": 71,
     "metadata": {},
     "output_type": "execute_result"
    }
   ],
   "source": [
    "mpnn_model_loaded"
   ]
  },
  {
   "cell_type": "markdown",
   "id": "d97161b1",
   "metadata": {},
   "source": [
    "TODOs\n",
    "\n",
    "- Find a way to test the model\n",
    "- Retrieve embeddings from the model\n"
   ]
  },
  {
   "cell_type": "markdown",
   "id": "6a53af02",
   "metadata": {},
   "source": [
    "# Compute Test Scores"
   ]
  },
  {
   "cell_type": "code",
   "execution_count": 78,
   "id": "7b7ffe75",
   "metadata": {},
   "outputs": [],
   "source": [
    "# compute loss on test set\n",
    "from sklearn.metrics import roc_auc_score\n",
    "\n",
    "def compute_test_score(mpnn_model, test_dataloader):\n",
    "    \n",
    "    total_loss = 0\n",
    "    \n",
    "    with torch.no_grad():\n",
    "        for _, pos_g, neg_g, blocks in test_dataloader:\n",
    "            \n",
    "            h = pos_g.ndata.pop('age')\n",
    "            e = pos_g.edata.pop('rating')\n",
    "            h, e = h.to('cpu', dtype=torch.float), e.to('cpu', dtype=torch.float)\n",
    "\n",
    "            pos_score, neg_score = mpnn_model(pos_g, h, e, neg_g)\n",
    "            loss = compute_loss(pos_score, neg_score)\n",
    "\n",
    "            total_loss += loss.item()\n",
    "\n",
    "    return total_loss\n",
    "    "
   ]
  },
  {
   "cell_type": "code",
   "execution_count": 79,
   "id": "5e23f601",
   "metadata": {},
   "outputs": [
    {
     "data": {
      "text/plain": [
       "238.26571887731552"
      ]
     },
     "execution_count": 79,
     "metadata": {},
     "output_type": "execute_result"
    }
   ],
   "source": [
    "compute_test_score(mpnn_model, test_dataloader)"
   ]
  },
  {
   "cell_type": "code",
   "execution_count": 27,
   "id": "bd095111",
   "metadata": {},
   "outputs": [],
   "source": [
    "# sampler = dgl.dataloading.MultiLayerNeighborSampler([15, 10, 5])\n",
    "# nodeloader_test = dgl.dataloading.NodeDataLoader(\n",
    "#         test_g,\n",
    "#         test_g.nodes(),\n",
    "#         sampler,\n",
    "#         batch_size=16,\n",
    "#         shuffle=True,\n",
    "#         drop_last=False\n",
    "#     )"
   ]
  },
  {
   "cell_type": "code",
   "execution_count": 30,
   "id": "5bfbc0a7",
   "metadata": {},
   "outputs": [
    {
     "name": "stdout",
     "output_type": "stream",
     "text": [
      "Graph(num_nodes={'_N_src': 47, '_N_dst': 37},\n",
      "      num_edges={('_N_src', '_E', '_N_dst'): 22},\n",
      "      metagraph=[('_N_src', '_N_dst', '_E')])\n"
     ]
    }
   ],
   "source": [
    "# for input_nodes, output_nodes, blocks in nodeloader_test:\n",
    "# #     print(input_nodes, blocks)\n",
    "#     for block in blocks:\n",
    "#         graph = dgl.block_to_graph(block)\n",
    "#         print(graph)\n",
    "#         break\n",
    "#     break"
   ]
  },
  {
   "cell_type": "markdown",
   "id": "5c8c669e",
   "metadata": {},
   "source": [
    "# Get embeddings of input nodes from the trained model"
   ]
  },
  {
   "cell_type": "code",
   "execution_count": 47,
   "id": "59b110fe",
   "metadata": {},
   "outputs": [],
   "source": [
    "test_node_features = test_g.ndata['age']\n",
    "test_edge_features = test_g.edata['rating']"
   ]
  },
  {
   "cell_type": "code",
   "execution_count": 52,
   "id": "b757037a",
   "metadata": {},
   "outputs": [],
   "source": [
    "test_node_features, test_edge_features = test_node_features.to('cpu', dtype=torch.float), test_edge_features.to('cpu', dtype=torch.float)\n",
    "representation_embeddings = mpnn_model.get_repr(test_g, test_node_features, test_edge_features)"
   ]
  },
  {
   "cell_type": "code",
   "execution_count": 54,
   "id": "40643423",
   "metadata": {},
   "outputs": [
    {
     "data": {
      "text/plain": [
       "tensor([[-0.0113,  0.0763, -0.0321,  ..., -0.0382,  0.0353,  0.1068],\n",
       "        [ 0.0434, -0.0375, -0.0216,  ...,  0.0040, -0.0154, -0.1385],\n",
       "        [ 0.0433, -0.0204, -0.0159,  ..., -0.0216,  0.0093, -0.0553],\n",
       "        ...,\n",
       "        [ 1.0000,  1.0000, -1.0000,  ..., -1.0000,  1.0000,  1.0000],\n",
       "        [ 1.0000,  0.9999, -1.0000,  ..., -1.0000,  1.0000, -0.8890],\n",
       "        [ 1.0000,  1.0000, -1.0000,  ..., -1.0000,  1.0000,  1.0000]],\n",
       "       grad_fn=<SqueezeBackward1>)"
      ]
     },
     "execution_count": 54,
     "metadata": {},
     "output_type": "execute_result"
    }
   ],
   "source": [
    "representation_embeddings"
   ]
  },
  {
   "cell_type": "code",
   "execution_count": null,
   "id": "32b381ec",
   "metadata": {},
   "outputs": [],
   "source": []
  }
 ],
 "metadata": {
  "kernelspec": {
   "display_name": "venv",
   "language": "python",
   "name": "venv"
  },
  "language_info": {
   "codemirror_mode": {
    "name": "ipython",
    "version": 3
   },
   "file_extension": ".py",
   "mimetype": "text/x-python",
   "name": "python",
   "nbconvert_exporter": "python",
   "pygments_lexer": "ipython3",
   "version": "3.8.8"
  }
 },
 "nbformat": 4,
 "nbformat_minor": 5
}
