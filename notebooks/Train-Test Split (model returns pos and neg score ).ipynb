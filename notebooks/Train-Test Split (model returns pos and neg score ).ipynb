{
 "cells": [
  {
   "cell_type": "code",
   "execution_count": 4,
   "id": "16978490",
   "metadata": {},
   "outputs": [],
   "source": [
    "import sys  \n",
    "sys.path.insert(0, '/Users/pratikaher/DGL/GRecSy/')"
   ]
  },
  {
   "cell_type": "code",
   "execution_count": 5,
   "id": "706f1d38",
   "metadata": {},
   "outputs": [],
   "source": [
    "from random import sample\n",
    "import dgl\n",
    "import torch\n",
    "import torch.nn.functional as F\n",
    "import pandas as pd\n",
    "from utils import set_random_seed, collate_molgraphs, load_model, collate_movie_graphs, train_test_split_by_time, _split_data\n",
    "import numpy as np\n",
    "import torch\n",
    "import torch.nn as nn\n",
    "import argparse\n",
    "from configure import get_exp_configure\n",
    "import scipy.sparse as sp\n",
    "from torch.utils.data import DataLoader\n",
    "\n",
    "from dgllife.utils import EarlyStopping, Meter\n",
    "from model import compute_loss"
   ]
  },
  {
   "cell_type": "code",
   "execution_count": 6,
   "id": "71297e92",
   "metadata": {},
   "outputs": [],
   "source": [
    "df_rating = pd.read_csv('/Users/pratikaher/DGL/graph-rec/ml-1m/ratings.dat', sep='::', header=None, names=['user_id', 'movie_id', 'rating', 'timestamp'],  engine='python')\n",
    "df_user = pd.read_csv('/Users/pratikaher/DGL/graph-rec/ml-1m/users.dat', sep='::', header=None, names=['user_id', 'gender', 'age', 'occupation', 'zipcode'],  engine='python')\n",
    "df_movie = pd.read_csv('/Users/pratikaher/DGL/graph-rec/ml-1m/movies.dat', sep='::', header=None, names=['movie_id', 'title', 'genre'],  engine='python')"
   ]
  },
  {
   "cell_type": "code",
   "execution_count": 7,
   "id": "02498f44",
   "metadata": {},
   "outputs": [],
   "source": [
    "df_temp = df_rating.merge(df_movie, left_on='movie_id', right_on='movie_id', how='left')\n",
    "df_final = df_temp.merge(df_user, left_on='user_id', right_on='user_id', how='left')"
   ]
  },
  {
   "cell_type": "code",
   "execution_count": 10,
   "id": "608d93bd",
   "metadata": {},
   "outputs": [],
   "source": [
    "df_final = df_final[[\"user_id\",\"movie_id\",\"rating\",\"age\"]]"
   ]
  },
  {
   "cell_type": "code",
   "execution_count": 12,
   "id": "8b8cf2a8",
   "metadata": {},
   "outputs": [
    {
     "data": {
      "text/html": [
       "<div>\n",
       "<style scoped>\n",
       "    .dataframe tbody tr th:only-of-type {\n",
       "        vertical-align: middle;\n",
       "    }\n",
       "\n",
       "    .dataframe tbody tr th {\n",
       "        vertical-align: top;\n",
       "    }\n",
       "\n",
       "    .dataframe thead th {\n",
       "        text-align: right;\n",
       "    }\n",
       "</style>\n",
       "<table border=\"1\" class=\"dataframe\">\n",
       "  <thead>\n",
       "    <tr style=\"text-align: right;\">\n",
       "      <th></th>\n",
       "      <th>user_id</th>\n",
       "      <th>movie_id</th>\n",
       "      <th>rating</th>\n",
       "      <th>age</th>\n",
       "    </tr>\n",
       "  </thead>\n",
       "  <tbody>\n",
       "    <tr>\n",
       "      <th>1000204</th>\n",
       "      <td>6040</td>\n",
       "      <td>1091</td>\n",
       "      <td>1</td>\n",
       "      <td>25</td>\n",
       "    </tr>\n",
       "    <tr>\n",
       "      <th>1000205</th>\n",
       "      <td>6040</td>\n",
       "      <td>1094</td>\n",
       "      <td>5</td>\n",
       "      <td>25</td>\n",
       "    </tr>\n",
       "    <tr>\n",
       "      <th>1000206</th>\n",
       "      <td>6040</td>\n",
       "      <td>562</td>\n",
       "      <td>5</td>\n",
       "      <td>25</td>\n",
       "    </tr>\n",
       "    <tr>\n",
       "      <th>1000207</th>\n",
       "      <td>6040</td>\n",
       "      <td>1096</td>\n",
       "      <td>4</td>\n",
       "      <td>25</td>\n",
       "    </tr>\n",
       "    <tr>\n",
       "      <th>1000208</th>\n",
       "      <td>6040</td>\n",
       "      <td>1097</td>\n",
       "      <td>4</td>\n",
       "      <td>25</td>\n",
       "    </tr>\n",
       "  </tbody>\n",
       "</table>\n",
       "</div>"
      ],
      "text/plain": [
       "         user_id  movie_id  rating  age\n",
       "1000204     6040      1091       1   25\n",
       "1000205     6040      1094       5   25\n",
       "1000206     6040       562       5   25\n",
       "1000207     6040      1096       4   25\n",
       "1000208     6040      1097       4   25"
      ]
     },
     "execution_count": 12,
     "metadata": {},
     "output_type": "execute_result"
    }
   ],
   "source": [
    "df_final.tail()"
   ]
  },
  {
   "cell_type": "code",
   "execution_count": 13,
   "id": "64763821",
   "metadata": {},
   "outputs": [],
   "source": [
    "g = dgl.graph((df_final['user_id'].to_numpy(), df_final['movie_id'].to_numpy()))"
   ]
  },
  {
   "cell_type": "code",
   "execution_count": 15,
   "id": "401882a9",
   "metadata": {},
   "outputs": [],
   "source": [
    "isolated_nodes = ((g.in_degrees() == 0) & (g.out_degrees() == 0)).nonzero().squeeze(1)\n",
    "g = dgl.remove_nodes(g, isolated_nodes)"
   ]
  },
  {
   "cell_type": "code",
   "execution_count": 17,
   "id": "a8cc805e",
   "metadata": {},
   "outputs": [],
   "source": [
    "g.edata['rating'] = torch.unsqueeze(torch.tensor(df_final['rating'].to_numpy()), dim = 1)\n",
    "g.ndata['age'] = torch.unsqueeze(torch.tensor(df_user['age'].to_numpy()).float() / 100, dim = 1)"
   ]
  },
  {
   "cell_type": "code",
   "execution_count": 18,
   "id": "d5b01b7e",
   "metadata": {},
   "outputs": [
    {
     "data": {
      "text/plain": [
       "Graph(num_nodes=6040, num_edges=1000209,\n",
       "      ndata_schemes={'age': Scheme(shape=(1,), dtype=torch.float32)}\n",
       "      edata_schemes={'rating': Scheme(shape=(1,), dtype=torch.int64)})"
      ]
     },
     "execution_count": 18,
     "metadata": {},
     "output_type": "execute_result"
    }
   ],
   "source": [
    "g"
   ]
  },
  {
   "cell_type": "code",
   "execution_count": 24,
   "id": "9f8dbede",
   "metadata": {},
   "outputs": [],
   "source": [
    "u, v = g.edges()"
   ]
  },
  {
   "cell_type": "code",
   "execution_count": 25,
   "id": "7ad103d8",
   "metadata": {},
   "outputs": [],
   "source": [
    "eids = np.arange(g.number_of_edges())\n",
    "eids = np.random.permutation(eids)\n",
    "test_size = int(len(eids) * 0.1)\n",
    "train_size = g.number_of_edges() - test_size"
   ]
  },
  {
   "cell_type": "code",
   "execution_count": 27,
   "id": "6bb206c8",
   "metadata": {},
   "outputs": [
    {
     "data": {
      "text/plain": [
       "(100020, 900189)"
      ]
     },
     "execution_count": 27,
     "metadata": {},
     "output_type": "execute_result"
    }
   ],
   "source": [
    "test_size, train_size"
   ]
  },
  {
   "cell_type": "code",
   "execution_count": 28,
   "id": "78c4a34c",
   "metadata": {},
   "outputs": [],
   "source": [
    "test_pos_u, test_pos_v = u[eids[:test_size]], v[eids[:test_size]]\n",
    "train_pos_u, train_pos_v = u[eids[test_size:]], v[eids[test_size:]]"
   ]
  },
  {
   "cell_type": "code",
   "execution_count": 30,
   "id": "4a934bb1",
   "metadata": {},
   "outputs": [],
   "source": [
    "# # Find all negative edges and split them for training and testing\n",
    "# adj = sp.coo_matrix((np.ones(len(u)), (u.numpy(), v.numpy())))\n",
    "# adj_neg = 1 - adj.todense() - np.eye(adj.shape[0], adj.shape[1])\n",
    "# neg_u, neg_v = np.where(adj_neg != 0)\n",
    "\n",
    "# neg_eids = np.random.choice(len(neg_u), g.number_of_edges() // 2)\n",
    "# test_neg_u, test_neg_v = neg_u[neg_eids[:test_size]], neg_v[neg_eids[:test_size]]\n",
    "# train_neg_u, train_neg_v = neg_u[neg_eids[test_size:]], neg_v[neg_eids[test_size:]]\n"
   ]
  },
  {
   "cell_type": "code",
   "execution_count": 31,
   "id": "cb769fcc",
   "metadata": {},
   "outputs": [],
   "source": [
    "train_g = dgl.remove_edges(g, eids[:test_size])"
   ]
  },
  {
   "cell_type": "code",
   "execution_count": 32,
   "id": "d258b665",
   "metadata": {},
   "outputs": [],
   "source": [
    "# test_g = dgl.remove_edges(g, eids[test_size:])"
   ]
  },
  {
   "cell_type": "code",
   "execution_count": 34,
   "id": "09dc9dfb",
   "metadata": {},
   "outputs": [],
   "source": [
    "train_pos_g = dgl.graph((train_pos_u, train_pos_v), num_nodes=g.number_of_nodes())\n",
    "# train_neg_g = dgl.graph((train_neg_u, train_neg_v), num_nodes=g.number_of_nodes())\n",
    "\n",
    "test_pos_g = dgl.graph((test_pos_u, test_pos_v), num_nodes=g.number_of_nodes())\n",
    "# test_neg_g = dgl.graph((test_neg_u, test_neg_v), num_nodes=g.number_of_nodes())"
   ]
  },
  {
   "cell_type": "code",
   "execution_count": 35,
   "id": "4786af18",
   "metadata": {},
   "outputs": [],
   "source": [
    "train_pos_g.edata['rating'] = torch.unsqueeze(torch.tensor(df_final['rating'].to_numpy()[:train_size]), dim = 1)\n",
    "\n",
    "train_pos_g.ndata['age'] = torch.unsqueeze(torch.tensor(df_user['age'].to_numpy()[:train_size]).float()/100, dim = 1)"
   ]
  },
  {
   "cell_type": "code",
   "execution_count": 36,
   "id": "976eef5a",
   "metadata": {},
   "outputs": [],
   "source": [
    "test_pos_g.edata['rating'] = torch.unsqueeze(torch.tensor(df_final['rating'].to_numpy()[:test_size]), dim = 1)\n",
    "\n",
    "test_pos_g.ndata['age'] = torch.unsqueeze(torch.tensor(df_user['age'].to_numpy()[:test_size]).float()/100, dim = 1)"
   ]
  },
  {
   "cell_type": "code",
   "execution_count": 44,
   "id": "31e9ae62",
   "metadata": {},
   "outputs": [],
   "source": [
    "sampler = dgl.dataloading.MultiLayerNeighborSampler([15, 10, 5])\n",
    "dataloader = dgl.dataloading.EdgeDataLoader(\n",
    "        train_g, train_g.nodes(), \n",
    "        sampler, negative_sampler=dgl.dataloading.negative_sampler.Uniform(5), \n",
    "        shuffle=True, drop_last=False,\n",
    "        batch_size=16\n",
    "        )"
   ]
  },
  {
   "cell_type": "code",
   "execution_count": 45,
   "id": "2ede115b",
   "metadata": {},
   "outputs": [
    {
     "name": "stdout",
     "output_type": "stream",
     "text": [
      "Graph(num_nodes=109, num_edges=16,\n",
      "      ndata_schemes={'age': Scheme(shape=(1,), dtype=torch.float32), '_ID': Scheme(shape=(), dtype=torch.int64)}\n",
      "      edata_schemes={'rating': Scheme(shape=(1,), dtype=torch.int64), '_ID': Scheme(shape=(), dtype=torch.int64)}) Graph(num_nodes=109, num_edges=80,\n",
      "      ndata_schemes={'_ID': Scheme(shape=(), dtype=torch.int64)}\n",
      "      edata_schemes={})\n",
      "0\n"
     ]
    }
   ],
   "source": [
    "sum_values = 0\n",
    "for _, pos_g, neg_g, blocks in dataloader:\n",
    "    print(pos_g, neg_g)\n",
    "    break\n",
    "    sum_values += (len(blocks[0].srcdata['_ID'].tolist()))\n",
    "\n",
    "print(sum_values)"
   ]
  },
  {
   "cell_type": "code",
   "execution_count": null,
   "id": "3ecba283",
   "metadata": {},
   "outputs": [],
   "source": [
    "sampler = dgl.dataloading.MultiLayerFullNeighborSampler(3)\n",
    "nodeloader_test = dgl.dataloading.NodeDataLoader(\n",
    "        g,\n",
    "        test_node_ids,\n",
    "        sampler,\n",
    "        batch_size=16,\n",
    "        shuffle=True,\n",
    "        drop_last=False,\n",
    "    )"
   ]
  },
  {
   "cell_type": "code",
   "execution_count": 100,
   "id": "98fa0be7",
   "metadata": {},
   "outputs": [],
   "source": [
    "sampler = dgl.dataloading.MultiLayerFullNeighborSampler(1)\n",
    "trial_dataloader = dgl.dataloading.DataLoader(\n",
    "        g, g.nodes(), \n",
    "        sampler, shuffle=True, drop_last=False,\n",
    "        batch_size=16\n",
    "        )"
   ]
  },
  {
   "cell_type": "code",
   "execution_count": 105,
   "id": "3e9c052b",
   "metadata": {},
   "outputs": [
    {
     "name": "stdout",
     "output_type": "stream",
     "text": [
      "684789\n"
     ]
    }
   ],
   "source": [
    "sum_values = 0\n",
    "for input_nodes, output_nodes, blocks in trial_dataloader:\n",
    "    sum_values += (len(blocks[0].srcdata['_ID'].tolist()))\n",
    "\n",
    "print(sum_values)"
   ]
  },
  {
   "cell_type": "code",
   "execution_count": 90,
   "id": "a517541d",
   "metadata": {},
   "outputs": [
    {
     "name": "stdout",
     "output_type": "stream",
     "text": [
      "681635\n"
     ]
    }
   ],
   "source": [
    "sum_values = 0\n",
    "for pos_g, neg_g, blocks in trial_dataloader:\n",
    "#     lst = pos_g.ndata['_ID'].tolist()\n",
    "    sum_values += (len(pos_g.tolist()))\n",
    "\n",
    "print(sum_values)"
   ]
  },
  {
   "cell_type": "code",
   "execution_count": 79,
   "id": "30c8c288",
   "metadata": {},
   "outputs": [
    {
     "data": {
      "text/plain": [
       "1000209"
      ]
     },
     "execution_count": 79,
     "metadata": {},
     "output_type": "execute_result"
    }
   ],
   "source": [
    "g.number_of_edges()"
   ]
  },
  {
   "cell_type": "code",
   "execution_count": 68,
   "id": "95ddf8dc",
   "metadata": {},
   "outputs": [
    {
     "data": {
      "text/plain": [
       "1104488"
      ]
     },
     "execution_count": 68,
     "metadata": {},
     "output_type": "execute_result"
    }
   ],
   "source": [
    "681184+423304"
   ]
  },
  {
   "cell_type": "code",
   "execution_count": 25,
   "id": "a4b86dcb",
   "metadata": {},
   "outputs": [],
   "source": [
    "valid_dataloader = dgl.dataloading.EdgeDataLoader(\n",
    "        test_g, test_g.nodes(), \n",
    "        sampler, negative_sampler=dgl.dataloading.negative_sampler.Uniform(5), \n",
    "        shuffle=True, drop_last=False,\n",
    "        batch_size=16\n",
    "        )"
   ]
  },
  {
   "cell_type": "code",
   "execution_count": 15,
   "id": "32eee050",
   "metadata": {},
   "outputs": [],
   "source": [
    "def regress(model, bg, node_subgraph_negative):\n",
    "    \n",
    "    bg = bg.to('cpu')\n",
    "    h = bg.ndata.pop('age')\n",
    "    e = bg.edata.pop('rating')\n",
    "    h, e = h.to('cpu', dtype=torch.float), e.to('cpu', dtype=torch.float)\n",
    "\n",
    "    return model(bg, h, e, node_subgraph_negative)"
   ]
  },
  {
   "cell_type": "code",
   "execution_count": 16,
   "id": "5f9692e4",
   "metadata": {},
   "outputs": [],
   "source": [
    "from model import MPNNPredictor"
   ]
  },
  {
   "cell_type": "code",
   "execution_count": 17,
   "id": "95ea713c",
   "metadata": {},
   "outputs": [],
   "source": [
    "def run_a_train_epoch_full(epoch, model, dataloader, optimizer):\n",
    "    \n",
    "    total_loss = 0\n",
    "    batch_number = 0\n",
    "    \n",
    "    for _, pos_g, neg_g, blocks in dataloader:\n",
    "        pos_score, neg_score = regress(model, pos_g, neg_g)\n",
    "        loss = compute_loss(pos_score, neg_score)\n",
    "\n",
    "        if epoch > 0:  # For the epoch 0, no training (just report loss)\n",
    "            optimizer.zero_grad()\n",
    "            loss.backward()\n",
    "            optimizer.step()\n",
    "            \n",
    "        total_loss += loss.item()\n",
    "        batch_number += 1\n",
    "\n",
    "    train_avg_loss = total_loss / batch_number\n",
    "    \n",
    "    return total_loss"
   ]
  },
  {
   "cell_type": "code",
   "execution_count": 18,
   "id": "036f2ffa",
   "metadata": {
    "scrolled": true
   },
   "outputs": [
    {
     "name": "stdout",
     "output_type": "stream",
     "text": [
      "Epoch :0 has a average loss of : 416.3966514468193\n",
      "This model has a average validation loss of : 417.83248245716095\n",
      "Epoch :1 has a average loss of : 8.866619752370752\n",
      "This model has a average validation loss of : 0.9992181684356183\n"
     ]
    }
   ],
   "source": [
    "model = MPNNPredictor(node_in_feats=1,edge_in_feats=1,node_out_feats=64,edge_hidden_feats=128,n_tasks=12)\n",
    "\n",
    "optimizer = torch.optim.Adam(model.parameters(), lr=0.0001,weight_decay=0)\n",
    "\n",
    "for epoch in range(2):\n",
    "    average_loss = run_a_train_epoch_full(epoch, model, dataloader, optimizer)\n",
    "    \n",
    "    print(\"Epoch :{} has a average loss of : {}\".format(epoch, average_loss))\n",
    "\n",
    "    model.eval()\n",
    "    with torch.no_grad():\n",
    "        total_val_loss = 0\n",
    "        i = 0\n",
    "        for _, pos_g, neg_g, blocks in valid_dataloader:\n",
    "\n",
    "            pos_score, neg_score = regress(model, pos_g, neg_g)\n",
    "            loss = compute_loss(pos_score, neg_score)\n",
    "            total_val_loss += loss.item()\n",
    "            i += 1\n",
    "\n",
    "        val_avg_loss = total_val_loss / i\n",
    "\n",
    "    print(\"This model has a average validation loss of : {}\".format(total_val_loss))"
   ]
  },
  {
   "cell_type": "code",
   "execution_count": 39,
   "id": "b86e4d5e",
   "metadata": {},
   "outputs": [
    {
     "data": {
      "text/html": [
       "<div>\n",
       "<style scoped>\n",
       "    .dataframe tbody tr th:only-of-type {\n",
       "        vertical-align: middle;\n",
       "    }\n",
       "\n",
       "    .dataframe tbody tr th {\n",
       "        vertical-align: top;\n",
       "    }\n",
       "\n",
       "    .dataframe thead th {\n",
       "        text-align: right;\n",
       "    }\n",
       "</style>\n",
       "<table border=\"1\" class=\"dataframe\">\n",
       "  <thead>\n",
       "    <tr style=\"text-align: right;\">\n",
       "      <th></th>\n",
       "      <th>user_id</th>\n",
       "      <th>movie_id</th>\n",
       "      <th>rating</th>\n",
       "      <th>timestamp</th>\n",
       "      <th>title</th>\n",
       "      <th>genre</th>\n",
       "      <th>gender</th>\n",
       "      <th>age</th>\n",
       "      <th>occupation</th>\n",
       "      <th>zipcode</th>\n",
       "    </tr>\n",
       "  </thead>\n",
       "  <tbody>\n",
       "    <tr>\n",
       "      <th>0</th>\n",
       "      <td>1</td>\n",
       "      <td>1193</td>\n",
       "      <td>5</td>\n",
       "      <td>978300760</td>\n",
       "      <td>One Flew Over the Cuckoo's Nest (1975)</td>\n",
       "      <td>Drama</td>\n",
       "      <td>F</td>\n",
       "      <td>1</td>\n",
       "      <td>10</td>\n",
       "      <td>48067</td>\n",
       "    </tr>\n",
       "    <tr>\n",
       "      <th>1</th>\n",
       "      <td>1</td>\n",
       "      <td>661</td>\n",
       "      <td>3</td>\n",
       "      <td>978302109</td>\n",
       "      <td>James and the Giant Peach (1996)</td>\n",
       "      <td>Animation|Children's|Musical</td>\n",
       "      <td>F</td>\n",
       "      <td>1</td>\n",
       "      <td>10</td>\n",
       "      <td>48067</td>\n",
       "    </tr>\n",
       "    <tr>\n",
       "      <th>2</th>\n",
       "      <td>1</td>\n",
       "      <td>914</td>\n",
       "      <td>3</td>\n",
       "      <td>978301968</td>\n",
       "      <td>My Fair Lady (1964)</td>\n",
       "      <td>Musical|Romance</td>\n",
       "      <td>F</td>\n",
       "      <td>1</td>\n",
       "      <td>10</td>\n",
       "      <td>48067</td>\n",
       "    </tr>\n",
       "    <tr>\n",
       "      <th>3</th>\n",
       "      <td>1</td>\n",
       "      <td>3408</td>\n",
       "      <td>4</td>\n",
       "      <td>978300275</td>\n",
       "      <td>Erin Brockovich (2000)</td>\n",
       "      <td>Drama</td>\n",
       "      <td>F</td>\n",
       "      <td>1</td>\n",
       "      <td>10</td>\n",
       "      <td>48067</td>\n",
       "    </tr>\n",
       "    <tr>\n",
       "      <th>4</th>\n",
       "      <td>1</td>\n",
       "      <td>2355</td>\n",
       "      <td>5</td>\n",
       "      <td>978824291</td>\n",
       "      <td>Bug's Life, A (1998)</td>\n",
       "      <td>Animation|Children's|Comedy</td>\n",
       "      <td>F</td>\n",
       "      <td>1</td>\n",
       "      <td>10</td>\n",
       "      <td>48067</td>\n",
       "    </tr>\n",
       "    <tr>\n",
       "      <th>...</th>\n",
       "      <td>...</td>\n",
       "      <td>...</td>\n",
       "      <td>...</td>\n",
       "      <td>...</td>\n",
       "      <td>...</td>\n",
       "      <td>...</td>\n",
       "      <td>...</td>\n",
       "      <td>...</td>\n",
       "      <td>...</td>\n",
       "      <td>...</td>\n",
       "    </tr>\n",
       "    <tr>\n",
       "      <th>1000204</th>\n",
       "      <td>6040</td>\n",
       "      <td>1091</td>\n",
       "      <td>1</td>\n",
       "      <td>956716541</td>\n",
       "      <td>Weekend at Bernie's (1989)</td>\n",
       "      <td>Comedy</td>\n",
       "      <td>M</td>\n",
       "      <td>25</td>\n",
       "      <td>6</td>\n",
       "      <td>11106</td>\n",
       "    </tr>\n",
       "    <tr>\n",
       "      <th>1000205</th>\n",
       "      <td>6040</td>\n",
       "      <td>1094</td>\n",
       "      <td>5</td>\n",
       "      <td>956704887</td>\n",
       "      <td>Crying Game, The (1992)</td>\n",
       "      <td>Drama|Romance|War</td>\n",
       "      <td>M</td>\n",
       "      <td>25</td>\n",
       "      <td>6</td>\n",
       "      <td>11106</td>\n",
       "    </tr>\n",
       "    <tr>\n",
       "      <th>1000206</th>\n",
       "      <td>6040</td>\n",
       "      <td>562</td>\n",
       "      <td>5</td>\n",
       "      <td>956704746</td>\n",
       "      <td>Welcome to the Dollhouse (1995)</td>\n",
       "      <td>Comedy|Drama</td>\n",
       "      <td>M</td>\n",
       "      <td>25</td>\n",
       "      <td>6</td>\n",
       "      <td>11106</td>\n",
       "    </tr>\n",
       "    <tr>\n",
       "      <th>1000207</th>\n",
       "      <td>6040</td>\n",
       "      <td>1096</td>\n",
       "      <td>4</td>\n",
       "      <td>956715648</td>\n",
       "      <td>Sophie's Choice (1982)</td>\n",
       "      <td>Drama</td>\n",
       "      <td>M</td>\n",
       "      <td>25</td>\n",
       "      <td>6</td>\n",
       "      <td>11106</td>\n",
       "    </tr>\n",
       "    <tr>\n",
       "      <th>1000208</th>\n",
       "      <td>6040</td>\n",
       "      <td>1097</td>\n",
       "      <td>4</td>\n",
       "      <td>956715569</td>\n",
       "      <td>E.T. the Extra-Terrestrial (1982)</td>\n",
       "      <td>Children's|Drama|Fantasy|Sci-Fi</td>\n",
       "      <td>M</td>\n",
       "      <td>25</td>\n",
       "      <td>6</td>\n",
       "      <td>11106</td>\n",
       "    </tr>\n",
       "  </tbody>\n",
       "</table>\n",
       "<p>1000209 rows × 10 columns</p>\n",
       "</div>"
      ],
      "text/plain": [
       "         user_id  movie_id  rating  timestamp  \\\n",
       "0              1      1193       5  978300760   \n",
       "1              1       661       3  978302109   \n",
       "2              1       914       3  978301968   \n",
       "3              1      3408       4  978300275   \n",
       "4              1      2355       5  978824291   \n",
       "...          ...       ...     ...        ...   \n",
       "1000204     6040      1091       1  956716541   \n",
       "1000205     6040      1094       5  956704887   \n",
       "1000206     6040       562       5  956704746   \n",
       "1000207     6040      1096       4  956715648   \n",
       "1000208     6040      1097       4  956715569   \n",
       "\n",
       "                                          title  \\\n",
       "0        One Flew Over the Cuckoo's Nest (1975)   \n",
       "1              James and the Giant Peach (1996)   \n",
       "2                           My Fair Lady (1964)   \n",
       "3                        Erin Brockovich (2000)   \n",
       "4                          Bug's Life, A (1998)   \n",
       "...                                         ...   \n",
       "1000204              Weekend at Bernie's (1989)   \n",
       "1000205                 Crying Game, The (1992)   \n",
       "1000206         Welcome to the Dollhouse (1995)   \n",
       "1000207                  Sophie's Choice (1982)   \n",
       "1000208       E.T. the Extra-Terrestrial (1982)   \n",
       "\n",
       "                                   genre gender  age  occupation zipcode  \n",
       "0                                  Drama      F    1          10   48067  \n",
       "1           Animation|Children's|Musical      F    1          10   48067  \n",
       "2                        Musical|Romance      F    1          10   48067  \n",
       "3                                  Drama      F    1          10   48067  \n",
       "4            Animation|Children's|Comedy      F    1          10   48067  \n",
       "...                                  ...    ...  ...         ...     ...  \n",
       "1000204                           Comedy      M   25           6   11106  \n",
       "1000205                Drama|Romance|War      M   25           6   11106  \n",
       "1000206                     Comedy|Drama      M   25           6   11106  \n",
       "1000207                            Drama      M   25           6   11106  \n",
       "1000208  Children's|Drama|Fantasy|Sci-Fi      M   25           6   11106  \n",
       "\n",
       "[1000209 rows x 10 columns]"
      ]
     },
     "execution_count": 39,
     "metadata": {},
     "output_type": "execute_result"
    }
   ],
   "source": [
    "df_final[df_final['user_id'].isin([3, 6])]"
   ]
  },
  {
   "cell_type": "code",
   "execution_count": 50,
   "id": "507f08b0",
   "metadata": {},
   "outputs": [
    {
     "name": "stdout",
     "output_type": "stream",
     "text": [
      "[201, 96, 351, 376, 122, 248, 222, 43, 224, 156, 342, 14, 191, 243, 1865, 2207, 3005, 2352, 907, 3060, 1407, 890, 2107, 1475, 2377, 1460, 2881, 100, 1474, 1543, 880, 5359, 1562, 3244, 5623, 1045, 4272, 1919, 3944, 5068, 2744, 2310, 3099, 5003, 33, 382, 2398, 397, 5747, 4527, 266, 1491, 1262, 1079, 5887, 3682, 476, 2061, 2152, 1503, 2617, 1389, 3016, 2914, 4756, 235, 732, 4216, 3579, 3032, 1484, 1386, 5138, 2776, 4707, 3371, 1707, 1054, 3204, 3329, 353, 4123, 3802, 3347, 3561, 1134, 283, 4374, 1591, 412, 2482, 2654, 5032, 2777, 740, 4672, 1721, 2056, 624, 2724, 1754, 2462, 2889, 3741, 4578, 3172, 2643, 5067, 4601, 5950]\n",
      "[306, 277, 211, 326, 91, 193, 5, 201, 348, 330, 194, 236, 122, 239, 174, 1232, 2616, 1941, 1038, 3081, 2723, 1946, 706, 17, 299, 2018, 33, 919, 3097, 2290, 4879, 1917, 5179, 673, 1145, 456, 3891, 1989, 5526, 5013, 5990, 467, 5199, 1707, 2799, 1183, 5298, 5789, 5029, 2006, 4243, 4372, 4259, 1350, 604, 4894, 3366, 948, 5384, 2063, 4581, 5531, 3070, 3468, 2557, 5968, 1722, 1996, 1410, 3119, 4351, 4986, 3498, 5198, 4369, 4537, 2715, 103, 1619, 408, 4261, 4453, 3609, 1720, 4857, 4936, 598, 2889, 1596, 3655, 1439, 3558, 5712, 3061, 1189, 2846, 5949, 5043, 409, 2579, 3096, 786, 2071, 5994, 3585, 1525, 672, 5065, 4252, 3731]\n",
      "[192, 111, 207, 244, 135, 283, 194, 379, 173, 270, 9, 43, 41, 92, 309, 385, 592, 1068, 1126, 1673, 2011, 2659, 159, 2301, 1999, 1264, 3173, 1072, 652, 2018, 454, 3750, 5234, 1514, 2465, 726, 2222, 2759, 181, 3935, 5414, 3730, 5285, 1744, 662, 4981, 670, 5207, 438, 3822, 6026, 5392, 2291, 3847, 2272, 1523, 2672, 4093, 4374, 979, 5871, 242, 3183, 2808, 2779, 870, 434, 2214, 2931, 2707, 383, 337, 1609, 3419, 5733, 5773, 4084, 457, 1265, 3885, 5287, 3156, 3289, 2738, 128, 4578, 4116, 4810, 4858, 5247, 3531, 1428, 1722, 14, 2610, 978, 4845, 3018, 3158, 898, 5784, 5479, 2077, 6019, 745, 541, 2139, 5019, 3160, 4476, 1066, 4120]\n",
      "[228, 74, 277, 395, 201, 328, 122, 254, 411, 115, 162, 353, 61, 197, 3947, 1591, 1277, 313, 1776, 2087, 3203, 3146, 1800, 1387, 1861, 2722, 1147, 3909, 20, 382, 6035, 3317, 3454, 2855, 3658, 1095, 4367, 3089, 904, 3917, 2681, 386, 3451, 3251, 3893, 1071, 4589, 1846, 5009, 5065, 2272, 3678, 3990, 971, 2631, 3038, 282, 5950, 1848, 5518, 630, 1443, 4276, 5996, 5551, 3723, 4341, 1053, 1827, 1832, 3180, 5729, 1705, 1609, 229, 870, 5917, 388, 3442, 333, 507, 4771, 5106, 4285, 4654, 1878, 4006, 5445, 3109, 1736, 108, 3642, 1274, 3099, 848, 1231, 2830, 3294, 1811, 510, 4020, 2870, 446, 698, 5372, 3517, 537, 2739, 2974, 2637]\n",
      "[48, 71, 350, 83, 180, 203, 401, 102, 57, 207, 61, 340, 193, 307, 194, 122, 473, 1187, 3637, 2501, 2104, 1993, 526, 911, 925, 1258, 2639, 3264, 499, 2426, 3113, 1673, 3303, 1717, 3604, 3555, 4608, 3985, 546, 5719, 3001, 1470, 1266, 4265, 3603, 5196, 5508, 3311, 1449, 140, 4079, 4159, 5092, 4263, 238, 2545, 1635, 4297, 4770, 5937, 5128, 4602, 2801, 1450, 3490, 3781, 4568, 367, 1354, 4734, 565, 2830, 1656, 4574, 4939, 5797, 1299, 27, 2157, 458, 2479, 5242, 4767, 792, 3790, 2976, 2795, 2510, 5245, 429, 1909, 2181, 4498, 3777, 5238, 3499, 2, 1452, 883, 4750, 5252, 577, 1279, 329, 1229, 394, 5840, 294, 2663, 2131, 3214, 4477]\n",
      "[148, 351, 347, 44, 155, 111, 208, 43, 318, 153, 132, 328, 311, 228, 138, 372, 1672, 1203, 1761, 2064, 919, 0, 1910, 1096, 307, 3158, 3551, 3498, 3734, 3784, 901, 3988, 4550, 4212, 4009, 2264, 2179, 4868, 27, 608, 5917, 5261, 4208, 350, 5652, 1863, 3454, 4921, 2271, 1342, 4055, 4362, 1942, 3107, 5434, 5454, 2328, 3258, 3536, 3554, 3190, 1611, 5202, 3964, 2223, 4937, 2691, 1913, 1884, 2332, 1135, 2858, 6008, 5112, 2996, 1927, 5680, 1172, 1841, 2, 804, 2089, 1152, 3598, 3479, 5922, 1350, 4963, 908, 3621, 1988, 2671, 3818, 3413, 815, 5621, 4326, 287, 3057, 4693, 3590, 4444, 1921, 3351, 5436, 1288, 332, 1086, 439]\n",
      "[237, 152, 147, 377, 146, 221, 52, 25, 328, 201, 61, 410, 397, 32, 306, 351, 3295, 324, 2080, 2974, 1269, 1096, 952, 479, 2664, 1689, 2621, 3681, 31, 1265, 514, 1483, 3232, 2219, 5046, 4746, 1289, 1038, 51, 2263, 714, 2151, 3290, 3090, 3624, 4678, 744, 5501, 5337, 4625, 4864, 3962, 2903, 2389, 381, 1040, 638, 426, 5519, 3310, 3140, 2982, 1342, 4099, 1899, 5951, 1693, 5688, 4145, 3412, 580, 1092, 1700, 5674, 2223, 88, 2566, 4641, 1059, 771, 4885, 4235, 3394, 2766, 5456, 1895, 616, 4728, 3925, 2309, 230, 4718, 1361, 4592, 3342, 5383, 2076, 126, 4648, 3765, 2432, 4600, 1582, 5260, 4775, 3085, 2227, 1313, 4980, 3669]\n",
      "[108, 7, 52, 300, 26, 197, 331, 160, 57, 25, 194, 330, 257, 295, 354, 217, 911, 1677, 246, 2426, 2996, 3449, 3407, 292, 3863, 1712, 3868, 847, 3268, 1338, 3577, 1910, 1817, 1866, 5104, 1066, 3234, 5296, 5690, 1656, 2503, 1483, 619, 297, 3546, 4123, 5374, 4782, 3743, 1678, 1861, 4558, 3912, 1418, 1492, 3523, 1390, 1071, 1644, 4398, 306, 2993, 4555, 2181, 2721, 1003, 1590, 178, 189, 4545, 1726, 5464, 3348, 941, 136, 800, 5061, 3224, 284, 2646, 4592, 4779, 537, 2563, 4557, 2637, 2272, 2433, 4088, 5818, 4178, 5714, 5978, 1297, 832, 3618, 3748, 5462, 3103, 2261, 4374, 2346, 3241, 5927, 2061, 2893, 4188, 4364, 1317, 1168, 4903]\n",
      "[113, 82, 341, 270, 342, 154, 318, 194, 12, 283, 162, 328, 351, 307, 203, 330, 1587, 259, 1209, 427, 2881, 1080, 1134, 2332, 2640, 2793, 801, 2835, 1172, 735, 3652, 627, 1722, 2555, 4678, 2501, 4591, 3307, 5925, 4367, 5901, 3344, 5687, 2002, 1123, 5805, 5820, 3208, 2969, 1524, 3547, 3727, 421, 1681, 1845, 3744, 3571, 374, 5913, 964, 811, 5156, 5424, 4900, 3501, 666, 4920, 2066, 781, 3869, 1838, 2492, 1047, 677, 913, 1670, 3262, 2790, 3539, 918, 2466, 529, 1255, 2759, 3511, 2731, 2697, 233, 596, 3417, 190, 2050, 3367, 4529, 2510, 1438, 3294, 5235, 5984, 2837, 1680, 474, 2734, 4613, 4196, 5316, 2184, 2785, 1243, 4150, 296, 835]\n",
      "[145, 194, 408, 318, 198, 215, 391, 35, 351, 370, 89, 172, 162, 203, 2564, 669, 1517, 2866, 2805, 1540, 1588, 993, 2715, 1319, 2734, 1922, 1486, 3538, 1378, 149, 3096, 5010, 1702, 726, 818, 2046, 3280, 2550, 1788, 2569, 2497, 5019, 3069, 4885, 692, 803, 921, 5933, 1873, 3565, 2496, 1963, 1152, 1839, 1287, 1947, 343, 3381, 937, 4775, 1107, 2673, 5357, 1544, 3226, 1791, 2008, 4773, 1049, 5072, 4957, 1929, 3068, 556, 4542, 1729, 781, 4723, 5428, 1412, 2937, 5523, 310, 885, 5459, 2516, 4000, 2801, 1288, 3834, 2365, 3292, 3396, 612, 3410, 6030, 4795, 5450, 3685, 4528, 1943, 4762, 1786, 2480, 2209, 4419, 4993, 1614, 2272, 3889]\n",
      "[9, 385, 80, 325, 150, 228, 101, 174, 131, 130, 132, 33, 351, 32, 116, 1196, 2489, 904, 3466, 1516, 2315, 925, 1059, 2598, 3910, 2709, 1540, 292, 2862, 3698, 2138, 1617, 5938, 4307, 4776, 4943, 4153, 1026, 4877, 4409, 2699, 2241, 5721, 359, 3411, 200, 5782, 926, 4925, 2533, 5698, 1789, 785, 146, 2616, 3554, 3736, 3438, 4012, 2343, 1589, 5269, 4739, 3225, 3365, 1448, 1763, 2615, 4623, 5316, 1560, 3661, 2505, 2496, 1508, 3363, 3701, 5164, 2291, 1556, 72, 4268, 5933, 5345, 1315, 5470, 3751, 2102, 1824, 199, 2532, 1274, 559, 4251, 4342, 3753, 2103, 1904, 2115, 5131, 2060, 5333, 5598, 3850, 5352, 564, 3941, 3187, 2940, 4844]\n",
      "[191, 52, 17, 43, 258, 122, 332, 174, 342, 263, 124, 162, 34, 194, 178, 180, 279, 1407, 901, 1616, 2407, 2086, 1192, 1126, 588, 1241, 80, 2311, 3876, 3032, 3245, 5339, 1555, 4285, 4425, 4956, 66, 2535, 4265, 189, 5409, 4245, 5030, 675, 5773, 4135, 5004, 1595, 1506, 4994, 2341, 1464, 1754, 2617, 475, 195, 5346, 1359, 146, 1298, 4622, 2543, 3416, 2752, 4881, 5284, 3325, 5960, 5206, 5950, 1220, 4669, 1826, 3474, 4039, 1844, 106, 3303, 4792, 5467, 2554, 3000, 551, 5692, 207, 27, 5685, 1731, 1738, 3044, 1909, 2604, 959, 3706, 4531, 157, 5213, 843, 4762, 5985, 3801, 5404, 5793, 4081, 3875, 3634, 5618, 2204, 5854, 3242]\n",
      "[28, 150, 397, 191, 410, 258, 27, 14, 73, 260, 91, 149, 244, 194, 342, 120, 259, 2941, 1303, 554, 2086, 315, 2281, 1967, 3175, 1729, 2452, 1954, 1944, 3549, 3209, 2104, 341, 5572, 3841, 1326, 274, 4210, 2443, 4602, 5163, 649, 245, 3074, 356, 1097, 4729, 1766, 672, 568, 778, 4917, 2798, 5425, 3366, 3350, 5146, 1974, 927, 4469, 4400, 5467, 4980, 4481, 3792, 3365, 175, 1560, 891, 5747, 1463, 5849, 3094, 4123, 4357, 5461, 1141, 2110, 5246, 74, 2794, 1166, 4741, 5680, 3386, 2500, 4426, 3582, 2342, 2587, 678, 4619, 4776, 3641, 5173, 1744, 2600, 401, 1616, 255, 5883, 4180, 5205, 5899, 3471, 768, 1031, 3880, 4678, 908, 3232, 2292]\n",
      "[168, 298, 161, 385, 41, 52, 198, 27, 292, 263, 10, 80, 147, 301, 116, 402, 2365, 1224, 3743, 1147, 1078, 2871, 1437, 1248, 1241, 3790, 2705, 3947, 431, 2182, 3858, 1014, 2175, 404, 3132, 2434, 707, 4058, 2348, 1754, 5420, 1803, 2046, 677, 1346, 2518, 1055, 5151, 1439, 4531, 916, 5683, 5604, 5047, 3046, 1750, 5878, 1963, 2059, 2508, 3971, 4668, 356, 5867, 2921, 248, 2190, 2680, 1954, 694, 4780, 1891, 1915, 2495, 3695, 2905, 124, 1391, 3763, 5575, 6035, 4360, 1865, 2893, 3422, 330, 4987, 3382, 4611, 5899, 1557, 4661, 1228, 1504, 1482, 5616, 3287, 5174, 4003, 1997, 5229, 1920, 1882, 1352, 2590, 4313, 5611, 3349, 5515, 3600, 2724]\n",
      "[160, 334, 148, 18, 194, 246, 101, 404, 318, 162, 178, 414, 402, 146, 113, 1202, 2640, 456, 1973, 1239, 2500, 3188, 3653, 489, 251, 3097, 3750, 2803, 3512, 0, 1281, 3154, 128, 2616, 1747, 3460, 4358, 5275, 3855, 5544, 4455, 4588, 3783, 4971, 2086, 2274, 2897, 1838, 2768, 5863, 2085, 1630, 2809, 2237, 2394, 4900, 269, 526, 730, 4582, 4870, 2225, 2044, 3794, 2206, 5982, 5510, 2145, 3761, 5496, 3875, 4133, 5598, 3124, 2791, 4130, 4345, 5081, 144, 961, 3378, 3939, 3439, 4513, 3207, 2950, 4980, 3062, 3767, 1621, 3099, 1199, 6020, 3899, 3787, 1756, 4396, 408, 4145, 5255, 6014, 3, 3066, 928, 2724, 356, 4898, 5997, 575, 4383, 3304]\n",
      "[357, 308, 207, 261, 164, 367, 98, 410, 305, 148, 92, 68, 165, 328, 351, 376, 1282, 2760, 1207, 1689, 2345, 449, 3593, 1375, 3542, 2404, 25, 1246, 528, 777, 1059, 4156, 1969, 1625, 484, 2067, 5413, 2139, 1666, 2778, 5113, 2556, 493, 923, 1551, 2192, 2299, 5032, 4155, 5937, 4563, 4433, 75, 3916, 5086, 4454, 1405, 4032, 3611, 5983, 3890, 5807, 576, 1724, 3193, 5859, 909, 3111, 3380, 4938, 5395, 5322, 3255, 5873, 5527, 4568, 2074, 2128, 2227, 3101, 2003, 1020, 202, 2624, 1482, 2594, 446, 1904, 904, 530, 2872, 2580, 1712, 1423, 1083, 526, 2503, 1661, 490, 3600, 4728, 4055, 479, 2676, 3622, 963, 3182, 4726, 214, 1459]\n",
      "[260, 267, 198, 309, 79, 178, 299, 204, 98, 32, 290, 22, 342, 25, 156, 23, 3385, 217, 348, 3614, 1720, 1956, 33, 964, 1258, 915, 2, 2807, 2564, 1460, 3421, 3607, 4463, 2091, 4326, 215, 2968, 1336, 2823, 1463, 2204, 2387, 322, 963, 659, 5919, 814, 1323, 3081, 59, 2758, 1119, 5120, 927, 5523, 1839, 1734, 3168, 2537, 932, 995, 4430, 2802, 722, 4034, 3382, 2141, 5419, 1316, 2135, 5651, 3161, 4973, 2363, 763, 3823, 5753, 848, 436, 5110, 2597, 1497, 4722, 657, 1788, 1876, 4996, 5641, 5956, 595, 2482, 5319, 1817, 5246, 3206, 5702, 2005, 4750, 3723, 5639, 2126, 3315, 4419, 2396, 891, 391, 4020, 4157, 4603, 5088, 5019, 4183]\n"
     ]
    },
    {
     "name": "stdout",
     "output_type": "stream",
     "text": [
      "[183, 240, 411, 342, 330, 57, 180, 96, 351, 9, 301, 12, 194, 115, 343, 274, 2075, 1283, 2061, 88, 1916, 2290, 69, 953, 2333, 1275, 2149, 1721, 3762, 2682, 3365, 2351, 3303, 3310, 2610, 1307, 3381, 4173, 3211, 372, 3544, 2023, 5703, 2638, 3861, 354, 3215, 1467, 3679, 5504, 3949, 3206, 3060, 818, 4497, 4853, 4859, 4337, 3207, 2995, 2022, 5964, 1152, 1975, 676, 659, 236, 311, 1812, 2672, 5425, 3080, 523, 4469, 3286, 2268, 1530, 4506, 4046, 5251, 2285, 1089, 2098, 4483, 4004, 620, 565, 580, 3529, 1671, 1860, 4541, 2366, 4897, 2430, 447, 1924, 5978, 908, 181, 1888, 1484, 1863, 3309, 1518, 1968, 1163, 5051, 5614, 1737, 4102]\n",
      "[203, 149, 104, 356, 201, 53, 76, 404, 279, 244, 172, 267, 328, 330, 52, 1089, 594, 2946, 1747, 2004, 2790, 2958, 3146, 1306, 1473, 1967, 1592, 1499, 317, 192, 912, 1241, 947, 249, 4034, 3076, 1234, 5572, 372, 4551, 420, 1006, 5581, 5826, 3455, 797, 5506, 2290, 5345, 2433, 4052, 2548, 327, 3345, 5204, 4579, 5994, 3012, 2442, 5260, 5590, 1496, 1726, 1745, 666, 3526, 1788, 5124, 1518, 4390, 2968, 2687, 5008, 1435, 479, 2833, 5385, 5039, 2155, 3066, 1698, 2477, 1503, 3940, 4245, 5389, 4393, 2145, 2748, 825, 4562, 591, 2922, 4027, 161, 2119, 868, 5543, 1767, 4314, 4443, 3806, 1998, 5937, 290, 2675, 2626, 178, 1063]\n",
      "[136, 17, 177, 292, 330, 160, 354, 191, 257, 52, 181, 269, 135, 328, 230, 1088, 1378, 2941, 1783, 1516, 1095, 1589, 2856, 1290, 3447, 1583, 1195, 548, 3929, 2077, 2796, 848, 5575, 4371, 3102, 3778, 2843, 3616, 5011, 1137, 2461, 881, 5746, 4154, 1284, 3919, 1496, 3222, 676, 2585, 887, 296, 3369, 1749, 3995, 3798, 5226, 2661, 851, 407, 3805, 2786, 5926, 1502, 5654, 1729, 3938, 5827, 2364, 3726, 4327, 1325, 957, 4434, 2860, 1872, 3337, 998, 4311, 4912, 2664, 1811, 4362, 2471, 78, 3443, 97, 3472, 3279, 368, 1413, 2756, 5333, 5847, 4822, 343, 4631, 3064, 1580, 5765, 3105, 5811, 1117, 3834, 666, 5889, 3534, 3906, 3536]\n",
      "[244, 22, 103, 278, 203, 57, 25, 138, 52, 53, 86, 183, 198, 223, 175, 174, 110, 1499, 2721, 1390, 1019, 1224, 3501, 2159, 1269, 1277, 3671, 2402, 2949, 3947, 2374, 1839, 2920, 129, 1813, 5391, 5556, 1428, 5069, 2988, 5854, 2787, 1949, 1158, 5516, 2175, 1066, 5563, 602, 2368, 1658, 1230, 5224, 892, 232, 5490, 5343, 2529, 2295, 4879, 3618, 3878, 5705, 1279, 1943, 751, 515, 2125, 855, 2943, 4964, 1313, 351, 58, 4005, 1868, 2048, 4128, 1119, 1251, 4140, 3226, 3627, 2197, 2079, 5508, 262, 1504, 3431, 3103, 2978, 1475, 4985, 1481, 1496, 698, 2561, 3721, 1905, 3643, 4124, 4336, 660, 584, 5838, 1934, 3492, 4717, 1039]\n",
      "[410, 411, 92, 301, 328, 194, 234, 201, 64, 293, 17, 326, 315, 369, 351, 2267, 1184, 3106, 735, 3826, 610, 3333, 255, 1796, 1056, 85, 2470, 1276, 1953, 3701, 298, 1375, 1018, 855, 3534, 3324, 4932, 2512, 3405, 508, 5227, 1001, 4893, 4596, 2077, 3782, 1188, 3004, 3150, 2626, 798, 829, 1491, 3806, 4243, 5866, 1109, 3250, 2364, 4333, 5883, 3561, 4067, 1343, 4022, 4128, 4602, 3152, 4475, 330, 2138, 4147, 3084, 3657, 5705, 5167, 4192, 4422, 3002, 4117, 4406, 1961, 5060, 3145, 4064, 1936, 5782, 892, 1853, 5610, 2999, 4047, 736, 5392, 1244, 4062, 5977, 1701, 5524, 4990, 4566, 4944, 1261, 5749, 1493, 2094, 5536, 2727, 4416, 4786]\n",
      "[274, 391, 120, 37, 318, 176, 413, 351, 354, 35, 52, 224, 191, 109, 67, 1290, 2086, 2527, 63, 1610, 2676, 1093, 421, 2334, 1264, 949, 2691, 2984, 2059, 2388, 1499, 1708, 5809, 4028, 2778, 2301, 703, 1680, 635, 1690, 2805, 4546, 340, 741, 4096, 5509, 4515, 898, 538, 2033, 1397, 1222, 3577, 5870, 812, 1781, 778, 1876, 555, 2395, 4317, 1195, 3891, 2143, 3108, 4384, 2738, 222, 2048, 5989, 5368, 1540, 515, 4341, 3688, 1791, 3936, 4771, 3918, 1753, 4767, 3161, 3287, 5468, 5393, 3039, 881, 3286, 1700, 1443, 1907, 957, 4588, 4015, 5525, 2550, 1429, 4609, 687, 5815, 4705, 2365, 4363, 4678, 4234, 4704, 1139, 5353]\n",
      "[330, 186, 92, 20, 354, 232, 189, 168, 365, 411, 72, 80, 391, 180, 297, 270, 3266, 229, 1478, 584, 1274, 968, 2173, 3019, 901, 646, 433, 1200, 134, 348, 3511, 3428, 2021, 4542, 64, 4882, 3725, 5898, 1498, 2543, 1371, 289, 2120, 3791, 4995, 526, 1716, 3218, 4968, 3882, 2145, 1097, 5053, 5055, 5390, 3024, 3638, 1928, 2132, 1466, 5180, 5751, 4318, 1838, 3151, 1564, 5632, 6007, 760, 1853, 342, 2025, 3868, 119, 2469, 2123, 569, 2850, 2536, 535, 1425, 3006, 5676, 3611, 2778, 236, 3142, 5795, 1272, 4034, 3896, 4699, 618, 5366, 4303, 5664, 5432, 1584, 2598, 562, 4651, 1793, 5869, 1539, 3243, 5510, 5164, 3750, 78, 3115, 5143]\n",
      "[52, 173, 286, 267, 390, 391, 112, 215, 330, 35, 230, 44, 15, 273, 25, 410, 1993, 2989, 2857, 349, 3043, 3316, 3326, 150, 2843, 596, 3872, 3036, 2391, 2947, 2468, 1256, 4428, 2336, 890, 5872, 1919, 2023, 647, 4415, 5606, 925, 2859, 259, 2335, 1669, 3531, 746, 2195, 5754, 5625, 5261, 3847, 2587, 5105, 608, 5511, 5879, 948, 4449, 4080, 4165, 527, 3229, 204, 1587, 4360, 3182, 1852, 2801, 4607, 5579, 3816, 3637, 1376, 3160, 1289, 2212, 4804, 4609, 5440, 3983, 4240, 4461, 586, 3298, 1128, 3828, 1380, 5985, 3851, 4524, 57, 5334, 1029, 4366, 5808, 3932, 5976, 588, 4683, 4213, 1112, 2418, 304, 4214, 4040, 3683, 3610, 1632, 5545]\n",
      "[262, 397, 5, 410, 111, 160, 318, 122, 52, 21, 91, 271, 77, 388, 343, 1264, 2579, 1687, 2540, 2077, 1206, 2299, 2541, 1021, 1604, 144, 2499, 2395, 1080, 363, 3835, 5480, 2670, 1845, 5631, 4071, 5305, 4096, 2182, 1635, 1865, 5870, 5203, 5836, 784, 3790, 292, 5107, 1830, 4744, 3240, 5609, 1730, 196, 1075, 550, 661, 4407, 2231, 5627, 1507, 3755, 815, 4509, 4503, 4347, 1164, 4989, 4370, 2522, 5999, 587, 1232, 1205, 764, 3377, 2560, 3375, 3170, 6004, 137, 414, 3847, 1243, 2749, 173, 2949, 5626, 4907, 1123, 3162, 520, 166, 1997, 3364, 20, 4168, 4541, 4444, 3226, 1610, 231, 1605, 4212, 5355, 5020, 582, 3918, 3120]\n",
      "[13, 150, 302, 254, 351, 12, 96, 300, 14, 325, 336, 332, 271, 237, 258, 3622, 3032, 607, 1193, 477, 1072, 3203, 3300, 3420, 3362, 1048, 1252, 3479, 2133, 528, 1524, 5009, 5351, 2080, 2473, 346, 2992, 3838, 5510, 5990, 2784, 1110, 1501, 316, 1125, 512, 1112, 4000, 4444, 1529, 731, 4031, 2068, 5146, 3613, 3240, 4880, 5389, 1720, 2995, 557, 3244, 2753, 4868, 2593, 1425, 1974, 2210, 1304, 2642, 3439, 5565, 372, 4434, 4614, 4955, 3635, 5439, 1352, 4708, 2892, 2894, 4695, 4259, 4301, 1908, 4807, 856, 3283, 4564, 5977, 5201, 735, 4322, 2472, 4630, 752, 838, 2499, 4354, 2311, 2668, 3382, 373, 388, 54, 3461]\n",
      "[264, 91, 410, 348, 57, 155, 277, 9, 325, 219, 61, 332, 260, 299, 234, 82, 917, 433, 3632, 134, 1269, 533, 2648, 2104, 677, 1230, 1999, 1301, 352, 1306, 3577, 2709, 3085, 2598, 4513, 5589, 1139, 4506, 294, 4408, 5287, 454, 1756, 2517, 2550, 3858, 4317, 2132, 3113, 4245, 1897, 3712, 1834, 4889, 2362, 5863, 2351, 169, 4757, 5700, 3540, 4419, 4193, 1676, 3407, 1399, 5186, 5550, 2935, 2324, 1458, 2292, 4590, 4093, 2534, 2335, 497, 1146, 1838, 1788, 3660, 6025, 227, 4636, 1998, 1667, 5447, 4438, 1409, 4737, 2022, 2832, 5922, 4312, 4358, 1050, 3642, 1796, 5318, 2098, 3691, 1104, 311, 5869, 5240, 4482, 1810, 362, 1064, 6024, 4344]\n",
      "[61, 226, 367, 23, 218, 384, 133, 14, 47, 150, 148, 302, 172, 33, 245, 1274, 922, 424, 2027, 2125, 1746, 1182, 1624, 995, 1290, 1248, 3750, 1231, 2379, 2790, 2433, 516, 2921, 662, 746, 4014, 4322, 4861, 4759, 5798, 5172, 693, 5036, 1642, 1617, 1745, 190, 1166, 2007, 3418, 5444, 1656, 6015, 3316, 3513, 4203, 3147, 374, 5412, 1013, 3207, 4359, 2686, 4406, 4201, 3151, 2088, 5499, 221, 3624, 1218, 4761, 3686, 4701, 628, 4771, 4409, 3885, 4500, 254, 3068, 1630, 1279, 443, 869, 1569, 5642, 792, 613, 3898, 2118, 2914, 398, 1546, 2332, 4654, 630, 652, 2381, 2276, 57, 1145, 2587, 1447, 4357, 485, 1557, 321, 676]\n",
      "[89, 118, 222, 189, 328, 150, 262, 21, 271, 236, 301, 318, 295, 148, 351, 231, 1913, 615, 30, 1079, 584, 376, 550, 1881, 1407, 1502, 326, 1882, 1565, 1652, 387, 2423, 2592, 2767, 3989, 2415, 4521, 4013, 5739, 1390, 3714, 3969, 2416, 2169, 2063, 1637, 5888, 2529, 706, 1542, 1680, 807, 5286, 4203, 2821, 354, 1896, 2668, 1432, 5941, 5960, 1059, 1763, 1926, 1141, 5811, 5228, 517, 4135, 5947, 16, 5973, 2020, 3510, 1189, 4380, 5385, 5744, 1191, 3960, 5121, 5576, 1444, 5625, 3670, 5033, 921, 3121, 2243, 2301, 4733, 5829, 5713, 6024, 4287, 2460, 1146, 826, 3034, 2171, 4211, 3858, 2696, 4133, 1120, 2752, 3555, 1975, 85, 2844, 670]\n",
      "[197, 20, 371, 203, 223, 379, 94, 150, 44, 57, 339, 239, 294, 165, 331, 1269, 1644, 3112, 299, 3860, 51, 2761, 2449, 2296, 2053, 1192, 901, 3106, 1196, 1218, 1220, 4229, 3275, 2627, 5894, 2760, 3537, 1280, 4259, 4152, 1689, 4930, 2401, 3053, 4287, 1622, 2365, 3979, 3437, 4023, 5053, 4413, 4479, 4605, 1432, 160, 5284, 4750, 1610, 40, 1626, 1688, 2868, 4236, 2184, 5120, 720, 1461, 3370, 2118, 2794, 2112, 5101, 1382, 3590, 2803, 3430, 2645, 1423, 4591, 963, 286, 904, 2904, 3613, 3022, 897, 3594, 4635, 1677, 409, 4758, 1782, 1573, 2218, 1862, 2403, 4880, 3510, 573, 2309, 4958, 2774, 3395, 1073, 4980, 5149, 5164, 570, 4392, 86]\n",
      "[116, 201, 301, 81, 408, 183, 272, 141, 206, 411, 241, 189, 35, 407, 2735, 1616, 2682, 1579, 3616, 708, 1675, 176, 2570, 3705, 2159, 2970, 1206, 1281, 779, 903, 4690, 3889, 3494, 1990, 1329, 5824, 1117, 3510, 363, 2009, 3492, 4430, 2693, 3555, 4797, 4208, 596, 5876, 5981, 3819, 5828, 3872, 253, 5207, 2865, 3716, 4387, 8, 2992, 1292, 1195, 5401, 5891, 2829, 5990, 791, 4785, 211, 353, 682, 4191, 5751, 1556, 1727, 5798, 3504, 2858, 3047, 4697, 785, 1493, 923, 6018, 1691, 597, 2398, 2648, 5833, 5754, 4861, 632, 1456, 3009, 6008, 1980, 257, 613, 5098, 4812, 5865, 1630, 3682, 5708, 4210, 3195, 356, 2017, 2370]\n",
      "[47, 277, 174, 38, 354, 254, 307, 24, 347, 318, 28, 235, 325, 149, 61, 203, 3628, 1984, 3790, 3175, 3262, 836, 2004, 779, 3447, 1081, 376, 588, 1220, 2889, 78, 1011, 1933, 1715, 3786, 1416, 463, 3989, 689, 5251, 60, 1793, 1395, 5964, 63, 2056, 3266, 56, 1398, 2686, 5662, 426, 1864, 2406, 4685, 3067, 1993, 805, 5441, 5525, 1046, 4701, 813, 956, 644, 139, 2478, 675, 2579, 5084, 3272, 5348, 4148, 2602, 1809, 2766, 82, 5025, 3092, 1134, 3844, 3888, 1882, 4695, 1339, 587, 2053, 4110, 2064, 243, 4964, 346, 1802, 2323, 4553, 5618, 4823, 2948, 5788, 4055, 3733, 229, 2456, 5319, 857, 3014, 3108, 4886, 1650, 2607, 3901, 3303]\n",
      "[10, 122, 35, 306, 241, 311, 370, 127, 229, 320, 332, 325, 87, 200, 283, 3181, 3447, 1874, 2290, 1205, 72, 295, 993, 2252, 3577, 2656, 1945, 1233, 1229, 513, 238, 5908, 330, 309, 1237, 988, 2599, 3080, 282, 4298, 4408, 2016, 5992, 5651, 1566, 5524, 4795, 5432, 599, 5082, 3951, 5485, 3196, 2970, 4158, 2317, 1475, 4577, 2798, 5625, 4705, 1856, 3652, 302, 1236, 1425, 312, 3280, 2490, 4088, 2452, 4283, 307, 1102, 5859, 2966, 613, 3713, 3974, 1055, 3147, 3910, 3165, 4511, 4250, 1781, 5097, 1697, 922, 2367, 186, 2704, 3311, 2680, 212, 246, 3970, 3544, 4762, 4554, 40, 0, 560, 2720, 3856, 2099, 2343, 30, 1033]\n"
     ]
    },
    {
     "name": "stdout",
     "output_type": "stream",
     "text": [
      "[135, 357, 388, 101, 241, 354, 116, 122, 23, 165, 203, 264, 328, 52, 267, 201, 3259, 913, 439, 2211, 3242, 159, 1286, 1089, 2114, 152, 1206, 1239, 2099, 3099, 3535, 5880, 4606, 65, 3933, 5085, 550, 5294, 2380, 4867, 3878, 4033, 4238, 2464, 399, 1475, 5291, 13, 3035, 1076, 5007, 2137, 4241, 5703, 2343, 1018, 2536, 3654, 112, 3079, 4998, 2059, 4434, 1279, 1164, 1032, 5632, 5508, 2052, 1338, 5578, 5126, 3950, 5659, 3032, 3767, 1710, 5559, 3012, 4585, 1447, 1501, 565, 3912, 1435, 2683, 4217, 1, 479, 4830, 4102, 1693, 5207, 4260, 155, 3473, 549, 5948, 3985, 1054, 2864, 163, 610, 2852, 5676, 4045, 5672, 3166, 5314, 4791]\n",
      "[352, 201, 271, 318, 328, 61, 262, 209, 111, 338, 404, 16, 88, 384, 244, 191, 607, 1290, 33, 533, 1257, 3705, 1583, 1800, 587, 2619, 377, 588, 1217, 3264, 2370, 224, 3278, 2199, 5342, 381, 89, 1159, 4339, 2440, 1990, 4982, 4979, 4503, 5591, 4216, 2409, 605, 2482, 409, 5553, 1331, 223, 4897, 5877, 2298, 1199, 3673, 5416, 727, 5256, 3643, 1023, 3808, 5489, 5208, 2753, 4365, 3853, 3864, 255, 2097, 5170, 520, 1284, 885, 3384, 3048, 6028, 3466, 1311, 2538, 4795, 2269, 172, 5417, 3272, 3631, 5161, 4330, 2203, 64, 5033, 1861, 1722, 2618, 501, 1696, 801, 4835, 231, 3348, 2007, 4394, 1125, 5367, 5584, 1001, 4195, 5552, 1942]\n",
      "[4, 201, 22, 174, 209, 294, 52, 328, 116, 94, 292, 271, 313, 301, 186, 147, 1965, 1588, 2552, 1913, 1407, 2701, 2661, 673, 1778, 1088, 834, 3173, 897, 5, 1534, 2682, 3855, 3566, 4256, 1086, 5935, 515, 5604, 3262, 5095, 4142, 4476, 1749, 4929, 3143, 3125, 866, 3912, 1433, 5224, 3082, 1274, 5544, 650, 1040, 1221, 2928, 2111, 4564, 5005, 449, 3420, 1373, 5775, 4811, 886, 4409, 426, 1002, 1812, 3429, 29, 2995, 2422, 3956, 353, 2431, 5088, 4617, 5986, 3526, 3983, 1595, 2719, 1598, 5294, 2252, 861, 1957, 3934, 3192, 4003, 5907, 4900, 4876, 171, 2052, 4740, 4064, 5590, 3256, 2764, 2666, 5194, 2091, 944, 122, 2873, 534]\n",
      "[194, 201, 18, 209, 337, 282, 79, 385, 283, 256, 347, 315, 407, 162, 271, 167, 430, 1499, 1583, 2489, 2616, 2723, 479, 2446, 3637, 150, 2700, 1374, 1728, 1751, 3443, 3100, 5330, 5004, 6002, 2650, 3653, 3969, 5973, 1082, 1076, 17, 5367, 2252, 1192, 2972, 3907, 2510, 4224, 4951, 125, 4473, 673, 3841, 266, 4457, 5690, 5586, 3098, 4529, 1023, 210, 565, 2278, 3011, 5723, 4, 5781, 2023, 4017, 4564, 1402, 1485, 2660, 5049, 3726, 2125, 2152, 3675, 904, 5041, 2574, 6, 2816, 3694, 543, 1708, 3076, 4051, 4163, 3825, 2531, 955, 4760, 1269, 3355, 1095, 962, 807, 1352, 2087, 4444, 4519, 4140, 2051, 3169, 211, 5681, 5411, 3923, 1906]\n",
      "[72, 116, 236, 348, 272, 117, 191, 306, 324, 198, 376, 263, 392, 201, 371, 122, 3766, 1300, 235, 547, 355, 1199, 1916, 1225, 1512, 1720, 295, 2989, 1320, 259, 2366, 237, 2733, 3440, 1409, 5169, 1040, 1920, 3561, 2973, 5443, 4060, 2259, 1128, 1640, 737, 5950, 13, 583, 4836, 2320, 1272, 4903, 3967, 2537, 4945, 4638, 3147, 5638, 3354, 3269, 3820, 3927, 2269, 3069, 3450, 926, 622, 5743, 2792, 4316, 5171, 1971, 2571, 440, 2345, 4062, 3476, 2039, 146, 5732, 1343, 570, 4322, 3064, 5530, 3319, 5540, 1441, 5927, 4702, 965, 127, 540, 343, 142, 2205, 2355, 1534, 2985, 2436, 4141, 4502, 2905, 754, 4572, 3362, 105, 5009, 5004, 2046]\n",
      "[198, 400, 180, 94, 330, 148, 397, 165, 313, 202, 263, 326, 410, 17, 182, 257, 588, 3174, 3081, 1303, 33, 363, 1320, 1369, 2717, 2570, 2743, 3103, 2290, 149, 349, 2614, 195, 1787, 2170, 1541, 684, 2596, 2298, 3236, 5634, 4039, 3545, 2149, 935, 306, 596, 5882, 2582, 4110, 3158, 5598, 1316, 3785, 4480, 4180, 5189, 4089, 3129, 5791, 5826, 4723, 1282, 3745, 624, 947, 4643, 4063, 1939, 5851, 1245, 6017, 5994, 590, 2086, 1200, 5903, 3572, 3540, 184, 754, 2625, 4172, 95, 664, 1572, 5540, 3144, 5436, 1644, 884, 1638, 4859, 1877, 5067, 3942, 1048, 2741, 2353, 4894, 5025, 1367, 2517, 1003, 3532, 114, 5945, 5485, 483, 711]\n",
      "[198, 286, 74, 354, 72, 44, 75, 368, 402, 211, 283, 25, 165, 300, 22, 92, 647, 3417, 2053, 2567, 207, 2737, 2761, 3947, 1027, 1768, 3750, 3845, 2345, 3622, 3633, 1551, 179, 855, 1995, 2827, 2911, 1087, 5266, 2475, 2837, 1736, 3133, 343, 4234, 2536, 1246, 1549, 1035, 130, 1575, 4954, 3066, 5092, 3209, 172, 5790, 2133, 958, 1390, 1414, 1629, 4798, 5000, 2062, 4320, 5881, 273, 5609, 1360, 2252, 3860, 4345, 4778, 4472, 2681, 4368, 4363, 4429, 4776, 1821, 1591, 5474, 5882, 4984, 4725, 4339, 568, 1651, 2592, 2140, 2384, 2279, 942, 1083, 2332, 896, 3996, 4376, 5336, 398, 5208, 4380, 3537, 5787, 3286, 1070, 5970, 2192, 4151, 4043, 2080]\n",
      "[25, 349, 33, 61, 32, 318, 147, 271, 351, 20, 116, 244, 124, 267, 182, 2941, 3254, 3263, 1476, 2715, 163, 2040, 3357, 2541, 28, 3703, 552, 3234, 1035, 1362, 3067, 606, 1152, 26, 3725, 3464, 2581, 2204, 481, 1105, 478, 1642, 1102, 5956, 1939, 3214, 1161, 4295, 760, 3215, 5141, 5837, 178, 1375, 2826, 2567, 2500, 1151, 1317, 1413, 2421, 3122, 3508, 2749, 1439, 1705, 585, 4125, 2835, 2601, 3043, 5072, 3061, 220, 1697, 4199, 515, 1305, 6036, 3763, 4072, 290, 2159, 5665, 5022, 3837, 4590, 2514, 1297, 1814, 4554, 4288, 2413, 4989, 3275, 2196, 1910, 856, 3394, 2642, 4341, 4596, 1011, 941, 5240, 3699, 1179, 939, 2210, 3011, 3718]\n",
      "[201, 270, 10, 43, 120, 351, 57, 71, 161, 300, 215, 160, 16, 126, 77, 148, 1834, 2133, 1572, 2096, 1319, 724, 2570, 3951, 2860, 2839, 367, 1279, 3577, 714, 99, 2982, 4872, 170, 5619, 2010, 5434, 1627, 3751, 1520, 74, 2547, 5290, 4880, 4839, 1565, 5870, 2002, 1002, 3221, 2353, 1036, 1771, 3980, 1958, 4720, 5647, 2444, 1586, 5485, 4135, 1213, 1502, 2814, 4672, 942, 54, 1976, 5451, 1692, 1581, 681, 1709, 4194, 1068, 2266, 605, 4578, 5490, 3990, 239, 1985, 2914, 5741, 1040, 4507, 5058, 2808, 1091, 1821, 2319, 1241, 1406, 3622, 2938, 4918, 2420, 3349, 963, 891, 2824, 327, 1933, 4660, 3836, 3342, 5951, 2219, 136, 38]\n",
      "[307, 178, 400, 6, 22, 61, 351, 172, 267, 0, 270, 386, 251, 322, 346, 135, 3544, 2803, 646, 3752, 1266, 2526, 140, 3697, 2859, 1196, 946, 259, 1249, 1239, 897, 2107, 5354, 5617, 5772, 3097, 2045, 3458, 203, 4341, 640, 5368, 4320, 2561, 1924, 5314, 4678, 890, 6014, 4354, 965, 5878, 4420, 4276, 567, 2391, 2314, 1979, 1032, 3190, 2531, 4423, 5843, 1584, 3692, 595, 5464, 236, 438, 4528, 1799, 266, 5701, 1355, 3568, 3386, 2320, 3520, 5693, 5492, 707, 1846, 1633, 3805, 4630, 197, 5977, 3286, 4095, 2305, 2714, 255, 2369, 5872, 2039, 4729, 2003, 3016, 1123, 5945, 1963, 5624, 5873, 2780, 535, 4487, 275, 4869, 476, 2747, 5628, 2694]\n",
      "[331, 148, 193, 371, 63, 47, 351, 325, 204, 25, 224, 84, 168, 51, 1541, 392, 3867, 1583, 3792, 1703, 1710, 456, 1196, 2052, 186, 2420, 922, 1428, 2125, 5469, 4428, 892, 2564, 3290, 991, 4532, 4697, 4674, 4083, 4934, 5282, 3689, 4020, 1867, 1936, 5273, 1298, 5773, 563, 6016, 3085, 4589, 559, 5518, 1619, 967, 3771, 5189, 3368, 4850, 5981, 452, 1171, 3828, 628, 1316, 2031, 185, 2867, 3442, 3930, 477, 3821, 3233, 630, 5390, 4365, 5557, 274, 1363, 3619, 4919, 4438, 1904, 3, 5214, 3524, 2524, 568, 4069, 3561, 717, 2037, 5945, 1012, 3198, 5276, 3231, 3991, 3349, 3504, 2472, 3019, 27, 3868, 3849, 3715, 1702]\n",
      "[392, 388, 345, 100, 10, 189, 91, 411, 183, 229, 304, 81, 308, 341, 384, 291, 110, 317, 437, 2948, 514, 911, 316, 1873, 2082, 1993, 2692, 3754, 292, 3254, 3915, 3421, 2697, 1458, 4683, 5343, 2170, 3724, 4413, 197, 5850, 2395, 300, 2658, 5671, 3081, 5002, 5351, 483, 3150, 5782, 2515, 924, 5407, 4583, 3910, 2874, 277, 1045, 5081, 3573, 5199, 662, 4904, 3486, 543, 4513, 5013, 496, 2168, 3171, 3451, 3386, 1495, 1661, 1550, 2003, 5492, 4739, 2859, 5007, 1195, 2017, 4178, 731, 5330, 2997, 5645, 5854, 66, 1817, 1464, 5364, 5575, 5690, 4343, 5228, 5042, 3857, 1012, 734, 3622, 50, 4349, 4839, 1039, 3972, 4724, 1723]\n",
      "[128, 114, 294, 391, 86, 174, 57, 300, 150, 201, 301, 251, 330, 55, 222, 3403, 3509, 1192, 3257, 2193, 315, 3751, 1089, 1220, 1127, 409, 3623, 2145, 513, 3607, 6038, 1472, 78, 4323, 2634, 1126, 3699, 3836, 3905, 4618, 4346, 3503, 5230, 1518, 2008, 1943, 1992, 5814, 5193, 3882, 1633, 320, 415, 4678, 1482, 2164, 4441, 4503, 99, 1142, 3322, 482, 4941, 5226, 3676, 5771, 2380, 382, 4775, 4258, 3230, 4432, 5006, 429, 4967, 5794, 321, 3966, 6005, 3267, 4966, 4404, 2402, 5553, 2144, 1946, 2017, 3745, 1724, 5107, 2598, 4275, 4311, 1477, 2103, 5787, 922, 5217, 2873, 5629, 2919, 3940, 3359, 4763, 5938, 738, 917, 3695]\n",
      "[273, 39, 401, 61, 410, 354, 94, 105, 395, 342, 274, 106, 302, 300, 257, 3460, 2401, 1805, 2114, 1257, 2948, 46, 1276, 1184, 594, 1078, 1218, 2426, 1378, 523, 1209, 4036, 5823, 5350, 4224, 1264, 3686, 5091, 940, 1799, 3646, 17, 2030, 114, 1517, 3260, 2205, 3386, 5968, 2302, 4932, 5109, 5908, 2258, 2777, 5901, 366, 3977, 4986, 2536, 1847, 6023, 2459, 2807, 1047, 1831, 4327, 4358, 5475, 5687, 5977, 5990, 1088, 5085, 602, 4171, 2308, 2227, 5743, 31, 908, 806, 3984, 5910, 1625, 829, 1242, 346, 2411, 3327, 1470, 2043, 3901, 3309, 3655, 3622, 5036, 857, 5880, 3256, 1820, 1730, 59, 3362, 1198, 4263, 4703, 2280, 1081, 3677, 2801]\n",
      "[248, 161, 391, 17, 145, 156, 410, 397, 61, 376, 320, 348, 162, 47, 2368, 152, 2796, 2383, 1031, 2144, 163, 2438, 2612, 10, 2192, 1830, 1346, 1720, 1246, 1203, 4074, 5176, 3415, 2660, 425, 5506, 5692, 3201, 939, 4219, 6032, 2488, 2843, 3248, 2364, 647, 2311, 5031, 842, 1973, 6020, 3691, 4485, 2816, 5996, 4006, 2409, 3352, 4098, 114, 372, 466, 2314, 2571, 692, 2081, 132, 1670, 2170, 5145, 341, 1920, 4981, 4844, 5072, 3342, 5420, 1601, 1454, 5205, 4072, 2225, 4530, 1337, 54, 4772, 4488, 4838, 2120, 3219, 1374, 1379, 2003, 2074, 4566, 5179, 572, 2708, 4637, 731, 2026, 2505, 2407, 2771, 1618, 2283, 5127, 3348, 1697]\n",
      "[36, 328, 367, 382, 145, 194, 392, 172, 244, 125, 22, 337, 71, 155, 33, 376, 3792, 1395, 2996, 964, 2354, 1040, 3682, 2450, 929, 3167, 592, 1370, 2320, 1596, 2159, 3820, 678, 1478, 4307, 5799, 4496, 3252, 3563, 4421, 4284, 35, 588, 5476, 518, 4546, 5434, 3080, 1284, 3576, 1721, 2544, 4159, 794, 5739, 2110, 700, 1502, 1195, 946, 4112, 2274, 6027, 2717, 245, 2649, 1959, 3293, 5147, 4851, 2082, 5218, 688, 2414, 3198, 1342, 2047, 4806, 2002, 4748, 1568, 4896, 144, 3113, 5030, 1164, 5847, 5052, 149, 2630, 4619, 4860, 400, 3233, 3202, 1290, 178, 1801, 4705, 5481, 4342, 348, 4536, 2744, 1277, 4310, 2246, 2530, 5108, 5846, 3846]\n",
      "[155, 130, 402, 81, 150, 387, 197, 292, 205, 348, 307, 367, 191, 354, 48, 129, 3268, 2676, 2162, 149, 2915, 1258, 3840, 1264, 2656, 3784, 3107, 2489, 70, 736, 1251, 376, 2284, 2195, 5823, 77, 1076, 4054, 3702, 4348, 4345, 2340, 1177, 4336, 2834, 21, 2516, 2848, 2274, 5582, 1903, 4987, 470, 741, 2739, 3883, 4811, 5046, 4606, 5643, 2562, 1334, 4657, 918, 5581, 831, 4382, 2482, 4918, 5927, 5851, 5061, 2952, 152, 2487, 2420, 5220, 2501, 954, 1096, 4292, 683, 3419, 1138, 5551, 928, 5311, 3615, 295, 4896, 4886, 3522, 450, 1082, 5365, 3841, 1399, 4264, 5995, 959, 3211, 5097, 5567, 2229, 3099, 3942, 5215, 2976, 2920, 1785, 3688, 449]\n"
     ]
    },
    {
     "name": "stdout",
     "output_type": "stream",
     "text": [
      "[244, 201, 286, 194, 61, 207, 259, 301, 389, 258, 219, 214, 7, 342, 1590, 2121, 2395, 2656, 2123, 2915, 180, 2457, 1281, 911, 2624, 2989, 2916, 1209, 3385, 338, 3664, 3018, 2490, 5958, 1397, 2389, 856, 1761, 1945, 1014, 1409, 3431, 2142, 4570, 1025, 1193, 1678, 5901, 3952, 5106, 6012, 5152, 384, 3085, 5491, 186, 5072, 184, 5458, 139, 4067, 2460, 4864, 3461, 5178, 5433, 5682, 195, 3885, 131, 2928, 267, 4812, 2650, 4206, 3170, 1030, 406, 2508, 1698, 1922, 5520, 3860, 1148, 1182, 666, 2415, 3151, 1255, 463, 4919, 606, 2194, 2590, 973, 252, 2382, 5990, 4979, 5951, 3433, 5779, 899, 4313, 3199, 3667, 2408, 2480, 347, 4819]\n",
      "[224, 165, 125, 121, 320, 211, 52, 234, 407, 215, 330, 172, 120, 302, 410, 997, 2010, 2019, 2408, 69, 343, 696, 3107, 1370, 646, 3504, 1198, 3698, 1390, 1996, 3821, 1559, 2906, 1157, 2429, 3162, 3970, 3827, 3792, 4617, 3003, 5705, 5776, 3240, 3920, 3952, 4260, 3975, 5448, 933, 4482, 3965, 2869, 3261, 1028, 34, 5835, 2500, 1989, 1258, 784, 1802, 2831, 884, 3337, 184, 1125, 2713, 1263, 424, 2159, 4600, 2463, 3516, 5109, 5124, 2680, 572, 1317, 5763, 2462, 5180, 4224, 3643, 4650, 1634, 5186, 3598, 4401, 3192, 5408, 4916, 3901, 2561, 4544, 975, 735, 1396, 3507, 4081, 4728, 4181, 372, 896, 724, 3340, 4977, 5398, 3539]\n",
      "[414, 9, 18, 271, 286, 172, 194, 226, 228, 176, 259, 272, 148, 247, 213, 1356, 919, 2859, 2642, 2715, 3653, 2608, 1126, 24, 1197, 3765, 1857, 3005, 1839, 3701, 2605, 5997, 1818, 1570, 1762, 3187, 429, 428, 5068, 2644, 889, 4997, 5674, 1673, 3744, 1004, 4058, 5551, 4865, 5948, 5247, 4420, 4592, 4436, 4358, 369, 6007, 2193, 4659, 1451, 5552, 3706, 6005, 1059, 613, 5650, 5212, 5847, 905, 5887, 756, 4676, 309, 4082, 1219, 5432, 3681, 1279, 1307, 2143, 4053, 1821, 1233, 2052, 468, 942, 3437, 3087, 825, 806, 725, 5514, 5608, 697, 4083, 4883, 2787, 1462, 1825, 1946, 4528, 2344, 2876, 2497, 1792, 5316, 3771, 5696, 1332, 5341]\n",
      "[172, 328, 244, 191, 201, 96, 301, 147, 411, 72, 231, 318, 21, 150, 47, 2491, 1376, 2008, 1034, 1953, 3420, 3043, 3256, 104, 355, 1390, 73, 1916, 1499, 367, 1604, 4494, 5828, 1293, 1651, 3129, 4243, 794, 2796, 5589, 1706, 3252, 3604, 528, 46, 4981, 4109, 6024, 338, 3468, 4734, 4692, 2999, 4816, 4822, 5991, 5998, 4771, 3157, 4602, 5623, 1544, 5373, 1674, 5008, 1612, 1574, 4772, 941, 1156, 3280, 1570, 588, 4451, 4028, 4483, 1427, 4814, 3384, 1384, 1711, 2633, 5609, 5143, 5223, 2743, 620, 6030, 5690, 6004, 5529, 3196, 3616, 1020, 5381, 5838, 3981, 3325, 1869, 12, 5707, 1724, 1198, 2694, 4824, 5735, 4713, 5925, 422, 3444]\n",
      "[150, 244, 130, 90, 43, 312, 215, 172, 412, 397, 414, 156, 201, 224, 413, 52, 181, 587, 2615, 3103, 2708, 69, 2500, 2926, 2335, 3407, 2738, 1216, 3112, 3252, 1199, 1465, 5515, 2195, 5890, 3896, 5676, 461, 1519, 245, 3836, 5785, 2646, 147, 4481, 46, 1537, 1160, 4863, 1048, 1155, 2808, 21, 2990, 1316, 4977, 1264, 4535, 2353, 3703, 743, 5372, 4544, 16, 988, 4769, 4452, 3744, 3101, 3110, 2116, 1933, 5680, 2499, 329, 2545, 2911, 5382, 1884, 4873, 3841, 1313, 2551, 5952, 1104, 3432, 410, 3714, 4792, 499, 5081, 3644, 5474, 5668, 4082, 576, 2173, 5401, 3735, 286, 4787, 1171, 5454, 2303, 3163, 2736, 226, 1077, 3403, 370, 2945]\n",
      "[160, 172, 339, 365, 116, 18, 224, 410, 194, 186, 21, 52, 162, 16, 78, 168, 35, 3266, 2914, 672, 3488, 2295, 1273, 3455, 812, 2962, 2053, 3750, 329, 3031, 799, 1182, 627, 1526, 1798, 5738, 4358, 1044, 5647, 4515, 1504, 3449, 4291, 948, 1461, 4905, 2499, 5925, 1460, 1563, 5508, 318, 5147, 4239, 4705, 3135, 4236, 4601, 4881, 5757, 992, 4169, 2566, 2946, 2070, 5476, 5351, 3547, 569, 2137, 2376, 2831, 4854, 1977, 1195, 2029, 606, 936, 5755, 4997, 5225, 2654, 2871, 5149, 857, 847, 3320, 5951, 1596, 4272, 682, 865, 47, 3665, 3602, 4484, 5167, 3224, 5349, 748, 4009, 2531, 3706, 4564, 5745, 2234, 1990, 5044, 4827, 2787, 4476, 4421]\n",
      "[89, 133, 201, 318, 147, 192, 175, 17, 397, 129, 215, 57, 320, 268, 198, 1626, 3782, 2017, 2175, 3269, 33, 2470, 1526, 2501, 2943, 3869, 1590, 2541, 2761, 1587, 61, 346, 1463, 6035, 2137, 4884, 4912, 4932, 550, 3951, 5535, 906, 3429, 2632, 4996, 2414, 5480, 5842, 4043, 1549, 227, 5995, 3405, 5457, 727, 4843, 4498, 3970, 1170, 1630, 4038, 3805, 1250, 4004, 2996, 1785, 2549, 1497, 5309, 4197, 3524, 5056, 2531, 965, 2719, 1989, 1839, 5756, 2590, 5571, 3790, 4907, 178, 2397, 5283, 1401, 4362, 5159, 1589, 5255, 3892, 2294, 2067, 3513, 3652, 4379, 2439, 4452, 909, 424, 1089, 5290, 3417, 1807, 5948, 781, 411, 4186, 1388, 5078, 3883]\n",
      "[156, 413, 299, 59, 322, 365, 325, 122, 350, 260, 52, 267, 61, 147, 411, 301, 351, 903, 1275, 985, 2288, 3653, 1184, 1319, 2685, 3051, 481, 1561, 2857, 3003, 3703, 292, 2726, 1504, 3078, 373, 1587, 1808, 3951, 5723, 5424, 3974, 3504, 4146, 4471, 5962, 21, 4008, 1057, 3140, 5236, 2877, 5148, 5979, 2453, 3578, 5297, 1923, 107, 1721, 172, 1122, 551, 1284, 1101, 194, 4310, 3411, 4774, 3696, 5309, 3821, 2313, 3827, 201, 514, 26, 5118, 1982, 1814, 3601, 3469, 2490, 2827, 2484, 5870, 3249, 1035, 1099, 3024, 4318, 1481, 2006, 3308, 3935, 5969, 962, 527, 2184, 164, 3077, 2284, 2165, 4344, 4526, 871, 3568, 1228, 5271, 4868]\n",
      "[43, 292, 277, 217, 375, 224, 201, 34, 179, 33, 401, 392, 346, 330, 271, 2796, 3878, 1861, 2855, 3754, 2760, 2650, 787, 3067, 508, 2571, 3784, 3195, 1392, 2292, 2911, 2934, 2024, 871, 557, 2659, 5745, 3035, 3335, 3437, 3922, 36, 1119, 4824, 442, 3200, 382, 1622, 116, 4528, 746, 4672, 3703, 894, 2408, 1037, 3631, 119, 5596, 2025, 2308, 1698, 643, 996, 4374, 6026, 5394, 4942, 5158, 1582, 2902, 4523, 5198, 4266, 3128, 4349, 1975, 1080, 2163, 783, 6012, 811, 4301, 5126, 805, 5416, 872, 5672, 2328, 1488, 2187, 5490, 962, 4326, 3190, 1221, 2262, 3368, 3088, 2007, 4629, 4557, 5166, 2756, 5185, 3529, 4556, 3903, 4079]\n",
      "[337, 211, 91, 300, 223, 117, 148, 391, 286, 163, 318, 44, 61, 201, 35, 72, 3551, 3447, 3452, 1728, 3535, 3826, 1512, 1484, 2495, 1644, 851, 3106, 1267, 2293, 1374, 2901, 2687, 346, 2186, 575, 1422, 5694, 1153, 207, 4467, 2410, 5289, 4190, 1942, 135, 3250, 1689, 5463, 1430, 1551, 3557, 5863, 3043, 5402, 5556, 1987, 4354, 1054, 2418, 2613, 1714, 2659, 5120, 5822, 1877, 953, 1156, 5401, 5593, 5441, 289, 2806, 1948, 5785, 2794, 5431, 1779, 305, 3360, 1681, 5751, 3344, 3986, 2904, 1053, 1599, 5187, 903, 1436, 2004, 273, 4771, 982, 1158, 1740, 5082, 6028, 2459, 1455, 5547, 2963, 404, 4366, 5897, 3191, 515, 5155, 4297, 5999, 3162]\n",
      "[407, 219, 215, 338, 307, 284, 30, 408, 385, 145, 346, 224, 299, 222, 61, 316, 80, 3252, 920, 317, 431, 3682, 1999, 3173, 1710, 2917, 3362, 2699, 1607, 2166, 2715, 1192, 1922, 657, 5670, 1211, 4868, 87, 4262, 2601, 2950, 5109, 5188, 1523, 4082, 434, 3008, 1949, 4228, 692, 4248, 2647, 4493, 137, 3819, 616, 1706, 577, 4826, 1786, 3938, 1616, 451, 403, 3292, 4042, 4601, 1648, 220, 2351, 2761, 2779, 5925, 4037, 109, 4946, 3164, 4256, 4224, 4362, 3323, 584, 102, 1735, 1836, 3376, 2185, 2784, 535, 429, 4925, 5319, 804, 1494, 1350, 280, 2781, 2807, 486, 3522, 643, 1292, 2245, 195, 609, 5307, 648, 5311, 634, 4096]\n",
      "[191, 92, 124, 343, 298, 267, 263, 397, 410, 389, 173, 149, 304, 385, 147, 184, 779, 479, 2791, 1585, 3468, 2687, 157, 3420, 3353, 2716, 1260, 161, 2547, 1041, 933, 1609, 3761, 5893, 5119, 2656, 4264, 1690, 2589, 5856, 201, 3197, 5421, 192, 4402, 3812, 5281, 4866, 1338, 3231, 5201, 2252, 3999, 3285, 475, 262, 215, 5060, 2222, 5852, 4204, 4621, 3869, 4043, 2092, 5963, 992, 2366, 3631, 1754, 4203, 6036, 4895, 1055, 2936, 1701, 661, 922, 5566, 4347, 118, 2630, 3279, 1666, 1350, 4071, 4643, 1694, 2117, 638, 5782, 3967, 5874, 2506, 4740, 4981, 1946, 501, 2546, 5820, 4139, 3143, 647, 5480, 4309, 3864, 2362, 91, 583, 1196, 1322]\n",
      "[219, 231, 322, 162, 172, 215, 108, 25, 391, 343, 318, 370, 16, 412, 165, 82, 799, 1700, 2723, 2762, 1287, 233, 1373, 314, 2165, 1241, 851, 1220, 3266, 2351, 2639, 2192, 2735, 1284, 1024, 1782, 2225, 4496, 300, 4048, 2420, 2525, 936, 336, 3033, 238, 590, 2553, 1475, 5540, 2081, 1040, 595, 4112, 2889, 191, 1119, 4493, 4224, 103, 1212, 3227, 3238, 1416, 2980, 3339, 4538, 5984, 1178, 684, 3951, 4706, 3743, 2614, 6018, 4152, 1678, 4494, 5751, 4428, 1292, 2259, 5433, 3206, 4363, 2684, 4916, 3996, 2355, 265, 748, 3856, 6000, 5054, 4789, 2740, 1206, 3992, 1618, 5578, 5842, 1092, 1681, 2881, 4541, 2052, 2126, 87, 1791, 2763, 2415]\n",
      "[354, 125, 325, 209, 52, 147, 156, 272, 41, 351, 21, 61, 271, 341, 390, 2140, 2313, 3670, 1027, 3451, 1887, 908, 215, 197, 2108, 2984, 2027, 2627, 2705, 2408, 3810, 2492, 674, 3639, 1866, 4649, 5277, 379, 3062, 35, 1917, 701, 4848, 2247, 1443, 5382, 5015, 2547, 1805, 1266, 4209, 4033, 2688, 3638, 4744, 5318, 3467, 3140, 5353, 3514, 1491, 5857, 2674, 1663, 203, 3255, 5437, 1514, 5104, 2580, 5506, 119, 4286, 4278, 5862, 3830, 1158, 280, 4583, 1317, 2474, 3056, 4493, 5881, 5169, 118, 1195, 1205, 5365, 4518, 606, 3354, 2840, 3262, 1265, 5418, 1215, 3596, 3183, 4235, 5620, 3145, 3291, 331, 3289, 2092, 5575, 5584, 2985]\n",
      "[34, 130, 228, 167, 150, 71, 91, 202, 52, 244, 283, 117, 74, 90, 128, 2395, 2598, 2427, 1393, 3752, 3417, 1572, 2386, 509, 3258, 332, 2192, 2708, 2917, 2734, 1266, 4960, 2711, 2157, 1680, 148, 3137, 602, 1381, 286, 2280, 3267, 625, 2871, 4666, 5112, 5838, 5204, 831, 189, 5117, 2289, 5158, 2218, 2716, 1593, 4307, 337, 5249, 2645, 5644, 4140, 4082, 13, 3115, 3466, 4298, 2051, 2355, 1918, 2005, 5917, 2373, 986, 3160, 2312, 5602, 619, 2211, 260, 2352, 1957, 3380, 1075, 4811, 487, 345, 2059, 218, 3598, 2259, 4523, 5350, 4950, 4367, 3556, 1595, 6009, 4614, 5809, 1858, 601, 2058, 2955, 5409, 1961, 251, 5360]\n",
      "[9, 16, 238, 145, 169, 191, 342, 307, 64, 209, 28, 192, 207, 91, 359, 1258, 1068, 3480, 2862, 1221, 221, 3032, 2323, 1269, 144, 2915, 427, 3727, 109, 2949, 1196, 3717, 2128, 5332, 3222, 5258, 5774, 1591, 1680, 4145, 5645, 5713, 3547, 1398, 2269, 3969, 1045, 482, 3088, 3179, 5430, 3367, 5448, 5298, 5429, 3706, 4087, 4782, 1464, 2343, 4849, 3965, 5040, 1008, 4064, 2721, 2335, 5188, 3732, 1106, 4906, 3699, 3816, 5797, 812, 661, 4639, 816, 2613, 918, 5435, 5949, 3979, 6021, 857, 390, 4918, 3224, 551, 2304, 1158, 1218, 1243, 5563, 5608, 3038, 5096, 2382, 1624, 190, 1225, 924, 4840, 5801, 4276, 3297, 4603, 3457, 2142, 1632, 5911]\n",
      "[122, 410, 223, 115, 25, 215, 369, 336, 308, 77, 101, 322, 365, 271, 315, 1957, 2986, 3593, 2880, 538, 2344, 2489, 1579, 2290, 204, 2723, 1355, 1, 1609, 1213, 736, 3502, 3136, 5329, 67, 962, 4971, 2582, 5703, 4391, 4394, 2543, 125, 4785, 4778, 5338, 2256, 1341, 1861, 5862, 1964, 3980, 2179, 821, 5496, 5167, 3434, 2645, 6018, 4569, 3267, 248, 5095, 3645, 229, 1710, 4848, 1117, 1879, 5240, 2919, 1919, 991, 3152, 993, 508, 3642, 2667, 4286, 158, 3114, 1802, 5430, 707, 893, 4209, 5402, 171, 735, 3652, 724, 5318, 5866, 3348, 3874, 5599, 3162, 5770, 5003, 2777, 3794, 1984, 2331, 4653, 4648, 2626, 1648, 1903, 2628]\n",
      "[346, 44, 133, 117, 345, 299, 165, 25, 342, 194, 229, 101, 295, 94, 231, 3461, 236, 1652, 1126, 3910, 3034, 586, 2244, 2312, 467, 2027, 2246, 2079, 1264, 3113, 4310, 1650, 4839, 215, 4992, 1251, 5324, 5578, 3999, 3516, 6014, 1718, 2399, 650, 1997, 2672, 3641, 5136, 1656, 1332, 2740, 4628, 1991, 1827, 4189, 5957, 3809, 1054, 3570, 701, 2206, 1226, 2455, 758, 4138, 1913, 2418, 4074, 2005, 3377, 3846, 3300, 1877, 1082, 5180, 1526, 2, 5328, 2479, 212, 581, 4799, 438, 4077, 4393, 147, 5832, 3967, 972, 3360, 1066, 2517, 3811, 1806, 4541, 4062, 2952, 167, 1351, 386, 2908, 2078, 628, 5632, 1872, 3069, 4097, 4884, 1185, 2167]\n"
     ]
    },
    {
     "name": "stdout",
     "output_type": "stream",
     "text": [
      "[197, 237, 307, 164, 339, 294, 354, 116, 351, 244, 216, 25, 150, 24, 325, 328, 3437, 1119, 3254, 3069, 1269, 784, 409, 2327, 2423, 592, 3577, 1264, 2265, 2627, 3526, 44, 4922, 4805, 3321, 2306, 3189, 3794, 3927, 2351, 5666, 1867, 298, 960, 4168, 93, 2080, 2501, 125, 977, 2674, 1272, 2951, 3894, 1745, 2696, 1064, 3655, 1868, 816, 4497, 5362, 889, 2650, 4194, 5812, 3603, 2821, 5423, 2170, 2445, 5735, 4206, 2390, 2481, 1458, 4950, 524, 3593, 5496, 4415, 1084, 4715, 993, 53, 5013, 2416, 1115, 3090, 176, 3111, 1058, 3164, 2027, 2021, 5179, 2669, 336, 1764, 2283, 2365, 4669, 2968, 5899, 4160, 1320, 2713, 3610, 595]\n",
      "[356, 204, 330, 411, 180, 34, 168, 197, 351, 82, 177, 322, 222, 328, 381, 2958, 1225, 2911, 673, 1407, 3648, 3915, 2990, 2766, 2682, 1274, 3070, 903, 760, 2, 2519, 6024, 5607, 5629, 3999, 5737, 3463, 5604, 4904, 2862, 4678, 1620, 2718, 1415, 4351, 4957, 5992, 3572, 3338, 584, 5096, 3973, 4779, 4153, 1452, 3322, 4307, 1260, 4767, 2386, 5157, 3202, 3242, 3388, 767, 2661, 3926, 3011, 955, 1592, 2283, 5366, 4857, 1691, 2289, 2117, 1208, 6018, 5161, 1104, 5563, 4358, 5800, 3294, 5902, 4810, 1823, 610, 2769, 2632, 1557, 3466, 4628, 3543, 1253, 331, 3030, 803, 3075, 376, 835, 2539, 587, 2950, 2485, 3051, 2111, 4890, 1227, 655]\n",
      "[16, 224, 366, 288, 405, 306, 270, 271, 145, 168, 211, 267, 57, 82, 233, 162, 1526, 1883, 1264, 3740, 918, 3628, 1747, 3808, 1961, 10, 2351, 1726, 470, 2137, 3253, 2337, 3475, 2168, 110, 3090, 5428, 297, 1879, 3086, 4807, 3824, 745, 4284, 1730, 4184, 1445, 3498, 5643, 1178, 5726, 1539, 371, 3671, 1829, 1678, 1113, 5136, 3492, 1931, 1902, 1095, 3539, 1104, 3381, 5845, 125, 3803, 1711, 5216, 2125, 3162, 2065, 4777, 2008, 2444, 1686, 5677, 3139, 4153, 3832, 3278, 133, 4347, 5638, 2082, 3069, 1302, 844, 5177, 4201, 1815, 5987, 2304, 2397, 579, 5877, 1170, 2040, 901, 1495, 3263, 100, 3976, 5680, 4838, 3055, 5666, 119, 3074]\n",
      "[222, 132, 124, 345, 182, 343, 120, 390, 330, 126, 39, 307, 239, 194, 180, 202, 379, 1607, 3299, 3097, 2790, 1373, 741, 647, 1269, 287, 1374, 1203, 46, 554, 2058, 5114, 25, 2111, 3237, 592, 4554, 495, 4278, 919, 3899, 4576, 4299, 3113, 5711, 4219, 1234, 136, 2584, 2355, 5543, 344, 4953, 1071, 1042, 2402, 625, 4254, 5043, 2370, 555, 1785, 1699, 4212, 3275, 666, 3963, 1259, 1524, 5019, 4749, 2005, 3633, 4183, 633, 2332, 1609, 2373, 4545, 5144, 2596, 1965, 933, 5393, 4729, 3978, 1916, 3012, 3736, 3363, 2044, 319, 3254, 161, 1075, 4782, 5999, 1671, 1131, 3355, 5885, 3381, 3294, 3413, 2857, 2804, 8, 2371, 2783]\n",
      "[7, 66, 414, 334, 241, 265, 137, 360, 259, 347, 307, 194, 101, 111, 51, 82, 150, 1083, 3929, 2722, 2328, 1956, 3299, 1192, 1239, 1219, 152, 1517, 2579, 3428, 287, 2518, 5886, 5152, 1972, 1224, 985, 5222, 1621, 4126, 1402, 2572, 3426, 5165, 1466, 2091, 5508, 4360, 3662, 1716, 1503, 2991, 5004, 2389, 5089, 1446, 5506, 670, 1080, 802, 4032, 3356, 183, 4842, 2034, 5967, 1458, 4433, 4137, 365, 4079, 3914, 3883, 3371, 2344, 87, 1917, 3726, 613, 535, 4682, 1127, 2171, 5061, 1816, 3753, 5493, 2147, 2210, 1056, 3854, 2163, 4876, 3803, 5486, 1199, 1570, 3412, 3565, 4249, 1672, 538, 2442, 4098, 4314, 5748, 280, 206, 1015, 3287, 639, 2688]\n",
      "[4, 240, 202, 351, 273, 91, 367, 266, 94, 162, 148, 186, 51, 194, 348, 47, 3266, 2027, 3144, 2323, 3173, 2045, 3449, 542, 732, 3564, 3253, 281, 1517, 3082, 2446, 2010, 3014, 729, 4494, 5320, 3720, 4596, 2313, 5356, 26, 608, 846, 437, 5621, 1275, 5520, 4780, 5054, 1966, 1539, 4018, 1149, 2199, 2394, 5651, 2939, 243, 4932, 2053, 4643, 991, 5916, 4571, 2742, 3466, 1925, 5627, 2983, 2880, 5350, 3958, 4087, 239, 1764, 528, 1279, 5691, 3549, 1740, 5246, 4832, 1258, 6031, 2305, 2787, 2475, 2650, 1623, 1681, 758, 74, 2022, 1823, 5735, 5921, 4406, 3933, 763, 929, 5413, 3051, 1666, 1840, 5896, 277, 5908, 5774]\n",
      "[201, 197, 47, 96, 215, 22, 379, 185, 130, 341, 298, 117, 204, 292, 9, 30, 2807, 3743, 2917, 3283, 1245, 430, 1512, 588, 1542, 289, 904, 1277, 1969, 434, 2365, 1333, 2647, 3902, 2821, 5257, 269, 1655, 502, 5086, 722, 5417, 1528, 1436, 1766, 31, 145, 2738, 1282, 3911, 1024, 6004, 3778, 1933, 3257, 2417, 4566, 2739, 5726, 4096, 5676, 1865, 3282, 2697, 753, 1893, 1049, 3637, 2880, 1737, 4937, 5821, 114, 1584, 5693, 1008, 4258, 3660, 4349, 94, 2388, 3533, 2044, 2887, 2315, 224, 5858, 4686, 3249, 3982, 1097, 1902, 5345, 2808, 5466, 4033, 3766, 2372, 4854, 5942, 1524, 5934, 5138, 3467, 36, 2812, 3869, 2398, 1946, 592]\n",
      "[336, 148, 185, 342, 200, 407, 122, 36, 275, 412, 223, 117, 237, 47, 149, 526, 506, 2804, 3603, 3126, 1281, 1026, 960, 1233, 1301, 1915, 2599, 1679, 3259, 3069, 2022, 2113, 4642, 315, 557, 2234, 5478, 2684, 5661, 5334, 840, 4372, 3200, 3622, 5990, 604, 484, 4637, 5698, 2345, 2519, 5125, 3377, 1202, 3746, 1156, 4399, 5303, 1406, 4224, 475, 1388, 5639, 3760, 4897, 1708, 5583, 4912, 2207, 4109, 5388, 4230, 3477, 2483, 4903, 4726, 5637, 4885, 1771, 2549, 941, 2310, 4403, 1550, 4760, 4120, 1396, 2270, 5948, 5032, 103, 4119, 4142, 3263, 2395, 4165, 3899, 5587, 3302, 4441, 2875, 3754, 2965, 3871, 5101, 918, 548]\n",
      "[147, 309, 223, 118, 9, 186, 154, 47, 244, 260, 160, 165, 397, 130, 377, 234, 3061, 295, 588, 412, 1393, 2761, 2300, 348, 315, 1452, 3327, 1624, 3080, 898, 0, 620, 592, 4034, 4760, 5745, 2150, 2073, 2679, 4769, 3353, 95, 742, 633, 3531, 4233, 2467, 5594, 578, 5705, 4911, 193, 5484, 2903, 1137, 3170, 4731, 4927, 5008, 2830, 3165, 1483, 5743, 5047, 5171, 711, 5464, 4302, 3974, 5232, 3675, 5662, 1168, 5081, 5565, 5958, 2014, 1392, 2685, 5809, 4743, 4972, 2432, 4958, 98, 2981, 5571, 3617, 4439, 2865, 1871, 263, 4352, 5511, 2991, 5757, 3653, 2243, 5842, 1839, 421, 4909, 2060, 4365, 3863, 5733, 5043, 4332, 780, 5930]\n",
      "[61, 239, 9, 241, 168, 266, 120, 414, 41, 328, 259, 31, 194, 270, 385, 62, 3038, 2570, 2045, 2769, 1233, 2123, 3750, 1207, 2002, 1008, 1703, 2390, 589, 2320, 2840, 2932, 1664, 3209, 3965, 243, 1841, 1737, 1215, 1314, 1263, 1832, 3319, 1255, 5643, 4639, 1173, 1121, 1421, 4430, 3137, 6029, 4902, 3352, 3214, 1892, 5256, 3689, 4270, 5724, 3629, 4259, 2577, 5310, 443, 4855, 5845, 3158, 3116, 4148, 1254, 2853, 5767, 165, 1708, 403, 1713, 2953, 1681, 3803, 3129, 3543, 4475, 603, 611, 4660, 1105, 5899, 5203, 664, 3131, 1013, 4363, 5327, 4292, 3359, 5530, 1405, 785, 1138, 3669, 5516, 1413, 5455, 1914, 3720, 4315, 4791, 277, 3275]\n",
      "[174, 108, 271, 221, 203, 57, 353, 50, 307, 244, 313, 161, 236, 9, 197, 263, 918, 954, 554, 787, 2306, 3526, 2881, 3113, 149, 2462, 909, 1687, 3820, 252, 952, 1266, 5988, 2937, 1401, 530, 4235, 5051, 2368, 1801, 1295, 1153, 4917, 139, 1584, 5662, 3693, 1606, 5374, 4386, 2020, 5386, 5720, 4574, 1247, 3746, 3911, 4683, 1845, 4247, 5670, 5587, 3430, 3839, 1943, 994, 3460, 1483, 3907, 2348, 2303, 4920, 2246, 2039, 585, 4935, 1015, 2864, 949, 1202, 3666, 1185, 1790, 1507, 3394, 5665, 5894, 4018, 5873, 2146, 5457, 4210, 3674, 667, 2424, 2948, 5398, 3459, 39, 2440, 3525, 3987, 4568, 716, 2407, 2065, 2305, 5059, 1623, 5395, 3707, 1852]\n",
      "[391, 172, 294, 307, 244, 330, 373, 148, 201, 14, 136, 61, 318, 152, 301, 414, 295, 3467, 1218, 306, 2656, 3555, 3792, 2230, 1387, 363, 1512, 1395, 3727, 3616, 3104, 3674, 125, 3747, 51, 1837, 3745, 2897, 2916, 2365, 317, 5487, 5678, 6037, 1476, 934, 5418, 3746, 3977, 4260, 1816, 2553, 3561, 1236, 4109, 2570, 1979, 1590, 4204, 481, 5897, 3287, 2525, 3721, 4906, 4073, 3245, 857, 5511, 2784, 3490, 514, 5164, 3524, 523, 2120, 4173, 994, 4377, 4868, 5857, 4676, 476, 923, 3422, 738, 1620, 2663, 1774, 5987, 1888, 5426, 2053, 4539, 845, 1300, 2954, 403, 2819, 1536, 1320, 4111, 2442, 5658, 3110, 4481, 143, 4453, 3615, 4890, 3315, 4572]\n",
      "[215, 297, 131, 237, 25, 224, 180, 209, 414, 162, 304, 186, 103, 280, 289, 189, 2386, 2320, 1284, 3178, 2334, 5, 30, 2001, 2598, 1875, 2121, 1593, 3004, 1178, 592, 1218, 2910, 423, 342, 2625, 2215, 2551, 3494, 5246, 2245, 5572, 5105, 4032, 681, 4775, 4779, 4487, 3270, 2792, 2875, 4007, 5379, 5133, 3936, 851, 1694, 4899, 2057, 4951, 1118, 4811, 514, 1680, 4601, 611, 4626, 995, 5315, 2883, 1718, 1244, 2683, 4001, 4292, 5026, 5874, 1322, 5061, 5807, 3762, 594, 1857, 4658, 4514, 2968, 1095, 4016, 2607, 4799, 3989, 3391, 2191, 3259, 2729, 538, 5678, 3452, 2130, 5389, 1250, 108, 4362, 628, 3946, 3701, 5407, 1450, 5650, 4116, 2967]\n",
      "[43, 32, 162, 263, 169, 109, 22, 173, 402, 357, 280, 9, 188, 301, 3411, 3460, 3354, 361, 749, 143, 46, 1035, 1943, 1266, 1146, 3437, 365, 1338, 317, 195, 2352, 869, 2673, 1003, 2185, 3095, 4631, 3441, 3300, 2300, 102, 4505, 1238, 5876, 91, 5464, 4985, 1837, 826, 1218, 5181, 2200, 753, 1974, 762, 4504, 1654, 1459, 3610, 5506, 3137, 2577, 5798, 3342, 678, 5698, 5265, 2742, 3140, 4368, 1465, 5127, 5334, 875, 1884, 4258, 5435, 3902, 2427, 4140, 5693, 4917, 5409, 2127, 3823, 4412, 821, 3694, 2170, 5214, 5533, 3894, 510, 1336, 1260, 233, 4437, 4559, 1959, 1591, 3710, 2263, 2678, 981, 1528, 3494, 2964, 4786, 432, 2012]\n",
      "[354, 351, 52, 74, 365, 292, 223, 283, 309, 278, 73, 49, 94, 136, 117, 268, 2992, 2368, 2412, 1, 1951, 3038, 1647, 2132, 3753, 1271, 1040, 3750, 2320, 2393, 2790, 1616, 2481, 4132, 2215, 1080, 2101, 5432, 3745, 5959, 529, 3414, 4094, 1264, 3374, 770, 580, 150, 2967, 1645, 3499, 4656, 1795, 4828, 1563, 2324, 4284, 4438, 2114, 4909, 948, 2385, 2778, 3622, 872, 1218, 3577, 2851, 1236, 488, 431, 4900, 5802, 2746, 1036, 1850, 3469, 4268, 3863, 186, 5665, 5306, 5446, 1041, 395, 5486, 5632, 5619, 2251, 1548, 1399, 2529, 18, 1640, 5473, 3650, 3569, 5670, 2406, 1895, 863, 5187, 1861, 4617, 5720, 596, 1208, 1620, 3843, 568]\n",
      "[224, 351, 414, 222, 204, 128, 168, 338, 194, 9, 350, 215, 411, 271, 241, 263, 2889, 2814, 592, 1832, 3739, 857, 2377, 1959, 1689, 1616, 3526, 2101, 1369, 3480, 2017, 1370, 5533, 5731, 2033, 5770, 2594, 5226, 2797, 3085, 2162, 785, 5584, 443, 2989, 3096, 2373, 4522, 24, 710, 2805, 5649, 2431, 870, 107, 4316, 2713, 5114, 2149, 2106, 2451, 1360, 4500, 2822, 5539, 4095, 2002, 1970, 5380, 4112, 4797, 273, 1906, 6031, 2461, 4569, 235, 5407, 2356, 6039, 5979, 5297, 3642, 2954, 3330, 629, 1631, 2951, 2401, 3080, 4679, 46, 3810, 3152, 2224, 3453, 4155, 442, 4716, 2918, 548, 2490, 353, 294, 5157, 412, 4272, 5255, 3880, 3717, 1223, 5376]\n",
      "[228, 409, 351, 231, 389, 414, 109, 328, 388, 309, 307, 374, 332, 57, 283, 1241, 3867, 3284, 2857, 3080, 1332, 3147, 1917, 2882, 2761, 660, 1783, 1262, 2970, 3106, 5745, 3522, 542, 4381, 5639, 4243, 2239, 5323, 5772, 2895, 2513, 1849, 5385, 4025, 2939, 2817, 1117, 2921, 839, 89, 3208, 3641, 3607, 1210, 272, 1074, 3712, 5968, 2472, 3107, 730, 3042, 3628, 666, 5021, 378, 3721, 3869, 4305, 2557, 584, 5711, 820, 5433, 1696, 5180, 3620, 325, 1306, 4826, 2408, 1509, 4367, 696, 1240, 5807, 5645, 5269, 377, 4071, 1632, 2896, 2155, 3761, 3163, 5684, 4976, 4646, 2787, 4640, 2670, 5351, 4801, 562, 3455, 4628, 2541, 945]\n"
     ]
    },
    {
     "name": "stdout",
     "output_type": "stream",
     "text": [
      "[58, 330, 263, 31, 52, 401, 43, 240, 25, 260, 192, 391, 175, 301, 145, 3133, 2984, 1072, 1616, 1652, 35, 1196, 2911, 3524, 592, 1747, 2570, 1421, 2415, 2412, 3081, 4661, 1854, 3196, 4107, 4106, 3366, 5849, 1881, 1279, 226, 5783, 4000, 4366, 5782, 177, 5760, 523, 3354, 332, 4497, 254, 997, 4321, 1558, 1041, 5927, 4654, 4669, 2365, 1894, 3505, 2951, 6032, 5281, 333, 830, 5409, 2402, 1757, 3307, 3193, 1796, 968, 2246, 2302, 3221, 4049, 2360, 2068, 2032, 3462, 5850, 4134, 5983, 4035, 3272, 780, 2202, 1508, 4858, 4724, 1817, 291, 4624, 1087, 4660, 3825, 127, 3847, 5189, 3489, 3032, 2942, 384, 2519, 1726, 4127, 5066, 1733]\n",
      "[147, 9, 241, 139, 411, 216, 194, 57, 368, 211, 308, 25, 397, 300, 1197, 3357, 1920, 3255, 3353, 3917, 2401, 3346, 2466, 1306, 2917, 779, 2711, 1967, 2760, 3217, 4933, 3638, 313, 5259, 2972, 1763, 4286, 2011, 3041, 186, 3168, 5651, 4694, 3409, 4152, 3767, 816, 5676, 4735, 1141, 5570, 4557, 1088, 2982, 4802, 3534, 3440, 4753, 5752, 3314, 469, 489, 4515, 2251, 1225, 1145, 823, 566, 671, 3935, 1292, 1704, 728, 452, 4264, 4484, 4631, 2345, 4297, 2841, 4492, 5368, 5417, 1040, 1213, 3874, 1809, 4413, 1912, 3887, 1849, 4573, 5839, 2502, 1492, 3009, 3167, 5023, 5253, 5568, 157, 67, 3094, 4075, 5637, 5879, 4860, 2069, 1946]\n",
      "[158, 66, 338, 267, 369, 186, 337, 279, 138, 235, 188, 160, 180, 122, 238, 91, 2580, 972, 2311, 2705, 2857, 1830, 2361, 2299, 0, 174, 1241, 2570, 20, 2889, 3483, 1684, 1659, 5052, 5620, 1293, 4094, 2131, 3359, 762, 2619, 2766, 5560, 5236, 2699, 5546, 3230, 5913, 5668, 1467, 2795, 414, 2325, 2455, 830, 5988, 4379, 3569, 3136, 3498, 2164, 794, 1291, 2869, 4001, 2331, 4072, 19, 1173, 2309, 2796, 440, 5104, 5734, 3783, 1550, 5672, 1033, 4130, 3229, 2564, 1983, 350, 3702, 4065, 214, 4502, 1019, 4235, 29, 5692, 1864, 4685, 3404, 627, 3971, 3590, 2090, 4516, 5795, 990, 2980, 5955, 4870, 3014, 4690, 5085, 345, 998, 3481]\n",
      "[61, 174, 198, 410, 367, 412, 394, 365, 309, 292, 318, 285, 32, 172, 330, 3262, 1440, 2889, 1100, 587, 2397, 3051, 970, 526, 1685, 3254, 3750, 1516, 1926, 2010, 3435, 2357, 2016, 5143, 4574, 1212, 734, 5373, 2024, 3398, 3097, 1698, 2694, 113, 2942, 4804, 5028, 5151, 2939, 1300, 4310, 3789, 268, 3471, 1207, 1233, 818, 3391, 1387, 2416, 3226, 5242, 3736, 2174, 5645, 5141, 1922, 3558, 5455, 3964, 2978, 5102, 4110, 4376, 1514, 5218, 983, 996, 4727, 5202, 1341, 6010, 1075, 2803, 640, 3894, 5439, 3465, 1997, 3914, 2955, 4259, 2665, 785, 1702, 398, 1502, 1870, 666, 4850, 2375, 4029, 3747, 4940, 5216, 5423, 2432, 4159, 2699, 4883, 5503]\n",
      "[101, 155, 175, 142, 286, 351, 18, 201, 379, 194, 132, 160, 47, 130, 330, 57, 1512, 349, 1219, 248, 109, 1048, 1771, 2946, 3107, 2975, 2328, 440, 1702, 1602, 2358, 1882, 1900, 2781, 4590, 673, 4520, 465, 5587, 3352, 1078, 5519, 1928, 1476, 4011, 2923, 2971, 5874, 5725, 1110, 4378, 1052, 1456, 4232, 2905, 2823, 656, 220, 5790, 2531, 4592, 2873, 878, 4066, 4763, 1230, 3143, 128, 3848, 4822, 2435, 5536, 2336, 116, 1951, 910, 2556, 2177, 4878, 2866, 4802, 1322, 2991, 2599, 3638, 1881, 227, 4508, 2849, 947, 2034, 869, 510, 885, 2441, 3379, 5031, 5683, 3746, 4323, 5392, 3927, 2791, 1938, 5123, 4418, 633, 2589, 4349, 1458, 1019]\n",
      "[410, 222, 57, 330, 341, 80, 18, 203, 162, 44, 385, 313, 286, 194, 1268, 3032, 2404, 3209, 1298, 2004, 954, 404, 747, 63, 908, 1894, 3520, 1212, 2975, 1406, 2754, 2434, 2054, 2151, 443, 359, 3197, 4935, 5254, 5740, 4258, 1519, 3886, 911, 2050, 1463, 133, 1379, 609, 2105, 1134, 1018, 1009, 2860, 4677, 1656, 2861, 5922, 3257, 98, 2060, 4779, 3642, 4634, 2752, 1687, 2189, 4892, 4406, 3546, 3859, 917, 899, 3116, 4069, 2843, 1887, 1681, 3724, 3849, 2332, 144, 5388, 2653, 1228, 5074, 4749, 4118, 3269, 1563, 5870, 5905, 4887, 5277, 5713, 861, 4945, 1838, 143, 62, 1069, 4316, 183, 2884, 5448, 4377, 4859, 4268, 6020]\n",
      "[224, 16, 329, 201, 162, 390, 215, 14, 145, 194, 175, 263, 9, 244, 231, 136, 2187, 3333, 3456, 1209, 150, 3385, 2407, 1643, 2177, 1229, 1393, 2943, 3251, 2149, 2383, 607, 115, 4764, 1474, 2802, 5605, 4542, 1958, 35, 2727, 3404, 5655, 3452, 3336, 4446, 1571, 3593, 3379, 690, 4500, 1106, 1605, 3845, 882, 776, 1232, 3478, 865, 4016, 4903, 5202, 1174, 2798, 2412, 3592, 1566, 5336, 5302, 1222, 2923, 5146, 820, 140, 4218, 2582, 6017, 2371, 4177, 2669, 2400, 894, 3732, 1055, 5469, 4672, 1935, 510, 3553, 4564, 1947, 2008, 5155, 1856, 5236, 3617, 3638, 1352, 251, 2402, 2220, 2557, 2998, 3364, 5611, 2624, 2415, 870, 5766, 5089, 1444]\n",
      "[94, 260, 68, 367, 384, 128, 72, 91, 109, 101, 240, 273, 202, 172, 209, 354, 3106, 918, 1746, 292, 24, 1804, 3595, 3512, 3554, 1218, 3417, 1224, 1273, 169, 4065, 3557, 5612, 3176, 4596, 500, 5772, 1763, 920, 5791, 6023, 5789, 2811, 4274, 2736, 4475, 5754, 5952, 3647, 3925, 1018, 3435, 5659, 1268, 1907, 762, 4658, 5137, 5529, 2023, 36, 5569, 3903, 5572, 624, 3889, 258, 5603, 5305, 899, 3123, 2911, 5683, 2686, 2991, 1775, 5238, 1069, 2874, 2006, 3573, 1155, 591, 1281, 31, 1374, 1339, 2598, 4118, 5329, 1150, 1361, 1833, 4129, 2308, 3113, 43, 2065, 5051, 3033, 4337, 603, 355, 2633, 1773, 985, 4456, 5872, 3057]\n",
      "[52, 280, 197, 346, 30, 385, 301, 389, 94, 204, 198, 81, 318, 227, 3451, 2290, 1, 903, 1072, 2281, 3326, 594, 3316, 1251, 109, 2999, 162, 804, 1230, 31, 24, 1652, 3266, 4692, 4134, 1742, 1948, 5025, 2530, 1356, 36, 4849, 1698, 4125, 2628, 5065, 2542, 5487, 1098, 5957, 4555, 5357, 2054, 4620, 93, 80, 5727, 2170, 1793, 5036, 1735, 2817, 1749, 400, 1147, 3345, 5958, 479, 3464, 3257, 4158, 736, 5404, 2727, 3243, 2199, 4264, 2370, 3685, 4203, 3022, 921, 2078, 4885, 5775, 3466, 1706, 852, 2232, 4221, 3215, 1222, 1838, 2067, 2738, 5977, 1900, 5125, 2341, 4293, 1181, 943, 4415, 4739, 4990, 1337, 3565, 1284]\n",
      "[194, 408, 32, 203, 78, 286, 314, 301, 191, 271, 332, 34, 172, 354, 47, 24, 1865, 1297, 3680, 1205, 1616, 2706, 902, 2137, 2615, 2394, 440, 2473, 1946, 3451, 797, 1875, 352, 5027, 4074, 2226, 1749, 3819, 2056, 5986, 5209, 5979, 5828, 312, 4741, 5246, 5746, 1925, 1392, 5034, 3984, 552, 580, 4051, 2264, 1689, 4131, 5372, 5376, 516, 1589, 1604, 5946, 4296, 1236, 3251, 1902, 3258, 789, 782, 4145, 531, 5576, 3191, 5649, 3934, 836, 2868, 732, 5760, 2089, 4231, 1563, 2080, 4133, 3139, 4341, 2605, 5913, 5944, 4776, 1057, 4507, 4722, 4159, 5123, 5493, 5051, 2974, 5168, 1222, 5276, 18, 2049, 2037, 11, 2201, 1024, 1397, 4996, 3507]\n",
      "[361, 138, 147, 342, 122, 267, 277, 236, 36, 35, 150, 74, 86, 405, 401, 2857, 3470, 3645, 207, 1672, 735, 2515, 591, 1041, 707, 865, 1585, 2682, 1276, 5, 356, 3454, 4121, 3615, 3474, 5604, 1966, 3059, 5572, 2062, 3021, 1252, 2572, 856, 2889, 3266, 1990, 5121, 764, 2292, 4855, 3661, 4719, 3647, 5302, 3079, 5336, 3916, 1049, 4220, 3727, 4323, 3183, 517, 2943, 3845, 2443, 1987, 3653, 3633, 4011, 3855, 859, 4646, 1748, 3888, 244, 1511, 4436, 2698, 2997, 3989, 3923, 5748, 813, 4226, 5932, 3057, 478, 1479, 4958, 5269, 853, 531, 2138, 1354, 355, 6009, 1491, 2425, 1102, 5599, 4609, 1323, 5002, 2499, 1971, 4248, 5998, 1654, 4735]\n",
      "[150, 259, 74, 165, 207, 194, 160, 162, 201, 198, 283, 68, 91, 302, 33, 787, 1358, 3554, 589, 3480, 1009, 2267, 2570, 366, 94, 2377, 1195, 1197, 919, 245, 4924, 6007, 3843, 2584, 4244, 2543, 5856, 1938, 1699, 3627, 4962, 3436, 3571, 25, 2929, 964, 493, 3292, 2805, 2617, 127, 351, 5941, 215, 5579, 758, 1230, 956, 2093, 4265, 3044, 1228, 3925, 3372, 4973, 769, 1890, 5228, 3893, 2019, 4439, 1223, 2574, 741, 568, 2379, 515, 5901, 4758, 2911, 1956, 2672, 4220, 3644, 2893, 2691, 3803, 1066, 8, 2658, 2223, 5380, 1958, 2278, 5786, 5467, 2204, 4087, 1643, 133, 514, 5860, 3746, 1751, 1957, 2621, 5370, 4188, 3710, 4952]\n",
      "[4, 254, 118, 172, 130, 264, 116, 301, 215, 358, 230, 136, 156, 203, 138, 3112, 2010, 257, 1747, 3605, 1384, 2512, 2144, 1386, 2984, 1652, 439, 2528, 2114, 2137, 4855, 2247, 2650, 4379, 4466, 3414, 754, 4110, 4076, 4659, 1366, 2980, 5304, 4440, 3130, 4669, 3129, 2347, 5882, 3153, 2674, 1695, 617, 5414, 3073, 5728, 3947, 4353, 2739, 1119, 5366, 4066, 2514, 4463, 4867, 4392, 1687, 4738, 2568, 4784, 1801, 3293, 2328, 5202, 3250, 4700, 2890, 4726, 3516, 5012, 5280, 871, 350, 4871, 4866, 1965, 5982, 4158, 36, 253, 14, 4489, 4718, 5699, 353, 2072, 3298, 910, 3756, 2140, 1926, 5791, 4580, 2957, 4436, 6016, 5466, 1025, 930, 3352]\n",
      "[263, 148, 2, 122, 211, 307, 378, 150, 160, 304, 337, 59, 147, 271, 125, 348, 3196, 857, 1640, 2019, 1728, 868, 1306, 1250, 3199, 1326, 1458, 647, 3518, 2404, 1062, 3051, 1540, 1880, 1481, 2997, 5644, 111, 1727, 3680, 3830, 981, 6003, 4874, 1461, 5304, 5906, 976, 1387, 5989, 409, 2473, 4161, 4880, 5397, 2295, 1983, 5027, 1228, 3767, 3192, 3559, 3985, 1501, 5760, 22, 1893, 1641, 2558, 3377, 635, 3626, 2332, 1197, 2307, 1257, 5437, 1270, 1155, 5806, 5256, 2821, 3268, 3852, 1749, 4264, 2029, 1291, 2049, 1542, 3147, 4021, 1309, 736, 3930, 5431, 5149, 3894, 5280, 1955, 4344, 2186, 2841, 3873, 6004, 4178, 5522, 261, 3296, 695, 4781, 216]\n",
      "[283, 201, 5, 100, 194, 367, 348, 275, 149, 32, 37, 130, 302, 115, 64, 386, 1374, 2804, 1087, 3554, 574, 3385, 2352, 265, 3750, 3550, 587, 161, 2267, 1072, 2814, 1407, 3114, 186, 92, 1101, 2932, 4339, 584, 5190, 2918, 2342, 3426, 5024, 312, 1639, 5411, 3716, 4138, 749, 2972, 3316, 5180, 355, 3296, 1605, 1765, 2852, 1845, 5269, 1435, 5511, 3110, 2547, 3539, 4636, 3821, 5210, 2974, 4019, 909, 5254, 710, 3823, 4319, 2412, 1074, 17, 3143, 3642, 2611, 2269, 3298, 921, 1245, 1823, 5946, 5420, 4318, 624, 4960, 5122, 1732, 2996, 121, 5852, 4902, 3428, 5690, 3770, 4285, 334, 471, 4762, 3465, 407, 1284, 4956, 5203, 5495, 2345]\n"
     ]
    },
    {
     "name": "stdout",
     "output_type": "stream",
     "text": [
      "[160, 119, 402, 300, 52, 338, 194, 35, 122, 147, 229, 255, 348, 56, 391, 266, 33, 526, 1703, 1269, 2807, 2965, 2365, 3826, 1951, 1746, 1230, 516, 144, 3796, 2467, 1187, 1999, 4603, 3523, 5884, 2429, 439, 1296, 584, 3874, 5717, 1178, 4794, 5726, 347, 1521, 487, 5735, 2209, 478, 4368, 1492, 5676, 3797, 199, 4160, 4147, 1190, 1752, 4005, 3204, 4459, 3538, 4090, 2621, 358, 2910, 5933, 3032, 1253, 585, 86, 3240, 630, 5779, 4321, 1064, 3526, 2096, 5594, 1024, 3967, 3201, 3747, 3994, 5939, 2983, 4456, 2636, 5948, 3367, 4590, 3339, 3000, 729, 4194, 262, 1657, 2121, 5442, 1956, 1192, 5057, 1689, 4381, 5248, 5356, 356, 5891, 3099]\n",
      "[304, 224, 138, 330, 318, 169, 31, 229, 367, 254, 373, 232, 215, 313, 220, 270, 511, 1353, 1274, 366, 99, 2570, 607, 3128, 1751, 23, 110, 913, 2430, 1034, 694, 1199, 157, 5861, 4454, 4101, 5809, 2914, 1902, 5942, 1721, 5452, 2317, 3824, 5903, 5405, 4781, 680, 247, 2139, 3342, 1685, 3251, 4875, 5593, 4965, 2043, 3289, 2369, 5850, 3269, 5488, 4126, 5127, 4638, 5414, 3126, 2273, 2243, 5653, 1117, 4881, 3465, 2529, 2717, 2164, 2268, 4833, 1488, 5602, 4587, 1177, 4838, 3301, 2263, 4847, 2158, 2026, 780, 809, 4677, 2184, 4607, 4000, 3145, 1933, 723, 5972, 3221, 1571, 678, 18, 929, 59, 353, 1018, 5822, 3338]\n",
      "[237, 132, 259, 339, 271, 35, 52, 57, 1, 301, 313, 166, 211, 92, 84, 1072, 1428, 593, 2264, 1188, 550, 1284, 3256, 3273, 1049, 3508, 1196, 2548, 1220, 2803, 710, 5061, 1813, 3330, 874, 2819, 2703, 4639, 1068, 2154, 2674, 678, 2897, 3070, 1333, 2236, 1098, 4651, 1455, 780, 2537, 4506, 997, 3387, 5604, 2899, 5879, 3218, 5966, 2021, 1838, 101, 4629, 624, 3765, 5571, 4565, 583, 2713, 3275, 13, 3322, 870, 1697, 675, 234, 5637, 1466, 2296, 279, 3751, 6003, 1113, 5644, 1945, 461, 354, 3719, 629, 4089, 2625, 37, 5303, 5734, 2668, 5409, 1932, 1200, 2401, 1328, 2407, 3813, 4542, 4300, 809, 5971, 1957, 2210, 1794, 381]\n",
      "[198, 148, 168, 150, 368, 122, 397, 282, 52, 303, 283, 237, 241, 61, 116, 215, 607, 1182, 1301, 248, 2423, 1206, 1126, 355, 376, 2647, 3080, 1652, 3826, 3333, 2009, 338, 4842, 2304, 3030, 5564, 5290, 5875, 1101, 4023, 3044, 4824, 4494, 1680, 5844, 348, 2530, 5296, 988, 3377, 1876, 1355, 3369, 3714, 4947, 4578, 4405, 4267, 3419, 2715, 2811, 2356, 5355, 4747, 1631, 3518, 1921, 3275, 3870, 1443, 5898, 2313, 5452, 2507, 1131, 3009, 693, 94, 372, 3035, 4209, 1891, 3114, 1015, 3358, 2872, 3717, 1497, 1535, 1042, 841, 193, 322, 3782, 192, 5664, 3273, 37, 3251, 5367, 1604, 2365, 3679, 1353, 4610, 3, 2815, 3653, 4966, 2639, 858]\n",
      "[91, 98, 244, 100, 342, 39, 222, 373, 47, 21, 178, 234, 354, 108, 2132, 1233, 1251, 3935, 265, 2523, 2339, 3623, 335, 2422, 2967, 3632, 33, 1596, 902, 579, 2173, 987, 4225, 4389, 4527, 3116, 402, 561, 3403, 3681, 800, 2645, 455, 3864, 3872, 3066, 1229, 3698, 4147, 4894, 6000, 1816, 630, 1379, 2752, 88, 5336, 35, 5567, 5279, 5512, 1735, 4203, 5849, 1625, 3037, 5612, 1860, 1655, 2753, 498, 667, 3220, 24, 1591, 946, 1019, 4049, 5152, 3917, 5552, 4235, 2071, 4721, 3997, 2905, 4694, 5782, 5485, 1029, 1214, 3509, 5843, 4677, 602, 3356, 81, 886, 747, 8, 1056, 4896, 5211, 27, 5819, 112]\n",
      "[351, 342, 357, 164, 191, 393, 112, 102, 25, 194, 229, 180, 347, 143, 259, 44, 550, 1187, 366, 1089, 1881, 1239, 3623, 69, 1639, 156, 1292, 3360, 1407, 2093, 939, 2315, 5154, 168, 5286, 416, 2546, 4998, 4009, 315, 4946, 225, 2517, 5066, 5992, 383, 2688, 2285, 3164, 1266, 1803, 5747, 5758, 4069, 5984, 3088, 3154, 3441, 4849, 3857, 5693, 3159, 3870, 5330, 16, 3812, 2733, 3899, 1778, 6002, 5974, 1916, 923, 17, 4207, 397, 447, 1123, 861, 566, 629, 2335, 3140, 109, 3049, 4529, 1076, 3286, 115, 3343, 2746, 3662, 3981, 1452, 3045, 2743, 2074, 1201, 2232, 621, 1142, 1191, 2082, 5411, 309, 773, 3829, 2302, 5900, 2181, 1812]\n",
      "[207, 335, 322, 323, 351, 342, 135, 34, 245, 91, 395, 353, 313, 122, 357, 47, 2477, 1374, 3113, 1721, 2432, 1352, 1258, 2087, 2917, 2501, 2996, 2880, 3087, 3507, 2079, 345, 1737, 4034, 1569, 3336, 5044, 2773, 5970, 1578, 2823, 4823, 4838, 4037, 4759, 5200, 2688, 1131, 1013, 4352, 5004, 5138, 1753, 2856, 31, 901, 5127, 5464, 904, 3214, 4449, 2121, 2191, 2365, 4491, 935, 1066, 5335, 4954, 459, 2455, 3873, 2226, 4879, 2358, 2243, 4401, 5077, 4484, 1773, 5111, 856, 2849, 5568, 2615, 1300, 905, 5309, 1360, 414, 374, 5674, 404, 2848, 1434, 3324, 4860, 1873, 5558, 1174, 5411, 1989, 3522, 1119, 2693, 4697, 2274, 4520, 4535, 3540, 2374]\n",
      "[75, 349, 301, 307, 34, 280, 116, 351, 156, 254, 5, 174, 207, 270, 277, 96, 3945, 1499, 1602, 3763, 2288, 1718, 1199, 195, 526, 2358, 0, 899, 1357, 2293, 3931, 3434, 667, 4436, 5881, 1987, 5041, 3889, 5229, 5669, 4204, 2292, 4306, 3594, 1701, 588, 733, 3611, 1831, 4421, 4833, 715, 2158, 1348, 2014, 1326, 1083, 5281, 5425, 83, 1509, 4138, 4425, 5867, 5798, 2536, 2515, 2481, 3053, 674, 4614, 3978, 4519, 3488, 5606, 1814, 2575, 2106, 3601, 3491, 4003, 4225, 4804, 5799, 2434, 3441, 2346, 1821, 189, 1564, 2242, 3975, 2272, 3047, 1299, 3022, 4675, 5574, 4032, 1843, 2166, 4699, 4885, 3351, 1709, 2518, 2436, 4220, 1687, 616, 1482]\n",
      "[230, 192, 274, 347, 174, 350, 351, 284, 216, 172, 52, 77, 148, 87, 160, 283, 0, 909, 3500, 1200, 2790, 588, 2663, 3550, 1096, 3461, 414, 175, 2390, 1955, 2987, 2615, 2734, 4812, 2373, 1658, 4497, 2460, 1526, 5207, 1266, 3230, 5404, 5626, 1368, 4417, 771, 566, 724, 3975, 4673, 317, 4100, 3276, 1083, 1532, 4616, 3053, 2372, 4332, 2619, 1569, 710, 5456, 3488, 3192, 1916, 3823, 4896, 5186, 4951, 908, 2913, 959, 4700, 2912, 5879, 3795, 4876, 4165, 5514, 1378, 5968, 5419, 3047, 2334, 5877, 4894, 3049, 2803, 3706, 2656, 3122, 793, 2021, 1877, 5040, 2030, 2088, 2343, 2687, 570, 5277, 3604, 2683, 2758, 5955, 4841, 3467, 1172, 277, 1953]\n",
      "[191, 330, 337, 44, 179, 327, 202, 201, 309, 174, 52, 203, 263, 384, 215, 125, 222, 3260, 1197, 538, 2242, 647, 371, 1613, 1206, 2110, 1094, 3769, 1126, 1355, 1246, 389, 4013, 3770, 5072, 111, 578, 3777, 4920, 1427, 1236, 3162, 959, 3492, 5927, 5709, 2640, 451, 1607, 4766, 2271, 199, 2599, 2905, 2855, 2907, 5371, 1317, 2925, 3792, 561, 4553, 2998, 2987, 2779, 4895, 4678, 5506, 4638, 5451, 1135, 2339, 2244, 2677, 5687, 2873, 5571, 641, 193, 843, 5503, 2177, 504, 1798, 792, 4194, 2651, 3757, 5207, 4672, 3986, 2223, 1654, 3327, 5603, 1241, 5023, 2629, 1681, 3499, 58, 631, 3913, 4736, 136, 3529, 2807, 1545, 4196, 237, 5846, 651]\n",
      "[96, 301, 177, 300, 351, 201, 16, 411, 231, 61, 260, 150, 223, 74, 168, 401, 2209, 2449, 1379, 3488, 3845, 2084, 2599, 586, 1712, 1280, 1290, 2985, 2749, 1579, 2022, 1395, 595, 3724, 2398, 3699, 1773, 829, 5810, 1713, 3561, 26, 1398, 1000, 830, 640, 2168, 236, 584, 386, 4474, 1687, 3208, 3939, 241, 3319, 751, 5201, 1401, 3012, 3777, 258, 2700, 4055, 2870, 5384, 6017, 1345, 4581, 483, 5094, 3687, 5199, 380, 5864, 4736, 199, 5580, 2252, 3665, 3812, 2871, 195, 2938, 3708, 1243, 3158, 5150, 4029, 149, 4598, 3636, 4017, 2233, 4236, 3013, 5407, 4837, 1771, 2855, 5472, 4656, 2708, 2620, 1430, 671, 5233, 1965, 1333]\n",
      "[234, 60, 370, 307, 147, 33, 351, 389, 24, 135, 368, 325, 219, 407, 1263, 3860, 470, 2406, 2370, 1258, 3792, 950, 2682, 3158, 2123, 1693, 2738, 1922, 3864, 2870, 238, 321, 4319, 1293, 6024, 3727, 5483, 5556, 1062, 4139, 2719, 4238, 782, 3373, 2817, 3376, 3898, 3701, 1784, 828, 1173, 345, 67, 4429, 2988, 5270, 4088, 1796, 1947, 1547, 3636, 182, 4754, 4658, 2457, 2807, 4799, 6009, 5112, 5369, 1709, 1369, 5406, 3713, 5059, 4916, 5123, 5311, 1097, 1200, 5265, 1649, 644, 1240, 4605, 5757, 3153, 5572, 1561, 3327, 4340, 3888, 2656, 1506, 3336, 1848, 5278, 4812, 4683, 5542, 3579, 2140, 2616, 748, 461, 3707, 226, 5527, 953]\n",
      "[408, 168, 232, 197, 227, 325, 391, 174, 130, 182, 241, 129, 215, 57, 169, 10, 2411, 1953, 1585, 3577, 1689, 1301, 2845, 3262, 143, 1996, 2669, 2166, 2149, 1234, 2027, 2502, 5179, 5655, 1161, 5803, 4116, 3166, 4936, 3761, 2708, 5378, 5993, 2619, 1801, 2094, 5335, 443, 2239, 4568, 3769, 1593, 4247, 5849, 863, 5520, 3178, 4659, 2833, 2257, 5159, 3050, 5243, 4265, 3283, 3329, 3519, 5582, 3883, 3248, 2081, 3424, 1919, 4340, 2202, 1454, 2851, 2157, 67, 4791, 3673, 4045, 1525, 1426, 352, 295, 528, 2339, 380, 5185, 4707, 2296, 2638, 220, 1385, 2869, 189, 4463, 5502, 1015, 3371, 1253, 3908, 3096, 5588, 5328, 990, 4982, 2021, 1461, 5079]\n",
      "[398, 341, 354, 254, 338, 289, 121, 224, 259, 35, 230, 304, 322, 301, 34, 41, 2012, 1371, 3175, 433, 2942, 607, 1217, 2192, 2984, 1027, 2162, 1316, 449, 2918, 3094, 5592, 5012, 5652, 1809, 5362, 4891, 530, 857, 5467, 996, 5388, 4547, 160, 98, 5771, 4548, 1303, 269, 3697, 799, 989, 1189, 1797, 1434, 3239, 5671, 4268, 3927, 314, 4400, 1051, 3322, 4361, 5306, 6036, 1376, 3617, 3732, 1893, 1785, 1409, 1994, 305, 1841, 4481, 614, 1939, 372, 1392, 2035, 5573, 218, 1491, 3644, 1046, 5497, 4475, 1289, 3730, 3020, 3379, 2254, 205, 5893, 534, 4552, 4308, 2373, 4701, 995, 771, 5249, 4472, 5590, 4018, 5219, 4367, 1715, 3168]\n",
      "[311, 348, 66, 213, 91, 165, 229, 263, 302, 405, 325, 167, 194, 120, 345, 1246, 911, 3423, 2808, 1386, 3575, 2958, 2948, 1264, 3034, 2598, 3357, 593, 355, 3177, 4850, 2308, 5073, 2629, 4182, 1199, 4355, 1286, 244, 2897, 2959, 5375, 2730, 4581, 4188, 1649, 508, 3139, 48, 510, 1898, 1825, 1807, 1663, 3875, 1175, 4516, 1033, 2922, 2491, 2796, 4768, 1574, 5385, 2450, 5834, 1650, 2161, 669, 417, 219, 814, 326, 5888, 5086, 1192, 5520, 4735, 2111, 2127, 1478, 2364, 5292, 2494, 837, 2108, 2662, 535, 2813, 4365, 3708, 2345, 2989, 5220, 5631, 5741, 1065, 3690, 3452, 3063, 245, 3084, 4487, 933, 3697, 5597, 4095, 5656]\n"
     ]
    },
    {
     "name": "stdout",
     "output_type": "stream",
     "text": [
      "[35, 41, 42, 290, 301, 215, 414, 14, 308, 202, 106, 31, 361, 147, 197, 174, 1526, 1220, 2996, 1295, 2616, 3333, 972, 3004, 317, 3172, 1202, 1955, 1232, 3729, 2501, 933, 3513, 3893, 2526, 3175, 1915, 2814, 1504, 5609, 2725, 1827, 4430, 4671, 216, 4246, 5285, 4477, 3573, 6015, 3204, 5804, 1171, 1007, 4146, 3082, 1456, 3528, 1737, 3832, 5813, 2656, 1881, 4486, 2931, 3933, 1984, 198, 2333, 3094, 952, 3236, 3596, 5864, 498, 1253, 3734, 2637, 723, 5254, 129, 4456, 2843, 4697, 5375, 4283, 3915, 5221, 3719, 4735, 2944, 5388, 2930, 5772, 794, 1080, 571, 1120, 3313, 5008, 2994, 5803, 3365, 1054, 457, 90, 4310, 2753, 5410, 1584, 1309, 4097]\n",
      "[197, 35, 25, 180, 354, 301, 288, 407, 106, 168, 300, 263, 330, 279, 315, 52, 1010, 2715, 3589, 526, 3218, 3069, 2943, 2676, 3810, 152, 2091, 2301, 3209, 1293, 2661, 3564, 4268, 222, 4067, 3662, 1302, 6031, 3058, 3204, 1902, 2219, 1256, 4466, 5979, 2026, 1434, 589, 1626, 3836, 164, 4397, 2668, 3049, 909, 2395, 4543, 3694, 5775, 390, 5542, 4294, 1057, 820, 5253, 5619, 5393, 985, 4461, 2924, 3184, 1410, 1365, 219, 5187, 4586, 4633, 2803, 4651, 4357, 3304, 1523, 5235, 2512, 3939, 3387, 4977, 2956, 4596, 1889, 719, 3578, 1190, 5839, 1368, 481, 225, 3407, 1459, 1997, 4307, 3441, 5384, 2499, 4744, 4949, 2051, 4413, 1908, 4816, 3015]\n",
      "[189, 234, 307, 52, 267, 411, 80, 258, 48, 283, 102, 57, 334, 408, 201, 1297, 2320, 419, 3556, 376, 1078, 1275, 2064, 2691, 2118, 1609, 1270, 2088, 3737, 1747, 2328, 4648, 3147, 5749, 5566, 3818, 809, 3445, 237, 705, 1423, 1795, 1950, 2619, 4729, 3698, 556, 2394, 209, 4583, 5727, 2405, 3521, 2196, 1164, 4615, 3028, 3013, 2528, 4158, 2978, 2311, 3730, 2527, 5836, 2411, 5832, 5117, 2213, 455, 5641, 1344, 2069, 1321, 5437, 3368, 1342, 1135, 2310, 3043, 2005, 1340, 5702, 5236, 2450, 2812, 3702, 3605, 2860, 5394, 1729, 6000, 1757, 4517, 4344, 4428, 5303, 2386, 4493, 3697, 2137, 392, 1132, 4271, 1004, 3600, 5256, 3191, 3142, 642]\n",
      "[89, 187, 300, 298, 269, 408, 186, 8, 322, 351, 133, 25, 262, 280, 320, 207, 3107, 1305, 1917, 1203, 3078, 1609, 480, 719, 3792, 3420, 549, 1126, 2335, 779, 2996, 2290, 2562, 5495, 5352, 2013, 2196, 3862, 3609, 746, 1538, 543, 996, 1475, 4119, 3557, 4935, 1201, 2496, 3891, 4421, 1941, 1078, 4248, 4269, 3504, 5180, 5252, 2079, 440, 4505, 2254, 2132, 927, 5515, 5262, 571, 1516, 5101, 860, 2230, 5304, 1861, 2212, 587, 5826, 787, 999, 5198, 4430, 114, 1619, 2425, 696, 1650, 4749, 811, 1871, 4432, 3454, 2328, 5206, 2870, 2808, 2923, 974, 484, 3948, 4744, 4709, 138, 1365, 6020, 1229, 794, 975, 4206, 2590, 5392]\n",
      "[61, 168, 172, 290, 325, 326, 33, 309, 301, 173, 304, 130, 273, 135, 238, 1266, 3910, 1609, 264, 2968, 921, 2107, 2247, 150, 259, 252, 2323, 2778, 2946, 1798, 336, 2971, 1518, 917, 4296, 5601, 3252, 5252, 4490, 3098, 2926, 2246, 3922, 841, 3921, 1928, 1752, 5470, 88, 1696, 2312, 1100, 4894, 978, 444, 3492, 6021, 5362, 1314, 948, 1633, 2755, 3072, 2745, 1499, 1542, 774, 5799, 4782, 2063, 1749, 5701, 959, 1720, 1801, 6017, 4615, 5630, 3250, 612, 1340, 2964, 218, 4691, 2673, 1161, 2800, 4353, 5575, 5351, 1658, 4519, 3197, 4994, 3526, 2730, 2678, 5692, 4950, 5596, 5709, 4385, 711, 355, 1907, 3372, 3665, 274, 4728, 1685, 5693]\n",
      "[274, 405, 385, 150, 391, 271, 318, 264, 209, 345, 154, 378, 204, 223, 147, 523, 1583, 466, 1209, 3505, 1919, 3705, 1219, 2352, 2013, 1264, 3285, 1287, 1291, 1516, 2141, 5309, 5427, 1784, 1656, 1647, 5526, 3381, 4950, 191, 4557, 632, 1885, 5908, 3788, 2374, 1488, 2748, 53, 1628, 3040, 3271, 321, 4756, 5827, 1016, 3468, 4259, 4172, 794, 2610, 942, 5160, 4270, 2118, 5759, 4970, 500, 2247, 3234, 1175, 2396, 411, 3124, 998, 4534, 2117, 98, 5322, 2236, 881, 5585, 4412, 184, 3152, 4723, 1206, 2153, 6039, 563, 4920, 5044, 2876, 3393, 4422, 3033, 571, 2251, 2582, 2430, 2943, 4750, 1254, 1355, 5176, 1415, 2827, 1654, 4851]\n",
      "[215, 330, 45, 124, 411, 9, 61, 147, 85, 186, 301, 260, 267, 336, 244, 135, 379, 1946, 1985, 1249, 3577, 2132, 3737, 2114, 2761, 514, 1392, 3360, 1585, 652, 3488, 1077, 4225, 579, 3276, 2137, 3372, 4375, 3850, 5747, 2491, 3412, 3150, 3215, 2829, 4620, 804, 2135, 1618, 5111, 1544, 2764, 1933, 1695, 4705, 531, 5793, 4429, 1602, 3092, 3142, 5894, 1702, 5139, 5816, 2979, 4470, 3959, 776, 4166, 1490, 898, 3195, 3679, 3564, 2895, 2927, 2270, 1065, 5360, 4112, 6015, 3566, 1802, 3111, 1576, 1902, 5404, 3743, 4904, 4454, 4095, 5389, 961, 3435, 6026, 5944, 1817, 2447, 3205, 4797, 1063, 1725, 1894, 4947, 798, 5513, 5680, 5979, 1177, 1598]\n",
      "[305, 351, 86, 189, 71, 138, 194, 244, 180, 400, 162, 4, 150, 132, 47, 2793, 3525, 1911, 1465, 81, 1103, 925, 2192, 2277, 1526, 1219, 1197, 3080, 2328, 479, 2554, 5845, 1652, 1908, 1749, 2943, 3556, 1759, 685, 5264, 4967, 5312, 5689, 1950, 2755, 3764, 4005, 5867, 6009, 4941, 330, 1246, 4308, 410, 1889, 4946, 4965, 4402, 694, 1558, 1997, 2276, 2312, 5765, 1497, 1344, 1642, 2798, 2741, 366, 4754, 1423, 3448, 1491, 5194, 2609, 2565, 1912, 2571, 1259, 3774, 3022, 2816, 2579, 2629, 5109, 5121, 724, 2982, 5733, 5647, 2834, 1496, 4960, 4148, 3913, 5371, 780, 3036, 236, 5273, 1513, 1468, 4958, 742, 1828, 377, 5788, 4497]\n",
      "[224, 16, 198, 197, 106, 57, 47, 92, 379, 352, 184, 135, 180, 260, 230, 2383, 528, 496, 2693, 3128, 2211, 1009, 2352, 1701, 3752, 1192, 2392, 2310, 456, 3703, 1135, 747, 4385, 4802, 712, 5275, 2345, 5442, 5237, 4283, 4139, 3565, 4115, 1958, 5472, 5801, 1901, 2277, 871, 4843, 2836, 30, 2321, 3567, 55, 1614, 2601, 885, 2048, 1038, 4156, 5271, 13, 5716, 1162, 572, 5949, 958, 543, 3957, 1794, 520, 3916, 1362, 2338, 2964, 3807, 4411, 5786, 4682, 2634, 1790, 5217, 3243, 4946, 1918, 5244, 2966, 3157, 4056, 4353, 861, 319, 5534, 5192, 1253, 310, 2668, 5485, 565, 1407, 4912, 3727, 1055, 5261, 2293, 209, 1440, 1006]\n",
      "[132, 21, 244, 165, 330, 213, 82, 318, 405, 177, 18, 411, 156, 359, 1659, 1596, 159, 901, 1536, 1247, 3754, 1083, 3038, 3112, 1374, 3506, 2159, 378, 3684, 2986, 2825, 5642, 3614, 5711, 3501, 4180, 317, 1122, 1365, 3397, 2380, 144, 993, 5393, 3049, 5125, 3404, 6002, 3297, 596, 4387, 5647, 2726, 4121, 337, 5449, 4257, 805, 4660, 1010, 976, 6004, 2067, 2648, 2747, 3151, 3768, 4819, 1521, 133, 615, 3599, 3791, 2912, 5651, 1055, 1844, 24, 813, 1999, 435, 1916, 5641, 3056, 1903, 4405, 4411, 4160, 2068, 5840, 912, 1562, 2277, 5609, 791, 5195, 714, 579, 1387, 728, 5978, 517, 4002, 2316, 2626, 4734, 3661, 670, 40, 914]\n",
      "[168, 395, 393, 328, 217, 364, 194, 323, 22, 390, 301, 187, 219, 292, 647, 1303, 456, 2415, 2454, 919, 38, 1258, 363, 2201, 2366, 35, 3218, 3782, 3622, 2137, 4346, 5696, 1827, 3050, 601, 1431, 3465, 4591, 1565, 780, 3795, 849, 5318, 6005, 591, 1773, 1861, 2205, 4268, 4306, 3279, 4494, 5512, 4826, 5988, 3629, 5585, 3079, 2965, 2785, 5338, 4842, 977, 5518, 749, 3642, 4385, 3283, 5477, 225, 1423, 834, 4168, 4148, 1823, 1490, 540, 3606, 761, 4963, 3517, 185, 5407, 4123, 3707, 594, 2220, 5833, 4726, 4255, 5688, 2003, 3082, 2360, 5919, 5559, 3330, 5904, 3068, 4351, 205, 286, 4082, 1000, 743, 3167, 3921, 3632, 5601]\n",
      "[266, 47, 64, 328, 278, 242, 238, 204, 44, 203, 155, 236, 267, 9, 262, 453, 1473, 479, 3947, 2943, 2917, 3005, 1088, 2790, 3173, 915, 1830, 3032, 3246, 2247, 5745, 5713, 3339, 4692, 1850, 3505, 4845, 3412, 2894, 5285, 4159, 3721, 3995, 3422, 1962, 3874, 4567, 1043, 980, 617, 5290, 4940, 4424, 4959, 4922, 4508, 892, 2842, 5332, 991, 5622, 4599, 5291, 2026, 3762, 1514, 5947, 1793, 2229, 433, 5452, 3047, 1851, 1422, 3533, 4495, 2688, 4936, 1853, 2628, 86, 2070, 2720, 5252, 4193, 815, 4382, 4486, 5232, 5104, 13, 367, 1572, 3131, 1546, 5925, 255, 3946, 924, 1338, 749, 1142, 5595, 3829, 565, 2611]\n",
      "[8, 80, 182, 102, 116, 7, 292, 25, 47, 53, 150, 106, 347, 197, 178, 338, 149, 110, 2857, 2057, 3842, 1209, 2430, 1688, 1, 2299, 3523, 317, 1298, 1124, 2020, 1250, 1886, 1274, 2915, 1520, 5060, 603, 808, 5355, 3274, 2049, 186, 2660, 4781, 862, 3093, 1977, 1029, 2582, 1163, 4663, 18, 5344, 267, 165, 2613, 4468, 2554, 5890, 1177, 636, 2479, 1595, 3681, 1256, 3036, 2420, 3747, 3266, 2071, 4287, 4834, 2295, 2812, 2753, 2158, 448, 3594, 3390, 3705, 5961, 2748, 203, 4579, 719, 4629, 4605, 4854, 141, 5209, 1018, 1793, 3446, 2886, 2326, 1115, 5783, 3150, 5204, 2775, 5879, 3687, 98, 4138, 4837, 5358, 492, 318, 528, 250, 1794]\n",
      "[122, 203, 264, 244, 215, 172, 57, 186, 304, 292, 9, 194, 371, 72, 116, 1093, 420, 3684, 3653, 1380, 1195, 2656, 300, 1349, 3892, 764, 660, 3707, 785, 3212, 4962, 2944, 4046, 4477, 974, 3771, 1588, 2956, 5718, 4017, 5292, 5137, 1323, 5897, 1227, 5730, 5192, 36, 5464, 4015, 1365, 4219, 4632, 3483, 3188, 5177, 5855, 2094, 866, 5981, 158, 5473, 1487, 211, 3165, 5895, 332, 4643, 5579, 5142, 5133, 4961, 5097, 3411, 2967, 2470, 2674, 3866, 545, 3865, 2908, 5725, 2797, 1110, 1105, 1826, 3277, 5093, 610, 740, 4715, 5207, 3836, 90, 687, 1580, 2578, 3739, 2411, 3793, 1332, 1187, 435, 988, 5344, 4006, 4414]\n",
      "[401, 280, 244, 328, 147, 35, 25, 172, 64, 263, 308, 391, 160, 288, 234, 384, 3825, 231, 2889, 591, 1196, 1125, 3892, 3701, 3632, 1597, 3607, 1951, 2159, 2336, 1804, 5875, 4393, 2487, 3403, 2547, 2098, 3517, 55, 1530, 2365, 2639, 4342, 4116, 3171, 1673, 2831, 5706, 4530, 4675, 2105, 2884, 1751, 395, 2638, 5701, 2086, 1740, 4501, 2407, 3250, 1948, 871, 115, 4518, 3586, 59, 5091, 5577, 910, 2970, 5834, 1356, 176, 4541, 5851, 5278, 4780, 2420, 3841, 2878, 4507, 3743, 3599, 4865, 4885, 2581, 3759, 4350, 1094, 3481, 4235, 4268, 833, 641, 4539, 3834, 4983, 4381, 1522, 320, 4648, 4102, 2617, 212, 769, 3913, 1111, 245, 1032]\n",
      "[296, 313, 272, 142, 18, 237, 234, 309, 155, 201, 351, 172, 299, 318, 72, 408, 2598, 2202, 593, 376, 1551, 3699, 161, 1881, 1624, 2187, 2114, 3909, 1256, 1078, 179, 2745, 4922, 4873, 794, 100, 4211, 3488, 4406, 4834, 988, 4723, 5036, 2491, 642, 4830, 1898, 3654, 2003, 61, 5312, 629, 5764, 4340, 3647, 3061, 104, 3562, 3035, 4314, 887, 5797, 4039, 1461, 467, 2323, 3104, 1001, 1957, 4335, 5425, 6027, 4410, 3369, 2608, 3323, 4016, 4472, 3150, 5653, 4011, 733, 312, 4890, 4584, 2571, 4936, 3900, 2492, 169, 1353, 2197, 2541, 5681, 2739, 38, 927, 5948, 4271, 2438, 5367, 322, 120, 919, 2228, 5199, 63, 4208, 1038, 5239, 1410]\n"
     ]
    },
    {
     "name": "stdout",
     "output_type": "stream",
     "text": [
      "[136, 3, 328, 411, 283, 408, 294, 164, 122, 213, 150, 148, 86, 307, 402, 2354, 2946, 1881, 2027, 3526, 2914, 3159, 2788, 1202, 2059, 3209, 1782, 456, 2990, 1568, 1233, 3347, 4883, 2938, 2937, 2806, 780, 468, 3967, 4917, 3767, 1575, 3089, 121, 5981, 1883, 1594, 359, 1134, 1208, 4338, 4851, 2698, 2089, 3312, 71, 3095, 5224, 4986, 2771, 4293, 2246, 929, 2563, 5479, 4000, 2334, 3537, 4109, 2439, 2396, 1668, 2820, 3223, 4503, 4521, 675, 3388, 857, 5615, 3208, 748, 3758, 4285, 206, 1004, 3628, 5163, 2734, 2843, 2719, 4656, 5619, 889, 583, 5065, 2057, 528, 5665, 2289, 1958, 4782, 17, 5582, 3353, 2045, 3125, 4478, 3585, 1569]\n",
      "[143, 17, 367, 244, 308, 237, 192, 307, 12, 410, 148, 239, 287, 365, 355, 3792, 0, 2655, 1196, 1287, 2301, 1126, 3147, 3080, 1948, 3270, 1199, 911, 2008, 5764, 3142, 3910, 5676, 3720, 5546, 928, 199, 2110, 5823, 4536, 2294, 1833, 4248, 5755, 3201, 3327, 2309, 3597, 2381, 5161, 2763, 371, 2026, 1535, 3603, 1989, 5949, 5845, 1320, 550, 5868, 5298, 268, 1650, 5974, 4487, 4188, 3457, 4101, 1775, 3251, 3243, 4608, 1869, 3193, 4628, 3141, 5217, 3928, 4479, 1782, 1692, 3591, 1940, 5985, 1378, 5285, 2281, 1606, 3421, 2348, 4243, 4028, 5781, 3610, 1620, 5855, 5865, 1547, 1830, 2735, 2477, 763, 205, 3479, 894, 990, 4421, 4406]\n",
      "[237, 402, 220, 334, 203, 160, 331, 342, 122, 308, 53, 292, 265, 147, 174, 337, 3070, 523, 2467, 2476, 3750, 3113, 317, 1343, 2571, 592, 1640, 439, 1195, 647, 2096, 1609, 928, 4615, 5765, 2513, 4476, 5815, 2544, 1407, 971, 1883, 2838, 1437, 4412, 5635, 1612, 3646, 1850, 537, 3414, 4249, 1182, 5636, 774, 2821, 4248, 483, 1292, 3529, 5080, 609, 243, 5616, 5150, 4461, 420, 5122, 3718, 5103, 4964, 4580, 3371, 3087, 1969, 561, 5890, 927, 2769, 2060, 4417, 1562, 2792, 173, 2889, 723, 3569, 219, 3821, 5733, 3693, 3605, 2508, 2219, 2802, 3916, 4004, 4877, 4526, 2714, 4325, 3557, 4113, 2529, 3751, 1319, 5376, 2719, 182, 4463]\n",
      "[86, 301, 401, 215, 286, 297, 353, 318, 61, 222, 260, 58, 172, 17, 305, 201, 2528, 2796, 2323, 2244, 1093, 3623, 2685, 2855, 2656, 1119, 1094, 3184, 3654, 231, 3316, 3417, 2818, 3104, 3212, 788, 5893, 5036, 2468, 1659, 1199, 669, 1086, 4348, 5164, 421, 5864, 5095, 5672, 605, 1341, 3547, 1063, 3020, 5321, 5542, 674, 5382, 3996, 3627, 5131, 1880, 5553, 4607, 2991, 581, 2537, 3089, 108, 4993, 206, 4567, 5225, 4711, 708, 5407, 4198, 3539, 163, 3097, 4172, 3482, 3846, 5118, 1198, 1613, 4727, 4207, 4022, 740, 333, 2087, 5904, 779, 3657, 2789, 1139, 432, 5485, 5404, 659, 1891, 5986, 3366, 4295, 276, 916, 3779, 2956, 2207, 5184]\n",
      "[35, 9, 201, 330, 391, 403, 156, 148, 80, 162, 132, 327, 337, 407, 57, 3705, 897, 1031, 3273, 1579, 2288, 479, 3634, 1293, 2427, 2840, 379, 338, 2691, 1219, 1435, 2952, 600, 4166, 4006, 5848, 353, 1890, 2374, 4714, 3932, 5919, 5597, 2219, 279, 5030, 0, 875, 5847, 4157, 3145, 680, 935, 4096, 2162, 1661, 2393, 5960, 192, 4336, 5500, 2213, 4056, 501, 1592, 1332, 1854, 3149, 5659, 3816, 4801, 782, 2117, 3456, 3503, 1067, 2939, 3758, 151, 3199, 1766, 5161, 5313, 1326, 2969, 3929, 2480, 3600, 3491, 3751, 4961, 1763, 1773, 4724, 5262, 1738, 531, 4686, 1464, 5132, 1564, 3425, 5405, 492, 4579, 1234, 5092, 3737, 2724, 5235]\n",
      "[302, 122, 8, 145, 355, 301, 21, 116, 7, 169, 367, 255, 270, 280, 52, 1170, 602, 1445, 1233, 1770, 913, 2762, 1209, 1336, 13, 3623, 3752, 2426, 1072, 2267, 1391, 795, 292, 621, 2922, 1111, 5186, 4103, 5828, 4098, 3228, 5078, 434, 671, 4202, 4950, 5470, 951, 784, 950, 589, 4844, 5284, 768, 1143, 2976, 2491, 644, 1979, 227, 674, 91, 5355, 5416, 159, 1936, 2281, 2289, 5059, 1749, 258, 3995, 353, 3972, 2740, 3877, 4918, 308, 1490, 1485, 2696, 2074, 1439, 1579, 2031, 2560, 5559, 4987, 3933, 748, 3946, 2574, 1205, 1348, 3188, 3725, 3674, 363, 1265, 3865, 1945, 2110, 4223, 461, 5092, 3982, 2384, 3063, 1680, 3015]\n",
      "[223, 227, 318, 0, 328, 217, 74, 182, 255, 160, 126, 51, 189, 266, 330, 132, 3667, 3878, 1243, 1835, 2778, 2146, 2686, 912, 3702, 372, 1196, 510, 2803, 2857, 1369, 3237, 626, 3806, 2204, 4986, 5603, 2207, 3762, 4531, 4684, 4106, 6006, 2206, 5880, 3760, 3103, 3779, 1502, 2479, 2606, 2518, 81, 807, 1221, 1381, 143, 166, 2273, 5767, 4807, 3718, 3589, 411, 5978, 3519, 497, 5308, 4361, 4852, 3151, 3019, 3978, 2305, 3772, 1173, 5658, 738, 1956, 2709, 3384, 2303, 1485, 400, 2334, 4028, 2546, 340, 906, 4861, 3650, 1123, 259, 5171, 3556, 3058, 263, 1077, 698, 5587, 293, 3977, 5262, 1249, 5088, 4062, 4770, 1054, 4582, 4597, 5293, 3750]\n",
      "[351, 406, 22, 269, 69, 168, 402, 301, 207, 0, 128, 47, 409, 283, 135, 1839, 3104, 2139, 3577, 3080, 2419, 1393, 2745, 1986, 1673, 530, 1661, 1041, 1440, 1590, 1640, 415, 2000, 175, 1517, 4323, 4304, 1396, 5276, 711, 5084, 1039, 4436, 2188, 2786, 3181, 1029, 4284, 4296, 2695, 2047, 3242, 4080, 3870, 1127, 5175, 2299, 4571, 3253, 4037, 3097, 4407, 25, 1908, 1356, 2116, 1417, 1207, 495, 1744, 5355, 1050, 5654, 4744, 3911, 4224, 1217, 2227, 3486, 2857, 4712, 3746, 914, 2690, 3419, 51, 2727, 1741, 1753, 6038, 4282, 1686, 37, 2228, 6019, 1712, 4627, 5751, 645, 112, 2645, 5779, 847, 272, 4727, 1567, 2466, 751, 5706, 1903]\n",
      "[224, 198, 167, 52, 351, 58, 328, 92, 16, 1, 183, 150, 283, 32, 307, 1470, 1092, 1220, 717, 2122, 2146, 3682, 3622, 1747, 479, 2686, 3701, 3272, 317, 2952, 1355, 4458, 5851, 3958, 1804, 1252, 5, 5317, 5139, 904, 409, 3501, 2110, 2489, 3707, 3171, 4924, 708, 2038, 1186, 2244, 5163, 2546, 3677, 5646, 5928, 917, 4741, 3461, 4235, 4979, 1351, 4661, 1521, 3334, 3800, 2668, 4947, 1025, 3483, 2098, 3468, 2953, 402, 5454, 1011, 2487, 3925, 1799, 4563, 1657, 258, 476, 2990, 2611, 4711, 607, 5043, 3383, 3302, 1162, 1094, 1279, 6030, 4495, 2376, 1296, 3574, 5944, 4037, 5431, 5264, 1838, 1131, 5756, 999, 633, 4911, 2028, 761]\n",
      "[222, 410, 98, 128, 165, 141, 217, 162, 223, 320, 111, 326, 215, 330, 116, 129, 2640, 937, 1583, 589, 2323, 2996, 2012, 2252, 3259, 479, 921, 907, 3087, 1210, 3839, 3925, 1301, 716, 1893, 2693, 1396, 2407, 872, 492, 3856, 738, 4093, 1007, 3277, 945, 3091, 1644, 4073, 3466, 4454, 4831, 5473, 3801, 5691, 5849, 1874, 934, 3016, 3520, 5158, 1382, 5532, 5599, 1798, 852, 4149, 5966, 3393, 1746, 1514, 4712, 5625, 4447, 3811, 448, 2745, 3366, 2720, 1260, 5023, 5595, 4757, 1276, 476, 1460, 3249, 5718, 3681, 2381, 2139, 810, 5196, 4094, 556, 1937, 204, 1491, 4764, 1468, 5833, 4405, 2177, 5464, 27, 4727, 3365, 5227, 2498, 5065, 3655, 1212]\n",
      "[328, 16, 234, 292, 138, 249, 354, 174, 343, 150, 299, 278, 241, 394, 203, 412, 2734, 3657, 911, 1297, 1333, 479, 2687, 490, 967, 1408, 3255, 3061, 1962, 526, 3614, 280, 4266, 2353, 2642, 1071, 4257, 579, 523, 842, 375, 1670, 1556, 2149, 1944, 5854, 5902, 776, 1867, 184, 5091, 4135, 4672, 3511, 5429, 1252, 366, 360, 2448, 4092, 34, 3015, 2289, 2691, 2868, 1514, 2711, 4959, 1299, 1168, 1322, 4125, 3954, 1861, 1014, 5672, 4142, 3616, 3564, 3124, 2335, 1153, 4114, 4628, 5983, 2639, 344, 4817, 1134, 893, 539, 1755, 695, 2727, 5136, 13, 1883, 4566, 4891, 1748, 4533, 3640, 5804, 4056, 3617, 5214, 609, 4763, 1624, 3705, 5252, 1813]\n",
      "[301, 298, 94, 26, 150, 52, 130, 402, 126, 348, 25, 300, 354, 412, 135, 410, 2099, 245, 1499, 259, 3704, 3475, 1672, 230, 3537, 3792, 2080, 587, 592, 2965, 1087, 3590, 1934, 538, 1827, 4462, 5097, 3948, 396, 1390, 4619, 6018, 742, 2320, 5100, 1154, 875, 1260, 4671, 528, 1805, 783, 19, 3088, 2453, 211, 3771, 3983, 5250, 5714, 602, 6023, 1228, 3722, 5068, 3252, 4811, 3712, 4856, 5873, 5197, 4093, 5804, 3581, 5367, 5388, 4887, 961, 5575, 2838, 1817, 2293, 4566, 1697, 362, 4820, 969, 4500, 780, 2757, 1625, 214, 5224, 3883, 886, 2490, 2247, 4902, 4276, 4852, 720, 4150, 1896, 234, 4891, 5589, 1486, 5740, 1206, 4343, 5377]\n",
      "[92, 345, 32, 224, 160, 61, 180, 408, 96, 349, 122, 411, 331, 204, 184, 334, 3443, 1536, 1266, 3265, 280, 268, 732, 2958, 907, 2627, 3028, 1243, 57, 344, 207, 5734, 4059, 4870, 960, 4507, 316, 585, 4530, 3995, 4061, 2796, 2182, 4649, 637, 2811, 2387, 3024, 4324, 2411, 4386, 4723, 310, 3068, 1581, 2379, 1138, 4586, 6004, 414, 2907, 2895, 3608, 2549, 1418, 1247, 3620, 788, 2716, 4746, 3723, 2701, 4096, 5567, 1927, 1143, 1076, 1521, 5759, 679, 3855, 2278, 2124, 2891, 5471, 5252, 4947, 1263, 3981, 3578, 4762, 441, 3556, 5931, 1185, 5610, 1331, 4553, 5683, 507, 2943, 4620, 3802, 3817, 2304, 94, 3391, 4107, 5331, 3565, 949]\n",
      "[107, 389, 75, 33, 79, 96, 234, 21, 184, 325, 342, 47, 165, 133, 305, 3947, 3933, 1212, 2791, 1916, 917, 1415, 1384, 3577, 1269, 2641, 378, 1207, 367, 3297, 4279, 3407, 1340, 804, 6009, 4293, 3374, 2419, 465, 933, 1687, 2004, 4446, 5809, 3520, 3792, 1986, 4931, 3537, 2897, 4898, 4676, 2153, 6014, 4873, 2152, 4342, 5514, 3124, 1405, 3263, 1188, 3530, 3551, 934, 2424, 5887, 1407, 1145, 2667, 2201, 2294, 4067, 3775, 5073, 1615, 4559, 2463, 4767, 2659, 757, 4357, 2578, 4300, 3967, 1260, 3764, 5029, 2691, 3356, 5149, 3846, 1586, 4331, 3350, 6026, 3316, 892, 5640, 852, 4665, 4515, 4685, 2606, 2856, 2290, 4484, 1963, 4211, 3643]\n",
      "[295, 241, 114, 35, 52, 289, 353, 252, 22, 186, 105, 325, 357, 354, 130, 191, 3514, 3207, 1406, 540, 1917, 1392, 3554, 3533, 857, 476, 910, 2925, 1034, 3910, 2870, 1720, 3839, 650, 5170, 1489, 5708, 50, 1143, 2192, 2619, 903, 5106, 5501, 4129, 2290, 3699, 4992, 5076, 4016, 4249, 1291, 618, 3107, 183, 2313, 3909, 881, 861, 867, 782, 5436, 5918, 4980, 2038, 6025, 601, 5202, 1798, 1362, 921, 281, 4394, 4132, 2329, 1858, 599, 4753, 5975, 3565, 2509, 2883, 2395, 3087, 2636, 670, 2547, 367, 3610, 5660, 2682, 4877, 2779, 4891, 1939, 2431, 1683, 791, 3473, 2112, 5233, 3824, 1219, 1020, 4600, 5591, 2885, 796, 641, 626]\n",
      "[201, 44, 168, 9, 259, 33, 266, 186, 122, 155, 318, 337, 7, 75, 327, 133, 2947, 1958, 2705, 931, 1800, 2470, 2238, 10, 3466, 3218, 1102, 3359, 1276, 440, 3019, 352, 2287, 2063, 5779, 1957, 5382, 4434, 3794, 5045, 4876, 3785, 2419, 1333, 493, 980, 716, 5617, 5184, 3399, 3451, 4436, 4623, 2524, 5256, 2593, 4134, 1059, 5566, 1639, 4213, 3482, 4793, 3411, 2754, 558, 1655, 4535, 5876, 3601, 2396, 2717, 3821, 5002, 6030, 1736, 5915, 3467, 2091, 4770, 4383, 1073, 1643, 4572, 2597, 3341, 3607, 1719, 5265, 196, 2449, 1218, 4847, 4510, 3033, 715, 4581, 2239, 3522, 1824, 4158, 468, 3867, 2305, 906, 5181, 5937, 5911, 763, 2752]\n",
      "[17, 35, 149, 208, 126, 313, 329, 100, 224, 145, 59, 52, 296, 44, 1543, 2598, 589, 3156, 454, 1018, 3483, 376, 348, 1080, 2272, 3172, 2354, 1030, 1192, 354, 259, 5942, 450, 3210, 5764, 4806, 2973, 1804, 913, 3290, 5901, 156, 1529, 4130, 3508, 3783, 80, 4058, 1208, 594, 761, 504, 2869, 2929, 1346, 1717, 2413, 1948, 471, 4703, 1986, 2767, 5970, 3466, 5167, 1074, 3091, 2135, 5016, 4287, 3363, 518, 3114, 4578, 2035, 2263, 871, 3236, 5310, 4045, 3592, 3931, 5397, 4512, 5164, 4274, 341, 2267, 4361, 1519, 4549, 1945, 5887, 4683, 735, 801, 3812, 1096, 5416, 751, 1061, 258, 4476, 3634, 1784, 5272, 1419, 5814]\n"
     ]
    },
    {
     "name": "stdout",
     "output_type": "stream",
     "text": [
      "[215, 230, 132, 89, 322, 296, 354, 400, 258, 263, 267, 242, 270, 336, 106, 320, 3071, 2287, 3417, 3825, 923, 2992, 2639, 2682, 3151, 1959, 3501, 1306, 3059, 1209, 1212, 1213, 5191, 1623, 4619, 3375, 1380, 3130, 634, 4607, 3823, 2250, 2352, 1422, 3801, 117, 1304, 236, 2594, 5315, 311, 2801, 5013, 5152, 2425, 281, 5320, 1272, 2608, 1094, 1419, 4214, 2256, 3006, 828, 759, 5879, 3162, 4510, 1314, 3133, 2244, 4333, 767, 1188, 5622, 3106, 1780, 3082, 4947, 1589, 3747, 4059, 1478, 3435, 342, 1464, 4168, 4820, 6, 3064, 5106, 1803, 618, 4170, 245, 2483, 5039, 5553, 1654, 988, 5758, 3167, 2068, 4003, 5898, 4903, 162, 2309, 5408, 3677]\n",
      "[237, 162, 283, 194, 8, 58, 402, 258, 57, 382, 69, 408, 338, 215, 239, 63, 33, 596, 2016, 828, 222, 3413, 2836, 2972, 1059, 2706, 3272, 3106, 3362, 2335, 1239, 1681, 1915, 4829, 4090, 3765, 1147, 5243, 3914, 5366, 4495, 1082, 5732, 1400, 4686, 3507, 4475, 2610, 157, 1785, 3322, 1004, 1419, 4048, 4649, 3530, 5766, 3471, 1963, 787, 1450, 492, 1343, 4453, 3460, 1832, 5274, 711, 4193, 5915, 2086, 4824, 2073, 963, 969, 5742, 1968, 1069, 3336, 1732, 2317, 3772, 2294, 2387, 1288, 1477, 168, 5054, 2624, 5075, 5715, 126, 2582, 1166, 1476, 953, 2365, 5171, 84, 611, 2519, 4500, 970, 3893, 2939, 2831, 4306, 2985, 3095, 4821, 2907]\n",
      "[385, 162, 244, 7, 320, 200, 257, 56, 334, 234, 55, 274, 386, 354, 61, 1357, 3004, 2290, 1703, 15, 2281, 1746, 3784, 187, 43, 496, 33, 2143, 10, 2264, 2176, 2267, 1052, 4653, 1226, 4028, 5887, 3694, 2476, 1838, 5158, 5988, 5522, 1529, 2914, 5184, 2277, 4520, 3857, 4672, 4989, 302, 1647, 2157, 1247, 910, 5852, 5250, 1936, 2109, 1404, 4571, 267, 3507, 3710, 1804, 5598, 5434, 4562, 5413, 4663, 3024, 2462, 173, 1983, 869, 3340, 1976, 3993, 2540, 2255, 866, 3152, 4616, 1111, 3128, 1525, 660, 5003, 1325, 529, 4521, 2604, 3843, 4813, 575, 3318, 582, 2949, 4661, 395, 3122, 3117, 1683, 5178, 4802, 5114, 3136]\n",
      "[244, 194, 330, 136, 277, 92, 47, 164, 122, 263, 259, 152, 257, 131, 414, 272, 2807, 2368, 3175, 1644, 1274, 3094, 1354, 2027, 1861, 1922, 3947, 672, 735, 2405, 1227, 5110, 1504, 482, 1191, 1026, 1766, 2790, 5793, 3640, 424, 4898, 2632, 1590, 3466, 5552, 976, 3687, 5883, 530, 64, 2679, 3934, 1531, 1129, 5446, 2974, 390, 5115, 2904, 4968, 2104, 4066, 1809, 585, 4038, 4526, 942, 954, 111, 193, 2796, 3346, 1443, 4673, 3210, 5033, 2345, 70, 3914, 1641, 4950, 2490, 3221, 170, 5362, 4366, 4052, 2915, 2, 3141, 2913, 294, 878, 42, 4312, 890, 5482, 4528, 5309, 5992, 527, 469, 1687, 4979, 5541, 1519, 2233, 2375, 1776, 5602]\n",
      "[168, 309, 43, 299, 35, 9, 325, 267, 410, 318, 148, 328, 101, 113, 3417, 1473, 542, 1268, 1232, 3263, 2746, 45, 3078, 23, 2616, 1035, 3826, 3061, 554, 2354, 3148, 4224, 1763, 932, 1859, 5677, 3811, 798, 4757, 4158, 5978, 3098, 3397, 3444, 3314, 5637, 4258, 1474, 6018, 190, 1691, 1715, 5207, 4342, 4111, 4157, 3615, 4009, 5652, 3011, 1308, 5020, 2517, 5199, 4272, 5408, 3356, 2905, 3565, 4350, 1768, 3770, 5688, 1055, 653, 4359, 5495, 3777, 3282, 5180, 4424, 2974, 2688, 984, 1429, 4522, 2410, 3423, 1624, 5374, 4865, 2158, 3167, 3424, 3984, 794, 3165, 1980, 5539, 2299, 3652, 4189, 1134, 898, 2594, 5923, 4374, 2431]\n",
      "[51, 144, 391, 61, 32, 232, 91, 320, 160, 330, 81, 296, 397, 135, 398, 7, 2698, 2699, 2571, 2063, 3358, 6, 1213, 3907, 1634, 784, 1731, 1197, 1219, 1056, 3218, 1692, 1824, 2333, 5077, 3926, 687, 4132, 2130, 2692, 5144, 441, 2622, 529, 353, 3927, 5104, 3663, 1958, 86, 2808, 5962, 4849, 124, 1044, 1959, 1578, 500, 5419, 337, 2337, 1356, 4314, 5287, 2521, 4726, 5769, 5489, 291, 5879, 3934, 5827, 5350, 5002, 3224, 1701, 4453, 3151, 3187, 886, 1057, 5209, 1747, 22, 4742, 3525, 2964, 168, 2207, 447, 1248, 2447, 491, 637, 3435, 5943, 4770, 2425, 596, 5073, 2567, 3031, 3585, 4141, 1872, 1442, 1035, 5872, 4382, 1305]\n",
      "[272, 318, 133, 406, 186, 160, 255, 194, 335, 401, 224, 336, 307, 116, 283, 72, 547, 278, 2857, 1083, 1356, 3460, 1220, 923, 3300, 1287, 3868, 1543, 2917, 2079, 1195, 3408, 3626, 1097, 721, 3379, 4209, 1595, 5058, 2558, 1384, 4032, 1508, 2201, 4829, 1485, 308, 5973, 4762, 4409, 1166, 5545, 2042, 5772, 2515, 3804, 3653, 3543, 5617, 4018, 261, 5646, 5461, 2744, 1601, 4655, 3819, 2039, 3216, 3519, 1647, 2015, 5472, 6015, 5370, 5455, 4158, 2689, 1411, 1823, 5304, 572, 2595, 1074, 5814, 720, 4970, 1719, 3967, 4725, 5520, 4855, 5979, 1481, 3565, 3441, 5653, 5464, 4139, 1033, 6009, 4957, 1740, 834, 3370, 454, 3276, 6029, 4092, 2979, 1285]\n",
      "[61, 189, 110, 147, 337, 401, 325, 271, 57, 51, 52, 224, 192, 236, 244, 229, 1640, 3100, 109, 931, 901, 1626, 540, 609, 747, 367, 1270, 2701, 3769, 3360, 2251, 3841, 2918, 1634, 2003, 5462, 2371, 5252, 3037, 1450, 3672, 3559, 842, 404, 5466, 3409, 3700, 5439, 5056, 3919, 2998, 5235, 3636, 376, 3833, 5618, 3931, 2549, 4018, 6001, 3681, 4355, 3246, 2649, 255, 949, 5249, 927, 2373, 5034, 6003, 2202, 1030, 3973, 2815, 4244, 723, 1351, 5950, 5874, 2743, 2131, 2195, 3546, 3801, 597, 3781, 439, 3554, 5899, 5569, 2146, 4768, 5560, 369, 4026, 2731, 2510, 661, 163, 2917, 2837, 1017, 5064, 85, 233, 4105, 4544, 1782, 4130]\n",
      "[260, 12, 122, 186, 90, 339, 116, 347, 337, 300, 32, 263, 365, 132, 550, 1369, 2857, 2545, 1393, 3027, 404, 1293, 1953, 1991, 2733, 3146, 3031, 366, 1946, 2057, 125, 2916, 2653, 3122, 4777, 4266, 2391, 4261, 2282, 3675, 866, 3617, 3140, 3880, 4428, 2033, 1223, 411, 4087, 4670, 307, 2180, 1497, 5228, 3196, 823, 5926, 4421, 938, 2951, 4649, 5206, 1887, 3614, 172, 4723, 5229, 3660, 4549, 2815, 1007, 3040, 3805, 3028, 5567, 5331, 1840, 5371, 449, 733, 2896, 5728, 817, 5017, 1203, 3910, 4782, 5375, 833, 2938, 3683, 170, 1716, 1034, 3645, 3463, 921, 649, 2304, 3524, 2818, 2886, 2037, 392, 1929, 2682, 3404, 385, 2290]\n",
      "[351, 213, 269, 325, 283, 135, 52, 61, 388, 160, 321, 148, 301, 22, 244, 2567, 744, 1386, 3465, 3907, 1265, 2874, 3250, 1872, 3470, 919, 561, 1597, 186, 1675, 1184, 1622, 4536, 5916, 4112, 231, 4684, 1953, 2982, 4667, 817, 1182, 1127, 709, 4018, 1936, 1114, 5161, 3547, 4731, 3691, 130, 4517, 1292, 5222, 4107, 1160, 5138, 5337, 5870, 5940, 5542, 3763, 1890, 656, 5863, 4535, 2798, 1709, 1387, 2448, 4255, 1752, 3875, 3897, 1046, 4398, 4462, 2940, 1686, 2010, 5912, 2855, 1307, 1214, 2354, 1605, 1594, 5651, 3019, 4286, 4036, 5941, 2882, 1389, 6016, 288, 4577, 4400, 4714, 4836, 1653, 210, 1887, 5984, 5464, 2739, 3517, 3055, 2980, 4372]\n",
      "[4, 148, 260, 57, 77, 175, 261, 311, 9, 345, 254, 321, 203, 35, 23, 228, 1732, 647, 456, 2104, 1413, 1196, 315, 295, 3094, 2397, 2475, 3752, 499, 2154, 1673, 1679, 5467, 2153, 4098, 389, 464, 2403, 2237, 1814, 3360, 1954, 3634, 1827, 635, 810, 2226, 5071, 5223, 1433, 4694, 3502, 1503, 2075, 1890, 294, 2675, 5306, 5472, 2247, 4984, 2717, 2901, 4715, 3578, 5905, 4654, 4749, 46, 1862, 940, 3423, 5628, 5814, 1578, 5193, 3168, 3507, 12, 3151, 5136, 3443, 5880, 1974, 5426, 4104, 887, 5456, 1569, 1620, 5339, 5402, 400, 1228, 1592, 5129, 819, 2762, 5768, 1020, 1239, 5268, 2844, 632, 5777, 5862, 4310, 2142, 1237, 5980, 5950, 5645]\n",
      "[379, 193, 354, 348, 334, 209, 14, 176, 215, 262, 194, 57, 197, 390, 89, 328, 2246, 247, 2495, 1833, 652, 586, 1096, 1631, 2790, 1408, 2004, 2367, 745, 3744, 3044, 420, 862, 5082, 5320, 3875, 1964, 1136, 4983, 5238, 864, 438, 933, 625, 3211, 1302, 4729, 678, 5970, 1088, 4429, 6017, 5846, 5945, 3632, 5999, 2127, 2658, 2112, 5575, 4965, 327, 1034, 4220, 435, 609, 4324, 5722, 2368, 2608, 1973, 2811, 361, 2663, 1161, 4100, 5031, 409, 2976, 4064, 2042, 811, 2599, 4266, 4825, 2813, 5685, 2461, 5481, 4874, 747, 5584, 1722, 3727, 557, 1943, 1199, 642, 4979, 1507, 456, 3913, 1909, 3907, 3378, 5614, 4359, 2965, 4658, 474, 3436]\n",
      "[244, 172, 162, 215, 30, 318, 116, 91, 272, 397, 47, 160, 25, 345, 148, 3792, 1360, 1901, 1731, 1303, 2857, 3490, 1783, 379, 2691, 691, 782, 3787, 2745, 1066, 336, 2976, 4797, 751, 5002, 845, 3573, 2967, 838, 1911, 985, 3478, 3750, 1804, 5293, 189, 1459, 3561, 3221, 5221, 3152, 1746, 4931, 377, 3151, 2226, 758, 5012, 302, 5662, 3621, 1751, 2051, 3649, 1733, 1337, 5636, 4336, 1499, 1475, 4947, 3764, 4982, 2947, 3980, 1312, 2147, 6, 3736, 900, 3361, 1584, 3396, 4139, 569, 1625, 5226, 425, 5799, 1719, 3082, 4250, 4576, 730, 2645, 3266, 3620, 2888, 5861, 4799, 1436, 1327, 4840, 3468, 1494, 1964, 4345, 817]\n",
      "[185, 301, 295, 130, 290, 361, 244, 224, 325, 241, 410, 328, 308, 96, 215, 52, 1032, 699, 2856, 627, 2949, 647, 2166, 1207, 2967, 1579, 3066, 1182, 2761, 49, 1943, 2540, 5415, 4952, 4987, 4238, 4863, 4847, 1209, 4457, 3817, 3477, 2203, 5728, 3353, 4865, 5590, 800, 1335, 2813, 5522, 2656, 3239, 4574, 3580, 5219, 2199, 2630, 1969, 3402, 3523, 4583, 480, 1436, 4472, 2969, 1960, 195, 2544, 4597, 4079, 3278, 3854, 4928, 3354, 2844, 117, 3417, 4905, 5500, 3715, 6028, 5215, 2183, 509, 3052, 1035, 624, 2363, 5239, 327, 600, 3314, 758, 1729, 3187, 3131, 4828, 5888, 5198, 470, 3914, 3607, 3965, 3779, 5144, 787, 2667, 3011, 4604]\n",
      "[323, 215, 44, 165, 32, 52, 77, 411, 134, 147, 168, 352, 283, 141, 207, 301, 3255, 2389, 1352, 1610, 1347, 3926, 1640, 1200, 2693, 901, 456, 295, 1293, 3420, 3703, 2769, 4395, 4673, 3188, 3195, 4533, 1675, 5513, 2036, 5571, 1318, 5015, 647, 3616, 742, 4610, 104, 3693, 5927, 3975, 2361, 3708, 4280, 536, 5278, 870, 686, 3978, 4825, 2272, 5406, 3144, 3749, 2579, 4734, 2274, 2296, 5601, 1300, 2820, 3063, 4144, 704, 1156, 97, 5193, 694, 3341, 5390, 4958, 5039, 1670, 867, 4593, 172, 5357, 111, 3774, 3165, 5559, 242, 132, 4599, 877, 386, 667, 5171, 3452, 1514, 3624, 364, 3829, 181, 3753, 5916, 3051, 1271, 1939, 4594]\n",
      "[411, 168, 327, 228, 197, 87, 210, 37, 82, 94, 351, 397, 21, 117, 215, 718, 1211, 456, 2995, 1922, 1230, 523, 3071, 2423, 35, 3144, 3751, 1196, 2639, 2311, 1638, 2554, 5159, 2914, 4699, 4718, 1373, 2981, 2756, 5777, 1579, 5426, 5316, 3412, 2408, 5919, 1547, 4204, 1811, 825, 1747, 2669, 890, 4412, 1249, 809, 428, 1804, 444, 5308, 6012, 4714, 2393, 1067, 1305, 633, 1905, 103, 1140, 2148, 1327, 1282, 4212, 972, 4181, 3531, 2709, 442, 1900, 2608, 1813, 2528, 902, 3579, 5669, 3794, 3851, 2077, 4357, 4694, 3549, 3963, 2005, 4125, 4046, 5336, 5738, 3854, 942, 5750, 930, 5948, 232, 4453, 2297, 1061, 4952, 875]\n",
      "[307, 135, 329, 318, 41, 2, 265, 266, 122, 224, 371, 100, 21, 117, 197, 95, 3909, 1820, 3820, 292, 647, 3551, 594, 1484, 3404, 3202, 1354, 3258, 230, 2871, 1219, 3099, 601, 3959, 4734, 4260, 437, 1440, 5204, 3608, 3812, 1778, 350, 682, 4984, 1586, 660, 2695, 5951, 210, 895, 1981, 3264, 2635, 4785, 729, 2761, 4303, 461, 5749, 5191, 5470, 4501, 3896, 5144, 1621, 5671, 3508, 1056, 3511, 2746, 36, 4946, 1308, 3874, 3585, 3953, 4542, 4240, 4817, 1731, 23, 1231, 1500, 1815, 2462, 206, 1825, 2840, 5372, 653, 5593, 6030, 1009, 871, 4441, 4285, 4430, 3315, 4665, 4788, 2087, 4326, 1528, 114, 2276, 2216, 957, 4209]\n"
     ]
    },
    {
     "name": "stdout",
     "output_type": "stream",
     "text": [
      "[379, 309, 299, 43, 292, 174, 234, 61, 116, 207, 236, 330, 244, 369, 1306, 206, 3806, 3043, 1207, 2738, 1012, 2986, 3361, 2091, 647, 3260, 140, 2644, 3792, 3159, 5378, 1552, 5008, 4543, 3368, 5683, 4875, 1664, 3288, 3053, 2965, 3700, 2631, 2363, 4548, 249, 3770, 3483, 4579, 5571, 2471, 1707, 1222, 3429, 4595, 3884, 4092, 5954, 1254, 3284, 1232, 1327, 214, 178, 1544, 838, 2452, 2088, 3306, 2922, 5328, 5213, 1071, 1286, 4176, 3978, 5641, 2093, 5803, 643, 3205, 2520, 885, 2321, 4145, 5324, 5141, 5108, 689, 1927, 1326, 4098, 175, 5624, 3562, 4209, 5047, 2543, 2432, 946, 4433, 2943, 4406, 5980, 4222, 337, 2936, 1786, 4408]\n",
      "[262, 32, 195, 207, 336, 351, 328, 88, 149, 385, 173, 294, 348, 52, 136, 401, 1187, 1343, 295, 1960, 1908, 2080, 2722, 3739, 3825, 1369, 2432, 592, 3091, 3255, 2906, 3128, 1878, 5789, 443, 725, 2210, 1857, 3121, 1771, 5262, 980, 4217, 2512, 1383, 3856, 2208, 4236, 5946, 4608, 5864, 1281, 1009, 2077, 3684, 5872, 1655, 2677, 4742, 5337, 4934, 2787, 194, 788, 1722, 4067, 2652, 6028, 1392, 4373, 3196, 5806, 1882, 5841, 5093, 3715, 2203, 2271, 3188, 3963, 3333, 5401, 3175, 5938, 1349, 6009, 4003, 2848, 1370, 5204, 1029, 3149, 4735, 1442, 4788, 805, 5272, 3393, 257, 3445, 2751, 187, 363, 3460, 3952, 2643, 5391, 4587, 4186]\n",
      "[283, 21, 330, 33, 150, 323, 47, 402, 313, 394, 236, 336, 43, 8, 130, 348, 1970, 909, 1908, 2381, 1579, 2352, 2862, 2430, 1241, 3272, 467, 605, 2570, 3146, 2874, 1960, 5420, 3921, 476, 226, 3415, 5774, 4680, 2940, 2775, 5192, 2379, 1560, 829, 3070, 480, 5418, 3285, 4070, 911, 3128, 765, 5340, 1208, 1519, 2008, 5288, 2782, 224, 583, 2456, 4194, 4427, 4894, 3757, 22, 3942, 3055, 5270, 310, 3993, 106, 2523, 4030, 4200, 1436, 1635, 4899, 1655, 291, 5145, 1964, 1552, 5285, 2093, 2802, 1217, 1257, 1582, 704, 4542, 5004, 5352, 3641, 2398, 37, 966, 1661, 5537, 2490, 4995, 595, 2683, 5079, 2554, 35, 5877, 700, 375, 5302, 81]\n",
      "[91, 209, 160, 395, 57, 58, 348, 10, 301, 156, 389, 197, 118, 2693, 545, 2965, 3474, 1018, 1275, 3509, 1484, 607, 3644, 1253, 1373, 2789, 3097, 2047, 708, 280, 1817, 4699, 2639, 2294, 3578, 1920, 2019, 3502, 2643, 893, 1186, 1232, 5798, 4994, 5898, 725, 1452, 2349, 1645, 5280, 1378, 5740, 4418, 3884, 1777, 796, 4160, 4210, 5166, 2265, 2730, 5788, 5653, 1884, 5141, 510, 5029, 2629, 3732, 810, 4250, 2623, 5681, 327, 408, 4759, 4175, 3740, 25, 4517, 430, 2311, 3135, 1305, 3287, 5358, 5645, 1338, 4619, 1413, 2596, 464, 5201, 258, 624, 1681, 1698, 5792, 5621, 1399, 2748, 5404, 654, 5895, 2944, 2731, 3183, 2168, 4199]\n",
      "[96, 33, 234, 244, 191, 277, 180, 224, 347, 18, 122, 145, 51, 130, 172, 2857, 3086, 531, 2700, 1596, 3012, 3696, 2359, 1379, 1910, 2717, 2159, 3439, 352, 2917, 3698, 2774, 3249, 3048, 4039, 1878, 5214, 2300, 3548, 3073, 4122, 3702, 5887, 5416, 441, 3674, 3392, 5798, 3443, 5869, 4655, 1490, 4902, 2905, 2436, 1230, 3366, 4155, 3157, 1418, 2768, 983, 4324, 3402, 1321, 3817, 2669, 3051, 544, 182, 5136, 5006, 4681, 2684, 5716, 100, 2816, 1856, 4640, 4915, 2801, 5533, 3777, 4252, 2152, 1606, 2885, 1459, 4845, 4151, 2673, 1990, 3822, 1838, 270, 5261, 744, 4150, 4434, 4058, 2373, 4594, 3360, 2121, 1586, 1234, 4249, 1001, 4321, 5601]\n",
      "[201, 136, 144, 162, 169, 181, 100, 89, 271, 194, 325, 284, 87, 197, 21, 192, 506, 454, 2290, 2857, 1269, 2990, 526, 3272, 1613, 1934, 2354, 1309, 1197, 2352, 3659, 1018, 3491, 59, 3360, 1116, 1210, 1001, 2405, 1013, 5696, 3493, 5209, 5269, 1488, 5586, 5741, 3374, 4233, 3518, 1313, 1424, 4449, 1289, 579, 3934, 4862, 3475, 5352, 4012, 1364, 2597, 3640, 4858, 1877, 2320, 915, 5970, 2876, 3665, 4167, 1152, 4026, 4068, 421, 2431, 1253, 2236, 3477, 496, 972, 2915, 1565, 1988, 1509, 5549, 1737, 3717, 1556, 1213, 503, 865, 4072, 5662, 2693, 4056, 1984, 5642, 29, 4355, 4378, 1266, 1697, 572, 528, 1775, 5911, 2690, 1815, 931, 553]\n",
      "[384, 159, 200, 267, 191, 92, 16, 117, 145, 318, 236, 224, 244, 243, 12, 262, 2411, 1386, 2828, 3783, 1370, 2989, 2406, 1371, 1063, 379, 542, 1088, 2763, 2857, 2615, 1059, 3379, 963, 898, 2272, 5994, 3768, 2311, 6003, 3672, 603, 1466, 457, 2004, 4514, 2014, 2978, 4411, 615, 4934, 4454, 3263, 5666, 470, 2606, 1593, 5562, 2227, 2820, 922, 4288, 829, 928, 1561, 3656, 1101, 4658, 3670, 3699, 2549, 207, 128, 3559, 2885, 452, 3446, 1933, 1383, 5338, 5187, 5652, 5462, 3522, 531, 2791, 2122, 1141, 3442, 2139, 3279, 4540, 4635, 5941, 3798, 4601, 1535, 5436, 2783, 586, 2312, 226, 3403, 4284, 1724, 5515, 5242, 4989, 821, 4759]\n",
      "[302, 241, 129, 122, 145, 395, 23, 298, 356, 61, 52, 254, 405, 367, 72, 228, 492, 662, 3762, 857, 3193, 901, 592, 1265, 2825, 1302, 69, 3257, 1089, 3798, 456, 10, 2539, 1296, 3917, 4516, 1775, 3700, 2784, 5446, 4765, 1105, 4644, 1110, 2616, 2587, 717, 3454, 321, 1589, 757, 2061, 335, 1651, 3259, 2231, 3827, 3196, 480, 1283, 3567, 1591, 2481, 2500, 1431, 691, 1264, 3923, 2839, 1953, 2623, 2133, 5790, 1224, 5207, 785, 1409, 5565, 2004, 841, 4712, 832, 2445, 114, 5640, 4212, 5049, 2300, 128, 2256, 3061, 2595, 3430, 4705, 1315, 5671, 1449, 604, 4734, 4013, 4558, 5985, 4781, 4724, 3832, 3724, 60, 2694, 1731, 2654, 3675]\n",
      "[162, 347, 191, 215, 197, 172, 183, 320, 147, 171, 330, 220, 396, 2438, 465, 3670, 1952, 314, 2173, 478, 647, 1128, 1362, 2857, 3253, 2619, 2874, 526, 1920, 5618, 2511, 5338, 4076, 4234, 618, 413, 2516, 3781, 5238, 3506, 3279, 4890, 4834, 1938, 5287, 559, 4003, 1624, 2876, 5998, 5220, 1792, 4250, 805, 3913, 1992, 2985, 2093, 4532, 851, 4237, 5422, 3631, 368, 3684, 536, 2129, 661, 3564, 825, 1948, 5335, 350, 176, 1584, 5493, 2577, 5457, 2765, 2609, 568, 2064, 2324, 2188, 5868, 3535, 1145, 5791, 3494, 4732, 842, 2328, 2815, 5667, 2389, 4462, 5330, 6002, 4170, 2816, 5208, 3457, 4281, 3339, 5623, 244, 2453]\n",
      "[230, 197, 263, 385, 328, 189, 284, 267, 229, 185, 22, 305, 292, 299, 1373, 1386, 3168, 1212, 1174, 2986, 530, 1875, 526, 2540, 2390, 295, 1394, 3739, 2691, 949, 5789, 3073, 2052, 304, 383, 3473, 2090, 2121, 1691, 167, 4275, 4640, 4623, 3628, 2201, 3772, 1150, 4528, 5170, 2718, 1938, 865, 3728, 1141, 371, 4, 5593, 5419, 5030, 4861, 5162, 2511, 724, 5375, 5494, 5265, 1709, 5438, 5538, 3169, 309, 2125, 1349, 4981, 1353, 2967, 1014, 2264, 3441, 4210, 1934, 2402, 1050, 472, 1509, 5751, 253, 3524, 5746, 5464, 3717, 1987, 5299, 670, 560, 73, 4046, 2317, 3085, 755, 5390, 1538, 4878, 1487, 3177, 3318, 2484, 2672, 394, 2021]\n",
      "[168, 33, 150, 9, 147, 246, 308, 411, 92, 235, 354, 94, 215, 263, 257, 284, 1960, 1284, 479, 586, 3790, 1206, 349, 51, 1387, 1999, 1996, 1232, 3234, 2010, 1891, 2129, 1849, 135, 2220, 616, 2681, 4454, 414, 1292, 605, 3027, 3741, 3855, 1432, 2313, 1134, 5729, 885, 3222, 21, 5342, 2213, 1234, 4081, 4789, 3252, 5085, 63, 6038, 3643, 498, 1267, 4316, 4394, 341, 38, 2660, 5215, 3407, 3333, 5032, 3469, 139, 4766, 3095, 3898, 831, 4777, 5764, 3182, 444, 4719, 5970, 4429, 3211, 4031, 2504, 931, 5824, 3946, 4828, 2418, 762, 965, 5586, 261, 4197, 1261, 2897, 2032, 3673, 1164, 1023, 2943, 5860, 1689, 2276, 397, 4993, 1060]\n",
      "[96, 391, 330, 258, 41, 325, 128, 18, 168, 240, 378, 279, 149, 22, 186, 1249, 3209, 2164, 1644, 1583, 3174, 379, 594, 1924, 2277, 10, 234, 607, 20, 1632, 1421, 1796, 1127, 428, 5644, 5453, 101, 2904, 4537, 818, 2337, 1589, 308, 4996, 4116, 5956, 571, 7, 2462, 3416, 6020, 5350, 3059, 1250, 5786, 4785, 991, 1535, 3449, 4572, 4542, 4834, 3066, 3119, 5100, 4245, 3600, 5693, 2389, 1496, 3360, 3535, 3182, 2814, 1769, 5234, 4460, 5114, 3866, 2138, 849, 3538, 3519, 2993, 1857, 516, 2219, 919, 3318, 4163, 1023, 205, 2212, 5614, 826, 214, 5276, 1426, 3443, 5779, 353, 1315, 803, 3577, 5298, 3151, 3212, 2888, 2384, 3851]\n",
      "[288, 234, 410, 289, 122, 391, 14, 67, 22, 69, 148, 311, 202, 43, 318, 1251, 580, 3104, 149, 2456, 1242, 526, 2299, 2532, 907, 2383, 2857, 2694, 918, 1391, 1262, 5026, 627, 3517, 4308, 4341, 4342, 2471, 673, 2008, 79, 538, 2185, 3136, 1742, 4190, 754, 925, 431, 4060, 1302, 2065, 5527, 856, 2869, 5931, 552, 3101, 4092, 4814, 3049, 3715, 5993, 5513, 1707, 5869, 1264, 5745, 3490, 2244, 1103, 502, 5431, 5678, 2161, 2677, 1752, 1493, 5008, 3362, 3212, 4803, 232, 1749, 4417, 2330, 4611, 1383, 3759, 5682, 5824, 4335, 3171, 3259, 4753, 2487, 3308, 3025, 3890, 3091, 3880, 3387, 1711, 3218, 2214, 4010, 4145, 3273, 4933, 371, 1333]\n",
      "[116, 253, 181, 301, 209, 23, 244, 8, 215, 149, 300, 43, 52, 194, 328, 1048, 1213, 2395, 1746, 3081, 2173, 3622, 3754, 1960, 2914, 2640, 111, 2459, 1912, 1883, 3450, 3704, 5753, 4074, 2493, 2545, 454, 5040, 1264, 5691, 5252, 1514, 1805, 5965, 577, 4522, 2836, 2452, 5964, 4599, 3583, 2343, 5883, 1318, 3342, 1251, 4601, 3068, 2541, 4816, 397, 5681, 3737, 1425, 5860, 711, 3879, 650, 2843, 801, 5848, 4896, 4578, 3332, 4928, 4355, 2369, 5524, 27, 4580, 4866, 2984, 1797, 5765, 2375, 837, 1360, 392, 2247, 3136, 3456, 1596, 658, 4242, 1424, 1923, 4879, 3049, 4760, 2021, 2016, 2853, 2684, 4402, 2199, 1557, 200, 3042, 264]\n",
      "[204, 123, 402, 165, 201, 168, 91, 44, 149, 117, 328, 52, 255, 9, 317, 1543, 3447, 908, 2164, 1355, 1604, 356, 3947, 3577, 3784, 197, 1478, 1232, 3251, 1565, 4920, 2684, 2391, 5226, 2338, 953, 912, 5633, 3160, 2614, 2018, 4866, 2328, 3290, 4475, 4121, 2098, 2822, 4593, 2686, 1595, 5805, 3534, 1836, 4890, 5201, 1466, 171, 1395, 5992, 3473, 2489, 4508, 286, 4641, 3663, 3854, 935, 4681, 594, 3819, 1370, 61, 3708, 1867, 4516, 4738, 2890, 830, 1559, 2722, 3564, 1055, 2594, 5263, 5813, 380, 2437, 2387, 3974, 1419, 1656, 516, 1605, 5231, 3722, 3476, 145, 3049, 4667, 2092, 4146, 931, 4626, 834, 5779, 4788, 2107, 5078]\n",
      "[73, 411, 264, 91, 92, 318, 280, 215, 229, 85, 122, 245, 241, 385, 262, 410, 3506, 2133, 1951, 3860, 2616, 1962, 1616, 2870, 3259, 903, 3043, 2715, 3408, 662, 2114, 2462, 136, 1916, 2154, 2864, 3359, 848, 393, 3888, 1256, 363, 5366, 5027, 2767, 2693, 994, 897, 3497, 3515, 3245, 578, 5288, 4604, 3343, 5078, 2385, 1935, 3107, 6021, 4903, 551, 3571, 4618, 3072, 250, 4936, 5202, 2531, 5507, 249, 767, 419, 5190, 5920, 2052, 3339, 2705, 3453, 3058, 4742, 949, 999, 983, 1381, 5453, 2151, 825, 3759, 1808, 5863, 2785, 424, 2433, 3391, 4387, 850, 5689, 3442, 41, 5444, 219, 2447, 587, 323, 4185, 1043, 4890, 4749, 4381, 4956, 362]\n"
     ]
    },
    {
     "name": "stdout",
     "output_type": "stream",
     "text": [
      "[115, 186, 135, 61, 347, 230, 165, 376, 332, 337, 170, 351, 301, 47, 271, 382, 2967, 15, 2996, 1634, 2526, 1386, 458, 1219, 1268, 49, 3752, 2335, 913, 3269, 2420, 2689, 5942, 3160, 1069, 4330, 421, 2908, 6022, 4318, 5170, 3178, 692, 553, 2085, 1266, 2804, 5726, 4357, 3689, 5411, 4121, 1015, 440, 2644, 1622, 3816, 3294, 1479, 2831, 3149, 3295, 4889, 4143, 2942, 2239, 375, 4010, 5977, 1579, 570, 2305, 3678, 542, 1, 5720, 1810, 3144, 3623, 1840, 4620, 3427, 3288, 2885, 6013, 4699, 3749, 1152, 4604, 2009, 6004, 2169, 3617, 5823, 674, 449, 3507, 1839, 2928, 5619, 4113, 2489, 3855, 3504, 4508, 502, 1981, 1234, 2037, 3085, 2622, 110]\n",
      "[156, 244, 302, 122, 30, 239, 194, 271, 32, 357, 145, 330, 164, 47, 148, 191, 3554, 1725, 1541, 874, 2921, 1579, 3470, 3551, 2383, 1178, 16, 1791, 2063, 1953, 44, 1561, 3856, 5148, 3672, 3546, 884, 1539, 3199, 1617, 3616, 3226, 5085, 840, 1184, 5420, 4124, 4664, 623, 4228, 3935, 5229, 1982, 2153, 4649, 2554, 4628, 4221, 6018, 4559, 3224, 3169, 5136, 3982, 171, 4138, 782, 1971, 437, 5815, 4290, 5462, 5418, 127, 5872, 3596, 3980, 3984, 4527, 1095, 2665, 5830, 1110, 2088, 3258, 1322, 433, 3398, 3165, 5647, 4629, 4993, 1469, 5899, 553, 1632, 5646, 569, 1432, 3130, 2766, 3038, 2985, 260, 1889, 4960, 4747, 4965, 4172, 3994, 5264]\n",
      "[136, 328, 118, 138, 224, 300, 236, 186, 332, 330, 201, 362, 22, 147, 257, 2267, 3038, 157, 315, 1186, 837, 1187, 3784, 1953, 1597, 2642, 3514, 366, 1370, 1588, 1720, 4199, 3728, 2072, 3321, 5520, 4036, 4418, 2577, 3753, 3282, 2100, 3803, 5419, 5142, 660, 2171, 1691, 5230, 6033, 2555, 5433, 5452, 631, 5306, 5246, 2614, 4427, 1660, 641, 2382, 955, 3605, 638, 3308, 1902, 2770, 1784, 5615, 4441, 3815, 101, 4325, 1356, 2883, 1942, 1673, 5720, 3285, 4239, 1858, 5249, 5866, 5453, 6013, 2549, 1118, 3543, 535, 3518, 1288, 4594, 336, 221, 1065, 5067, 3148, 1789, 1489, 5857, 4378, 2130, 2333, 645, 252, 1454, 1534, 5124, 5541, 1119]\n",
      "[342, 238, 301, 410, 25, 122, 52, 17, 328, 214, 197, 172, 72, 244, 3716, 1241, 337, 1078, 2557, 386, 564, 109, 687, 1675, 3525, 1302, 719, 3209, 184, 150, 5927, 3286, 1022, 5851, 939, 2836, 2387, 4406, 3944, 1649, 102, 1131, 111, 3037, 5121, 865, 3575, 4809, 4543, 476, 5639, 2706, 3414, 3314, 5029, 3659, 4260, 4943, 5542, 305, 320, 450, 2112, 2297, 3788, 5310, 3795, 4965, 4587, 4354, 1684, 3981, 5419, 5260, 4657, 45, 2671, 5134, 429, 2951, 4307, 3677, 2778, 3781, 1095, 5374, 2047, 1220, 1806, 4423, 4312, 509, 2178, 3880, 4046, 1084, 5016, 2991, 3624, 3777, 731, 3015, 2974, 1576, 2151, 1162, 4757, 2873, 1671]\n",
      "[101, 164, 34, 280, 100, 145, 192, 47, 272, 201, 117, 336, 351, 342, 182, 411, 911, 3702, 3787, 344, 1721, 467, 376, 1021, 2682, 2571, 1960, 2395, 647, 1370, 2570, 5978, 2679, 3828, 1103, 1456, 3124, 5081, 5420, 2459, 554, 1190, 4719, 3294, 94, 1711, 2203, 1904, 4363, 6030, 495, 1598, 5512, 653, 4823, 3905, 1201, 2668, 840, 4439, 2032, 1689, 1296, 4834, 2075, 4981, 1230, 3695, 2071, 5080, 4748, 4566, 284, 1723, 4728, 5875, 25, 2797, 5698, 4612, 5403, 1870, 317, 4556, 5777, 3209, 5021, 5175, 1145, 1466, 3950, 5660, 1500, 3717, 1283, 5102, 2790, 3745, 2035, 3606, 699, 3292, 5568, 790, 5624, 3393, 3168, 1620, 1679, 125, 107]\n",
      "[172, 21, 309, 283, 255, 150, 260, 292, 323, 365, 240, 244, 348, 156, 58, 55, 3626, 64, 1587, 1, 543, 1126, 1671, 3334, 3915, 1958, 1205, 1089, 1207, 3670, 2691, 1357, 5740, 1233, 3171, 5619, 1553, 1351, 3229, 984, 4283, 273, 1601, 4774, 4184, 5285, 2876, 2531, 143, 1453, 771, 3299, 2328, 2403, 1122, 1088, 4455, 5017, 1722, 1758, 3059, 2629, 4748, 1035, 3020, 3700, 3246, 4092, 3158, 5215, 3780, 5415, 1383, 5984, 753, 602, 2834, 4883, 3671, 5257, 2290, 1234, 4319, 3930, 1262, 1524, 644, 2808, 3979, 4258, 2580, 703, 903, 4795, 1941, 928, 3200, 3488, 3289, 4513, 4736, 4640, 1654, 4740, 3392, 1510, 4562, 4910, 5084, 5365, 4716, 4348]\n",
      "[258, 165, 149, 224, 52, 332, 325, 229, 164, 388, 404, 57, 203, 387, 1572, 1406, 3440, 440, 289, 3504, 2354, 1205, 1135, 2034, 2958, 1726, 3159, 1448, 379, 1284, 1785, 1058, 5170, 2213, 3917, 5133, 5936, 1021, 5145, 5515, 887, 242, 1564, 4396, 2066, 5353, 5693, 4121, 3505, 5769, 3736, 815, 2717, 197, 1106, 3516, 1537, 4612, 205, 3826, 4105, 5020, 2160, 2493, 3662, 5401, 4997, 4918, 1083, 3727, 4150, 946, 4204, 4722, 5968, 4211, 3439, 1164, 3351, 310, 315, 2373, 1571, 3365, 3121, 2530, 2590, 4449, 102, 3470, 4051, 1744, 1961, 560, 4305, 2000, 3441, 4300, 3215, 2910, 5063, 2928, 2022, 5668, 4073, 4873, 2499, 5007, 1653, 5918]\n",
      "[194, 113, 22, 191, 334, 411, 18, 215, 47, 41, 135, 280, 345, 156, 187, 12, 2020, 1195, 3905, 903, 2975, 2002, 2570, 1200, 990, 2383, 246, 587, 1293, 3703, 1122, 586, 3451, 4879, 4128, 1465, 3655, 3207, 5158, 432, 5726, 4250, 730, 162, 4517, 141, 2617, 5346, 2297, 4322, 647, 2952, 3119, 5008, 3113, 4836, 2045, 1205, 1733, 2078, 2886, 4987, 118, 4567, 3378, 2563, 2015, 4466, 154, 4551, 2058, 2299, 464, 2896, 1768, 3992, 139, 1138, 5448, 4749, 3127, 1961, 4669, 769, 453, 4059, 5658, 5636, 5888, 2998, 5621, 5424, 5530, 4344, 4905, 2343, 3422, 4515, 3774, 2681, 1652, 3914, 826, 2654, 96, 2174, 4308, 2712]\n",
      "[22, 104, 393, 371, 312, 190, 101, 323, 124, 25, 271, 345, 258, 284, 148, 410, 744, 3577, 5, 2467, 2656, 215, 3176, 903, 473, 596, 179, 3867, 3542, 601, 20, 3131, 5280, 864, 3367, 3374, 2927, 3759, 406, 2370, 3623, 740, 3280, 1284, 125, 433, 4999, 4250, 1015, 3568, 1740, 833, 3599, 4352, 2888, 3184, 5417, 4873, 1130, 1772, 5938, 868, 2038, 5884, 2754, 2465, 4359, 498, 5946, 3324, 4287, 1227, 2404, 1305, 2800, 4597, 3647, 5821, 4584, 1817, 6007, 216, 3631, 5633, 3192, 376, 3440, 273, 549, 4926, 202, 4003, 5831, 3384, 5205, 2784, 2745, 5640, 2928, 4538, 2282, 5565, 2673, 3939, 1558, 4198, 5897, 4193, 1571, 1144, 2374, 1106]\n",
      "[301, 375, 283, 36, 300, 328, 135, 148, 81, 402, 145, 197, 155, 61, 292, 797, 1962, 134, 1568, 150, 2468, 479, 1784, 3862, 2278, 3792, 2627, 929, 1240, 1700, 4930, 5071, 1524, 1397, 126, 5625, 3021, 1009, 4732, 2325, 3278, 3776, 1946, 2277, 4175, 305, 2719, 1527, 4762, 4816, 1403, 2636, 5498, 5208, 6024, 1384, 5340, 4754, 974, 1066, 3600, 4412, 4295, 521, 4726, 936, 4427, 1377, 5623, 1010, 3760, 2961, 5446, 2633, 2787, 53, 5138, 1991, 865, 1917, 5983, 5220, 5197, 1692, 5511, 3436, 4442, 424, 4685, 4086, 5164, 3612, 4775, 193, 2171, 4893, 230, 5284, 2187, 3233, 869, 3472, 3637, 270, 3010, 3758, 2168, 4270]\n",
      "[17, 330, 16, 263, 331, 203, 283, 230, 18, 122, 261, 201, 284, 83, 32, 244, 1209, 1920, 1623, 3703, 2541, 1135, 2071, 1980, 3947, 457, 404, 370, 1299, 1393, 3867, 2454, 1225, 885, 5368, 3929, 1450, 2737, 2510, 4272, 4365, 2504, 2039, 5367, 725, 3491, 931, 2546, 901, 5119, 5973, 621, 2974, 5131, 5346, 2445, 3257, 3568, 4195, 4270, 5434, 54, 1485, 3706, 1415, 3091, 1281, 5569, 3599, 3953, 2698, 1972, 5053, 4471, 3202, 2273, 3548, 5081, 5523, 1536, 1499, 1039, 777, 5750, 1673, 1579, 3025, 4298, 37, 5684, 1454, 89, 5677, 3051, 3236, 4857, 3819, 113, 387, 6002, 1050, 222, 5246, 1027, 5798, 5282, 2966, 713, 2675, 5248, 583]\n",
      "[203, 51, 52, 202, 371, 47, 244, 391, 37, 204, 192, 311, 159, 131, 318, 1200, 3106, 280, 21, 404, 2989, 1100, 1256, 1478, 1720, 1258, 3087, 2761, 3792, 222, 279, 5398, 1812, 82, 5951, 991, 4412, 4815, 4514, 2004, 5421, 988, 4026, 2337, 2951, 1775, 2435, 1551, 3881, 4050, 5525, 4810, 3864, 5974, 3557, 3909, 1959, 964, 3300, 1166, 3130, 5465, 998, 5584, 5495, 3373, 2291, 5454, 2678, 1453, 3245, 4032, 3936, 1336, 3184, 4699, 1700, 5738, 4287, 4535, 293, 2321, 2524, 5432, 1806, 290, 5802, 1272, 660, 3908, 142, 1868, 1847, 5000, 2884, 239, 216, 831, 4729, 3775, 4878, 1096, 3814, 5650, 5887, 5558, 2357, 5270, 6003, 5627, 4887]\n",
      "[293, 93, 187, 77, 174, 129, 147, 92, 391, 127, 204, 106, 198, 186, 351, 2538, 1129, 1652, 538, 1999, 3061, 3763, 1543, 2365, 2656, 1198, 1948, 2433, 2564, 1882, 3657, 1204, 2489, 568, 4113, 1015, 1995, 418, 2250, 5651, 1755, 4084, 4062, 3291, 4725, 901, 1864, 2229, 5137, 3012, 5866, 3014, 5035, 5071, 1264, 5183, 1590, 1199, 899, 3944, 983, 4815, 1689, 4011, 2092, 4629, 671, 5042, 2, 814, 2286, 712, 152, 4972, 2203, 707, 5602, 421, 789, 2494, 3707, 704, 5046, 4521, 1815, 2646, 4884, 457, 4813, 2486, 937, 746, 3330, 5257, 3430, 1613, 2209, 3221, 3390, 4111, 2272, 2006, 3659, 2876, 4976, 5208, 5824, 1661, 963]\n",
      "[156, 313, 244, 379, 92, 309, 160, 30, 368, 186, 34, 12, 61, 334, 150, 215, 3682, 925, 2378, 2687, 2321, 2339, 46, 2077, 2430, 3159, 3566, 1048, 1243, 433, 3825, 453, 5242, 5934, 4759, 2785, 228, 3560, 5053, 2244, 384, 2830, 6030, 398, 2743, 3445, 2221, 1419, 297, 4387, 4364, 637, 4567, 2091, 5318, 5829, 2032, 502, 3088, 6001, 3592, 3030, 2985, 3330, 5648, 1474, 4148, 4046, 2755, 1558, 1739, 4933, 3842, 5352, 1261, 5429, 2021, 5209, 5813, 2532, 5867, 5794, 4922, 4082, 2545, 4850, 3658, 2031, 1956, 2483, 5231, 1258, 5024, 2824, 5915, 2585, 4389, 1070, 3558, 5028, 4530, 1659, 4842, 2563, 1131, 4832, 915, 2292, 4189]\n",
      "[318, 370, 260, 147, 354, 248, 58, 293, 149, 215, 157, 125, 135, 159, 207, 41, 2597, 1274, 706, 3697, 2711, 2005, 964, 758, 363, 3689, 911, 857, 1733, 647, 1332, 3698, 2563, 177, 1811, 5836, 3732, 1551, 687, 174, 1660, 1083, 5650, 158, 4168, 1160, 4200, 1971, 4623, 627, 725, 1934, 3255, 3165, 5547, 1926, 3658, 1730, 2238, 4517, 5969, 473, 406, 5070, 3279, 5952, 3377, 4644, 221, 5621, 1979, 4187, 1354, 4926, 2400, 3411, 3904, 2215, 1074, 2717, 4802, 5855, 4683, 5744, 3437, 4758, 2705, 3637, 3764, 859, 1479, 5687, 658, 2201, 2391, 1565, 2197, 2658, 187, 1911, 3726, 4472, 704, 1021, 2641, 5004, 4016, 1073, 2350, 1553, 3492]\n",
      "[162, 89, 44, 94, 326, 155, 24, 271, 132, 263, 313, 82, 264, 203, 168, 1743, 2393, 467, 647, 1237, 1465, 2715, 2247, 2880, 1746, 59, 245, 2099, 1243, 1048, 1386, 2269, 2946, 1887, 1732, 4444, 5208, 2241, 2090, 3691, 2033, 2246, 4110, 5287, 2848, 2375, 1680, 1352, 2935, 6007, 5218, 2616, 2000, 3429, 2635, 3036, 2964, 4493, 2559, 5898, 4846, 3213, 1500, 963, 4606, 1361, 5971, 1855, 268, 640, 4957, 4357, 626, 1651, 1881, 4594, 4292, 4396, 5688, 460, 3184, 3667, 555, 541, 3150, 644, 5301, 1408, 4018, 2445, 5607, 959, 83, 732, 4324, 2480, 4180, 2945, 5934, 1798, 5904, 3574, 2868, 2748, 5398, 5433, 3480, 3459, 1273, 5334, 4252]\n",
      "[168, 147, 222, 33, 28, 337, 138, 53, 373, 91, 140, 264, 177, 301, 322, 144, 3525, 1036, 1, 2378, 2761, 1572, 2405, 1234, 1196, 3174, 903, 3548, 3075, 259, 913, 2706, 4269, 4311, 896, 4926, 2721, 1894, 117, 4895, 4708, 3008, 4894, 2485, 4679, 4259, 983, 3206, 3655, 4940, 5053, 4579, 2433, 4816, 1264, 574, 5861, 3435, 4318, 2757, 2126, 4833, 4119, 1771, 5207, 2204, 1301, 3927, 5119, 312, 2968, 1959, 5996, 2661, 3395, 456, 5382, 2501, 1962, 5083, 670, 2977, 39, 1892, 440, 3342, 5730, 3905, 1798, 4438, 5994, 1318, 4180, 761, 3260, 2401, 3290, 3218, 1736, 3354, 2465, 2075, 4896, 4308, 4224, 4721, 4864, 217, 1991, 3539, 5999]\n"
     ]
    },
    {
     "name": "stdout",
     "output_type": "stream",
     "text": [
      "[4, 145, 309, 377, 305, 392, 9, 164, 203, 198, 128, 283, 169, 178, 39, 2761, 1568, 1488, 49, 3825, 307, 2092, 2287, 387, 507, 1403, 3397, 922, 1273, 3627, 2315, 774, 986, 1073, 2293, 2610, 1295, 5271, 3653, 5430, 2418, 135, 4872, 2975, 656, 6035, 2002, 1953, 109, 2972, 3384, 3607, 4441, 1702, 5764, 1948, 3184, 2725, 4884, 425, 461, 557, 5052, 3585, 1250, 3956, 5624, 830, 1917, 5113, 2992, 4920, 1686, 3626, 2272, 1603, 3301, 1958, 4593, 5, 2663, 4799, 2967, 357, 5977, 3776, 3479, 5042, 5875, 3475, 3765, 4126, 3331, 5523, 2070, 3813, 5924, 5827, 2932, 2397, 2810, 5891, 1814, 1463, 5958, 5256, 5333, 2357, 3821, 967, 38]\n",
      "[222, 365, 86, 186, 130, 174, 102, 1, 172, 207, 117, 215, 173, 194, 277, 162, 1916, 3460, 3177, 572, 2317, 1058, 1249, 3698, 906, 2698, 2124, 3069, 2005, 1183, 734, 275, 4111, 4949, 1059, 760, 1321, 1837, 3047, 343, 400, 5289, 1216, 3630, 4291, 855, 1504, 3023, 5300, 2851, 3102, 5760, 107, 535, 1280, 3979, 1282, 297, 2929, 397, 5036, 5744, 2757, 1688, 4125, 964, 4989, 111, 1895, 289, 6025, 5341, 433, 1258, 4050, 2075, 189, 5673, 4421, 4188, 519, 4295, 534, 4797, 5227, 2048, 1991, 3426, 1869, 1764, 3682, 4415, 1039, 4012, 1770, 2000, 1549, 574, 5068, 4756, 5889, 1154, 1713, 3261, 5808, 5008, 3687, 67, 2155, 4880]\n",
      "[191, 299, 45, 203, 197, 318, 201, 259, 410, 104, 4, 346, 389, 301, 6, 1091, 3362, 2709, 3104, 433, 2870, 3145, 2639, 2066, 1800, 1386, 1516, 3810, 1968, 234, 348, 5047, 2118, 79, 19, 3765, 5558, 2032, 940, 1162, 906, 490, 2098, 5728, 1616, 3157, 5249, 1921, 3731, 601, 3186, 2245, 394, 3734, 4339, 2663, 5784, 5239, 5015, 5568, 5058, 2595, 1915, 1836, 5196, 3236, 2132, 5445, 3106, 4038, 3398, 5026, 452, 2240, 3511, 2146, 3191, 784, 166, 3211, 1127, 4722, 2621, 3389, 4297, 4692, 5443, 115, 811, 1273, 5440, 3783, 154, 3983, 239, 4361, 1954, 817, 4662, 3635, 4544, 2448, 3114, 1552, 5520, 604, 3972, 5868, 1115, 4624]\n",
      "[138, 328, 109, 39, 408, 198, 172, 337, 304, 135, 104, 74, 56, 191, 301, 1022, 2720, 647, 2429, 1981, 547, 307, 1303, 2897, 1700, 2990, 1029, 3792, 1428, 1199, 1256, 606, 4548, 5734, 4745, 4052, 5168, 5015, 3128, 4053, 2283, 4176, 2900, 2690, 4245, 3193, 5404, 488, 5113, 994, 4783, 2439, 5068, 2141, 3096, 2729, 3811, 363, 4669, 969, 5224, 1017, 5021, 5108, 1643, 2560, 2627, 2374, 942, 5254, 258, 1532, 564, 253, 2346, 3259, 1726, 1435, 2896, 5421, 1120, 2988, 1845, 1755, 5893, 2636, 1628, 1334, 4348, 1898, 2801, 3053, 303, 1231, 2588, 5557, 920, 5285, 662, 5371, 500, 5867, 502, 4215, 4295, 3219, 5622, 711]\n",
      "[228, 263, 147, 364, 279, 270, 146, 109, 69, 201, 116, 250, 156, 292, 274, 241, 3049, 3696, 88, 2423, 904, 1234, 2395, 2951, 2994, 1207, 2786, 1219, 1209, 1356, 1993, 3274, 782, 4813, 1338, 5590, 222, 4144, 1988, 1907, 1611, 2796, 5894, 2429, 1670, 4603, 3472, 5314, 2594, 3791, 5183, 1872, 1426, 4018, 3617, 4893, 5437, 1983, 4821, 937, 2459, 3830, 5301, 1733, 451, 2713, 4414, 5392, 758, 3587, 1825, 2277, 2219, 3492, 4415, 1496, 198, 1451, 938, 128, 2500, 3450, 2325, 5492, 3126, 1659, 769, 872, 5815, 3580, 5800, 2772, 2769, 1437, 1425, 1828, 3870, 5899, 2542, 5436, 792, 616, 4576, 1640, 5352, 2005, 182, 2881, 4793, 4948, 535, 4761]\n",
      "[244, 142, 61, 395, 32, 198, 172, 306, 263, 215, 41, 17, 307, 313, 241, 1583, 3577, 3542, 1258, 3607, 31, 2931, 3358, 2773, 265, 1184, 3032, 2075, 3167, 2267, 3051, 3278, 4354, 4819, 2996, 1504, 5426, 3835, 4758, 2103, 2905, 116, 3058, 2060, 4968, 5361, 5617, 6017, 314, 5344, 1771, 4645, 5309, 1368, 3420, 2758, 4483, 1005, 5508, 596, 140, 745, 1209, 5557, 762, 5094, 2371, 3154, 5147, 2818, 4193, 1692, 5355, 510, 5347, 4761, 4466, 3710, 4478, 4309, 1639, 436, 4873, 1482, 559, 5465, 3316, 3087, 2450, 5537, 3660, 3310, 1809, 2517, 720, 4919, 471, 2613, 2764, 3335, 5963, 3519, 4636, 4604, 5443, 4940, 4320, 5266, 5264]\n",
      "[150, 201, 132, 320, 156, 98, 318, 411, 254, 89, 368, 359, 193, 147, 3555, 486, 2002, 1072, 673, 3915, 2258, 801, 3762, 1264, 484, 2277, 439, 1373, 1512, 1196, 4719, 977, 4308, 1581, 5355, 5486, 5379, 221, 4411, 5164, 1149, 1744, 333, 918, 1349, 5762, 804, 1983, 4610, 2619, 2909, 4655, 4409, 2733, 2025, 2447, 1933, 5142, 335, 30, 3506, 2137, 3689, 528, 1519, 1316, 47, 392, 1462, 1131, 1871, 1228, 4181, 780, 4462, 2257, 4524, 423, 3988, 5497, 3718, 849, 1853, 3065, 4676, 5418, 13, 48, 5323, 1576, 2133, 767, 2879, 2902, 361, 5789, 5568, 5460, 3652, 3351, 4383, 3416, 791, 1126, 2305, 961, 1122]\n",
      "[241, 32, 318, 10, 47, 33, 194, 149, 263, 286, 282, 231, 409, 9, 304, 147, 2169, 593, 2709, 35, 349, 1078, 234, 2383, 43, 3843, 2027, 3577, 1746, 1319, 1338, 484, 1570, 1254, 3666, 5570, 5796, 2823, 3772, 5576, 3638, 418, 1076, 2723, 2187, 3132, 2887, 3879, 1751, 5470, 5827, 727, 2136, 4028, 5370, 5473, 4574, 4831, 4066, 4879, 2676, 3240, 2483, 2605, 5652, 5993, 706, 1939, 1295, 1425, 197, 613, 2459, 4271, 1487, 5590, 2385, 5213, 2844, 4388, 4896, 290, 910, 3408, 5945, 306, 5477, 1452, 2330, 2666, 3114, 2968, 3423, 256, 5656, 5566, 4312, 4104, 4677, 3435, 5154, 4316, 734, 4219, 4242, 3739, 2328, 4171, 167, 4307, 5991, 5956]\n",
      "[329, 215, 149, 25, 348, 14, 47, 61, 77, 302, 318, 295, 8, 9, 298, 172, 3300, 2967, 1269, 1778, 589, 1465, 231, 1783, 847, 2518, 161, 2192, 1899, 3113, 2487, 260, 3924, 1256, 5800, 954, 3921, 2110, 2113, 3578, 5813, 3540, 87, 217, 3392, 3055, 3053, 4863, 2779, 2804, 4235, 2866, 136, 1267, 157, 4040, 4081, 5217, 175, 418, 3737, 2054, 125, 2664, 3431, 1229, 768, 3415, 6016, 1851, 1459, 3382, 2246, 1994, 650, 2425, 4228, 5036, 4373, 4307, 748, 410, 3910, 3932, 5978, 48, 5411, 1633, 2458, 1442, 2940, 4599, 5362, 122, 1125, 1812, 2107, 1332, 628, 2483, 4301, 5847, 1876, 3303, 3403, 1557, 4902, 5801]\n",
      "[153, 17, 345, 172, 14, 410, 301, 61, 180, 192, 328, 365, 48, 168, 354, 1249, 2004, 3840, 3836, 3752, 3152, 2917, 3087, 2063, 2967, 1587, 1270, 3480, 158, 2272, 3173, 708, 1133, 6006, 2599, 387, 2737, 4306, 4025, 1325, 6030, 3892, 1684, 4685, 2110, 3618, 2023, 1779, 3575, 4370, 707, 3349, 3552, 4906, 1990, 3209, 4783, 1755, 3291, 3677, 4336, 625, 409, 3085, 3757, 273, 1357, 4444, 272, 4532, 3951, 2025, 5847, 3068, 4589, 973, 4485, 3968, 408, 3685, 3600, 1943, 849, 4821, 5482, 22, 2265, 2971, 901, 4384, 541, 1248, 904, 2219, 4846, 1934, 5005, 5237, 710, 1359, 524, 3096, 4015, 463, 5389, 202, 2881, 3674, 5133]\n",
      "[390, 241, 292, 213, 116, 165, 150, 194, 260, 332, 156, 203, 259, 97, 335, 1067, 732, 1328, 2960, 3080, 902, 223, 1996, 38, 944, 1195, 2670, 3089, 2615, 919, 197, 1928, 2229, 1780, 5177, 788, 1731, 1179, 3127, 3852, 1926, 5385, 562, 5261, 5429, 5384, 2180, 4512, 5195, 1524, 1948, 5846, 2345, 1402, 2498, 3024, 2955, 5497, 3594, 2141, 1152, 3885, 3952, 5243, 5467, 4780, 2803, 3880, 2482, 969, 4430, 4173, 3762, 2692, 4706, 1756, 998, 2145, 4650, 285, 1305, 1803, 3128, 3325, 2661, 3136, 1110, 5622, 4515, 4452, 2957, 5211, 1602, 743, 1655, 581, 4851, 713, 4439, 1879, 4795, 1164, 3329, 5530, 1893, 922, 2560, 5642, 1471, 1616, 5244]\n",
      "[25, 194, 156, 258, 284, 174, 14, 341, 45, 73, 301, 130, 414, 61, 342, 2311, 2420, 463, 2705, 110, 1393, 3260, 2917, 3938, 2857, 1058, 1374, 3060, 3544, 1919, 1585, 2587, 3267, 5400, 424, 1341, 5585, 2885, 1205, 1067, 2676, 5323, 2084, 598, 1800, 5139, 2613, 847, 5838, 2636, 6028, 1187, 5972, 5326, 2558, 536, 4989, 383, 4847, 855, 839, 4488, 5320, 196, 4271, 1663, 2009, 5416, 3005, 4109, 2446, 1037, 831, 4629, 2716, 4426, 752, 1495, 796, 2374, 4224, 5698, 4035, 3007, 2795, 2326, 264, 3848, 2908, 1932, 2512, 5316, 5662, 5745, 2611, 508, 1624, 2730, 53, 3574, 654, 378, 4723, 838, 5955, 5465, 3974, 4230, 1616, 4126, 1911]\n",
      "[165, 308, 130, 61, 254, 228, 272, 307, 41, 338, 283, 330, 379, 135, 149, 585, 3417, 2996, 3010, 1671, 2675, 2706, 2192, 2528, 1298, 3825, 2330, 179, 336, 1245, 707, 5911, 5809, 4838, 1944, 3667, 5308, 2788, 4386, 2091, 4972, 1627, 799, 5900, 3191, 3832, 106, 890, 2892, 1446, 3305, 1890, 632, 269, 1092, 689, 3151, 407, 4295, 4034, 3542, 3270, 3465, 1841, 1937, 2393, 3683, 5811, 4679, 3081, 4132, 2560, 1814, 4215, 6032, 1975, 6033, 5293, 2047, 5048, 167, 1026, 1336, 293, 219, 5321, 3197, 2470, 5338, 2714, 1906, 140, 4195, 4170, 4461, 526, 4508, 846, 4466, 2241, 3714, 5589, 2073, 1810, 4646, 770, 5632, 3088]\n",
      "[113, 351, 270, 395, 126, 414, 17, 283, 149, 156, 192, 47, 411, 211, 5, 397, 899, 3077, 1752, 2412, 2951, 259, 2892, 1830, 1640, 1221, 295, 184, 1958, 317, 265, 3273, 4961, 2508, 611, 2189, 4383, 4678, 4006, 2124, 4796, 3236, 995, 5360, 5319, 385, 2408, 299, 2153, 1614, 3497, 4514, 5980, 1896, 3228, 4163, 279, 6005, 4042, 4703, 4265, 5509, 854, 301, 1351, 3974, 1541, 526, 1704, 1880, 2454, 1411, 4148, 182, 5346, 1646, 4134, 4698, 3311, 4602, 18, 637, 3391, 2580, 5645, 987, 4828, 6002, 3333, 1154, 5105, 68, 2698, 3037, 951, 5573, 4808, 4476, 5465, 5782, 1324, 3724, 2190, 1007, 2504, 176, 4384, 5188, 2945, 5279, 4038]\n",
      "[345, 201, 357, 328, 391, 194, 255, 325, 309, 165, 241, 386, 63, 2738, 2145, 2388, 533, 801, 343, 2293, 3333, 2633, 140, 1452, 1960, 3698, 1583, 3931, 3272, 3787, 2452, 4137, 224, 780, 5978, 4871, 2503, 4583, 4953, 4602, 5050, 1526, 1928, 5814, 6033, 576, 5401, 4354, 2394, 4142, 10, 3047, 968, 1894, 2243, 2099, 987, 3348, 64, 3737, 1446, 1131, 4502, 135, 4232, 296, 3104, 3227, 1541, 3309, 3733, 3744, 943, 383, 4271, 5719, 2749, 4289, 3990, 2350, 3958, 3753, 3336, 4143, 5220, 5444, 1270, 5512, 3977, 4041, 55, 1891, 4683, 3220, 5745, 546, 1096, 4860, 2011, 4954, 5679, 5840, 726, 3798, 3031, 4826, 4883, 1313, 1199]\n",
      "[351, 266, 313, 230, 277, 262, 255, 235, 318, 383, 65, 395, 43, 324, 410, 122, 2373, 109, 1205, 1224, 1388, 647, 968, 3929, 1949, 1380, 1056, 317, 499, 1373, 3252, 2729, 5902, 944, 1119, 5301, 3620, 2435, 4301, 1188, 608, 1733, 4247, 2441, 1587, 1958, 2537, 3430, 2131, 2414, 2501, 869, 708, 3355, 3869, 4651, 2323, 309, 4878, 126, 2856, 4148, 4820, 522, 2784, 2896, 391, 3637, 2625, 183, 2617, 3920, 5642, 2186, 5526, 493, 873, 880, 427, 1218, 2241, 3236, 3120, 100, 4546, 1425, 4993, 5363, 5050, 1755, 2746, 3052, 2852, 4843, 4465, 5423, 4683, 5586, 5273, 1340, 5267, 1814, 4125, 67, 4471, 2562, 3724, 336, 2463]\n",
      "[313, 34, 186, 323, 274, 165, 72, 172, 414, 164, 330, 106, 198, 107, 201, 44, 3349, 1732, 2758, 831, 1195, 2099, 2354, 911, 3670, 2057, 2947, 1357, 2790, 1675, 139, 5886, 1549, 3885, 3500, 2688, 5796, 2128, 3847, 5520, 1245, 4525, 3789, 1384, 2704, 2538, 3427, 332, 4825, 5352, 261, 4461, 4181, 4118, 2093, 4096, 4038, 1782, 5524, 4896, 4094, 3031, 2218, 904, 4730, 5616, 3324, 396, 2987, 2412, 5965, 4634, 5268, 4940, 413, 1943, 697, 1773, 4418, 2309, 2204, 1932, 1168, 4789, 2796, 4057, 1593, 5390, 1559, 1244, 4031, 3281, 2966, 3735, 839, 1489, 10, 5415, 1397, 5113, 5178, 2269, 2646, 648, 4222, 3957, 3520, 2215, 4112]\n"
     ]
    },
    {
     "name": "stdout",
     "output_type": "stream",
     "text": [
      "[162, 147, 66, 34, 309, 358, 292, 81, 305, 23, 135, 244, 386, 185, 409, 121, 3535, 1703, 2914, 1954, 3460, 2554, 3542, 317, 3577, 3128, 1295, 1230, 1701, 2086, 1783, 2409, 915, 5388, 3924, 2663, 674, 2550, 4263, 1631, 1716, 650, 5182, 1212, 442, 4692, 4788, 453, 5866, 5919, 5047, 1208, 3037, 1203, 664, 3475, 2892, 3374, 1164, 4717, 2653, 878, 41, 2865, 4667, 5492, 299, 555, 210, 4103, 2181, 2641, 5030, 1202, 2766, 2368, 3088, 909, 5737, 2580, 3513, 1180, 2568, 3463, 5794, 4121, 3519, 1237, 3435, 1687, 4993, 2825, 4336, 2478, 2872, 3089, 214, 4229, 4459, 5702, 5576, 5979, 3452, 2157, 148, 1143, 4426, 2735, 4357, 656, 875]\n",
      "[254, 150, 204, 283, 243, 58, 166, 211, 313, 43, 61, 172, 32, 92, 328, 3703, 3525, 3480, 1182, 2723, 2761, 3407, 1720, 920, 2999, 2716, 1921, 3867, 1652, 2489, 3623, 1927, 6003, 5492, 2535, 4603, 2822, 584, 5361, 524, 321, 2389, 499, 4492, 4576, 4271, 5806, 51, 5860, 3608, 953, 3771, 3120, 1603, 3597, 847, 4632, 4133, 2859, 5440, 4456, 1167, 2628, 3953, 2102, 998, 818, 1721, 5042, 436, 2280, 1199, 4283, 2505, 5996, 1072, 4362, 5930, 3483, 1772, 3792, 2373, 2955, 5088, 877, 4448, 1814, 571, 5866, 2130, 4057, 493, 1245, 3684, 1177, 4827, 2480, 3924, 4872, 352, 3760, 294, 5991, 3789, 4907, 538, 4400, 4910, 1415, 4361, 263]\n",
      "[37, 354, 66, 334, 338, 267, 328, 332, 305, 348, 229, 234, 162, 150, 203, 116, 2296, 1893, 1677, 3892, 295, 2011, 1830, 3590, 3284, 3716, 3910, 156, 1377, 2735, 2093, 1404, 1618, 4034, 5253, 956, 3156, 582, 1520, 4628, 1906, 5092, 403, 456, 4797, 4665, 4461, 4789, 895, 1589, 21, 2949, 589, 4308, 2426, 2190, 5469, 766, 4526, 20, 2417, 2779, 3371, 2185, 3003, 2026, 977, 2549, 3252, 3804, 2713, 2141, 4002, 5248, 2214, 331, 4052, 2254, 733, 1069, 2282, 5895, 5202, 5038, 1538, 4450, 4853, 1833, 2017, 4775, 3218, 4943, 5268, 2870, 930, 922, 5371, 755, 4718, 1490, 4675, 1691, 3318, 1160, 1271, 2217, 3671, 3499, 3966, 2016, 3442]\n",
      "[273, 410, 301, 239, 201, 34, 162, 168, 215, 155, 194, 160, 222, 347, 243, 47, 528, 900, 291, 1223, 2871, 3087, 3622, 2951, 963, 1085, 2700, 1783, 2699, 3674, 3360, 3212, 4764, 3625, 1033, 4639, 1125, 487, 4164, 3286, 3611, 3302, 3311, 3829, 434, 3715, 4871, 5660, 4627, 798, 3382, 5212, 4235, 4775, 4246, 1245, 129, 1093, 5291, 2423, 510, 3279, 3762, 4519, 2961, 5618, 3808, 1965, 2654, 491, 5300, 4598, 4193, 2775, 4895, 4683, 748, 3860, 2180, 2080, 3756, 712, 2247, 1464, 31, 1326, 945, 5259, 3090, 549, 4543, 5734, 421, 212, 5193, 1329, 1791, 3553, 1658, 5433, 2278, 169, 3, 183, 3967, 3617, 2285, 1734, 1593, 5773, 2237]\n",
      "[43, 244, 351, 371, 350, 194, 313, 172, 322, 407, 96, 215, 236, 348, 3598, 363, 1703, 2000, 1022, 1072, 1277, 3407, 299, 2781, 1252, 929, 470, 1269, 3284, 39, 2916, 1487, 4489, 4165, 4348, 957, 4983, 2574, 3435, 138, 2846, 1861, 748, 286, 3992, 2120, 1626, 3686, 4907, 3359, 5430, 4820, 2432, 5944, 1411, 1153, 3923, 2510, 3802, 635, 457, 2022, 1470, 1924, 3075, 2697, 3450, 3913, 4643, 3782, 2351, 958, 1919, 5308, 3656, 5247, 2016, 2912, 4507, 4306, 5343, 3127, 5427, 3234, 2447, 1332, 926, 1636, 3352, 817, 4529, 4911, 1138, 1619, 973, 3315, 5604, 3340, 3231, 5131, 67, 4803, 585, 2650, 1412, 3240]\n",
      "[313, 201, 55, 328, 301, 116, 52, 194, 4, 58, 325, 1, 262, 172, 351, 336, 1264, 2426, 2254, 1687, 1218, 3254, 1618, 1278, 2139, 367, 3174, 913, 1700, 3264, 4806, 3475, 5773, 4664, 5825, 3252, 324, 1992, 3332, 5680, 4310, 3087, 2440, 4087, 5892, 1007, 2198, 661, 5270, 4286, 3122, 2273, 3240, 3109, 4161, 5895, 4288, 5820, 1805, 3218, 3512, 2940, 1840, 1377, 4401, 3637, 3069, 3600, 884, 3922, 4610, 4072, 3739, 3125, 3132, 5815, 3493, 4008, 5570, 130, 3586, 2110, 1885, 4778, 1694, 2589, 3843, 4741, 2040, 5349, 3900, 5207, 860, 601, 2107, 5086, 416, 5254, 2856, 4210, 1125, 5428, 4257, 4463, 5250, 4785, 5405]\n",
      "[354, 326, 42, 283, 185, 307, 334, 150, 232, 191, 234, 116, 121, 275, 371, 18, 1721, 1347, 2960, 1579, 526, 378, 2732, 3407, 363, 568, 3327, 2192, 3526, 1170, 1257, 1260, 2335, 6008, 4704, 2289, 3676, 4799, 5261, 3107, 1323, 68, 773, 5928, 4397, 2619, 2129, 3565, 1837, 3389, 2178, 5218, 2757, 971, 281, 1799, 501, 4345, 3851, 5045, 3893, 164, 2380, 3697, 2776, 1075, 5685, 5761, 2034, 3932, 3, 4997, 2315, 1022, 5612, 2574, 186, 5207, 140, 4953, 4168, 4422, 4965, 811, 5830, 2824, 5499, 4256, 1714, 2649, 4451, 5832, 702, 1006, 2002, 578, 5634, 5357, 3791, 912, 2061, 1813, 3715, 3105, 3170, 4613, 3548, 4749, 4054, 3803, 2659, 5655]\n",
      "[381, 142, 234, 32, 186, 174, 141, 320, 402, 328, 302, 179, 263, 250, 228, 149, 1087, 2426, 2345, 1716, 3752, 1588, 110, 723, 2501, 3262, 347, 3570, 379, 589, 1728, 1999, 4696, 1584, 5880, 2388, 1508, 3452, 3546, 1215, 1456, 469, 2975, 4275, 5442, 557, 5900, 1741, 5635, 3317, 4409, 4390, 3535, 3284, 3774, 29, 1893, 1480, 2294, 4285, 5824, 2244, 6011, 5536, 2391, 3392, 317, 4908, 2017, 898, 2384, 5656, 961, 1259, 5441, 4011, 5689, 5952, 1481, 512, 3996, 676, 3395, 193, 3275, 820, 450, 1607, 43, 5261, 2082, 3832, 1523, 5661, 2302, 5005, 5655, 5551, 4078, 2101, 4024, 2415, 2435, 1871, 4200, 1354, 2782, 796, 3345, 3944, 5114]\n",
      "[397, 214, 126, 326, 130, 172, 309, 17, 331, 200, 234, 61, 168, 106, 345, 307, 2790, 1875, 607, 2932, 152, 1283, 3254, 1192, 2063, 1268, 2153, 2517, 909, 3359, 1196, 4360, 2109, 5750, 2879, 3290, 5763, 716, 5496, 2696, 3007, 105, 5552, 3341, 3517, 1012, 945, 933, 2680, 5500, 4728, 3496, 2440, 5722, 447, 1356, 111, 3624, 1855, 5756, 2801, 5677, 2426, 3311, 4445, 6037, 2396, 403, 1944, 827, 181, 4710, 4464, 1684, 950, 3082, 3367, 2015, 3704, 4541, 4490, 1735, 944, 4596, 4376, 4143, 2242, 115, 2412, 5270, 2214, 762, 5600, 5655, 2127, 1094, 855, 730, 1061, 5611, 4307, 4458, 2799, 2491, 1840, 5531, 360, 4247, 4316]\n",
      "[32, 313, 229, 250, 384, 237, 389, 211, 145, 89, 196, 370, 223, 337, 91, 244, 3100, 2019, 343, 552, 1239, 1271, 1349, 1791, 898, 376, 1369, 1728, 2541, 3248, 2825, 3765, 509, 4204, 5525, 356, 1551, 297, 3385, 4957, 1998, 2011, 1136, 1109, 3488, 3494, 1139, 36, 5750, 3623, 1956, 1354, 1134, 159, 4613, 2879, 646, 5120, 2252, 790, 2330, 2292, 516, 2867, 824, 452, 2821, 4769, 4088, 5704, 5199, 140, 4611, 698, 2571, 3153, 2331, 4793, 236, 4337, 1818, 2142, 3739, 3748, 1356, 5588, 5433, 5906, 10, 1463, 2364, 5834, 4205, 2391, 2659, 2266, 3598, 2881, 2212, 4101, 2106, 34, 2253, 5459, 3890, 4195, 5672, 1449, 2531, 1081]\n",
      "[321, 21, 351, 249, 308, 101, 410, 34, 135, 191, 106, 62, 162, 117, 150, 303, 589, 369, 447, 1096, 1922, 2598, 2925, 3319, 2793, 38, 959, 2958, 1596, 3405, 0, 2986, 4615, 3895, 2640, 2069, 4048, 2371, 1910, 4779, 2536, 1189, 4859, 5435, 5405, 2800, 2219, 4216, 1756, 3495, 3032, 4842, 1880, 2688, 2317, 726, 5621, 5906, 5430, 4561, 156, 3154, 5695, 4241, 3842, 2548, 3838, 3849, 1686, 855, 2444, 2495, 3373, 2631, 5436, 4301, 3439, 846, 2432, 2134, 3629, 5711, 3084, 4035, 868, 4552, 5697, 5217, 2964, 2767, 4577, 5942, 3531, 498, 2303, 2985, 3103, 5859, 2434, 6026, 2946, 1692, 4461, 875, 4936, 3947, 904, 4015, 834, 798, 853, 2391]\n",
      "[405, 328, 190, 161, 332, 193, 197, 44, 192, 156, 150, 203, 133, 338, 241, 229, 439, 2383, 1608, 2333, 2095, 3449, 1916, 1781, 1045, 1305, 1638, 797, 2005, 1220, 3147, 1288, 3025, 96, 2216, 5050, 33, 1593, 139, 5624, 4491, 4326, 5162, 5757, 5787, 2029, 2165, 5869, 1239, 296, 4729, 2310, 1909, 1448, 4291, 4020, 3053, 5596, 4108, 964, 2233, 4290, 1987, 6035, 2365, 3568, 2397, 16, 758, 4755, 3867, 3410, 2642, 4370, 2192, 1333, 5571, 1760, 3781, 1670, 3199, 5317, 5728, 3000, 5327, 862, 1838, 5769, 4249, 4005, 3134, 3768, 2163, 486, 3044, 3894, 5963, 1411, 6017, 50, 1792, 5093, 1089, 2601, 2375, 5695, 4937, 3195, 4655, 3544, 4428]\n",
      "[110, 9, 365, 257, 333, 306, 197, 22, 18, 90, 397, 386, 328, 91, 192, 168, 592, 2014, 3826, 779, 3935, 2017, 2422, 3264, 2643, 3385, 224, 1299, 1372, 1880, 1332, 2761, 4581, 5260, 1193, 835, 4375, 5982, 5612, 1019, 114, 4753, 2471, 5932, 4772, 5335, 4150, 4926, 3958, 5716, 5614, 3375, 1083, 2462, 3658, 3305, 1488, 540, 5451, 2860, 1089, 5337, 4556, 5017, 5699, 4065, 4156, 1753, 4734, 1062, 2886, 1973, 653, 2848, 4510, 2863, 1238, 3483, 2809, 1834, 1976, 2909, 510, 4010, 1655, 756, 4008, 2137, 4909, 5802, 5752, 544, 1419, 4731, 4913, 5238, 2053, 3855, 2364, 1922, 4185, 2197, 2251, 2775, 2769, 1003, 1952, 1187, 2526, 1520, 4667, 5200]\n",
      "[130, 234, 194, 414, 244, 61, 25, 65, 241, 318, 172, 337, 289, 133, 272, 2395, 652, 153, 2033, 1264, 2377, 3670, 498, 3577, 2004, 2335, 98, 265, 1407, 1579, 144, 3082, 2372, 3191, 1286, 2018, 423, 3003, 858, 4525, 4647, 945, 1371, 4567, 4597, 626, 5352, 4326, 4689, 2716, 5291, 5907, 2570, 4695, 4915, 1954, 1510, 1254, 5513, 3167, 23, 791, 5681, 4010, 4771, 5285, 5354, 364, 4790, 5877, 2026, 5493, 674, 225, 99, 5392, 1508, 1049, 870, 3692, 1068, 1449, 3534, 195, 2156, 4454, 2002, 1775, 3820, 1167, 4032, 5926, 2298, 4866, 610, 5798, 5697, 2647, 5251, 4048, 493, 919, 5876, 1006, 3229, 2684, 4556, 1990, 895, 5066]\n",
      "[244, 347, 260, 351, 135, 224, 219, 325, 47, 282, 239, 52, 129, 328, 12, 148, 2109, 3680, 3411, 2804, 831, 2329, 1290, 1264, 1261, 2984, 3653, 1815, 2570, 2407, 1197, 3103, 2933, 2729, 3954, 1351, 4199, 24, 4273, 3628, 876, 1608, 2833, 3694, 2798, 4589, 318, 1751, 3744, 2848, 1131, 3286, 275, 4341, 5352, 169, 2091, 5382, 806, 4986, 988, 3013, 2641, 4760, 2165, 902, 4460, 3116, 2472, 2586, 5961, 1268, 862, 1651, 785, 5958, 1996, 398, 4655, 3100, 713, 3165, 3346, 5227, 2846, 5445, 1831, 4948, 3858, 1902, 5029, 1019, 4690, 5817, 5213, 3228, 4469, 4663, 3254, 3740, 1255, 5274, 5976, 1183, 3771, 3610, 5198, 5151, 4935, 663, 684]\n",
      "[55, 198, 292, 35, 25, 128, 411, 77, 7, 336, 194, 236, 315, 162, 161, 90, 2354, 1456, 1724, 2986, 2870, 1746, 338, 1410, 2027, 1035, 433, 2231, 1248, 2393, 909, 1418, 1142, 5979, 1100, 2265, 2145, 1414, 1677, 3872, 3201, 146, 4541, 5065, 1826, 5761, 3205, 3773, 604, 262, 4355, 3693, 5380, 155, 415, 3786, 5954, 5193, 3351, 2707, 5428, 5228, 2744, 1524, 4257, 1462, 1378, 6032, 3756, 5529, 3336, 2375, 2990, 5505, 1372, 5840, 5841, 3753, 2786, 5367, 4762, 110, 5943, 5793, 469, 692, 4928, 2534, 2099, 57, 4102, 1190, 644, 494, 1383, 720, 2386, 1225, 4012, 947, 2002, 4543, 1844, 3732, 108, 4052, 3444, 5082, 5123, 2003]\n",
      "[234, 150, 146, 18, 51, 240, 192, 274, 89, 129, 283, 44, 162, 306, 313, 156, 638, 2967, 779, 3716, 379, 2022, 3096, 3103, 992, 1219, 1273, 2204, 3299, 1996, 3280, 1197, 5778, 1542, 2759, 4004, 4610, 3740, 5320, 645, 5367, 1612, 677, 871, 4794, 2064, 1175, 9, 2278, 1081, 394, 5416, 1360, 5624, 181, 1150, 3897, 2057, 3488, 3029, 1950, 4569, 5169, 2277, 4538, 1086, 3888, 2222, 5535, 1024, 5399, 2951, 528, 1729, 4646, 1690, 1472, 3142, 4676, 2292, 1324, 2307, 1581, 752, 4340, 907, 5126, 225, 5600, 4588, 5678, 3314, 2169, 2850, 876, 5387, 3887, 2752, 973, 5925, 2545, 4267, 5622, 1366, 3284, 1200, 3106, 2151, 1220, 2946, 3484]\n"
     ]
    },
    {
     "name": "stdout",
     "output_type": "stream",
     "text": [
      "[410, 325, 345, 182, 283, 148, 36, 191, 236, 351, 18, 126, 52, 356, 408, 2571, 3698, 1264, 2570, 125, 2279, 3564, 104, 2800, 2109, 375, 592, 2915, 531, 355, 1475, 1567, 105, 2821, 1002, 5033, 5434, 6023, 6012, 5053, 1133, 156, 4805, 3210, 474, 6036, 253, 680, 5389, 2005, 4655, 4674, 2962, 124, 3793, 3122, 1776, 1560, 2554, 4539, 4804, 1861, 4957, 4591, 2556, 2010, 2208, 2325, 712, 5446, 172, 90, 5303, 322, 3419, 700, 2894, 3061, 1618, 3984, 1218, 3620, 5529, 4710, 4861, 4603, 1821, 3692, 1234, 2048, 1464, 4100, 5091, 1117, 914, 4506, 4835, 4192, 1853, 4260, 5560, 1671, 4541, 366, 5973, 1389, 5411, 4833, 811, 5594]\n",
      "[411, 1, 117, 28, 109, 172, 192, 91, 135, 52, 133, 198, 96, 162, 147, 2918, 1102, 1662, 3365, 2984, 3029, 607, 2605, 1931, 660, 3463, 379, 2166, 2647, 287, 1041, 2495, 2290, 4134, 3301, 5660, 1946, 4163, 1836, 6025, 2586, 2784, 4052, 3467, 721, 5403, 3260, 335, 5988, 3135, 4977, 1876, 3382, 3709, 2916, 5911, 5922, 3737, 4602, 5593, 2781, 2864, 2831, 563, 5944, 273, 4459, 3352, 331, 5533, 1192, 3799, 1476, 2908, 578, 1440, 2840, 3123, 4984, 5865, 3427, 5980, 5564, 5068, 3705, 588, 1928, 2738, 81, 482, 4455, 5784, 1317, 3134, 5326, 829, 867, 2378, 3276, 3562, 3946, 2563, 4930, 4464, 1665, 1171, 4435, 2356, 3477, 4283]\n",
      "[9, 290, 351, 168, 145, 174, 148, 199, 241, 138, 94, 301, 397, 156, 194, 131, 3701, 3107, 160, 3577, 2569, 2354, 3534, 2040, 3443, 511, 3254, 3262, 3555, 2343, 2063, 1219, 4467, 603, 5603, 1422, 3322, 1774, 947, 1303, 2306, 1377, 372, 1342, 2692, 4372, 4537, 5787, 1675, 1478, 2875, 841, 4994, 5864, 3120, 3865, 4792, 4925, 3475, 3926, 4926, 5643, 5806, 3940, 462, 1920, 3347, 5821, 652, 2055, 4099, 2638, 3219, 5031, 3773, 4769, 5912, 2950, 1895, 4182, 10, 5266, 1086, 5919, 1645, 690, 4641, 611, 1844, 43, 1636, 381, 5937, 3318, 5714, 767, 2919, 4760, 1911, 5461, 2404, 1362, 1087, 2587, 5448, 5620, 5262, 2786, 1401, 3431, 5061, 5442]\n",
      "[402, 262, 349, 356, 315, 164, 280, 351, 410, 183, 126, 180, 131, 405, 28, 1091, 1395, 1922, 46, 3703, 2159, 526, 3052, 2641, 2989, 1198, 3623, 1579, 2796, 19, 1355, 5522, 2887, 4882, 5359, 3023, 775, 3656, 2611, 3831, 1531, 3263, 3599, 1015, 4663, 5551, 2084, 2079, 3171, 5141, 1346, 5821, 3988, 1645, 5575, 831, 5632, 3973, 3538, 4345, 5981, 4859, 2369, 577, 3019, 768, 5862, 1000, 4083, 5931, 5729, 4552, 2849, 3644, 5957, 4218, 4614, 4749, 5242, 5537, 3768, 290, 3226, 1853, 3026, 76, 926, 4354, 5056, 2784, 748, 1651, 181, 201, 925, 3548, 4497, 4287, 3380, 4537, 5599, 943, 5158, 2025, 3218, 4554, 3018, 5089, 3344, 308]\n",
      "[194, 125, 299, 292, 301, 409, 389, 308, 47, 168, 318, 400, 41, 2058, 1306, 1375, 2244, 2374, 1776, 2162, 2917, 2925, 1224, 3948, 2063, 2293, 2715, 3447, 2406, 4300, 4064, 4408, 3375, 1347, 1291, 463, 768, 969, 3942, 2849, 1483, 5273, 338, 4441, 4048, 5276, 5016, 4657, 532, 1465, 2722, 5694, 3032, 3577, 5989, 863, 2623, 5642, 4691, 185, 1501, 1659, 600, 5918, 4188, 2121, 776, 4686, 4729, 1070, 225, 4382, 1351, 196, 1908, 1841, 5866, 5803, 5107, 4144, 5676, 4925, 5557, 3858, 5305, 1689, 3444, 3801, 5169, 5899, 4311, 5391, 3464, 5779, 4360, 3930, 1394, 4069, 4972, 3144, 5862, 3099, 3720, 1795, 1208, 2839, 3385, 2172]\n",
      "[61, 340, 47, 305, 279, 385, 263, 288, 135, 274, 314, 194, 160, 313, 270, 1400, 1285, 172, 3915, 2299, 2597, 1028, 2946, 470, 3423, 950, 2283, 765, 453, 595, 1687, 4042, 2439, 5505, 1972, 3698, 1845, 1967, 1974, 1287, 3663, 3532, 6034, 5744, 5017, 1490, 4182, 4825, 2233, 2354, 3635, 3923, 5578, 4397, 700, 3512, 3128, 2632, 988, 2222, 3503, 2809, 1911, 1164, 5925, 4027, 5272, 4816, 3945, 2687, 1554, 4565, 2882, 49, 3088, 2475, 1058, 2149, 5623, 1455, 4777, 2321, 924, 3788, 5194, 2074, 4381, 1546, 3045, 724, 5374, 1922, 4294, 2507, 4821, 586, 2614, 3035, 2684, 4981, 4295, 2631, 4539, 2574, 831, 3730, 5588, 837, 2706, 2737, 1072]\n",
      "[4, 61, 32, 189, 194, 162, 292, 328, 244, 21, 168, 318, 332, 385, 72, 2996, 381, 3575, 1609, 2744, 124, 798, 1297, 3423, 1090, 222, 2107, 2889, 2108, 355, 2321, 3837, 2131, 1857, 5182, 2700, 1141, 4437, 1294, 2001, 392, 3019, 5532, 434, 2958, 2660, 2017, 610, 3811, 5568, 1255, 2167, 611, 5438, 4592, 875, 5896, 2202, 1956, 3831, 5933, 3708, 4109, 353, 2750, 121, 1920, 2425, 5138, 5515, 5836, 1300, 5833, 1859, 4302, 1088, 1060, 11, 1416, 1834, 4725, 4034, 4715, 1051, 293, 1660, 2765, 3139, 609, 4974, 5938, 1009, 5815, 2421, 4822, 5337, 559, 2276, 2678, 5975, 772, 5726, 454, 4546, 5492, 1643, 269, 1465, 3570, 1086, 1830]\n",
      "[260, 122, 77, 195, 304, 267, 147, 165, 259, 173, 61, 283, 48, 301, 148, 1624, 2287, 2107, 2857, 2087, 3790, 1671, 1059, 1046, 1239, 1261, 587, 2080, 1894, 2748, 2389, 5465, 4322, 5634, 3772, 5250, 3332, 299, 2911, 1633, 4398, 1014, 1359, 1280, 4964, 1476, 3436, 2535, 3581, 4540, 430, 1912, 2817, 2110, 997, 5712, 856, 5993, 1944, 1694, 4454, 4558, 2515, 1023, 5809, 2109, 4668, 1765, 5575, 353, 1882, 494, 1385, 2734, 183, 595, 1060, 3367, 1511, 3964, 3994, 4119, 4583, 4576, 624, 383, 1361, 4666, 4835, 3428, 4705, 549, 4162, 2361, 1418, 589, 384, 4257, 492, 3401, 542, 2052, 60, 2803, 999, 3391, 5780, 1717, 1521]\n",
      "[180, 22, 222, 347, 4, 286, 61, 172, 194, 330, 328, 229, 72, 408, 296, 2002, 1952, 2470, 2627, 1728, 1357, 3090, 968, 1795, 539, 647, 1077, 949, 3792, 1035, 2948, 97, 5086, 3323, 1951, 587, 2041, 5798, 2840, 4195, 5517, 5944, 401, 4118, 1036, 4532, 5277, 2176, 5437, 4403, 1922, 1757, 2620, 4586, 6024, 830, 1455, 2862, 3836, 5134, 3330, 897, 1066, 3854, 4116, 4499, 5837, 4997, 5513, 96, 4631, 2446, 5508, 1179, 5894, 2991, 3216, 3578, 3822, 4824, 535, 2812, 615, 28, 5986, 2409, 5119, 5684, 4934, 3466, 2463, 3798, 3718, 4046, 4347, 1471, 4052, 300, 279, 1662, 4476, 4883, 5713, 2112, 1434, 4614, 461, 2304, 2156, 5813]\n",
      "[332, 350, 7, 162, 4, 390, 330, 205, 267, 236, 91, 32, 224, 284, 122, 402, 0, 3147, 3417, 1776, 3078, 3168, 453, 450, 3254, 2077, 1277, 3895, 1083, 3845, 2734, 3284, 3735, 4040, 1746, 202, 1608, 610, 1152, 3509, 1112, 2205, 2135, 1243, 5399, 2780, 2823, 4835, 5712, 2872, 9, 3547, 3445, 1353, 967, 4409, 2720, 3245, 5330, 337, 4133, 2805, 3360, 65, 5391, 4581, 3174, 4693, 5852, 4235, 2215, 4318, 2995, 616, 2562, 2133, 2240, 3842, 2097, 1833, 3553, 5689, 670, 4134, 5861, 2756, 479, 501, 4794, 4321, 3726, 3293, 4504, 2308, 2212, 5934, 3258, 2089, 3469, 1114, 4416, 411, 1640, 1385, 2320, 3282, 5173, 15, 4643, 3989, 5983]\n",
      "[367, 318, 207, 301, 243, 18, 201, 80, 291, 155, 172, 168, 57, 131, 31, 2120, 3512, 2541, 1590, 2860, 2264, 2761, 1212, 977, 1526, 2432, 1100, 2958, 1967, 1348, 3490, 3678, 2538, 1602, 757, 5848, 5922, 2069, 2906, 2163, 5001, 967, 340, 4491, 446, 4716, 139, 936, 3276, 10, 4469, 3268, 4996, 2222, 2642, 2623, 3154, 524, 3535, 1726, 2987, 5539, 5901, 5109, 5495, 3499, 5453, 4655, 1051, 5451, 4097, 3888, 4020, 3962, 292, 1022, 3186, 2347, 5438, 5378, 3185, 1932, 4246, 1879, 1390, 1903, 4259, 2129, 3738, 5711, 5210, 3062, 5968, 3372, 2438, 2963, 1285, 3014, 3355, 278, 2659, 4912, 2217, 1727, 1560, 325, 4138]\n",
      "[194, 299, 55, 343, 12, 302, 174, 7, 290, 138, 325, 307, 215, 318, 150, 224, 1221, 1241, 2785, 911, 2821, 1392, 1096, 348, 1271, 1284, 1270, 1199, 1700, 1188, 3716, 1058, 462, 5115, 2478, 4897, 3930, 4547, 1766, 2357, 714, 34, 1603, 4834, 3823, 185, 762, 1965, 4452, 4533, 4657, 1698, 3171, 1620, 2497, 4583, 1444, 1572, 4270, 5109, 1130, 986, 1448, 5698, 2127, 424, 5346, 2905, 2986, 2122, 5634, 2484, 2370, 2179, 3494, 3189, 4099, 3188, 3913, 4746, 4325, 389, 9, 3526, 5140, 5830, 2609, 1618, 3221, 703, 1180, 490, 187, 4758, 4437, 3322, 5021, 3139, 582, 3144, 2752, 1790, 1039, 423, 1014, 5673, 800, 2247, 3226]\n",
      "[25, 77, 397, 307, 345, 122, 395, 263, 351, 194, 164, 410, 357, 347, 136, 2417, 155, 3440, 3543, 1613, 1986, 3252, 1319, 639, 2124, 1221, 3470, 3187, 540, 1065, 2005, 4032, 998, 2965, 3464, 2416, 3722, 5673, 2354, 4970, 4859, 3264, 5835, 1542, 6014, 1612, 376, 1664, 986, 1833, 5475, 4915, 5517, 2831, 3974, 2741, 3438, 703, 4421, 4865, 4199, 494, 5923, 2100, 3874, 2110, 3027, 4657, 1332, 2051, 935, 41, 1457, 5945, 931, 3314, 3532, 3819, 1514, 2441, 4621, 58, 5082, 3638, 5083, 3320, 3263, 4900, 1825, 3260, 1668, 3783, 4125, 5580, 331, 4497, 367, 4060, 3500, 3988, 2320, 1962, 2901, 3212, 4603, 5565, 2794, 2492, 5139, 1267]\n",
      "[283, 116, 348, 52, 61, 354, 96, 401, 150, 47, 410, 132, 160, 365, 228, 74, 363, 2027, 332, 923, 1081, 64, 2738, 2371, 1147, 1908, 954, 2572, 3034, 3450, 3593, 2693, 534, 3372, 164, 4203, 5197, 4102, 6016, 5970, 3971, 1245, 2805, 5586, 3658, 5839, 2960, 4304, 1786, 883, 1981, 4164, 2764, 5875, 6006, 2283, 3378, 3292, 3247, 412, 2739, 513, 3647, 4473, 4784, 4906, 4752, 1149, 1917, 548, 215, 1222, 4550, 1433, 1062, 878, 1691, 4011, 1522, 2743, 1781, 5299, 1199, 2877, 602, 746, 1299, 31, 3491, 3235, 3891, 5160, 3697, 4882, 5504, 167, 3232, 2848, 5814, 3055, 2047, 1490, 2667, 3331, 2612, 5909, 1889, 302, 3199, 4413, 4208, 3188]\n",
      "[52, 250, 86, 371, 234, 186, 35, 47, 301, 263, 57, 411, 132, 77, 74, 149, 3925, 3936, 554, 109, 1683, 1118, 2431, 499, 1303, 519, 1585, 2469, 3578, 1946, 12, 3503, 2694, 1105, 5307, 2301, 2886, 1783, 1712, 4511, 1818, 5515, 5073, 1181, 4877, 2556, 5241, 887, 4651, 2285, 4791, 3991, 2809, 5189, 3190, 3729, 2645, 5961, 2486, 203, 2065, 2689, 402, 3628, 3255, 1636, 5540, 600, 1957, 2966, 764, 3798, 3053, 2812, 3670, 708, 1658, 4844, 438, 1026, 3252, 4553, 1758, 3341, 4815, 3077, 5775, 4711, 1299, 2767, 4782, 690, 4322, 5050, 1010, 804, 1235, 1594, 630, 2442, 1312, 4980, 4814, 2024, 1697, 2190, 901, 2591, 762, 1165, 1027, 3452]\n",
      "[306, 203, 156, 234, 168, 84, 207, 328, 302, 351, 27, 271, 78, 113, 146, 266, 508, 542, 513, 2115, 1035, 3408, 3704, 1096, 33, 1412, 2946, 292, 3175, 3872, 465, 3256, 4486, 4583, 645, 1515, 493, 1523, 3315, 827, 5109, 5302, 3978, 335, 5126, 1945, 5417, 3678, 1476, 684, 4832, 4799, 6023, 2952, 420, 3428, 2334, 1916, 4809, 3525, 643, 3142, 1042, 5080, 551, 1, 4109, 570, 5880, 3021, 2826, 4087, 3427, 5450, 2841, 2547, 848, 5577, 2654, 2091, 2197, 3723, 1776, 3067, 4347, 1382, 4310, 2552, 1766, 3109, 5432, 4724, 3727, 4018, 3303, 5781, 4738, 5957, 2421, 3450, 2643, 2208, 4624, 2597, 2492, 602, 5285, 5433, 1674, 2814, 5017]\n",
      "[334, 384, 172, 400, 318, 168, 22, 355, 192, 401, 157, 187, 412, 186, 3493, 591, 3090, 1344, 2111, 1607, 2409, 2356, 1516, 587, 1357, 1251, 2986, 2383, 523, 1392, 873, 3870, 2001, 2290, 4993, 1641, 4961, 1148, 4309, 1509, 4173, 2562, 4625, 3605, 630, 1289, 1681, 1568, 3210, 293, 1993, 2418, 2865, 4840, 4411, 2061, 1534, 5810, 1052, 3126, 3862, 3454, 4266, 5863, 5789, 2339, 756, 2615, 3165, 1588, 5329, 2670, 4675, 2952, 5040, 3942, 3811, 3237, 5025, 164, 3025, 4824, 1877, 3573, 740, 5550, 5526, 5516, 273, 390, 122, 1815, 336, 5050, 5514, 3076, 3242, 3588, 3236, 3139, 2229, 3069, 2810, 1457, 1495, 1045, 3589, 2989, 2771]\n"
     ]
    },
    {
     "name": "stdout",
     "output_type": "stream",
     "text": [
      "[267, 408, 410, 263, 397, 341, 215, 333, 194, 47, 237, 348, 270, 283, 322, 2794, 2057, 1448, 1012, 1915, 2627, 2394, 3154, 1602, 2114, 2469, 1011, 3070, 2323, 49, 2986, 3657, 54, 4095, 4340, 3368, 1616, 5177, 2594, 1880, 5426, 2717, 5899, 670, 1270, 1669, 2558, 2211, 5521, 1168, 4472, 3876, 1614, 3894, 5141, 2579, 4199, 2194, 78, 2295, 568, 5277, 2170, 5216, 2790, 36, 2836, 3649, 5502, 5040, 5606, 280, 4928, 5504, 2082, 1446, 5546, 2853, 3043, 2112, 4639, 1947, 113, 826, 1761, 1534, 2058, 656, 4215, 5952, 5819, 663, 645, 1231, 3240, 2588, 2144, 4800, 2177, 2122, 1699, 608, 3934, 2466, 545, 1580, 968, 592, 3518, 5452]\n",
      "[367, 328, 309, 148, 300, 385, 120, 61, 142, 41, 32, 147, 89, 334, 59, 158, 1242, 803, 1209, 434, 1647, 1090, 430, 647, 903, 2242, 453, 1371, 1543, 2177, 1325, 1219, 3865, 5534, 2046, 520, 4626, 553, 5012, 4525, 2759, 3218, 420, 3122, 3537, 168, 1012, 848, 871, 5213, 2069, 1511, 4461, 5543, 1421, 5133, 918, 2379, 817, 1861, 4197, 3060, 2771, 189, 2755, 3337, 3725, 550, 5822, 4435, 5367, 2275, 4818, 709, 5319, 1107, 63, 5181, 5204, 5620, 3336, 658, 5069, 3910, 4462, 872, 4613, 3007, 2601, 3523, 2158, 2110, 1168, 5553, 4627, 626, 3099, 3888, 501, 2126, 5355, 1366, 4631, 1731, 3979, 5461, 3997, 4912, 293, 5424]\n",
      "[224, 265, 148, 190, 391, 191, 244, 410, 51, 330, 411, 238, 255, 27, 364, 130, 1344, 1224, 23, 1516, 35, 607, 1972, 2064, 111, 1431, 2441, 3910, 1369, 1243, 206, 2335, 2282, 2143, 2468, 2614, 913, 4309, 5361, 5461, 3390, 4392, 2238, 3233, 4472, 5248, 1590, 1985, 2060, 2792, 1515, 641, 1005, 3303, 3265, 1027, 721, 4326, 4408, 859, 1635, 551, 1592, 3107, 5692, 4959, 541, 2136, 3169, 5135, 4892, 1131, 4433, 2160, 1714, 4629, 548, 1130, 5165, 4560, 3932, 1662, 1434, 1318, 1639, 5415, 1254, 3353, 4145, 2141, 5418, 4985, 1917, 5750, 239, 249, 849, 1249, 3180, 3409, 5301, 3658, 2508, 957, 1671, 842, 5075, 4843, 3258]\n",
      "[267, 271, 32, 63, 322, 302, 9, 133, 328, 281, 294, 66, 379, 375, 411, 74, 2986, 20, 479, 2912, 3, 1178, 1269, 1916, 1957, 453, 1689, 276, 1599, 3862, 3696, 1687, 5419, 5114, 1163, 3451, 5421, 2834, 2568, 4308, 4927, 1302, 2500, 2251, 3320, 5937, 1557, 5665, 3688, 2466, 2247, 3300, 4432, 826, 5540, 3899, 1672, 4353, 459, 1315, 4633, 1975, 5129, 2116, 5974, 2559, 2748, 3228, 5686, 3877, 830, 1487, 901, 308, 445, 3665, 5485, 261, 2437, 5061, 5681, 4099, 6020, 1467, 1429, 504, 140, 3235, 5346, 1694, 1481, 5142, 2445, 5635, 3942, 198, 360, 3745, 3126, 5280, 5392, 3384, 1868, 2677, 720, 3118, 169, 4999, 1457, 3976, 19]\n",
      "[217, 131, 390, 103, 406, 385, 307, 342, 300, 377, 397, 91, 116, 35, 168, 254, 2733, 3670, 1938, 2706, 706, 2154, 3106, 1589, 2712, 2761, 111, 545, 2667, 232, 1195, 2267, 2771, 4888, 3282, 409, 5162, 1646, 1568, 5998, 3529, 2834, 2914, 4463, 6004, 3171, 889, 1444, 5267, 3801, 4376, 4656, 1117, 33, 2527, 2613, 1805, 5323, 1493, 5550, 147, 4147, 4659, 2395, 3128, 5241, 2684, 740, 1584, 1274, 951, 4498, 4698, 1737, 1378, 4781, 3328, 349, 3565, 1989, 5730, 5564, 3587, 4125, 685, 5068, 2378, 5346, 5929, 4956, 2940, 3800, 167, 4284, 2215, 190, 2617, 3990, 2435, 2459, 5684, 1688, 4029, 6002, 5273, 5767, 1715, 3946, 5285, 1763]\n",
      "[299, 201, 254, 330, 128, 358, 165, 167, 210, 133, 146, 258, 263, 315, 2321, 2915, 2301, 3763, 2009, 3258, 2394, 587, 890, 3752, 2705, 2352, 782, 143, 5654, 5416, 1421, 3549, 3990, 3726, 4108, 1929, 4955, 4350, 110, 2376, 352, 589, 941, 376, 2684, 5415, 1422, 3413, 1011, 3845, 5251, 3795, 3960, 3319, 1986, 474, 743, 2913, 2799, 3057, 5806, 2423, 4053, 5352, 3911, 783, 2442, 3885, 234, 3694, 5699, 3962, 557, 1322, 5703, 1787, 2459, 1615, 2960, 5303, 3347, 4211, 2064, 5035, 5750, 6027, 250, 1655, 360, 1800, 5239, 2560, 5194, 1115, 5501, 4242, 2694, 4376, 3504, 5253, 2322, 2210, 879, 4372, 1473, 1275, 4441, 4666]\n",
      "[253, 96, 223, 192, 52, 328, 391, 413, 72, 10, 147, 7, 271, 241, 260, 98, 2715, 1937, 1212, 2360, 1239, 586, 257, 1266, 3867, 2281, 2528, 1734, 3004, 510, 1388, 3615, 5173, 1207, 77, 2461, 5328, 1513, 4896, 4517, 2465, 2915, 5611, 4596, 2812, 1451, 4296, 3801, 2804, 4816, 2433, 1732, 1525, 3211, 1036, 5264, 1124, 1788, 3449, 4150, 5347, 3112, 809, 865, 358, 1906, 5116, 5335, 4847, 4939, 4161, 5471, 1681, 5387, 5112, 5043, 1893, 3208, 1872, 1271, 1700, 5016, 2366, 388, 143, 4213, 118, 3772, 3160, 2129, 4044, 1583, 5803, 2452, 4742, 5541, 6009, 4185, 1715, 3060, 2353, 2334, 5799, 3073, 1976, 4390, 5230, 1761, 5397, 2014, 2181, 4138]\n",
      "[185, 224, 359, 302, 21, 351, 81, 203, 300, 322, 318, 395, 43, 307, 306, 194, 49, 1235, 328, 1093, 1551, 799, 1703, 3878, 276, 607, 265, 1246, 3027, 588, 2760, 1104, 2116, 4291, 3144, 3813, 861, 1989, 3208, 2225, 1368, 5423, 424, 423, 2724, 3554, 2531, 20, 1967, 1163, 476, 2536, 3096, 5078, 5690, 2036, 533, 6, 4774, 5836, 1397, 5732, 4183, 2999, 5795, 4868, 3506, 5528, 3370, 3997, 4147, 4665, 3326, 4796, 666, 6017, 724, 3190, 3267, 3469, 5674, 2272, 516, 1902, 5666, 3133, 4961, 3240, 1923, 811, 1813, 2012, 655, 5587, 4964, 4414, 779, 2922, 2441, 3659, 4013, 4220, 129, 5075, 2735, 1097, 2307, 4340, 5071, 4738, 5982, 3939]\n",
      "[408, 201, 244, 164, 391, 243, 263, 318, 197, 47, 125, 351, 332, 194, 256, 12, 1078, 2857, 3113, 1261, 2405, 150, 3711, 3067, 3551, 64, 1209, 2427, 946, 1030, 173, 2986, 4989, 190, 2061, 302, 3952, 198, 4133, 1431, 2648, 218, 5484, 3852, 3187, 5857, 3881, 1652, 3442, 785, 1670, 2371, 5434, 4739, 2924, 5775, 5897, 4580, 2067, 5066, 4272, 3809, 381, 5918, 734, 1018, 606, 2079, 5852, 5874, 5815, 5451, 1433, 2855, 498, 2320, 1277, 2778, 5566, 4931, 5813, 3072, 1663, 5162, 396, 514, 2297, 155, 5255, 3976, 3002, 1086, 3899, 84, 5707, 3584, 1153, 2192, 4919, 61, 2219, 1782, 2078, 1322, 2200, 3414, 5731, 5127, 2782, 2948, 2998, 3954]\n",
      "[21, 149, 318, 351, 44, 17, 83, 24, 307, 271, 72, 265, 185, 330, 309, 1952, 33, 1259, 511, 2914, 2247, 456, 3752, 904, 2712, 989, 2857, 918, 422, 2081, 3499, 5011, 515, 3196, 5100, 4894, 2119, 4360, 1494, 3850, 66, 5898, 4265, 728, 4490, 2885, 11, 1198, 1577, 2062, 3260, 5449, 4543, 5035, 1525, 1506, 5640, 2834, 1416, 1369, 4616, 4324, 1255, 1928, 2757, 1692, 1758, 2249, 6013, 4254, 2414, 2765, 2891, 2847, 4220, 5906, 4912, 4870, 5917, 3630, 3350, 5401, 4169, 5120, 2535, 1732, 835, 3133, 5623, 722, 809, 4924, 2124, 2462, 3809, 5357, 264, 1318, 882, 193, 901, 2197, 1787, 4396, 4594, 316, 3296, 3199, 471, 2349]\n",
      "[223, 234, 351, 186, 165, 194, 10, 237, 95, 126, 243, 389, 156, 325, 57, 181, 143, 1551, 3916, 2571, 3613, 2722, 440, 3162, 1269, 1251, 439, 3498, 3252, 2538, 1675, 1323, 1997, 2436, 5435, 3842, 1824, 1207, 2774, 1327, 2038, 3520, 3618, 3666, 795, 5384, 137, 4059, 4912, 2759, 3693, 5590, 4601, 3106, 3576, 4724, 3589, 2230, 5150, 1225, 1883, 1196, 3332, 1173, 4335, 3003, 2001, 3146, 3448, 5853, 1050, 4542, 1756, 2724, 2123, 5523, 4336, 5463, 4068, 183, 453, 2537, 4118, 288, 644, 5660, 166, 4072, 1767, 2195, 4794, 907, 2327, 5578, 4548, 2323, 751, 5974, 941, 2636, 3177, 3621, 4456, 2296, 1041, 2754, 5361, 1025, 2964, 3806, 4506]\n",
      "[328, 148, 236, 224, 263, 223, 154, 241, 401, 4, 147, 26, 35, 62, 211, 237, 3032, 3729, 1256, 1357, 2033, 919, 198, 479, 3551, 46, 456, 2173, 0, 5, 1458, 2288, 4442, 4445, 3925, 4644, 5508, 5987, 5570, 2196, 5795, 3359, 4073, 917, 1684, 4501, 1630, 5141, 3697, 1187, 729, 5582, 1511, 2685, 4051, 3170, 2770, 5852, 3629, 1255, 136, 1010, 5438, 2126, 1743, 379, 2976, 5802, 1474, 5997, 744, 4514, 779, 678, 3707, 3022, 3065, 5320, 1049, 308, 5558, 1176, 2609, 4012, 5881, 2261, 990, 794, 1220, 3603, 4979, 2875, 1531, 377, 5153, 4647, 815, 5098, 3019, 371, 3556, 4530, 5807, 2097, 915, 5462, 5270, 786, 5294, 832, 4421]\n",
      "[124, 130, 385, 260, 301, 294, 244, 337, 12, 270, 410, 391, 233, 300, 160, 402, 3947, 1096, 64, 3826, 1776, 49, 456, 2027, 1526, 587, 3251, 431, 2019, 2528, 2570, 3106, 3811, 4187, 4655, 2764, 1416, 5475, 871, 338, 646, 4135, 3444, 3930, 5087, 831, 4820, 2090, 3781, 5228, 5221, 4441, 3899, 1586, 1123, 5822, 2363, 2376, 3493, 1469, 1930, 568, 2251, 921, 3233, 937, 4312, 5224, 288, 4163, 5508, 1987, 137, 5407, 1838, 988, 4027, 3522, 1246, 326, 2662, 2008, 4226, 4306, 2344, 3097, 4979, 116, 2615, 1041, 532, 1731, 3417, 4028, 5447, 2035, 3242, 2697, 5529, 1760, 90, 5715, 521, 5426, 5315, 4874, 3129, 2821, 2883]\n",
      "[224, 272, 100, 320, 377, 116, 96, 337, 91, 147, 330, 230, 389, 16, 172, 130, 3147, 3667, 2734, 2057, 1541, 3670, 3333, 1089, 3113, 418, 1615, 1999, 2454, 3712, 2111, 626, 1499, 3543, 5139, 491, 4116, 3210, 3177, 4377, 2600, 1284, 4983, 3278, 1458, 465, 4868, 517, 4938, 5396, 2278, 3903, 1178, 1162, 1747, 4935, 2759, 4716, 266, 4050, 4107, 5102, 3511, 4672, 1173, 1718, 267, 2692, 5044, 5310, 3622, 4918, 1652, 456, 3314, 3339, 4635, 3994, 4393, 2394, 910, 4601, 4225, 633, 5224, 153, 5686, 4498, 4760, 2047, 4528, 4124, 14, 5438, 110, 2013, 1613, 4671, 4623, 4761, 4370, 5185, 5412, 978, 4053, 5095, 1842, 4742, 5498, 1668, 3400, 1384]\n",
      "[367, 26, 339, 309, 5, 194, 102, 147, 324, 274, 30, 8, 120, 56, 266, 136, 2828, 3682, 2715, 3825, 1295, 441, 473, 1893, 459, 2914, 956, 2889, 1076, 2032, 2761, 1126, 5782, 2928, 4214, 5938, 391, 923, 3257, 5961, 1510, 2555, 1263, 3349, 311, 3118, 201, 12, 3296, 4923, 44, 488, 5103, 372, 706, 4333, 3049, 3642, 5094, 1772, 3411, 4310, 1048, 3320, 1044, 123, 694, 4716, 3358, 4652, 638, 2420, 1218, 2184, 2537, 5734, 4213, 1455, 3582, 4355, 3186, 1744, 1091, 5015, 1584, 2530, 4637, 1571, 2970, 369, 4471, 3757, 4556, 34, 2879, 1613, 2166, 4979, 3576, 2281, 4727, 2474, 1027, 1150, 3144, 2732, 2559, 1954, 1296, 1394, 3220]\n",
      "[215, 328, 282, 111, 198, 351, 318, 98, 313, 239, 325, 52, 41, 146, 305, 272, 919, 1954, 857, 1023, 693, 3437, 898, 2395, 1299, 3926, 2715, 3256, 2063, 1917, 456, 588, 1990, 2847, 2032, 3819, 1109, 1497, 5086, 5103, 1651, 618, 4053, 1234, 2971, 207, 3289, 4625, 579, 2301, 33, 2964, 3280, 3457, 3225, 546, 5903, 2624, 2523, 856, 2340, 1362, 4226, 2350, 5455, 5885, 1683, 182, 2248, 5470, 1155, 5505, 3305, 371, 5046, 5921, 5668, 4101, 2237, 2296, 839, 1535, 811, 2893, 2998, 550, 2856, 151, 62, 5798, 5387, 4954, 2390, 4876, 469, 1754, 4556, 2446, 4710, 100, 1677, 5664, 738, 96, 669, 1256, 4068, 4485, 2459, 4809, 5557, 4519]\n"
     ]
    },
    {
     "name": "stdout",
     "output_type": "stream",
     "text": [
      "[290, 307, 130, 351, 325, 51, 169, 229, 154, 354, 86, 148, 162, 91, 385, 271, 1410, 1077, 3797, 2390, 1981, 3019, 2825, 2002, 1207, 434, 1031, 2855, 3754, 2717, 1579, 2597, 2853, 5048, 3053, 3519, 4894, 2913, 3455, 269, 4960, 4376, 11, 1422, 3798, 2938, 1294, 2364, 2312, 4770, 5734, 667, 4543, 854, 572, 1671, 3209, 2158, 5307, 5320, 2870, 1711, 3453, 3322, 921, 2076, 3761, 5328, 3927, 3885, 5644, 3360, 1386, 1463, 3850, 3169, 1464, 457, 5570, 5117, 3425, 1024, 856, 1065, 1781, 928, 1659, 4841, 5110, 2695, 1736, 2721, 3042, 4745, 5587, 5987, 2152, 5028, 2097, 4273, 1925, 1764, 5030, 3698, 1661, 528, 3010, 5767, 2461, 1202, 2084]\n",
      "[116, 80, 14, 194, 301, 351, 133, 231, 229, 58, 131, 215, 197, 330, 410, 2004, 481, 2500, 2570, 3670, 2501, 470, 1262, 929, 2370, 2096, 3146, 2767, 502, 3102, 1496, 4200, 5324, 1543, 690, 5760, 3485, 3356, 5473, 3299, 3982, 3502, 1759, 172, 941, 1435, 830, 2372, 1422, 2168, 4887, 5385, 414, 221, 2029, 1518, 4608, 3339, 3723, 905, 4229, 887, 2879, 821, 760, 4813, 246, 3587, 3228, 4870, 811, 2193, 4802, 2625, 1136, 1333, 4580, 3819, 4581, 1988, 1615, 3404, 1768, 2809, 3522, 365, 5516, 932, 4944, 3391, 2312, 2738, 1557, 1195, 251, 5742, 3974, 4075, 4617, 153, 5873, 3178, 1796, 1743, 5939, 5164, 508, 3032, 478, 5142]\n",
      "[260, 61, 194, 201, 348, 28, 178, 243, 301, 91, 354, 404, 328, 34, 189, 330, 248, 1253, 719, 2718, 1319, 1386, 2193, 49, 1686, 479, 2570, 2995, 326, 1299, 968, 538, 4762, 5387, 1823, 2698, 410, 3770, 82, 5637, 2487, 1473, 3213, 5195, 4337, 5712, 5952, 1745, 743, 3832, 216, 524, 1982, 2767, 4401, 5664, 2948, 1663, 1452, 3616, 159, 5563, 1613, 3296, 3604, 5200, 2100, 3462, 3240, 4388, 6019, 1171, 4614, 3840, 527, 5552, 5481, 5358, 2630, 4328, 4809, 3628, 4019, 435, 5937, 2065, 566, 3208, 5352, 4634, 4883, 2494, 5678, 958, 3778, 5426, 3853, 1676, 3071, 2905, 3701, 5753, 2003, 4496, 4089, 5147, 3538, 5867, 3061, 3157, 4452]\n",
      "[165, 164, 230, 145, 129, 9, 122, 142, 111, 222, 21, 22, 109, 156, 28, 2286, 1213, 1936, 1371, 1338, 2814, 1607, 941, 2611, 1804, 2347, 2288, 1030, 3792, 1262, 3310, 4330, 206, 1074, 4485, 234, 2384, 1335, 2858, 1149, 5577, 2890, 3470, 1465, 3738, 2876, 2465, 6015, 5602, 1268, 3008, 4143, 4782, 2410, 2142, 3046, 1312, 4912, 5350, 2567, 1175, 2265, 1247, 270, 1123, 5443, 2779, 468, 5237, 2521, 2048, 5254, 2434, 3516, 2298, 1958, 731, 4020, 215, 3209, 2488, 3320, 4621, 3284, 5189, 2809, 1637, 4653, 5104, 2766, 757, 169, 4486, 3462, 851, 3322, 2040, 5683, 3672, 4618, 2535, 1429, 414, 5814, 5141, 4016, 3984, 811, 3692, 954]\n",
      "[351, 250, 44, 147, 224, 172, 325, 178, 160, 228, 52, 225, 203, 53, 56, 106, 272, 1967, 585, 3674, 3546, 915, 2500, 1526, 952, 3509, 2119, 1035, 3449, 3361, 1220, 1241, 601, 1927, 994, 3530, 6026, 2690, 5607, 1462, 1109, 2546, 690, 104, 2677, 5898, 5367, 4746, 2958, 1592, 5864, 5951, 364, 2019, 5163, 2167, 5895, 1854, 501, 2459, 3311, 3571, 1337, 582, 3951, 1277, 4664, 5116, 4253, 3908, 2542, 1583, 3565, 5621, 4475, 629, 737, 3805, 4681, 1936, 1570, 259, 5624, 3232, 3596, 4330, 1108, 55, 1454, 5369, 1104, 1431, 151, 2455, 5279, 1430, 4677, 6037, 547, 4013, 1387, 210, 4224, 3355, 3482, 4919, 514, 51, 2274, 3724]\n",
      "[402, 244, 12, 108, 18, 186, 317, 218, 304, 337, 320, 267, 106, 215, 194, 2489, 1098, 1689, 3632, 1644, 542, 2335, 2794, 2616, 2946, 1028, 1716, 1613, 2299, 3085, 2623, 5582, 500, 260, 3054, 3466, 754, 1653, 4376, 533, 5662, 1316, 5446, 2644, 4107, 3959, 2423, 670, 5755, 4650, 1277, 2140, 789, 4895, 4597, 2285, 3180, 701, 1396, 1473, 1952, 586, 2121, 4850, 3329, 2481, 3998, 5179, 2067, 5794, 4552, 1025, 3284, 2753, 151, 3289, 2894, 2240, 4321, 5527, 4140, 5543, 4149, 590, 5251, 1334, 3453, 5253, 3985, 1603, 2804, 1684, 2873, 4806, 4453, 5190, 703, 170, 4309, 1001, 1508, 4243, 5080, 2682, 4261, 3428, 319, 505, 5999, 3170, 491]\n",
      "[148, 67, 130, 145, 414, 299, 198, 174, 110, 296, 201, 257, 215, 270, 61, 287, 1965, 2175, 2114, 38, 2456, 1373, 1951, 453, 2570, 912, 2391, 3197, 2066, 2122, 1195, 1157, 5948, 432, 2346, 28, 5663, 583, 5567, 2298, 3218, 5527, 3220, 318, 4499, 4703, 754, 2329, 3002, 640, 5245, 436, 830, 4508, 3355, 977, 1592, 2291, 5739, 3150, 167, 2058, 698, 4005, 5756, 291, 5680, 4863, 3389, 5047, 2961, 3346, 2827, 4649, 3654, 3214, 3833, 994, 274, 5761, 5766, 2743, 2565, 1009, 2974, 1324, 5079, 917, 5054, 1475, 5169, 3835, 1641, 4719, 5359, 0, 2590, 5990, 204, 5410, 1026, 3935, 1613, 3632, 5431, 5648, 404, 1644, 4571, 563, 4877]\n",
      "[384, 198, 301, 414, 152, 154, 194, 271, 44, 304, 34, 244, 265, 108, 18, 299, 2490, 1583, 160, 2986, 273, 2952, 2511, 1884, 3527, 2876, 2423, 2397, 2395, 3750, 16, 1135, 319, 1726, 5279, 5796, 939, 1868, 3061, 2742, 5457, 2291, 5468, 5963, 3088, 3151, 4266, 1731, 5908, 3577, 5508, 2413, 2487, 5009, 2622, 1365, 2955, 2298, 3451, 2320, 5551, 2837, 3881, 5272, 3185, 4917, 92, 3766, 5545, 2628, 3975, 1783, 1120, 4959, 421, 1258, 670, 1609, 36, 2238, 3909, 5987, 5829, 2767, 2555, 4501, 4238, 5980, 3850, 4846, 2396, 5071, 5824, 5879, 599, 5110, 4562, 2471, 2627, 3299, 2154, 2692, 1347, 5063, 1629, 5709, 335, 5006, 1724, 4429, 2436, 2352]\n",
      "[74, 263, 292, 328, 160, 201, 255, 194, 116, 191, 260, 351, 387, 1906, 152, 1720, 2693, 990, 2351, 3524, 3360, 3266, 3385, 2489, 149, 235, 35, 2137, 930, 2313, 1639, 3061, 1447, 414, 866, 3225, 1601, 5418, 2286, 3796, 844, 2399, 5383, 3841, 5173, 4910, 162, 4111, 518, 2683, 3469, 1259, 3762, 4506, 4670, 3818, 3178, 4800, 1516, 459, 332, 4739, 1903, 4441, 4742, 391, 4814, 1744, 4558, 4666, 4866, 762, 4676, 3363, 3, 5574, 1328, 3496, 4716, 3497, 4244, 5798, 2247, 4766, 3088, 2126, 3602, 279, 1594, 2919, 975, 479, 1202, 5027, 950, 656, 2263, 2914, 236, 3164, 3715, 3677, 1972, 1494, 2883, 2704, 5997, 5542, 1222]\n",
      "[116, 237, 5, 296, 351, 300, 225, 397, 301, 260, 67, 85, 264, 61, 268, 44, 3017, 1999, 2005, 1239, 677, 517, 3071, 647, 1355, 1220, 1264, 3117, 2940, 3527, 2869, 5093, 2280, 5542, 3852, 1742, 2303, 3401, 3127, 3595, 76, 4945, 5159, 5462, 4396, 4719, 3201, 936, 3198, 4158, 2559, 2421, 322, 2224, 779, 5519, 606, 848, 632, 2433, 4687, 59, 3727, 1560, 1168, 4000, 883, 988, 139, 2393, 871, 4311, 209, 4308, 1132, 1898, 2167, 1650, 1799, 2569, 2655, 3185, 1071, 1960, 2580, 4615, 5590, 605, 949, 543, 2125, 3936, 1327, 4316, 16, 5344, 5877, 183, 3469, 1591, 4644, 4964, 4589, 3677, 3052, 3509, 3289, 2458, 164, 4272]\n",
      "[148, 154, 215, 145, 190, 269, 189, 43, 386, 307, 197, 331, 271, 368, 351, 3864, 551, 3873, 3896, 3397, 144, 857, 3670, 2173, 355, 3947, 596, 2992, 2354, 1640, 1965, 1009, 5039, 999, 44, 1500, 98, 1332, 2960, 4577, 5105, 3437, 3980, 1509, 1568, 3586, 4449, 4213, 363, 2143, 4614, 4110, 4707, 5245, 5197, 564, 3693, 2720, 4266, 1725, 315, 3543, 5193, 5999, 4573, 2959, 3262, 5211, 3806, 1996, 656, 464, 3234, 1887, 662, 3316, 1317, 4930, 525, 2729, 137, 2848, 5839, 2146, 5345, 577, 3208, 3803, 60, 5922, 2550, 5070, 5677, 2369, 4525, 766, 1582, 2, 280, 2213, 2334, 572, 1334, 5628, 5278, 3122, 3339, 2961, 3104]\n",
      "[283, 266, 197, 162, 305, 147, 318, 405, 384, 357, 52, 254, 362, 403, 337, 7, 2738, 2323, 2914, 377, 1804, 1, 857, 2027, 604, 1049, 1346, 3174, 1248, 3577, 316, 2277, 2286, 5933, 24, 1848, 862, 2061, 1498, 4420, 685, 1183, 5190, 5558, 3662, 4432, 4782, 145, 573, 1577, 5140, 4078, 2398, 3843, 6019, 4580, 2764, 608, 2298, 716, 5904, 4148, 2112, 3117, 3671, 3147, 3809, 1575, 1622, 1111, 1639, 1653, 3424, 3754, 2160, 3131, 3200, 2306, 2344, 3091, 5726, 5164, 1966, 1856, 5739, 2068, 4979, 4758, 5522, 5030, 3057, 2689, 427, 5317, 2084, 2672, 325, 5308, 3588, 1695, 4295, 5009, 3858, 1926, 4784, 5337, 4417, 4993, 2034, 5574, 81, 307]\n",
      "[296, 351, 126, 354, 328, 260, 117, 219, 337, 408, 307, 318, 38, 370, 244, 109, 3670, 779, 2354, 587, 907, 1256, 1731, 3358, 3622, 2857, 299, 2567, 1640, 2719, 2255, 3593, 1490, 5263, 258, 876, 4396, 2365, 3130, 2131, 5314, 5978, 2506, 4536, 726, 5561, 5019, 4466, 4805, 887, 1193, 3315, 4126, 3793, 4129, 567, 1516, 4351, 5868, 5025, 1369, 2736, 5973, 3788, 5057, 5072, 1329, 4020, 5268, 3165, 209, 4818, 1933, 2, 65, 4003, 2144, 264, 2305, 1, 3290, 3421, 1664, 1760, 3703, 425, 816, 3019, 4913, 1194, 2249, 2805, 1282, 1113, 3941, 1739, 5216, 2691, 4132, 4988, 3724, 4709, 4783, 3839, 5287, 1885, 2759, 1707]\n",
      "[110, 308, 411, 342, 29, 215, 180, 52, 198, 306, 35, 1, 365, 228, 2691, 149, 784, 3267, 2857, 301, 2377, 2745, 921, 2711, 3195, 2579, 1728, 1244, 2299, 3862, 2027, 2903, 3611, 4252, 4720, 4933, 929, 4353, 5327, 2222, 3352, 4230, 421, 6026, 3818, 2786, 775, 1783, 3011, 3056, 2616, 191, 4008, 4492, 3451, 3339, 3932, 3798, 3038, 3224, 3356, 3008, 3915, 658, 4767, 3417, 5287, 374, 1619, 5669, 3713, 5795, 1080, 2266, 2137, 2541, 46, 4926, 2987, 1127, 1253, 4229, 5102, 480, 197, 326, 1793, 3046, 408, 3368, 1475, 3747, 1263, 4686, 5986, 791, 2298, 288, 1826, 4473, 820, 4676, 1086, 5322, 5329, 856, 794, 995]\n",
      "[328, 274, 411, 114, 215, 52, 155, 150, 395, 361, 30, 21, 74, 89, 284, 9, 3094, 2019, 1640, 3947, 898, 962, 1421, 1219, 367, 1526, 2301, 2264, 708, 1517, 2347, 1408, 1990, 84, 173, 1982, 3757, 2310, 1178, 6023, 5044, 5422, 1633, 5266, 1144, 2183, 5495, 447, 2633, 4757, 4399, 3492, 5871, 5150, 5781, 1120, 1735, 2874, 2251, 2887, 3769, 5875, 1245, 613, 423, 3397, 4645, 5458, 2420, 1122, 1789, 3634, 5748, 2914, 5667, 4566, 4455, 3536, 420, 2320, 765, 4866, 5681, 5016, 741, 3322, 5813, 5047, 5004, 36, 4925, 2101, 4710, 2158, 4721, 391, 6027, 3541, 1378, 1127, 4944, 5128, 751, 3799, 318, 496, 1346, 1985, 2779, 3238, 3086, 856]\n",
      "[300, 19, 174, 139, 246, 92, 95, 305, 395, 125, 110, 44, 379, 201, 198, 121, 647, 3607, 3511, 3250, 672, 295, 1703, 1430, 3480, 1035, 34, 2247, 2143, 2503, 5523, 3812, 2421, 141, 1196, 5782, 4629, 1401, 5906, 2429, 5440, 2133, 1474, 299, 1772, 5526, 4579, 4801, 2116, 3560, 1291, 2830, 343, 3189, 5962, 524, 4276, 1711, 5471, 1281, 4246, 900, 2796, 1190, 938, 2820, 1767, 4278, 3758, 4645, 5732, 3380, 1506, 3059, 2526, 3586, 3410, 4743, 4672, 1237, 101, 3102, 2010, 5333, 131, 2389, 2371, 6000, 2603, 3324, 2440, 4370, 2637, 437, 504, 2017, 1333, 4390, 466, 3428, 5924, 3098, 3877, 2983, 4175, 2319, 3421]\n"
     ]
    },
    {
     "name": "stdout",
     "output_type": "stream",
     "text": [
      "[395, 180, 166, 330, 35, 194, 52, 219, 89, 402, 147, 61, 305, 131, 198, 233, 1135, 1586, 3284, 2438, 1609, 1224, 1273, 3751, 1274, 1783, 2071, 3316, 2598, 1999, 10, 252, 1448, 2392, 3902, 1853, 4854, 5275, 1467, 945, 2058, 4565, 2221, 933, 2053, 1628, 5794, 3176, 4313, 759, 745, 3741, 2405, 3151, 3843, 1208, 2281, 3058, 5350, 3994, 5476, 4748, 1018, 2223, 1487, 5729, 4032, 817, 3518, 5922, 4573, 5564, 508, 2224, 639, 5585, 5209, 4527, 3175, 2089, 4113, 5528, 2760, 794, 1785, 3763, 3328, 370, 4062, 4750, 4058, 39, 4561, 2155, 591, 2538, 1671, 2357, 4912, 3498, 1670, 4494, 324, 3742, 2055, 1772, 3269, 473, 5301, 4797, 3211]\n",
      "[307, 193, 354, 221, 283, 120, 262, 224, 292, 186, 391, 300, 302, 56, 236, 2084, 1910, 1096, 1072, 3698, 3944, 2110, 1373, 245, 1913, 780, 2419, 594, 2860, 3483, 2004, 847, 5214, 3190, 1049, 1909, 4746, 905, 650, 2635, 4598, 2393, 2641, 2623, 36, 1123, 3453, 3451, 62, 3552, 1921, 2316, 3781, 1772, 1656, 4228, 5092, 5611, 5314, 1077, 1450, 1681, 2254, 1599, 2819, 1019, 2172, 3762, 3582, 2044, 4571, 1808, 2966, 719, 5589, 4526, 2107, 3292, 2253, 1389, 2753, 2026, 2810, 5119, 4007, 2584, 1250, 5134, 700, 4036, 2148, 1317, 323, 5417, 496, 5625, 2517, 5257, 894, 2125, 1361, 97, 1572, 4506, 4839, 1826, 3148, 5364, 297, 3363, 1240]\n",
      "[41, 150, 213, 269, 180, 237, 204, 386, 295, 25, 203, 202, 303, 318, 246, 44, 1195, 1875, 33, 947, 3709, 3349, 1196, 3751, 470, 3155, 3173, 3434, 1386, 3870, 1834, 4343, 1502, 3598, 3014, 5452, 3401, 5333, 2498, 2909, 3125, 598, 2248, 4217, 1042, 5816, 5939, 2202, 4127, 3938, 1526, 2316, 3692, 1447, 5315, 5203, 1382, 2197, 3655, 2892, 1774, 48, 721, 1011, 3498, 5394, 2398, 3570, 2971, 3016, 4349, 3168, 2699, 4283, 5600, 2473, 703, 1542, 2222, 2366, 3766, 4268, 2098, 1307, 809, 207, 1507, 1399, 1495, 2052, 2615, 4822, 4761, 5810, 4954, 2565, 1004, 3495, 1286, 3634, 1628, 841, 230, 1610, 4608, 2673, 1186, 2349, 1046, 5736]\n",
      "[25, 391, 330, 35, 412, 328, 296, 336, 22, 364, 244, 325, 301, 300, 168, 283, 1677, 2107, 629, 3511, 2941, 3867, 317, 2999, 2258, 602, 1499, 1034, 530, 1681, 3172, 3253, 737, 4116, 3959, 1904, 298, 3084, 5264, 4865, 3443, 3684, 5190, 3967, 1642, 2691, 1666, 1473, 2459, 916, 1340, 3430, 399, 1523, 931, 3416, 5340, 5233, 1016, 3885, 2088, 888, 1039, 1317, 3228, 2500, 858, 3433, 3826, 293, 3950, 207, 1842, 699, 1080, 548, 2541, 4204, 5798, 2930, 3606, 657, 1615, 1022, 2722, 5763, 2734, 2661, 3357, 4758, 4868, 107, 3178, 926, 1019, 1088, 4644, 5533, 5388, 5588, 5827, 5894, 1489, 3138, 2395, 4860, 3121, 1524, 2262, 3229, 3419]\n",
      "[189, 391, 337, 52, 333, 195, 308, 301, 162, 41, 229, 324, 289, 44, 8, 62, 2570, 433, 2500, 176, 1276, 2951, 369, 2802, 3498, 164, 2406, 2081, 542, 51, 1551, 2986, 1800, 5412, 5632, 5157, 4017, 3501, 4772, 3114, 3390, 3867, 3012, 5195, 1426, 4399, 4497, 3217, 16, 4420, 1140, 1050, 616, 660, 1604, 802, 2690, 1390, 1280, 1266, 1592, 825, 5921, 3436, 2563, 3368, 3289, 5483, 583, 1827, 1861, 1657, 1490, 2095, 5849, 5629, 3000, 5224, 4250, 4464, 31, 2623, 1382, 3384, 4637, 1943, 5144, 2466, 158, 967, 855, 3860, 5356, 2955, 2744, 1302, 4974, 2127, 2711, 2627, 130, 2094, 4335, 1573, 487, 2159, 4330, 2185, 3350, 4314]\n",
      "[261, 289, 52, 21, 32, 91, 150, 101, 274, 167, 258, 263, 57, 192, 414, 149, 1018, 3107, 3260, 3257, 2982, 2101, 1675, 376, 803, 259, 3254, 1100, 2727, 2131, 2027, 1200, 4801, 102, 804, 3634, 201, 1337, 1925, 3783, 3289, 3184, 1601, 1119, 5067, 19, 1754, 5062, 5629, 5186, 3166, 98, 1937, 1123, 4390, 3845, 4705, 5200, 2497, 2234, 4773, 509, 3180, 311, 4555, 556, 208, 3350, 3021, 1505, 27, 1209, 4703, 1894, 5784, 507, 6009, 5129, 705, 1476, 2872, 2265, 1680, 4423, 4548, 5649, 1360, 3251, 973, 5277, 5504, 5694, 5602, 847, 3631, 1024, 4956, 3661, 1673, 2728, 3919, 4640, 5336, 2589, 3182, 1536, 5962, 2348, 2623, 1716]\n",
      "[349, 213, 307, 301, 168, 18, 224, 325, 305, 9, 191, 145, 17, 408, 589, 3746, 428, 3253, 3070, 1214, 169, 3460, 3268, 185, 1747, 1393, 1258, 1232, 3043, 607, 5932, 367, 1338, 5612, 3498, 861, 2827, 3157, 2792, 5018, 738, 3111, 985, 1101, 1425, 2209, 781, 847, 1702, 5803, 1234, 828, 4122, 3705, 1228, 717, 2025, 5991, 2927, 4491, 1033, 750, 5961, 3122, 3116, 5544, 5657, 164, 3883, 2305, 3200, 3842, 1552, 439, 2032, 3986, 3304, 4674, 2435, 165, 3515, 1481, 1335, 1715, 3882, 939, 1837, 686, 1459, 4289, 1148, 1503, 981, 689, 2655, 792, 5780, 1466, 3510, 5227, 1652, 5374, 3787, 4396, 2294, 604, 3871, 3429, 5537, 4923]\n",
      "[351, 79, 338, 299, 25, 307, 400, 149, 44, 330, 301, 302, 397, 61, 9, 2033, 1679, 2132, 2408, 1721, 1638, 1306, 1676, 24, 11, 923, 1609, 1647, 2330, 2107, 3596, 780, 4259, 545, 2118, 2473, 5032, 4241, 874, 4558, 2579, 3356, 2461, 1169, 4954, 3119, 768, 5047, 4869, 1041, 1685, 3930, 18, 2062, 3154, 2095, 3165, 241, 5740, 1495, 3733, 3454, 5193, 1781, 4676, 328, 5196, 2673, 1942, 3628, 5362, 5761, 5614, 1620, 584, 4931, 1222, 4815, 5604, 546, 5246, 4080, 1584, 2634, 2228, 5176, 4153, 4716, 1046, 1975, 2935, 4126, 5000, 5652, 1667, 1139, 1711, 246, 3925, 5299, 642, 5022, 4540, 1762, 3970, 5377, 2794, 4482]\n",
      "[299, 122, 410, 202, 100, 276, 166, 168, 57, 61, 326, 300, 21, 215, 305, 231, 3752, 3092, 1783, 2540, 2570, 2395, 3750, 3479, 2115, 2754, 3609, 3792, 1407, 1854, 2715, 179, 3513, 4118, 864, 4606, 5288, 2218, 2202, 5068, 5937, 760, 5160, 5746, 2248, 3859, 1265, 3051, 1704, 2339, 651, 123, 4264, 445, 4906, 4728, 3023, 527, 469, 3067, 2775, 3452, 5122, 1479, 3305, 2538, 1702, 186, 5488, 4973, 1276, 148, 4564, 1769, 4064, 4474, 1664, 3816, 5441, 1715, 1484, 5594, 1037, 4412, 4986, 1718, 5888, 1975, 1234, 180, 1528, 4901, 1731, 2696, 1261, 959, 5181, 1245, 3972, 4372, 3574, 5246, 491, 5906, 1784, 4781, 2860, 3621, 1218, 3037]\n",
      "[263, 186, 80, 271, 219, 101, 156, 332, 294, 160, 21, 147, 342, 272, 24, 92, 3065, 3059, 3682, 215, 2075, 3356, 1275, 1941, 732, 514, 69, 3768, 1579, 2114, 2501, 1751, 3850, 1905, 1074, 3721, 4860, 3095, 1761, 4854, 2519, 4378, 4942, 5690, 3680, 4631, 5615, 1741, 4583, 762, 203, 2122, 3210, 1455, 1607, 5015, 2565, 2993, 4128, 172, 4674, 196, 5770, 1336, 5546, 4567, 2424, 5861, 2371, 744, 3812, 2112, 3750, 329, 1582, 4949, 715, 876, 2956, 440, 1359, 354, 5590, 4147, 978, 5354, 154, 4978, 4778, 5303, 1491, 2809, 2217, 890, 4658, 1342, 3943, 1020, 4475, 4652, 3240, 2819, 3804, 232, 5702, 3412, 2063, 2445, 692, 1432, 185, 5014]\n",
      "[217, 345, 164, 254, 110, 328, 361, 337, 35, 92, 81, 239, 165, 174, 4, 235, 912, 1041, 3526, 3493, 1844, 1190, 3784, 2063, 195, 2160, 1616, 1249, 2173, 2170, 1746, 1609, 5977, 122, 1131, 2045, 4618, 4304, 5955, 5803, 3880, 4906, 858, 305, 1272, 765, 3760, 3623, 2933, 3620, 4810, 3975, 1922, 3284, 2115, 6020, 365, 2155, 1687, 5179, 3119, 5462, 5604, 18, 1385, 4173, 5536, 3239, 2441, 1737, 5621, 1146, 2608, 1483, 149, 4929, 3321, 3319, 4935, 5978, 2308, 2968, 6013, 3282, 2425, 207, 4821, 5502, 5697, 1619, 4379, 2031, 478, 5579, 4564, 5838, 1674, 5246, 5351, 3875, 1262, 3500, 3933, 636, 2997, 4863, 5689, 5519, 5641, 290]\n",
      "[18, 367, 252, 410, 320, 4, 203, 52, 354, 187, 326, 236, 35, 336, 141, 390, 2698, 588, 447, 2143, 1512, 1292, 1725, 699, 3945, 189, 1386, 1284, 1338, 2857, 2201, 4940, 2162, 5363, 4408, 1826, 188, 5940, 2881, 3275, 6015, 4887, 5669, 4023, 2915, 4630, 3013, 1987, 5173, 1174, 677, 4111, 1351, 3394, 3958, 610, 1982, 3347, 1469, 3937, 259, 4212, 2728, 1723, 3105, 3413, 5825, 1127, 646, 1917, 5677, 3742, 599, 1412, 644, 3779, 5255, 3588, 3822, 2246, 5452, 4180, 4599, 5968, 2310, 3587, 4038, 867, 5378, 512, 3302, 5882, 2002, 5554, 4878, 2270, 3184, 3452, 964, 4352, 5972, 3895, 4442, 4924, 3383, 852, 1444, 1177, 5873, 2775, 2662]\n",
      "[43, 47, 222, 215, 149, 165, 203, 219, 29, 7, 323, 248, 318, 162, 3167, 1378, 1664, 908, 1279, 1640, 1966, 2701, 2320, 3071, 2379, 2319, 3544, 1059, 3577, 1467, 2300, 5937, 5058, 1156, 1256, 3007, 2875, 5709, 1735, 169, 3718, 2095, 5695, 5690, 3969, 4388, 3102, 695, 4188, 5235, 2559, 739, 3595, 3426, 1119, 4353, 3801, 107, 2860, 1912, 5041, 1804, 2364, 1175, 1404, 2630, 1838, 1415, 2212, 1337, 1911, 3190, 1773, 5895, 321, 5199, 2112, 3432, 2510, 2829, 5847, 1412, 4682, 1444, 3536, 3323, 5005, 3776, 2079, 3885, 1199, 5264, 3913, 4131, 4075, 713, 1292, 5976, 1927, 147, 1099, 3862, 2529, 50, 3696, 2907, 1243, 3728]\n",
      "[270, 411, 122, 207, 277, 36, 61, 301, 392, 377, 228, 77, 197, 300, 215, 672, 2370, 3209, 918, 1129, 479, 3151, 1093, 902, 3113, 2540, 1059, 1195, 2975, 2312, 647, 1598, 4212, 1081, 750, 524, 3524, 2427, 5373, 2786, 2846, 5409, 3885, 2670, 4120, 1827, 2510, 5397, 3736, 2091, 1516, 4518, 372, 874, 1886, 2124, 3682, 5452, 4119, 461, 5866, 2498, 4759, 1585, 682, 1813, 4438, 4703, 4556, 3806, 124, 3837, 204, 5948, 1877, 2848, 5437, 89, 5533, 5524, 3405, 5003, 44, 5178, 3915, 1756, 1540, 3803, 3670, 5877, 3123, 2342, 4642, 1578, 3909, 933, 703, 280, 4032, 2583, 3890, 1461, 1972, 3724, 5572, 688, 525, 772, 1495, 1986]\n",
      "[119, 35, 121, 354, 130, 150, 299, 345, 330, 55, 235, 272, 144, 148, 274, 16, 317, 1804, 3577, 2002, 1604, 1258, 2010, 1961, 49, 2984, 2986, 2332, 1720, 3504, 2661, 6030, 5936, 1037, 1235, 3321, 162, 4519, 1130, 5772, 3357, 4587, 3922, 1040, 459, 2258, 2909, 3523, 532, 4421, 2587, 2121, 5879, 1076, 1095, 3514, 5990, 2903, 4702, 1969, 5236, 4871, 1998, 2223, 5358, 1322, 5846, 3279, 5292, 1699, 932, 871, 24, 3923, 312, 3153, 421, 3875, 5114, 3886, 1128, 803, 1283, 173, 2075, 389, 3812, 3065, 5570, 2127, 2415, 100, 4368, 1920, 759, 2550, 3752, 4737, 1839, 4171, 1915, 5737, 4969, 5866, 3929, 2041, 1243, 1765, 4406]\n",
      "[72, 369, 365, 192, 198, 357, 267, 168, 0, 18, 154, 91, 137, 409, 307, 57, 1214, 3554, 479, 1078, 1915, 149, 2495, 3253, 3623, 2379, 909, 3763, 1448, 3197, 5061, 2071, 2463, 3551, 2753, 1663, 3751, 2005, 5835, 1645, 2774, 2618, 4471, 2323, 4360, 3800, 4532, 4561, 1002, 3760, 5871, 3190, 4982, 5463, 4910, 1834, 2869, 3398, 5496, 507, 1052, 4325, 2617, 2802, 4224, 1703, 1743, 104, 5389, 4735, 3042, 1229, 4912, 5796, 3543, 4516, 1497, 3877, 4348, 698, 460, 3387, 5239, 3889, 5864, 3765, 5323, 2724, 860, 3697, 4783, 1695, 4412, 5806, 3375, 5527, 5390, 370, 1182, 3927, 4960, 1304, 4409, 5940, 5641, 2954, 5154, 206]\n",
      "[368, 351, 302, 328, 405, 213, 257, 244, 186, 191, 327, 162, 224, 337, 284, 2144, 1170, 2063, 2538, 1392, 929, 1355, 491, 2604, 1033, 1245, 2392, 1644, 3746, 3623, 3542, 708, 4813, 1840, 5920, 718, 1740, 2281, 2155, 347, 4783, 606, 2342, 4801, 3496, 1844, 1273, 4119, 140, 955, 530, 3082, 1518, 5026, 5259, 1093, 2760, 842, 3365, 2180, 3144, 824, 3102, 589, 5385, 4121, 2586, 5167, 1937, 5372, 182, 5381, 557, 4981, 3801, 12, 4214, 2997, 3842, 2154, 4681, 1784, 2341, 5800, 2492, 3243, 3332, 5786, 5515, 1775, 340, 4046, 6034, 682, 2818, 5693, 3676, 4743, 3898, 4770, 3139, 504, 1646, 898, 367, 933, 4673, 2989, 4682]\n"
     ]
    },
    {
     "name": "stdout",
     "output_type": "stream",
     "text": [
      "[224, 283, 191, 33, 114, 258, 341, 100, 348, 271, 24, 52, 411, 304, 198, 148, 1059, 3703, 1369, 3268, 3408, 3104, 328, 2352, 3645, 1597, 3797, 592, 719, 345, 3505, 3826, 1789, 3805, 2950, 4539, 1897, 1447, 1034, 3664, 527, 4119, 1197, 3287, 5932, 1467, 3336, 5499, 3658, 201, 2719, 3086, 4483, 4012, 5437, 4875, 4239, 1039, 5658, 994, 5714, 3402, 6000, 68, 676, 3265, 28, 1100, 3238, 1646, 2606, 4068, 5721, 1363, 2798, 4194, 4452, 2185, 3916, 5076, 5114, 4414, 1763, 2063, 1241, 902, 5036, 5806, 3188, 5622, 3375, 4490, 4592, 2555, 1520, 3072, 1242, 3523, 1244, 3711, 3494, 5791, 1875, 1851, 1384, 3900, 2595, 3562, 5569, 1265]\n",
      "[101, 207, 32, 401, 192, 332, 148, 61, 223, 117, 21, 269, 14, 81, 274, 263, 2840, 2788, 2921, 1221, 1647, 1258, 28, 224, 2803, 3551, 2986, 1782, 2706, 1624, 1035, 103, 1513, 2916, 2980, 2436, 3586, 5700, 1417, 204, 2363, 769, 4990, 4056, 2760, 4715, 4138, 5200, 4223, 36, 1406, 6000, 5436, 6009, 3518, 4179, 1078, 6019, 478, 3646, 5914, 4714, 968, 5330, 3079, 5563, 2789, 4989, 3403, 4101, 5375, 5600, 5868, 3334, 699, 3153, 141, 5118, 4512, 3179, 4052, 4260, 2279, 504, 5433, 292, 4173, 5525, 3954, 3547, 653, 4145, 5798, 808, 5211, 1965, 2225, 3667, 3597, 1380, 4892, 4074, 1596, 41, 2110, 5561, 1381, 5238, 4759, 1419, 4142, 4095]\n",
      "[301, 21, 101, 72, 203, 194, 351, 326, 81, 230, 307, 239, 356, 411, 910, 1036, 2857, 1018, 2093, 1672, 1622, 2173, 3021, 430, 1747, 552, 1923, 1205, 3719, 2212, 2550, 3940, 5353, 82, 2432, 3660, 1198, 5781, 1276, 4307, 406, 2985, 5163, 4716, 1571, 5082, 4591, 3349, 2155, 782, 3189, 2080, 3844, 4288, 1501, 1256, 1587, 5115, 1002, 2930, 2938, 6027, 4599, 5796, 180, 3343, 3816, 1029, 2507, 252, 5144, 4689, 3805, 5766, 3845, 3577, 4705, 1878, 328, 4677, 3496, 1438, 754, 5618, 3860, 3344, 5337, 3676, 4403, 5148, 2758, 2041, 168, 1239, 2918, 1950, 5021, 2991, 3830, 667, 4478, 968, 1030, 1113, 5468, 3543, 182]\n",
      "[77, 397, 410, 260, 148, 207, 283, 34, 367, 254, 307, 61, 309, 58, 301, 219, 416, 561, 2028, 1091, 3188, 1205, 2708, 2299, 1094, 230, 161, 1887, 2353, 3167, 516, 1956, 762, 1910, 2154, 946, 2196, 2899, 3085, 3005, 5806, 4532, 4949, 1002, 123, 3437, 5649, 122, 739, 574, 1883, 4150, 2311, 3767, 5654, 3261, 3542, 5534, 977, 1197, 4652, 634, 4976, 4816, 31, 1025, 1342, 890, 5060, 986, 5746, 671, 2192, 506, 611, 2905, 2869, 5989, 2728, 740, 5168, 2066, 5872, 4162, 3657, 3836, 1696, 3108, 4707, 5286, 2932, 4488, 5862, 3683, 3849, 480, 1077, 1922, 2298, 5195, 589, 2011, 2134, 5556, 4206, 4540, 724, 4698, 3929, 2557, 4862]\n",
      "[318, 348, 14, 250, 71, 267, 173, 257, 201, 292, 215, 301, 365, 218, 224, 160, 1343, 2840, 2857, 3447, 3752, 1452, 3417, 1607, 1662, 1681, 1004, 1484, 1249, 1512, 588, 3193, 5914, 4610, 3317, 5534, 2832, 2516, 2583, 2789, 323, 4628, 565, 1693, 4497, 204, 5769, 4649, 5969, 1242, 326, 2727, 5478, 4176, 4203, 1716, 2246, 1153, 2003, 5268, 4533, 2864, 5245, 2998, 3356, 5321, 3478, 4115, 1984, 5562, 5675, 5994, 2879, 4059, 1090, 1901, 1108, 5001, 1113, 1467, 1071, 3143, 4057, 6012, 99, 3345, 352, 4226, 2602, 4714, 2296, 5263, 5063, 2673, 3907, 4539, 1941, 1883, 2819, 2348, 1575, 5289, 5527, 2815, 5975, 5883, 3041, 642]\n",
      "[248, 203, 370, 211, 201, 386, 156, 35, 234, 169, 283, 34, 336, 145, 410, 356, 1783, 2758, 916, 1721, 2389, 1269, 1911, 363, 2700, 2783, 2920, 492, 3544, 1131, 3777, 3093, 5835, 71, 5259, 1856, 3496, 542, 2993, 5219, 3775, 4647, 1066, 1600, 1265, 486, 5737, 5286, 3027, 3702, 137, 4532, 4272, 2046, 3058, 4960, 2146, 3269, 1100, 4686, 5008, 4086, 3412, 4380, 5705, 1053, 2912, 3523, 750, 3151, 6014, 5026, 5645, 3225, 491, 895, 3148, 849, 5192, 2790, 2055, 1457, 5544, 3079, 1821, 3891, 2038, 3019, 2427, 3324, 110, 3531, 1936, 1133, 2199, 473, 1169, 5280, 2142, 3352, 5753, 2003, 2226, 5893, 2951, 3328, 1710, 522, 3451, 5385]\n",
      "[283, 323, 254, 147, 174, 116, 271, 81, 150, 224, 338, 330, 8, 168, 235, 34, 3248, 587, 922, 1908, 1960, 3189, 2352, 20, 647, 3077, 3683, 33, 1922, 3534, 2915, 707, 984, 3709, 1353, 1312, 816, 4604, 2202, 2816, 5300, 5060, 2274, 556, 995, 4571, 4914, 999, 1490, 427, 1164, 5083, 1158, 567, 5099, 4695, 4178, 227, 5980, 1449, 1040, 2347, 299, 3326, 3753, 1569, 1526, 29, 3748, 4081, 229, 5852, 6026, 3203, 4119, 1209, 5014, 3430, 2645, 5608, 2217, 101, 4539, 2024, 4723, 2515, 2673, 1871, 46, 705, 4049, 5423, 1753, 1232, 3245, 840, 5327, 1929, 1075, 5549, 5816, 3528, 4177, 2629, 4942, 2194, 1542, 2863, 2908, 2883, 67]\n",
      "[122, 325, 172, 201, 272, 302, 301, 91, 269, 9, 329, 174, 25, 391, 410, 354, 1226, 3729, 1899, 1561, 43, 3360, 1250, 3863, 3528, 542, 3509, 3159, 159, 1589, 2862, 2484, 3151, 1184, 1137, 1543, 1435, 3899, 3380, 1215, 3870, 5520, 3303, 4466, 2586, 5021, 5801, 5941, 4714, 1398, 113, 5858, 652, 3597, 4876, 3966, 21, 567, 128, 1499, 4855, 256, 1869, 2052, 4125, 5745, 5605, 385, 2527, 1536, 315, 915, 5843, 4310, 484, 4789, 3527, 2920, 999, 5483, 5565, 1830, 991, 4344, 1170, 2420, 672, 4772, 2142, 4706, 1878, 3315, 5375, 3347, 2685, 4646, 3002, 680, 1003, 2264, 5798, 4838, 1287, 5118, 4636, 3018, 3742, 2620, 5107, 2394]\n",
      "[57, 174, 167, 390, 292, 336, 215, 79, 294, 263, 52, 82, 168, 14, 224, 244, 1609, 1996, 1579, 2209, 3824, 1747, 2717, 1415, 3112, 2470, 1632, 3554, 782, 3534, 1213, 1938, 5833, 3615, 5475, 2956, 763, 4136, 5410, 2068, 4915, 3436, 3706, 2951, 512, 1997, 2147, 5582, 918, 3343, 3772, 2431, 3235, 1243, 3007, 619, 2111, 1048, 3960, 3183, 5658, 4751, 1168, 5382, 5640, 2355, 92, 1277, 1400, 5575, 3601, 5894, 1583, 3164, 5729, 5514, 5708, 3955, 2870, 5854, 5635, 718, 482, 146, 4229, 5915, 1922, 4169, 3484, 3584, 3673, 4834, 1677, 72, 5564, 4001, 3705, 2541, 5769, 416, 1115, 2385, 1330, 536, 2969, 2772, 5278, 67, 2981, 1919, 2621, 2239]\n",
      "[325, 90, 283, 92, 248, 197, 44, 203, 407, 296, 0, 244, 330, 269, 165, 306, 1393, 3362, 3697, 3266, 473, 1613, 1268, 1579, 3818, 1019, 1245, 1791, 480, 3147, 3475, 1693, 6023, 1646, 1423, 2113, 4955, 1954, 5170, 5248, 955, 1815, 5158, 5989, 32, 2064, 5913, 1177, 4146, 1659, 4868, 5858, 2766, 3376, 4803, 3501, 135, 621, 2024, 5203, 189, 624, 4423, 5630, 4190, 5798, 4602, 1457, 792, 5906, 5830, 3674, 2111, 5355, 5851, 914, 5950, 3913, 318, 4551, 5477, 3055, 3700, 573, 3543, 4515, 4952, 3806, 5822, 6012, 1966, 3093, 4399, 814, 4675, 3620, 3669, 5213, 2755, 5810, 1524, 5866, 1443, 2029, 3508, 3729, 5243, 4298, 1152, 5284, 4964, 1837]\n",
      "[397, 136, 342, 329, 54, 133, 165, 286, 138, 145, 179, 8, 124, 126, 241, 203, 480, 1596, 925, 592, 109, 1281, 345, 2500, 1386, 3598, 919, 3255, 2390, 1264, 1953, 1055, 4924, 3892, 2764, 757, 3337, 2683, 491, 1401, 4567, 667, 4764, 4858, 4407, 4040, 486, 1413, 3902, 242, 4130, 3206, 5603, 4134, 288, 5807, 5742, 3575, 1971, 4058, 3269, 3839, 4982, 4317, 4268, 1991, 5418, 717, 2880, 494, 5470, 3408, 3346, 1268, 5772, 953, 2252, 2727, 2858, 2160, 3343, 4716, 3287, 525, 4491, 1304, 5086, 272, 2460, 1050, 553, 1121, 4907, 4399, 2947, 749, 5819, 2182, 4294, 3887, 303, 3681, 3126, 4336, 5680, 5142, 146, 4813]\n",
      "[85, 215, 101, 267, 138, 160, 155, 7, 318, 45, 307, 14, 192, 174, 352, 388, 2715, 3677, 1192, 2547, 1093, 1912, 3512, 1681, 499, 1101, 998, 317, 3195, 2951, 2761, 2620, 4490, 4163, 3925, 551, 3408, 1098, 362, 2405, 5435, 2916, 2714, 5336, 2278, 3231, 1047, 3103, 4169, 1564, 5151, 572, 5340, 2856, 4573, 3835, 4908, 531, 2144, 2635, 3327, 1212, 3606, 2022, 2276, 1866, 2762, 4051, 4279, 2075, 5580, 4998, 5019, 5835, 2124, 3657, 4322, 3704, 2179, 198, 3605, 3346, 2095, 3029, 3956, 1123, 5178, 1761, 1871, 3815, 954, 677, 4952, 5765, 1936, 2046, 4297, 1476, 4193, 596, 1734, 2169, 3056, 3611, 1924, 5057, 1086, 1246, 3365, 5865]\n",
      "[263, 9, 181, 330, 295, 135, 197, 215, 234, 271, 47, 37, 244, 74, 341, 145, 2093, 1252, 3498, 879, 2876, 1186, 2489, 2051, 3850, 2825, 3947, 1703, 760, 2056, 109, 2099, 4187, 5956, 1172, 4284, 1495, 5315, 5630, 2626, 3314, 4450, 2909, 454, 150, 1706, 2450, 5430, 4720, 753, 4399, 1218, 3685, 4059, 3804, 1466, 2246, 5106, 1639, 557, 5757, 2234, 5081, 3239, 2268, 3078, 3586, 1631, 254, 5092, 4274, 3820, 3418, 2065, 1350, 2673, 3742, 3848, 4031, 3064, 524, 2612, 2077, 1459, 2360, 379, 5659, 4269, 3021, 3371, 5206, 2306, 3144, 3934, 1281, 5517, 2760, 939, 5680, 2138, 185, 4499, 3976, 2817, 2073, 78, 1556, 4389, 5912, 2330, 3108, 3251]\n",
      "[32, 390, 76, 318, 330, 165, 4, 263, 191, 328, 81, 215, 217, 229, 411, 156, 3420, 2920, 2769, 1652, 40, 2716, 895, 3701, 1264, 2159, 1644, 419, 3892, 2687, 1196, 3394, 2844, 4668, 1532, 3304, 3282, 491, 2539, 2292, 405, 874, 2164, 772, 3979, 3674, 3333, 45, 5026, 527, 3187, 485, 5557, 1528, 3061, 2183, 5558, 2511, 2578, 1038, 2244, 2109, 132, 1537, 3026, 5827, 4018, 1063, 3234, 2206, 1813, 1404, 4268, 2714, 4952, 5458, 1978, 131, 2402, 1002, 6027, 2970, 2916, 1422, 1972, 2799, 798, 606, 4002, 1479, 5428, 756, 533, 4633, 3984, 3004, 5421, 2642, 5219, 5121, 5918, 5368, 574, 2100, 1593, 3395, 1570, 1476, 272, 3101]\n",
      "[116, 354, 320, 141, 298, 410, 32, 96, 351, 89, 391, 260, 268, 411, 186, 2173, 3275, 2160, 918, 2063, 2685, 3493, 905, 783, 1249, 1236, 287, 2598, 3947, 2790, 371, 2786, 4565, 692, 1202, 2625, 568, 3163, 4506, 4189, 5507, 5892, 884, 5262, 3989, 2003, 1644, 426, 2713, 3155, 3248, 4559, 5295, 5092, 4137, 4084, 2201, 2897, 648, 3555, 4258, 2289, 2601, 3556, 6025, 3224, 3662, 3036, 3973, 4806, 2732, 3852, 2133, 1747, 3880, 4286, 5478, 1970, 4086, 2537, 1469, 4887, 3958, 2442, 290, 3525, 228, 3175, 2818, 201, 3536, 3371, 241, 4234, 4901, 2457, 1494, 1313, 5171, 5340, 5612, 978, 1614, 755, 280, 2264, 2363, 1584, 627, 4838, 2587]\n",
      "[348, 328, 305, 32, 48, 410, 164, 178, 198, 370, 354, 277, 81, 9, 63, 244, 1234, 473, 596, 2946, 1100, 3577, 2862, 3689, 1408, 2063, 2825, 2458, 1258, 2769, 1213, 1652, 4093, 1857, 1769, 3605, 3859, 1968, 4807, 5872, 4948, 5438, 1655, 4409, 4622, 1918, 548, 3983, 5414, 5049, 4101, 1036, 4297, 4711, 2971, 1030, 4175, 5255, 1567, 2452, 4516, 865, 838, 4557, 3153, 476, 4208, 2978, 2986, 5184, 4511, 4226, 3508, 3910, 4083, 4477, 5427, 1113, 3965, 1735, 457, 2201, 3025, 3865, 179, 3323, 2562, 334, 3205, 255, 4865, 2797, 5460, 5119, 4324, 3693, 742, 1776, 2972, 392, 3112, 1203, 4602, 5678, 5322, 4467, 2839, 1640, 2236, 5391, 844, 2648]\n",
      "[313, 272, 120, 248, 91, 237, 51, 37, 33, 244, 402, 168, 295, 172, 273, 1011, 1258, 259, 1579, 2084, 3097, 2420, 3784, 45, 317, 203, 1077, 2123, 2663, 3859, 1195, 5103, 3210, 4171, 811, 5987, 3854, 1824, 80, 1538, 1517, 3858, 3579, 4182, 5424, 3840, 979, 1737, 3307, 5762, 2791, 2946, 1814, 3403, 850, 5985, 1038, 5295, 4481, 3744, 5556, 6034, 2961, 2568, 5518, 4352, 2869, 506, 142, 1515, 5212, 662, 5952, 1529, 64, 1071, 3099, 5049, 1920, 629, 2892, 5729, 3126, 733, 3206, 2009, 3904, 1464, 4390, 241, 5110, 1670, 250, 2672, 2287, 5249, 3190, 1322, 5137, 1380, 5982, 3004, 1532, 5774, 4651, 4423, 4939, 1550, 3538, 4507]\n"
     ]
    },
    {
     "name": "stdout",
     "output_type": "stream",
     "text": [
      "[304, 164, 72, 159, 198, 88, 51, 172, 8, 92, 116, 201, 22, 239, 17, 260, 1977, 2946, 591, 479, 3792, 369, 588, 2919, 3005, 2627, 673, 1456, 520, 3577, 2700, 1233, 5453, 4431, 2025, 5860, 4655, 5407, 4624, 2464, 5763, 5140, 5838, 5082, 248, 1334, 3564, 561, 5868, 394, 2844, 4868, 4841, 3972, 5467, 6010, 403, 3124, 2943, 1216, 2416, 4543, 1440, 5823, 4836, 1376, 4519, 4706, 5207, 3829, 2719, 915, 672, 100, 3024, 5988, 3104, 5294, 1936, 2565, 1755, 5748, 5069, 3872, 1468, 4993, 5279, 89, 4812, 644, 4134, 1066, 1607, 258, 3485, 3784, 2712, 4184, 5571, 3514, 1769, 4650, 5372, 3434, 35, 3812, 4195, 1312, 204, 717, 5198, 3463]\n",
      "[68, 370, 191, 336, 61, 375, 304, 52, 244, 156, 172, 155, 127, 109, 410, 430, 670, 747, 1783, 1572, 2503, 1219, 2705, 2466, 1551, 925, 0, 3750, 2279, 1304, 2945, 2934, 1685, 5964, 4588, 4535, 5534, 78, 2767, 2269, 2611, 614, 4841, 4003, 4177, 1426, 1475, 5904, 813, 338, 4820, 524, 3863, 830, 5266, 4052, 5840, 3385, 2416, 4910, 4250, 5589, 1196, 6038, 5010, 3746, 2024, 5413, 2970, 3519, 2646, 2938, 3054, 5760, 4624, 2261, 2287, 5703, 1833, 5655, 1489, 4807, 633, 1321, 4181, 1893, 2370, 1002, 2435, 665, 3812, 3916, 5645, 5178, 2869, 4271, 3340, 5348, 5911, 4098, 5738, 3829, 2784, 2242, 4669, 1926, 385, 2499, 1405]\n",
      "[367, 389, 204, 58, 194, 296, 402, 91, 156, 359, 300, 373, 328, 260, 87, 23, 379, 1284, 3361, 907, 2721, 2395, 779, 3744, 1212, 2005, 2388, 1258, 1408, 2986, 1292, 1219, 4135, 1634, 3086, 1737, 3391, 3347, 4723, 433, 2354, 5312, 5472, 3671, 5027, 4420, 3782, 842, 5290, 1320, 5480, 5210, 2201, 1000, 3980, 1036, 1040, 5380, 3504, 3437, 2144, 4793, 71, 3741, 4440, 205, 1251, 1203, 4968, 3521, 3893, 3724, 3102, 2532, 3321, 2426, 5819, 3824, 885, 1570, 2178, 712, 2068, 3048, 5787, 2715, 2491, 252, 4846, 1362, 5152, 528, 4618, 1337, 2325, 4617, 5394, 2801, 2317, 2631, 4636, 1265, 32, 2163, 1904, 4191, 1305, 535, 3568, 3310]\n",
      "[239, 328, 164, 410, 307, 122, 57, 251, 9, 283, 248, 407, 236, 41, 263, 2889, 1720, 1254, 1192, 305, 2428, 2871, 1319, 952, 1373, 2705, 295, 316, 1197, 2446, 3709, 5834, 2549, 2862, 5270, 2454, 3864, 2609, 3593, 709, 3882, 3210, 2740, 1938, 1792, 4331, 3170, 3064, 3302, 1234, 370, 66, 10, 5329, 1415, 138, 3534, 3135, 1909, 3907, 2767, 5417, 3871, 4915, 2473, 1085, 5448, 5579, 4136, 1156, 432, 1412, 3477, 2426, 3154, 4349, 1465, 55, 1179, 2611, 4462, 3904, 2301, 4810, 1309, 1216, 516, 840, 5011, 1235, 1022, 3114, 5328, 2431, 4643, 5249, 411, 5793, 3786, 5646, 980, 1464, 3634, 3522, 4016, 2132, 2324, 3768, 5612, 479]\n",
      "[172, 203, 134, 265, 136, 207, 253, 277, 389, 102, 192, 237, 21, 244, 291, 47, 3364, 514, 3750, 3003, 1710, 2272, 2398, 2877, 3839, 2880, 3913, 2242, 2337, 1605, 3947, 2041, 5677, 5381, 5819, 3565, 198, 876, 3198, 4011, 541, 2038, 2459, 5876, 2294, 2840, 137, 2204, 3765, 4722, 3434, 6023, 106, 5079, 5279, 4192, 2144, 512, 2351, 4188, 66, 4455, 4565, 487, 2418, 4147, 977, 3830, 1249, 3924, 327, 4844, 16, 3630, 3116, 4083, 3746, 4691, 1076, 2149, 4111, 5988, 5217, 407, 2129, 2367, 3604, 3986, 3458, 565, 4222, 1767, 5694, 5468, 5671, 3588, 3652, 2109, 1536, 4592, 508, 4042, 82, 2891, 4346, 3088, 3188, 909, 2297, 2914, 4358]\n",
      "[260, 395, 263, 270, 124, 298, 397, 92, 307, 57, 412, 194, 410, 332, 330, 345, 1100, 1859, 2420, 2857, 2950, 2027, 3395, 456, 363, 2364, 317, 564, 2484, 955, 2965, 1229, 3167, 2185, 2775, 4891, 5441, 3454, 3736, 3825, 3450, 3111, 5510, 4707, 2333, 5572, 1824, 4084, 2956, 5651, 3071, 4568, 516, 3035, 2650, 1616, 3620, 3912, 6011, 724, 2607, 5265, 5198, 2053, 2351, 390, 4567, 1054, 2010, 333, 4686, 4558, 852, 5246, 716, 3842, 2733, 1168, 1080, 5875, 3538, 2473, 5193, 5682, 4564, 730, 2487, 4642, 3991, 3818, 3120, 5295, 5702, 3675, 4925, 4109, 1294, 4241, 1219, 5984, 4542, 1435, 1625, 5798, 883, 4645, 4708, 5320, 165, 3969]\n",
      "[269, 194, 370, 44, 351, 31, 183, 91, 147, 25, 264, 217, 241, 308, 320, 912, 3909, 2598, 2173, 3036, 46, 2941, 2122, 2615, 2804, 3810, 2762, 2301, 804, 2671, 909, 350, 1807, 4191, 1666, 1554, 897, 4827, 3358, 800, 4008, 3105, 376, 3462, 3539, 2824, 3785, 3227, 5356, 847, 784, 797, 507, 5636, 2801, 2577, 4927, 401, 5228, 4274, 1683, 189, 4262, 531, 4712, 5318, 5925, 2830, 4612, 5401, 949, 1358, 3973, 1227, 2682, 517, 5064, 1139, 3863, 3792, 4067, 5852, 2451, 2782, 16, 1367, 1531, 5121, 5675, 2621, 466, 5620, 3434, 4447, 4097, 4046, 1307, 2993, 4697, 4346, 1523, 1213, 2223, 1298, 1901, 5844, 4337, 5020, 1737]\n",
      "[22, 385, 1, 244, 215, 17, 192, 367, 222, 147, 318, 175, 219, 201, 41, 351, 1257, 3172, 2716, 1768, 1776, 2080, 2394, 2958, 2615, 1275, 1080, 3392, 3830, 3175, 3554, 3698, 4015, 2652, 4265, 1241, 5020, 1384, 2960, 687, 2010, 1220, 3435, 1898, 4158, 1668, 3048, 2483, 4129, 4141, 1885, 1376, 5629, 4428, 2035, 4160, 5757, 2034, 3734, 5080, 361, 2412, 1297, 2773, 3617, 3270, 2762, 3570, 5249, 3196, 5403, 5594, 4688, 5905, 178, 4665, 3373, 925, 3154, 2092, 726, 4051, 771, 5667, 402, 5771, 4756, 2537, 4910, 95, 2226, 1190, 4801, 3677, 2411, 2864, 2371, 1956, 2944, 2067, 360, 2551, 1556, 4375, 5051, 4850, 2167, 4327, 786, 3164, 3257, 3031]\n",
      "[84, 318, 405, 160, 57, 358, 258, 284, 59, 315, 10, 224, 104, 19, 185, 3324, 1726, 1197, 719, 1572, 1652, 3685, 2855, 902, 3174, 3554, 1277, 987, 588, 109, 3112, 3344, 5719, 5713, 720, 521, 904, 3674, 1906, 3053, 703, 3437, 4412, 4570, 2252, 3832, 5221, 3574, 488, 4494, 2694, 4795, 5580, 1443, 5002, 3082, 1458, 5760, 1543, 838, 4236, 3641, 660, 4438, 4332, 5639, 5239, 4027, 2837, 3931, 5359, 1811, 4779, 3905, 1416, 4980, 5012, 5648, 1756, 1291, 180, 154, 2942, 2897, 3337, 4991, 2635, 2346, 5341, 1082, 4225, 538, 925, 2848, 3661, 1459, 1973, 5568, 5886, 3566, 1126, 5616, 1539, 222, 3371, 2797, 5681, 2202, 1357]\n",
      "[267, 116, 32, 307, 213, 273, 375, 345, 58, 342, 395, 354, 122, 57, 150, 266, 1596, 3622, 2564, 49, 1281, 777, 1366, 2865, 1956, 3707, 3159, 878, 3496, 2056, 2717, 1967, 752, 3490, 4089, 3773, 4829, 3630, 4570, 2585, 5598, 4296, 5930, 340, 2090, 3725, 2578, 3000, 3519, 1607, 1731, 50, 3391, 44, 5528, 3772, 555, 4077, 2224, 3053, 4261, 2832, 1642, 1995, 959, 517, 2995, 664, 1399, 1154, 1961, 4266, 5850, 952, 570, 5329, 2361, 5853, 5416, 360, 2961, 46, 4036, 5952, 2448, 3087, 1327, 1355, 81, 6036, 2999, 70, 123, 2065, 3103, 4775, 1349, 2696, 4219, 2103, 3192, 3321, 1994, 188, 5050, 295, 3908, 1126, 3114, 985, 1392]\n",
      "[354, 401, 370, 351, 301, 52, 292, 89, 300, 248, 247, 271, 307, 325, 290, 224, 2166, 2149, 2579, 1883, 801, 1703, 327, 3623, 2685, 1465, 1993, 2093, 332, 3067, 3358, 1205, 4748, 4903, 4929, 4924, 5401, 2390, 4024, 1513, 1586, 4466, 2976, 794, 2329, 5641, 4822, 5164, 422, 387, 5234, 2392, 5096, 3605, 3268, 709, 516, 5993, 1446, 2768, 789, 5202, 1187, 2032, 4177, 982, 2810, 4243, 786, 1367, 2583, 2559, 3675, 2680, 3085, 3260, 1076, 468, 2789, 4936, 4578, 4279, 3457, 5129, 835, 5852, 1636, 2331, 1106, 4291, 1735, 4843, 3625, 4923, 4307, 1173, 5544, 2102, 3377, 2046, 1618, 3676, 1024, 2011, 2989, 2203, 4754, 437, 3459, 2344, 1074, 4907]\n",
      "[57, 133, 236, 414, 16, 379, 234, 387, 153, 197, 204, 243, 406, 32, 24, 2526, 2915, 1291, 259, 2143, 1209, 3385, 2335, 1355, 1255, 1096, 1135, 967, 3229, 3716, 1071, 1017, 4160, 775, 1994, 5238, 1329, 3755, 3901, 5584, 177, 3751, 2427, 2998, 4647, 494, 1962, 3126, 3051, 1582, 3071, 4402, 3075, 5581, 131, 2997, 5443, 2296, 3259, 2739, 5848, 2537, 5406, 5760, 4038, 2248, 1039, 677, 3243, 2149, 1462, 4912, 209, 1505, 2431, 3924, 1141, 4303, 5167, 696, 1669, 3627, 1199, 252, 1318, 3288, 2417, 2990, 5923, 3842, 5713, 872, 1331, 373, 1967, 2971, 450, 2970, 5529, 5155, 5723, 2893, 3557, 5777, 5534, 1090, 3362, 913, 858, 1681]\n",
      "[222, 309, 8, 239, 237, 274, 301, 342, 86, 74, 39, 272, 52, 41, 215, 2477, 350, 777, 1370, 3177, 1199, 2579, 434, 3383, 2140, 1203, 2790, 2105, 3395, 1875, 3174, 427, 685, 4146, 5402, 5114, 987, 5048, 1706, 1623, 5577, 4318, 3361, 3545, 1054, 5820, 3889, 4020, 5588, 5377, 3779, 1191, 4488, 2286, 1916, 1276, 1506, 480, 4687, 5769, 5037, 4766, 1421, 1854, 2739, 2216, 4242, 114, 5110, 2597, 4508, 2463, 2714, 843, 493, 2482, 1833, 5245, 5200, 5980, 2362, 5978, 1631, 4565, 5436, 505, 2186, 170, 5498, 5452, 1316, 4103, 5640, 2623, 1881, 4129, 5160, 1748, 3173, 5747, 3561, 5105, 737, 5628, 5687, 2695, 1884, 1106, 2561, 5009, 3165]\n",
      "[33, 326, 283, 147, 215, 411, 90, 263, 307, 404, 351, 387, 164, 92, 2917, 508, 1844, 3106, 1516, 1681, 1078, 2133, 1616, 1947, 2301, 1865, 1373, 1332, 1875, 456, 2733, 1218, 2080, 1710, 835, 2093, 5025, 1729, 3182, 5044, 2310, 2986, 5614, 2489, 921, 5083, 3862, 1496, 655, 4082, 2704, 3127, 3718, 3446, 3944, 2469, 4304, 2719, 4471, 135, 4251, 1061, 58, 3059, 4613, 4758, 4487, 1301, 3061, 372, 5848, 5540, 5790, 3964, 4209, 1009, 1360, 258, 5888, 3448, 5459, 4850, 98, 1695, 2206, 2170, 563, 2522, 5949, 5486, 3039, 1281, 4127, 225, 3629, 4697, 2000, 4993, 4193, 1426, 4869, 2854, 1633, 2317, 5022, 4577, 2595, 4392, 3405, 1773]\n",
      "[286, 324, 334, 254, 271, 410, 348, 56, 397, 235, 307, 201, 292, 224, 226, 168, 246, 1720, 1893, 1221, 463, 2311, 1791, 2309, 1147, 2682, 2248, 596, 569, 355, 2699, 1985, 5506, 14, 4944, 2741, 5125, 6011, 3997, 3669, 4856, 5516, 1912, 382, 1345, 3633, 3233, 5616, 2319, 1445, 4861, 4750, 4569, 3642, 2798, 4273, 1124, 3729, 1605, 259, 4060, 5415, 2479, 4035, 5570, 1486, 3482, 2866, 5879, 178, 4098, 3214, 4429, 475, 2580, 1751, 5335, 2246, 3215, 3331, 896, 4208, 4540, 5453, 3581, 2456, 4300, 1333, 1390, 2649, 4430, 2603, 3041, 366, 2499, 1729, 2046, 4759, 4937, 4931, 1647, 2943, 2623, 3631, 4745, 2482, 1919, 3207, 3468, 2133]\n",
      "[89, 367, 301, 197, 366, 234, 128, 402, 313, 325, 318, 25, 219, 357, 244, 263, 2762, 3051, 2807, 2769, 1187, 2359, 292, 1404, 918, 355, 2319, 266, 1199, 2395, 3107, 155, 2185, 1463, 2567, 4073, 1616, 5820, 1071, 2744, 2358, 5379, 4439, 5334, 3853, 2784, 5134, 1679, 997, 5685, 2602, 3637, 5083, 3525, 2742, 737, 2196, 246, 4394, 145, 1146, 3028, 4161, 679, 1656, 3695, 5084, 1715, 2657, 4313, 5354, 5351, 1570, 5941, 5463, 28, 3657, 1443, 4900, 5114, 4148, 4209, 1150, 812, 166, 2810, 1007, 808, 5848, 955, 2524, 3434, 1818, 4316, 2779, 2297, 4894, 4552, 93, 1479, 650, 4881, 3414, 5360, 6024, 4240, 4017, 3592, 2024, 4344]\n",
      "[81, 215, 148, 346, 243, 188, 129, 135, 328, 141, 116, 381, 411, 242, 131, 3099, 2108, 1858, 1408, 1264, 2027, 473, 3385, 2093, 1197, 2002, 1189, 57, 2715, 1269, 2281, 3348, 3853, 2166, 5857, 1329, 112, 1515, 2757, 5904, 1512, 3084, 1321, 3356, 2338, 4043, 4182, 2227, 119, 5228, 791, 4257, 5478, 1216, 3995, 1865, 1274, 2620, 2502, 3872, 5789, 2685, 4639, 3700, 3990, 2091, 435, 685, 647, 5049, 2946, 5412, 525, 881, 704, 5007, 4299, 3295, 2614, 1429, 66, 5363, 3749, 4815, 4497, 2811, 3443, 5229, 2279, 4527, 25, 2006, 3199, 5522, 546, 822, 4002, 1898, 350, 3880, 3298, 424, 3030, 5639, 5058, 3293, 2961, 2245, 1445, 1030]\n"
     ]
    },
    {
     "name": "stdout",
     "output_type": "stream",
     "text": [
      "[147, 162, 156, 44, 203, 133, 385, 396, 280, 328, 271, 60, 318, 110, 148, 1726, 3514, 1274, 904, 1437, 434, 1244, 1239, 2857, 3325, 2398, 761, 1377, 1196, 985, 1320, 4237, 534, 4500, 4982, 4685, 4682, 5996, 5823, 1624, 4310, 868, 1653, 5211, 5240, 1665, 5897, 4947, 2317, 4231, 2378, 5203, 4118, 1574, 5714, 5781, 2828, 4875, 4889, 1867, 3894, 5700, 4664, 2961, 3644, 667, 1157, 5876, 221, 922, 2853, 2353, 6033, 1729, 2008, 4660, 1914, 1411, 5061, 3381, 209, 69, 719, 4076, 4069, 5255, 3725, 1952, 1649, 1012, 5191, 515, 3723, 5264, 4979, 4709, 2866, 2498, 4328, 767, 2544, 2613, 4495, 5651, 5623, 4428, 4355, 2490, 3277, 1866]\n",
      "[330, 119, 156, 89, 229, 300, 148, 150, 267, 116, 130, 376, 47, 337, 251, 3067, 1195, 3702, 3004, 2354, 2124, 1844, 480, 3896, 2431, 1252, 3542, 1083, 3482, 3, 3266, 4388, 5002, 2417, 2596, 463, 5304, 1589, 5560, 2940, 1274, 3192, 3654, 5506, 2943, 3129, 5705, 3928, 2044, 5737, 4938, 1660, 1642, 3363, 1347, 5768, 5634, 3230, 5502, 2302, 4209, 3333, 1732, 5191, 2175, 4430, 886, 1516, 4409, 3685, 5540, 2972, 5990, 1372, 3213, 2667, 1861, 2015, 1288, 3884, 3134, 4475, 5176, 4668, 3146, 4914, 3987, 4489, 3318, 6002, 77, 4512, 3704, 4497, 4652, 3481, 1109, 76, 1378, 214, 2864, 4482, 3493, 4876, 2677, 4186, 1752, 5654, 4196]\n",
      "[64, 412, 343, 263, 190, 224, 237, 243, 307, 168, 160, 156, 247, 2802, 33, 3195, 3417, 3524, 2722, 474, 10, 302, 1579, 1252, 2917, 1225, 3245, 3266, 1197, 68, 20, 4441, 2856, 3960, 1990, 4046, 2324, 2450, 664, 4763, 2640, 5675, 4165, 3906, 1615, 5585, 2857, 3016, 4828, 2390, 5002, 416, 2220, 5486, 1024, 1274, 280, 5158, 4127, 5818, 4031, 4597, 4770, 4139, 4936, 723, 5788, 3214, 2846, 1214, 5845, 456, 2582, 3644, 3631, 4976, 2254, 5281, 3638, 4389, 311, 4352, 3660, 3895, 83, 54, 5397, 5803, 2077, 464, 4729, 1244, 4024, 2962, 2070, 5498, 5426, 117, 393, 4454, 3158, 2583, 4637, 378, 3950, 749, 379, 4580]\n",
      "[74, 58, 367, 342, 348, 161, 284, 23, 103, 229, 293, 87, 318, 301, 259, 1021, 1952, 479, 1366, 2334, 3300, 3134, 1306, 1262, 2682, 1187, 1445, 317, 2778, 316, 1204, 5974, 5315, 5932, 36, 4771, 5739, 5392, 2797, 2259, 289, 4236, 124, 4778, 5532, 3979, 5051, 5729, 3543, 4991, 33, 3082, 174, 5468, 799, 1858, 3900, 3842, 4507, 4863, 5371, 1258, 3541, 5827, 5241, 2933, 3727, 1303, 5814, 3792, 3439, 4072, 169, 134, 4730, 691, 2702, 5557, 309, 4099, 2437, 1768, 170, 4849, 1062, 4276, 3360, 5320, 5036, 431, 676, 3803, 654, 3869, 4818, 4293, 2909, 3327, 4604, 2579, 3245, 3778, 5571, 2294, 4152, 1293, 1770, 4265, 2228, 5420, 5301]\n",
      "[203, 391, 248, 201, 326, 162, 181, 298, 4, 223, 44, 47, 315, 277, 209, 410, 2967, 3638, 2358, 1759, 3577, 195, 38, 851, 1191, 3716, 1638, 452, 3922, 2651, 901, 2827, 171, 3188, 999, 4821, 700, 2364, 4228, 3935, 5659, 4778, 3016, 3025, 5553, 880, 2862, 4587, 579, 2153, 811, 4138, 1309, 5806, 5638, 1849, 4793, 3721, 1467, 1736, 1215, 5655, 2830, 2781, 892, 1384, 2022, 56, 5924, 4465, 577, 5599, 2107, 3486, 5563, 5812, 2912, 98, 2128, 4788, 1725, 1818, 4203, 2015, 4336, 3624, 4611, 1101, 5251, 1913, 2796, 2892, 1532, 4869, 5965, 4839, 5114, 5998, 3525, 5882, 1210, 4652, 818, 4431, 2322, 1043, 5469, 4052, 1890]\n",
      "[68, 202, 377, 165, 318, 61, 145, 98, 22, 75, 115, 171, 397, 392, 224, 102, 589, 3177, 2320, 1269, 1893, 1677, 3407, 2351, 3419, 1232, 156, 1209, 1747, 2986, 3100, 1355, 5437, 260, 582, 2980, 1998, 1005, 5649, 5299, 2004, 5885, 413, 1099, 4931, 1066, 1359, 4294, 383, 5342, 5692, 258, 4605, 4235, 3122, 266, 5950, 3234, 2284, 5917, 2034, 5319, 5977, 3592, 3929, 1903, 4392, 3370, 3382, 5925, 637, 1778, 4708, 48, 3499, 1888, 193, 737, 2150, 197, 1180, 2085, 5809, 4675, 851, 4587, 6018, 1658, 4682, 3878, 2842, 2233, 1059, 5725, 4531, 3493, 3967, 5693, 5244, 5814, 1149, 4076, 3523, 3085, 548, 1255, 755, 5186, 4083, 4822, 5690]\n",
      "[149, 328, 148, 229, 401, 370, 337, 305, 93, 307, 122, 286, 409, 211, 2019, 832, 3134, 3793, 1776, 2705, 1244, 3107, 1607, 1320, 3759, 3307, 3147, 1232, 1967, 3867, 5416, 256, 2114, 2714, 5493, 4038, 289, 1535, 2073, 5989, 2959, 5240, 2304, 1163, 1390, 5282, 3472, 2106, 5591, 924, 5247, 699, 5041, 5797, 5352, 4706, 4100, 343, 355, 1979, 1077, 350, 1323, 5584, 3608, 416, 4494, 71, 2238, 5820, 5228, 4348, 1462, 5670, 5154, 4374, 4856, 4490, 2657, 5749, 3059, 989, 1270, 2847, 4908, 1257, 2378, 1410, 3465, 559, 259, 1310, 2447, 527, 5859, 4238, 1047, 2307, 5745, 928, 5979, 1300, 5962, 2297, 1204, 5049, 27, 3265, 4104]\n",
      "[150, 143, 334, 328, 351, 16, 194, 270, 262, 301, 413, 349, 223, 264, 191, 1269, 1395, 3914, 1882, 3159, 2057, 551, 783, 1791, 0, 473, 355, 1609, 2857, 1034, 2986, 151, 129, 5909, 5439, 771, 818, 4567, 357, 637, 2300, 376, 3196, 1110, 1417, 926, 4221, 2983, 3244, 2877, 543, 2099, 628, 5297, 443, 5913, 2322, 4987, 3444, 5965, 2182, 4206, 4354, 2248, 3796, 3485, 2839, 3526, 2160, 4810, 3032, 763, 5598, 5350, 1207, 2734, 1980, 2670, 1848, 3770, 4484, 3259, 441, 5467, 2644, 881, 2744, 1019, 188, 1105, 5056, 1861, 1343, 4316, 5234, 145, 3194, 1065, 5036, 2138, 904, 2170, 1822, 5131, 1855, 3671, 2843, 553, 5714, 747, 5392]\n",
      "[301, 326, 215, 47, 166, 283, 203, 286, 148, 274, 354, 202, 300, 91, 81, 3145, 3854, 2, 3638, 2149, 518, 831, 2604, 341, 2803, 1406, 1020, 2500, 2427, 568, 2761, 4980, 4255, 3428, 5722, 2752, 1603, 4353, 4492, 5993, 4381, 495, 2949, 3710, 4408, 3173, 325, 914, 1359, 384, 803, 3965, 162, 4106, 2575, 4549, 1965, 5101, 4194, 2872, 5383, 4792, 2644, 4260, 3599, 1634, 4683, 3581, 713, 1906, 1380, 3501, 5056, 2374, 4038, 5676, 2856, 5461, 1609, 512, 608, 229, 2381, 2284, 2397, 1492, 5585, 4004, 5786, 3635, 106, 5483, 2440, 2543, 6020, 4576, 156, 4165, 4070, 4478, 3542, 5144, 1347, 6022, 4857, 1306, 1434, 221, 4907, 1676, 3656]\n",
      "[32, 292, 117, 405, 348, 138, 370, 15, 234, 38, 67, 106, 25, 66, 244, 2552, 3500, 1197, 1290, 1721, 3174, 2022, 2719, 3544, 1059, 2796, 1349, 3682, 3637, 1953, 930, 5626, 4861, 2532, 4730, 2458, 5120, 2964, 5272, 2149, 5221, 4010, 4552, 4984, 3177, 2629, 1215, 4017, 5128, 1952, 4588, 4612, 3120, 4279, 958, 551, 1891, 4943, 5558, 1793, 5398, 2344, 3406, 5116, 5521, 2595, 3235, 5405, 214, 3385, 4719, 503, 5868, 3892, 2430, 5031, 1102, 1154, 5197, 4352, 5499, 3778, 4938, 1825, 2478, 1248, 1400, 3006, 5148, 3315, 4123, 2939, 2843, 4314, 5997, 4128, 4848, 4775, 22, 5589, 6035, 1145, 274, 895, 5739, 1181, 3117, 3610, 929, 5805]\n",
      "[410, 274, 84, 57, 49, 55, 162, 192, 1, 320, 66, 122, 395, 149, 223, 1126, 3237, 2024, 3508, 150, 433, 2803, 3106, 378, 3734, 2517, 2335, 46, 2762, 3175, 5067, 2629, 3422, 2140, 1797, 3557, 3375, 4619, 1895, 174, 1952, 2409, 5915, 3360, 5517, 1861, 1104, 3685, 5369, 573, 5743, 4931, 4421, 2315, 5432, 5368, 4594, 1872, 2979, 4924, 9, 1227, 4508, 3079, 2681, 2652, 2452, 5491, 2292, 3517, 3023, 2715, 3195, 3906, 2878, 1146, 2376, 3060, 1524, 5250, 5576, 2177, 5142, 5974, 1056, 2393, 782, 1174, 1718, 3885, 1132, 910, 1982, 1913, 5501, 289, 2425, 1723, 4474, 5859, 2604, 5007, 1970, 176, 2322, 4030, 2203, 1637, 4453]\n",
      "[348, 203, 57, 44, 258, 148, 207, 318, 179, 132, 332, 61, 342, 349, 339, 2022, 2021, 3662, 2149, 1356, 3915, 1243, 592, 3577, 1720, 669, 1673, 2143, 259, 1147, 940, 171, 397, 3205, 5585, 1590, 2877, 3559, 4369, 4228, 5742, 1027, 614, 1594, 1238, 4518, 2837, 4712, 4535, 465, 5803, 3854, 281, 2457, 5191, 949, 3802, 4173, 3362, 3912, 5661, 2547, 4219, 676, 1066, 4548, 4022, 4207, 2043, 719, 2452, 2912, 2534, 753, 3805, 4797, 979, 2721, 2378, 1213, 5050, 1700, 2743, 5726, 3089, 2984, 2498, 5845, 3787, 4035, 3616, 4921, 186, 4343, 2742, 1561, 5825, 2392, 5610, 5569, 4337, 1009, 1399, 3451, 2188, 5500, 3511, 5185, 831]\n",
      "[43, 165, 326, 215, 194, 376, 9, 111, 56, 245, 51, 22, 50, 102, 192, 1583, 3699, 1188, 1258, 19, 1096, 2108, 1283, 1976, 1887, 3682, 2352, 2408, 3285, 20, 3910, 5090, 4255, 560, 2588, 5596, 5284, 1269, 5578, 4520, 3547, 0, 953, 4188, 2378, 1348, 2818, 454, 4269, 4344, 4777, 5806, 2178, 2367, 2490, 926, 2159, 5498, 1659, 1242, 3132, 2611, 2814, 2416, 2110, 2853, 3276, 3603, 5265, 2839, 4311, 5508, 4434, 5171, 1026, 5665, 3683, 1803, 5387, 2731, 1962, 208, 5707, 3953, 2307, 4901, 1890, 1267, 480, 2188, 1691, 4125, 5454, 1975, 2827, 5029, 4717, 239, 1585, 3580, 5797, 2837, 5934, 5844, 1766, 3152, 1971, 1084, 4511, 2131, 1907]\n",
      "[348, 136, 341, 283, 185, 401, 342, 172, 47, 162, 307, 221, 35, 343, 72, 271, 1572, 1776, 441, 3762, 2489, 1579, 1832, 3474, 65, 1911, 587, 1075, 2763, 1370, 80, 359, 5992, 2671, 5256, 2546, 3090, 5846, 4122, 4057, 161, 4222, 4538, 3186, 3437, 4088, 290, 5699, 4235, 5313, 3279, 3397, 2779, 85, 3993, 981, 2865, 472, 3132, 3613, 2194, 5450, 2387, 816, 4345, 2999, 5271, 3726, 2352, 1382, 389, 3788, 4170, 1272, 2796, 1518, 58, 1138, 1903, 4271, 5085, 4702, 4909, 4597, 3949, 3160, 429, 1521, 639, 1744, 1400, 2657, 3486, 5724, 3106, 1926, 5692, 1792, 1170, 2359, 1365, 2123, 99, 1491, 4887, 716, 2249, 4748, 4367, 338]\n",
      "[72, 263, 176, 337, 110, 402, 343, 393, 215, 165, 237, 194, 148, 21, 588, 479, 3167, 1256, 1913, 1561, 1016, 265, 1369, 1553, 2247, 805, 434, 2722, 1147, 3623, 5778, 4393, 3792, 1670, 789, 2111, 3137, 4188, 5749, 2515, 5876, 1344, 2066, 1187, 4803, 654, 5656, 734, 5920, 2017, 4023, 2709, 4551, 4181, 5269, 2661, 3267, 3907, 29, 5175, 2100, 4802, 2760, 605, 4711, 4397, 2413, 5300, 5564, 1236, 890, 3148, 4148, 2966, 1150, 1996, 3577, 10, 4771, 4836, 4583, 3206, 5590, 1700, 2990, 192, 3645, 2773, 497, 4226, 5292, 5116, 5516, 5877, 550, 4513, 5383, 3936, 3131, 6, 1530, 2289, 1879, 685, 3610, 5543, 3493, 1504, 5489, 2700]\n",
      "[165, 191, 280, 389, 354, 345, 330, 192, 269, 52, 391, 21, 32, 200, 194, 1908, 552, 2907, 2779, 2946, 1072, 1040, 1292, 951, 579, 1798, 1260, 584, 1094, 1665, 3795, 4652, 2352, 3849, 3895, 1198, 1553, 3615, 5491, 3731, 5556, 1705, 1810, 5350, 1841, 671, 1934, 4773, 5981, 1589, 3445, 5948, 69, 3202, 4135, 1669, 3561, 3910, 120, 3861, 2865, 4163, 1747, 2098, 2445, 5472, 2824, 2472, 980, 3544, 2062, 1892, 3454, 5378, 3709, 5026, 2825, 3462, 1854, 72, 5738, 754, 3351, 4434, 2535, 4425, 2052, 3528, 1407, 5320, 1950, 5670, 5028, 4000, 771, 5967, 1355, 4644, 2663, 436, 3815, 2789, 1958, 4480, 3099, 1371, 3088, 1842, 2395, 1844]\n",
      "[203, 224, 165, 301, 307, 215, 194, 313, 162, 198, 161, 72, 271, 330, 116, 1809, 2113, 1072, 3146, 51, 2139, 140, 3166, 2840, 1026, 2698, 69, 416, 3069, 2394, 1022, 5993, 199, 4064, 3712, 3057, 3095, 2216, 4846, 2830, 5968, 149, 5890, 896, 1982, 2644, 1136, 2880, 2893, 1371, 1416, 710, 1161, 5446, 1374, 5278, 1582, 4626, 4959, 1869, 267, 3464, 5019, 3593, 4631, 1657, 3067, 5358, 1104, 5834, 4671, 4014, 2212, 5598, 2554, 3075, 2470, 2979, 5799, 3399, 2292, 5755, 4840, 4841, 3913, 2231, 1142, 3230, 5360, 4965, 4514, 3576, 4872, 2430, 5899, 1260, 4225, 1791, 3222, 185, 3111, 3681, 1824, 2692, 4275, 403, 3416, 2710, 772, 3502, 5486]\n"
     ]
    },
    {
     "name": "stdout",
     "output_type": "stream",
     "text": [
      "[91, 122, 96, 307, 218, 339, 328, 264, 52, 389, 61, 262, 208, 241, 238, 58, 2010, 1954, 958, 1607, 3004, 3545, 1956, 911, 2277, 3937, 1225, 1882, 2335, 1371, 3948, 356, 2404, 5299, 1614, 4125, 1739, 5122, 4632, 3882, 2296, 3121, 4655, 1514, 2544, 3634, 2871, 5031, 1775, 2039, 2224, 1162, 5924, 3386, 4801, 2186, 3252, 1036, 2765, 2359, 4548, 1023, 251, 4513, 882, 566, 6030, 1164, 1063, 3731, 758, 4927, 5319, 778, 4331, 4061, 3484, 2098, 4130, 5505, 3477, 3235, 5650, 4098, 2453, 3597, 3855, 2239, 199, 4094, 5472, 2910, 1831, 2595, 974, 1357, 1878, 1589, 3408, 2390, 5215, 2674, 988, 1218, 5595, 1532, 5940, 5593, 2580, 1014, 5143]\n",
      "[307, 391, 165, 191, 337, 25, 142, 413, 381, 320, 281, 351, 91, 172, 234, 20, 2992, 779, 1710, 3365, 2013, 1958, 589, 1264, 1541, 2801, 2320, 2143, 1332, 2173, 2572, 3224, 4352, 826, 2324, 5537, 5145, 1976, 823, 2281, 2263, 932, 390, 1801, 4827, 2157, 5296, 4014, 4847, 2224, 4575, 3227, 6003, 4790, 5535, 2206, 1924, 3423, 2424, 2695, 5067, 4173, 3211, 5889, 3857, 1543, 4937, 4113, 1877, 460, 4905, 621, 4946, 132, 4711, 3269, 367, 3491, 3955, 4051, 166, 4540, 2207, 3735, 393, 4632, 852, 3358, 1882, 1086, 3327, 2124, 5863, 624, 37, 1957, 5065, 4257, 959, 788, 2623, 1944, 5186, 2681, 2412, 3293, 1744, 965, 3426]\n",
      "[236, 74, 182, 14, 401, 203, 273, 307, 355, 161, 354, 135, 322, 301, 138, 1195, 1550, 587, 1607, 2792, 2397, 1246, 550, 3460, 647, 2999, 1953, 3156, 2709, 134, 1373, 5829, 2155, 4844, 4773, 437, 7, 1414, 4224, 700, 4296, 2682, 5623, 69, 1757, 1334, 5494, 3520, 1579, 5223, 435, 3903, 1826, 1150, 907, 1028, 5418, 3382, 4600, 4142, 782, 2757, 5954, 2024, 213, 4745, 1528, 4016, 560, 3149, 2592, 1851, 4927, 543, 3780, 313, 2545, 2276, 172, 4947, 4593, 1677, 3772, 5969, 3066, 4629, 3451, 1899, 4101, 4014, 4972, 3540, 3283, 3367, 2559, 3597, 233, 2752, 1471, 4867, 5128, 1694, 2003, 3782, 5311, 4164, 5854, 2539, 4047, 5892]\n",
      "[148, 55, 58, 211, 154, 80, 61, 326, 411, 308, 140, 147, 209, 201, 130, 146, 3397, 2027, 3544, 3499, 3, 3628, 3175, 3740, 245, 1197, 3800, 899, 1587, 1098, 2332, 2911, 225, 2450, 5737, 59, 1670, 4190, 1981, 2836, 1761, 4676, 1875, 4356, 2936, 3257, 698, 3270, 2, 42, 5111, 4282, 3238, 3600, 4251, 4147, 1074, 2353, 3735, 274, 3942, 3783, 5478, 2549, 5883, 4945, 4331, 932, 5242, 1504, 4106, 2099, 1543, 805, 1373, 3907, 3076, 131, 4671, 4222, 2097, 2950, 3354, 2845, 2164, 5490, 290, 4508, 996, 4864, 1209, 2656, 1478, 2461, 1246, 3573, 2715, 5115, 5168, 4453, 5985, 381, 4387, 3285, 5150, 3655, 1120, 2569, 5419, 1428, 4122, 2866]\n",
      "[94, 57, 10, 348, 172, 224, 112, 116, 198, 78, 401, 135, 345, 3265, 1293, 2996, 3670, 49, 289, 1884, 3554, 3577, 2270, 589, 3784, 2053, 3470, 1679, 2193, 2068, 2020, 1317, 1411, 3729, 1196, 5085, 1764, 2402, 3632, 4889, 5894, 5680, 1305, 1546, 1674, 3815, 4741, 2455, 1151, 2638, 5619, 5518, 1326, 5430, 3180, 4774, 5571, 4685, 4745, 3545, 4943, 3030, 3637, 4184, 2494, 3321, 2200, 4716, 4043, 1958, 5681, 639, 1986, 4566, 1508, 3496, 4928, 4179, 5507, 1343, 304, 3765, 710, 1166, 2605, 417, 1024, 3392, 4947, 5887, 2617, 5846, 1090, 595, 1560, 5409, 4066, 5246, 4666, 5579, 705, 514, 2224, 4194, 4002, 1967, 4446, 4546, 5991]\n",
      "[182, 258, 81, 402, 375, 334, 203, 215, 207, 328, 178, 47, 410, 273, 779, 2426, 2500, 2717, 3625, 259, 422, 1856, 2027, 1027, 1673, 3699, 922, 837, 2406, 857, 4063, 897, 823, 256, 4098, 2662, 32, 2626, 2282, 4251, 5938, 2284, 3126, 518, 260, 1093, 4512, 3991, 2769, 3903, 1335, 2904, 4264, 2910, 1883, 1110, 2710, 5090, 1071, 3474, 184, 5606, 5974, 1579, 2093, 43, 1468, 3037, 892, 5459, 789, 1676, 3490, 298, 2479, 5995, 774, 1392, 4759, 685, 1651, 5984, 3329, 1803, 893, 539, 4746, 2805, 4549, 4709, 4779, 4035, 1637, 2489, 1382, 4560, 3083, 274, 5370, 372, 2156, 49, 1891, 3832, 3022, 120, 3793, 2773]\n",
      "[236, 254, 260, 192, 201, 277, 243, 327, 351, 168, 230, 292, 203, 318, 204, 271, 3752, 1681, 526, 2356, 3107, 1341, 538, 2454, 3395, 1428, 744, 2382, 3512, 3197, 1731, 2700, 4764, 5869, 1055, 4221, 5878, 1583, 100, 3565, 1468, 4393, 1934, 3986, 5902, 3472, 3924, 5520, 5279, 1791, 1688, 115, 5688, 240, 2726, 2438, 2306, 1676, 3619, 5759, 4905, 5965, 1540, 3920, 2985, 4539, 3279, 355, 4868, 764, 1768, 4912, 5846, 171, 1803, 2642, 821, 2372, 3830, 4838, 2195, 2815, 5886, 833, 968, 3030, 105, 562, 1318, 641, 219, 3299, 5601, 4966, 3672, 4831, 4377, 3535, 5580, 1931, 3092, 4536, 4780, 711, 2079, 2509, 5410, 4669, 540, 5451, 4858]\n",
      "[25, 201, 389, 43, 288, 235, 255, 239, 138, 172, 21, 350, 81, 414, 227, 359, 647, 1125, 317, 3927, 3550, 1195, 2104, 2715, 550, 1184, 2627, 1135, 3146, 1199, 3407, 526, 585, 4364, 4928, 696, 890, 32, 5535, 2079, 4946, 4763, 3363, 1749, 4013, 663, 2390, 5272, 2935, 5269, 3350, 5597, 800, 5281, 2230, 810, 581, 1140, 4505, 5923, 4977, 579, 5993, 1130, 774, 4172, 3510, 399, 5741, 5946, 2018, 2732, 4081, 148, 5729, 2704, 5968, 936, 1141, 4920, 811, 2332, 1827, 1699, 5227, 4810, 2492, 3012, 961, 2582, 797, 601, 2690, 2530, 3140, 4633, 608, 5625, 34, 5836, 1883, 1920, 3843, 5003, 2744, 1634, 9, 761, 2633, 2978, 1036, 3158]\n",
      "[228, 22, 322, 14, 411, 172, 147, 236, 410, 112, 256, 314, 201, 335, 165, 168, 1059, 2354, 1269, 1197, 2005, 1177, 3267, 1048, 2761, 1526, 586, 3752, 1345, 2915, 376, 44, 3177, 2905, 1211, 5828, 4063, 3490, 5227, 232, 1815, 584, 5951, 738, 3852, 633, 2061, 5897, 905, 2266, 289, 5017, 3332, 60, 432, 5107, 5726, 2344, 5910, 1385, 2557, 837, 88, 3208, 2496, 5954, 5879, 1607, 4604, 2772, 2990, 2298, 3354, 268, 4635, 5254, 1060, 6026, 176, 1633, 3969, 567, 5737, 3443, 2059, 4586, 2576, 2231, 5098, 3676, 5815, 1015, 2527, 746, 3286, 6038, 2930, 5206, 4359, 703, 2961, 1873, 1895, 3361, 947, 1913, 5505, 4100, 1282, 4920]\n",
      "[207, 17, 402, 306, 341, 99, 230, 345, 106, 215, 39, 162, 273, 236, 146, 385, 1616, 2717, 3099, 2299, 3526, 1290, 1978, 1720, 1428, 3255, 918, 967, 1286, 1100, 379, 3395, 420, 1939, 5199, 1718, 4753, 32, 5327, 2009, 76, 2195, 2161, 2628, 2369, 363, 4075, 1630, 134, 4531, 2383, 2126, 2494, 3539, 1548, 612, 4027, 290, 1832, 2222, 5684, 5508, 3337, 5398, 2750, 3937, 3884, 179, 5280, 2158, 309, 3224, 3151, 2052, 786, 1264, 2551, 4560, 4034, 4009, 991, 5716, 2213, 5871, 5162, 2900, 1686, 1814, 883, 1473, 506, 272, 6018, 2397, 4395, 2421, 832, 2432, 715, 203, 1423, 996, 5940, 3907, 3576, 4041, 187, 3208, 3271, 5165]\n",
      "[224, 342, 301, 44, 92, 248, 89, 407, 191, 330, 146, 91, 2, 241, 57, 299, 3945, 3420, 2247, 932, 2762, 2639, 607, 899, 1269, 533, 1916, 2723, 3167, 923, 1953, 1616, 2882, 5246, 5527, 4919, 2793, 4169, 5994, 2507, 5189, 4314, 1132, 2195, 4911, 3722, 2837, 2404, 5592, 3431, 3038, 3091, 5078, 1107, 3236, 5930, 5273, 2846, 2349, 4389, 1840, 749, 1917, 6006, 5329, 5432, 4462, 3135, 1513, 3105, 947, 3294, 1914, 2974, 3096, 4403, 1455, 474, 2469, 4030, 4573, 3798, 4357, 157, 4849, 4795, 3296, 4212, 794, 2946, 1133, 3701, 1334, 5594, 5371, 5020, 4721, 1164, 3457, 3435, 2493, 4954, 5888, 1628, 4725, 183, 1416, 831, 2227, 5089, 1579]\n",
      "[244, 292, 359, 77, 402, 387, 127, 286, 287, 234, 72, 203, 130, 33, 283, 289, 2952, 482, 2053, 3158, 3808, 1292, 2669, 379, 1611, 1689, 2001, 744, 1721, 1979, 10, 3627, 311, 5645, 490, 4872, 753, 3174, 5423, 4985, 5017, 3265, 1446, 3795, 1820, 2107, 78, 3818, 3318, 487, 4718, 4739, 4684, 1823, 5353, 84, 664, 2477, 2428, 5309, 3481, 5847, 3610, 4801, 750, 5229, 2331, 4674, 5504, 976, 1448, 2763, 3251, 755, 686, 3529, 3003, 944, 3811, 1812, 5054, 2933, 4288, 1428, 3845, 4868, 3219, 6018, 2774, 5991, 4919, 1948, 3958, 4016, 5245, 1940, 2416, 826, 3976, 23, 378, 4057, 4343, 1645, 2056, 4113, 2486, 2984, 5590, 2691, 2023]\n",
      "[235, 288, 201, 186, 216, 160, 117, 109, 130, 33, 286, 118, 301, 318, 400, 2235, 1088, 1745, 1264, 2541, 1956, 2000, 3315, 561, 1257, 3542, 1366, 2083, 2798, 3203, 433, 5247, 3512, 1968, 5926, 2034, 1917, 4451, 840, 2819, 238, 5007, 2864, 3342, 3120, 6017, 5044, 1351, 3820, 2021, 1821, 1043, 5463, 3622, 1240, 3386, 3839, 4322, 5, 2890, 971, 5027, 3054, 489, 822, 4662, 304, 3156, 5382, 983, 4609, 5414, 5941, 3560, 3152, 4591, 196, 876, 4128, 5582, 3775, 93, 4341, 5343, 1786, 3762, 473, 2790, 5507, 2941, 272, 5328, 455, 4294, 5057, 314, 5742, 4647, 4356, 5543, 5141, 27, 3661, 3159, 5874, 4884, 2100, 4353, 2978, 2550, 4178]\n",
      "[338, 345, 307, 172, 248, 313, 401, 91, 72, 388, 198, 318, 195, 61, 116, 1270, 3704, 2419, 1912, 9, 1343, 1292, 1022, 2722, 3821, 2501, 349, 1616, 2986, 707, 3106, 4253, 5891, 3679, 5539, 2332, 4748, 1283, 199, 201, 4775, 26, 1839, 5426, 1646, 1643, 3765, 3663, 2057, 123, 5893, 3628, 1965, 3160, 2420, 1701, 793, 5549, 3805, 4318, 1830, 705, 994, 737, 1956, 2490, 4648, 1420, 2269, 3610, 3250, 5925, 5866, 2981, 3902, 5945, 2855, 1092, 265, 2375, 3860, 5118, 2195, 5538, 5240, 4033, 1360, 2267, 5570, 1567, 916, 3641, 1513, 4554, 4195, 3789, 4251, 5909, 472, 4808, 1074, 4401, 523, 5508, 58, 314, 4252, 4105, 1951, 4995]\n",
      "[328, 156, 318, 223, 382, 136, 21, 7, 44, 363, 348, 191, 91, 198, 52, 3035, 2627, 3100, 3851, 806, 2001, 2370, 2857, 475, 1579, 2247, 627, 1353, 2140, 1919, 2467, 5687, 378, 4633, 1874, 4607, 4303, 427, 3831, 1445, 3450, 1498, 2930, 5840, 3279, 1798, 4349, 1449, 5026, 4658, 5388, 5944, 2451, 3298, 5923, 2019, 389, 3615, 4319, 588, 5376, 2503, 1904, 4612, 3703, 5496, 1439, 4887, 2010, 4901, 582, 4299, 5339, 2101, 2466, 4147, 3728, 1618, 2141, 3916, 653, 2821, 1576, 3784, 2613, 3674, 1485, 2899, 3900, 291, 4050, 2009, 1804, 635, 506, 538, 3861, 3564, 4805, 1431, 5362, 214, 4266, 5716, 4832, 567, 3342, 5729, 1636, 3557]\n",
      "[194, 407, 410, 371, 345, 186, 122, 198, 328, 211, 237, 228, 294, 112, 17, 3535, 906, 646, 291, 3252, 161, 2012, 364, 2080, 647, 110, 3466, 3942, 2706, 3894, 0, 5815, 3719, 5289, 3789, 5351, 4154, 5821, 3517, 3326, 3354, 5071, 2552, 4862, 4839, 4425, 83, 3016, 1329, 1577, 403, 4759, 3045, 166, 5963, 4201, 5281, 174, 2383, 3401, 2174, 3692, 3720, 1399, 967, 5650, 1905, 2450, 1714, 872, 2907, 3989, 1689, 5716, 2652, 793, 4214, 3464, 476, 4666, 437, 5332, 4284, 1126, 1334, 3819, 1000, 795, 44, 324, 5490, 2786, 5826, 1466, 2954, 3439, 3634, 1112, 454, 4225, 4117, 4455, 5252, 6002, 5592, 1478, 2030, 3137]\n"
     ]
    },
    {
     "name": "stdout",
     "output_type": "stream",
     "text": [
      "[180, 125, 397, 122, 285, 333, 219, 328, 134, 365, 283, 264, 198, 407, 201, 542, 411, 20, 3333, 3385, 1943, 3797, 2320, 323, 2682, 3526, 3438, 918, 2281, 1920, 5650, 3049, 1530, 2814, 3443, 1435, 4181, 2783, 1413, 3070, 5190, 1622, 5970, 2917, 4772, 1235, 2378, 4583, 2198, 3335, 917, 832, 346, 5649, 1982, 1913, 1836, 3679, 2129, 4516, 2455, 3607, 4995, 4442, 576, 1964, 5878, 2539, 595, 324, 1356, 3750, 331, 2331, 5685, 1633, 5827, 463, 6038, 2442, 499, 5324, 2951, 2215, 2338, 440, 3208, 4998, 1076, 5507, 1962, 2843, 993, 172, 4689, 1560, 3719, 3234, 2173, 185, 1121, 46, 4684, 1607, 4912, 3804, 919, 4257, 1046, 3887]\n",
      "[168, 43, 339, 80, 318, 71, 147, 172, 149, 35, 201, 142, 402, 261, 18, 1543, 2017, 1874, 1393, 2761, 1703, 2052, 110, 1448, 3255, 2615, 1872, 785, 2053, 1339, 4868, 2736, 3769, 3552, 2697, 4880, 5964, 3510, 3835, 1865, 973, 5412, 5831, 4060, 4642, 2170, 5839, 568, 519, 4093, 1093, 5723, 4566, 37, 1498, 288, 3627, 5378, 2884, 2392, 3210, 4526, 3040, 55, 4592, 4992, 1998, 5309, 2608, 2923, 5547, 2745, 254, 5092, 4330, 5461, 3626, 1541, 4696, 2439, 4522, 1856, 5392, 464, 1890, 3220, 2493, 1374, 5175, 481, 312, 4616, 2016, 4210, 1609, 886, 386, 993, 1889, 492, 5178, 5202, 471, 1125, 1176, 424, 5399, 4037, 2433]\n",
      "[120, 391, 27, 197, 323, 283, 260, 49, 92, 250, 52, 15, 347, 133, 287, 47, 609, 3551, 2395, 3607, 1369, 3346, 159, 3564, 3526, 1371, 1220, 2712, 3060, 1572, 1609, 207, 322, 4049, 1989, 5471, 5597, 5906, 6016, 522, 1487, 2455, 2401, 5559, 508, 5051, 3275, 4853, 3418, 3123, 2426, 3929, 4185, 1692, 3090, 3812, 4841, 1584, 1038, 4473, 594, 4298, 4612, 719, 5113, 2600, 3293, 4361, 5555, 1085, 456, 3795, 1578, 3287, 5230, 2199, 3016, 682, 1368, 1565, 3810, 1764, 619, 4094, 4056, 2188, 5427, 698, 3279, 5109, 2575, 4655, 4900, 4982, 2822, 4680, 3285, 542, 625, 1928, 1909, 376, 1804, 2425, 5111, 3329, 5099, 3527, 275, 664, 4519]\n",
      "[375, 224, 341, 137, 89, 63, 156, 414, 186, 124, 82, 270, 99, 332, 326, 235, 1202, 3098, 1579, 3480, 44, 1406, 5, 1206, 522, 3702, 2722, 2192, 3273, 594, 3534, 1239, 2566, 5244, 5220, 2719, 5252, 3750, 5986, 5661, 4336, 4333, 648, 187, 2416, 989, 1759, 1324, 96, 3944, 5706, 3333, 3433, 762, 4347, 5043, 5063, 2074, 2584, 5454, 1515, 2667, 129, 4198, 3221, 5278, 4469, 21, 562, 3783, 306, 4718, 2949, 3337, 3155, 693, 2940, 2582, 1459, 3492, 3632, 2329, 4701, 3194, 1339, 2104, 935, 3536, 4919, 937, 1530, 2736, 3248, 3146, 4496, 4115, 4801, 3676, 533, 2378, 5192, 1686, 715, 4000, 746, 598, 4411, 210, 4]\n",
      "[198, 129, 234, 379, 236, 57, 102, 117, 162, 257, 8, 47, 25, 146, 300, 254, 453, 3927, 3180, 3739, 2790, 2193, 1555, 1638, 2693, 2027, 1016, 2391, 439, 602, 259, 1853, 983, 2339, 3086, 1902, 3087, 3621, 2627, 1423, 3158, 84, 1051, 2122, 4720, 3886, 3245, 2098, 4587, 3124, 2021, 2321, 4424, 1141, 4584, 2638, 5694, 414, 137, 3547, 3528, 2156, 1932, 780, 1022, 5361, 413, 4335, 1682, 4755, 617, 4289, 4835, 2527, 866, 5822, 2522, 5326, 5648, 5060, 2214, 5128, 2457, 4509, 5688, 1382, 1303, 2497, 2907, 4495, 5419, 1924, 4549, 4529, 229, 3178, 1975, 5417, 1398, 2843, 4602, 2739, 640, 659, 5811, 3531, 3315, 4514, 5195, 4164]\n",
      "[351, 116, 271, 326, 91, 228, 122, 284, 129, 162, 397, 263, 215, 805, 2104, 2539, 2202, 1195, 3716, 3744, 1221, 3361, 69, 897, 1579, 3867, 3316, 1011, 2006, 371, 3829, 440, 1121, 5682, 3089, 4525, 421, 1233, 992, 4271, 3827, 5116, 4607, 5020, 1968, 1203, 4891, 696, 775, 1329, 3928, 5155, 4923, 423, 428, 5507, 3153, 4604, 877, 3285, 1264, 1862, 4043, 4976, 1588, 670, 4462, 5673, 222, 4310, 2047, 5269, 1680, 2875, 3836, 907, 1149, 5762, 5461, 1694, 5280, 1746, 2645, 4484, 4598, 891, 4543, 5992, 2542, 711, 2262, 3450, 5608, 3503, 3274, 5435, 840, 4687, 3363, 3088, 4491, 4079, 3514, 378, 3963, 838, 3556, 5341, 1880]\n",
      "[168, 318, 284, 330, 161, 165, 116, 164, 21, 200, 215, 194, 408, 410, 1929, 3071, 1783, 1716, 192, 2000, 2143, 2103, 3060, 2686, 1484, 3533, 950, 787, 901, 2313, 2784, 2646, 1849, 2291, 3557, 1481, 4071, 2153, 3351, 2359, 4940, 3777, 1292, 2642, 693, 2902, 1923, 5260, 3482, 616, 4529, 3247, 4784, 690, 4322, 4324, 4964, 2613, 610, 1747, 5878, 5438, 4827, 5648, 2982, 3303, 496, 3975, 1836, 1587, 4101, 1280, 5823, 95, 1530, 899, 5770, 2, 2258, 3986, 1581, 2098, 2955, 3503, 5573, 4179, 3805, 3654, 4753, 3025, 4444, 1583, 5696, 1656, 3708, 2314, 5871, 89, 1081, 2301, 1634, 4025, 4507, 1395, 5699, 2621, 2843, 2979, 2251, 5475]\n",
      "[318, 4, 135, 100, 343, 138, 263, 137, 215, 410, 72, 197, 244, 185, 156, 3578, 149, 1096, 3081, 1271, 456, 2627, 49, 2871, 3200, 3356, 1239, 2917, 2899, 2880, 1178, 4775, 1132, 218, 3634, 3957, 954, 3798, 3839, 3543, 5110, 3459, 4144, 1352, 3079, 5053, 3264, 1001, 3775, 371, 1949, 4529, 3563, 1267, 930, 5324, 869, 1064, 5382, 3961, 5669, 2970, 3195, 3614, 4646, 423, 140, 5497, 5777, 4926, 6027, 1013, 870, 1582, 305, 5511, 4218, 1077, 680, 4687, 4269, 3936, 3139, 3392, 4302, 1966, 594, 4424, 5050, 4145, 2094, 854, 4941, 537, 1780, 2467, 5892, 3347, 3043, 958, 5530, 264, 2526, 5122, 2285, 5589, 3726, 2579, 5961, 5901, 3749]\n",
      "[299, 401, 379, 72, 58, 25, 174, 302, 337, 96, 365, 168, 23, 152, 147, 2012, 3797, 2489, 2700, 949, 3808, 1610, 223, 2267, 3892, 968, 1543, 1394, 607, 3284, 2321, 4663, 6014, 1211, 5095, 1061, 4905, 841, 49, 993, 3093, 66, 6019, 157, 855, 4890, 4743, 3522, 433, 2454, 1405, 2070, 5471, 3972, 62, 4496, 4096, 5116, 3251, 42, 327, 2299, 4335, 3023, 1919, 340, 1326, 270, 2135, 2269, 1448, 5071, 1467, 6008, 3364, 3676, 2455, 5821, 5126, 2383, 3648, 5881, 3574, 2806, 5015, 5203, 2553, 99, 1406, 2072, 3009, 1824, 4016, 4145, 239, 960, 418, 1118, 3456, 1102, 1246, 351, 41, 2642, 5699, 3058, 2365, 5436, 5153, 2131, 684]\n",
      "[308, 194, 188, 260, 9, 117, 91, 283, 124, 106, 44, 351, 25, 122, 2686, 1135, 1089, 465, 1883, 2469, 1776, 3016, 1274, 2193, 2209, 3075, 2419, 466, 2597, 1586, 4420, 854, 5909, 236, 5118, 2041, 3970, 2939, 5071, 4850, 4553, 1528, 1954, 4591, 2446, 679, 906, 65, 4393, 1737, 681, 5618, 1199, 4664, 3091, 1447, 5594, 2337, 5932, 505, 3714, 2833, 1618, 3651, 2473, 5738, 5302, 534, 4379, 2892, 5433, 3459, 557, 1946, 5818, 4585, 4941, 6010, 4228, 4534, 2179, 3630, 309, 5487, 3228, 1641, 5027, 4597, 1266, 2580, 3650, 3200, 4684, 4592, 4517, 1206, 1493, 5074, 3771, 3283, 945, 2018, 20, 373, 4435, 4215, 544, 3178, 1945, 1128]\n",
      "[237, 115, 3, 18, 191, 17, 354, 300, 263, 391, 307, 328, 27, 288, 254, 222, 3195, 259, 1200, 2079, 1624, 2420, 3254, 799, 2640, 3269, 2080, 439, 1224, 3447, 3526, 3080, 2268, 4397, 124, 4429, 1653, 1909, 2227, 4209, 1755, 4298, 273, 3724, 946, 5011, 588, 2077, 5570, 3956, 2017, 4408, 1640, 1913, 3070, 5975, 962, 4253, 3714, 5238, 30, 4490, 4350, 4637, 3041, 2354, 4848, 5780, 3978, 4137, 3565, 1107, 818, 5745, 2124, 3330, 3062, 4607, 357, 3900, 5495, 1514, 740, 4550, 1129, 2734, 721, 5973, 5812, 3711, 5458, 1119, 4255, 1248, 3303, 387, 4512, 5765, 5778, 6021, 4484, 407, 5316, 4918, 1533, 1561, 1043, 4757, 4509, 4130]\n",
      "[201, 254, 301, 168, 136, 410, 34, 187, 2914, 3867, 1218, 1260, 1875, 2990, 3029, 2762, 1623, 4719, 5063, 3869, 425, 3207, 3437, 1824, 801, 3155, 4520, 3644, 171, 4863, 1507, 5455, 3580, 7, 2560, 4277, 4207, 2946, 2267, 4296, 2738, 2866, 1888, 4505, 2759, 5205, 4611, 5403, 4959, 2108, 5814, 1498, 4222, 4172, 1100]\n"
     ]
    }
   ],
   "source": [
    "# code to get trained embedding for each node\n",
    "h_item_batches = []\n",
    "\n",
    "for _, pos_g, neg_g, blocks in valid_dataloader:\n",
    "    lst = pos_g.ndata['_ID'].tolist()\n",
    "    for value in lst:\n",
    "        if value > 6040:\n",
    "            print('Here')\n",
    "#     print(df_final.query('movie_id in @lst'))\n",
    "#     break\n",
    "    h_item_batches.append(model.get_embeddings(pos_g))"
   ]
  },
  {
   "cell_type": "code",
   "execution_count": 29,
   "id": "6684cbab",
   "metadata": {},
   "outputs": [],
   "source": [
    "h_item_batches = torch.cat(h_item_batches)"
   ]
  },
  {
   "cell_type": "code",
   "execution_count": 31,
   "id": "78a2f646",
   "metadata": {},
   "outputs": [
    {
     "data": {
      "text/plain": [
       "torch.Size([41623, 64])"
      ]
     },
     "execution_count": 31,
     "metadata": {},
     "output_type": "execute_result"
    }
   ],
   "source": [
    "h_item_batches.shape"
   ]
  },
  {
   "cell_type": "code",
   "execution_count": 31,
   "id": "898acee0",
   "metadata": {},
   "outputs": [],
   "source": [
    "state = {\n",
    "        'model_state_dict': model.state_dict(),\n",
    "        'optimizer_state_dict': optimizer.state_dict(),\n",
    "        'loss': total_val_loss,\n",
    "#         'item_embeddings': h_item,\n",
    "        'batch_size': 16\n",
    "            }\n",
    "import os\n",
    "model_dir = '/Users/pratikaher/DGL/models/'\n",
    "model_fn = \"{}_model_{}.pth\".format('gnn_trained_model', 10)\n",
    "torch.save(state, os.path.join(model_dir, model_fn))"
   ]
  },
  {
   "cell_type": "code",
   "execution_count": null,
   "id": "a63918db",
   "metadata": {},
   "outputs": [],
   "source": [
    "\n",
    "\n",
    "# for epoch in range(10):\n",
    "    \n",
    "# #     with torch.no_grad():\n",
    "#     total_loss = 0\n",
    "#     i = 0\n",
    "#     for _, pos_g, neg_g, blocks in dataloader:\n",
    "#         pos_score, neg_score = regress(model, pos_g, neg_g)\n",
    "#         loss = compute_loss(pos_score, neg_score)\n",
    "\n",
    "#         if epoch > 0:  # For the epoch 0, no training (just report loss)\n",
    "#             optimizer.zero_grad()\n",
    "#             loss.backward()\n",
    "#             optimizer.step()\n",
    "            \n",
    "#         total_loss += loss.item()\n",
    "#         i += 1\n",
    "\n",
    "#     train_avg_loss = total_loss / batch_number\n",
    "    \n",
    "    "
   ]
  },
  {
   "cell_type": "code",
   "execution_count": null,
   "id": "89ec9245",
   "metadata": {},
   "outputs": [],
   "source": []
  }
 ],
 "metadata": {
  "kernelspec": {
   "display_name": "venv",
   "language": "python",
   "name": "venv"
  },
  "language_info": {
   "codemirror_mode": {
    "name": "ipython",
    "version": 3
   },
   "file_extension": ".py",
   "mimetype": "text/x-python",
   "name": "python",
   "nbconvert_exporter": "python",
   "pygments_lexer": "ipython3",
   "version": "3.8.8"
  }
 },
 "nbformat": 4,
 "nbformat_minor": 5
}
