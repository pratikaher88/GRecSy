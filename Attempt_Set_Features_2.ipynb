{
 "cells": [
  {
   "cell_type": "code",
   "execution_count": 1,
   "id": "db2c7de3",
   "metadata": {},
   "outputs": [],
   "source": [
    "import sys  \n",
    "sys.path.insert(0, '/Users/pratikaher/DGL/GRecSy/')"
   ]
  },
  {
   "cell_type": "code",
   "execution_count": 2,
   "id": "0351e2c2",
   "metadata": {},
   "outputs": [
    {
     "name": "stderr",
     "output_type": "stream",
     "text": [
      "/Users/pratikaher/DGL/graph-rec/venv/lib/python3.8/site-packages/tqdm/auto.py:22: TqdmWarning: IProgress not found. Please update jupyter and ipywidgets. See https://ipywidgets.readthedocs.io/en/stable/user_install.html\n",
      "  from .autonotebook import tqdm as notebook_tqdm\n"
     ]
    }
   ],
   "source": [
    "from dgl.data.utils import get_download_dir\n",
    "import os\n",
    "import pandas as pd\n",
    "import numpy as np\n",
    "import dgl\n",
    "GENRES_ML_100K =\\\n",
    "    ['unknown', 'Action', 'Adventure', 'Animation',\n",
    "     'Children', 'Comedy', 'Crime', 'Documentary', 'Drama', 'Fantasy',\n",
    "     'Film-Noir', 'Horror', 'Musical', 'Mystery', 'Romance', 'Sci-Fi',\n",
    "     'Thriller', 'War', 'Western']\n",
    "GENRES_ML_1M = GENRES_ML_100K[1:]"
   ]
  },
  {
   "cell_type": "code",
   "execution_count": 3,
   "id": "319c746f",
   "metadata": {},
   "outputs": [],
   "source": [
    "download_dir = get_download_dir()\n",
    "_dir = os.path.join(download_dir, \"ml-1m\", \"ml-1m\")"
   ]
  },
  {
   "cell_type": "code",
   "execution_count": 4,
   "id": "949e7943",
   "metadata": {},
   "outputs": [],
   "source": [
    "def _load_rating_info(file_path, sep):\n",
    "\n",
    "        rating_info = pd.read_csv(\n",
    "            file_path, sep=sep, header=None,\n",
    "            names=['user_id', 'movie_id', 'rating', 'timestamp'],\n",
    "            dtype={'user_id': np.int32, 'movie_id' : np.int32,\n",
    "                   'ratings': np.float32, 'timestamp': np.int64}, engine='python')\n",
    "        return rating_info\n",
    "\n",
    "def _load_raw_user_info(file_path):\n",
    "\n",
    "    user_info = pd.read_csv(file_path, sep='::', header=None,\n",
    "                            names=['id', 'gender', 'age', 'occupation', 'zip_code'], engine='python')\n",
    "\n",
    "    return user_info\n",
    "    \n",
    "def _load_raw_movie_info(file_path):\n",
    "\n",
    "        GENRES = GENRES_ML_1M\n",
    "\n",
    "        movie_info = pd.read_csv(file_path, sep='::', header=None,\n",
    "                                    names=['id', 'title', 'genres'], encoding='iso-8859-1')\n",
    "        genre_map = {ele: i for i, ele in enumerate(GENRES)}\n",
    "        genre_map['Children\\'s'] = genre_map['Children']\n",
    "        genre_map['Childrens'] = genre_map['Children']\n",
    "        movie_genres = np.zeros(shape=(movie_info.shape[0], len(GENRES)), dtype=np.float32)\n",
    "        for i, genres in enumerate(movie_info['genres']):\n",
    "            for ele in genres.split('|'):\n",
    "                if ele in genre_map:\n",
    "                    movie_genres[i, genre_map[ele]] = 1.0\n",
    "                else:\n",
    "                    print('genres not found, filled with unknown: {}'.format(genres))\n",
    "                    movie_genres[i, genre_map['unknown']] = 1.0\n",
    "        \n",
    "        for idx, genre_name in enumerate(GENRES):\n",
    "            assert idx == genre_map[genre_name]\n",
    "            movie_info[genre_name] = movie_genres[:, idx]\n",
    "        \n",
    "        movie_info.drop(columns=[\"genres\"])\n",
    "\n",
    "        return movie_info"
   ]
  },
  {
   "cell_type": "code",
   "execution_count": 5,
   "id": "394868c2",
   "metadata": {},
   "outputs": [
    {
     "name": "stderr",
     "output_type": "stream",
     "text": [
      "/var/folders/7w/pm43w7t11438_6102vq5jc6c0000gn/T/ipykernel_33316/2533451727.py:21: ParserWarning: Falling back to the 'python' engine because the 'c' engine does not support regex separators (separators > 1 char and different from '\\s+' are interpreted as regex); you can avoid this warning by specifying engine='python'.\n",
      "  movie_info = pd.read_csv(file_path, sep='::', header=None,\n"
     ]
    }
   ],
   "source": [
    "user_data = _load_raw_user_info(os.path.join(_dir, 'users.dat'))\n",
    "movie_data = _load_raw_movie_info(os.path.join(_dir, 'movies.dat'))\n",
    "ratings_data = _load_rating_info(os.path.join(_dir, 'ratings.dat'), '::')"
   ]
  },
  {
   "cell_type": "code",
   "execution_count": 6,
   "id": "fc05d8a5",
   "metadata": {},
   "outputs": [
    {
     "data": {
      "text/plain": [
       "(6040, 5)"
      ]
     },
     "execution_count": 6,
     "metadata": {},
     "output_type": "execute_result"
    }
   ],
   "source": [
    "user_data.shape"
   ]
  },
  {
   "cell_type": "code",
   "execution_count": 8,
   "id": "514ab951",
   "metadata": {},
   "outputs": [
    {
     "data": {
      "text/html": [
       "<div>\n",
       "<style scoped>\n",
       "    .dataframe tbody tr th:only-of-type {\n",
       "        vertical-align: middle;\n",
       "    }\n",
       "\n",
       "    .dataframe tbody tr th {\n",
       "        vertical-align: top;\n",
       "    }\n",
       "\n",
       "    .dataframe thead th {\n",
       "        text-align: right;\n",
       "    }\n",
       "</style>\n",
       "<table border=\"1\" class=\"dataframe\">\n",
       "  <thead>\n",
       "    <tr style=\"text-align: right;\">\n",
       "      <th></th>\n",
       "      <th>id</th>\n",
       "      <th>title</th>\n",
       "      <th>genres</th>\n",
       "      <th>Action</th>\n",
       "      <th>Adventure</th>\n",
       "      <th>Animation</th>\n",
       "      <th>Children</th>\n",
       "      <th>Comedy</th>\n",
       "      <th>Crime</th>\n",
       "      <th>Documentary</th>\n",
       "      <th>...</th>\n",
       "      <th>Fantasy</th>\n",
       "      <th>Film-Noir</th>\n",
       "      <th>Horror</th>\n",
       "      <th>Musical</th>\n",
       "      <th>Mystery</th>\n",
       "      <th>Romance</th>\n",
       "      <th>Sci-Fi</th>\n",
       "      <th>Thriller</th>\n",
       "      <th>War</th>\n",
       "      <th>Western</th>\n",
       "    </tr>\n",
       "  </thead>\n",
       "  <tbody>\n",
       "    <tr>\n",
       "      <th>0</th>\n",
       "      <td>1</td>\n",
       "      <td>Toy Story (1995)</td>\n",
       "      <td>Animation|Children's|Comedy</td>\n",
       "      <td>0.0</td>\n",
       "      <td>0.0</td>\n",
       "      <td>1.0</td>\n",
       "      <td>1.0</td>\n",
       "      <td>1.0</td>\n",
       "      <td>0.0</td>\n",
       "      <td>0.0</td>\n",
       "      <td>...</td>\n",
       "      <td>0.0</td>\n",
       "      <td>0.0</td>\n",
       "      <td>0.0</td>\n",
       "      <td>0.0</td>\n",
       "      <td>0.0</td>\n",
       "      <td>0.0</td>\n",
       "      <td>0.0</td>\n",
       "      <td>0.0</td>\n",
       "      <td>0.0</td>\n",
       "      <td>0.0</td>\n",
       "    </tr>\n",
       "    <tr>\n",
       "      <th>1</th>\n",
       "      <td>2</td>\n",
       "      <td>Jumanji (1995)</td>\n",
       "      <td>Adventure|Children's|Fantasy</td>\n",
       "      <td>0.0</td>\n",
       "      <td>1.0</td>\n",
       "      <td>0.0</td>\n",
       "      <td>1.0</td>\n",
       "      <td>0.0</td>\n",
       "      <td>0.0</td>\n",
       "      <td>0.0</td>\n",
       "      <td>...</td>\n",
       "      <td>1.0</td>\n",
       "      <td>0.0</td>\n",
       "      <td>0.0</td>\n",
       "      <td>0.0</td>\n",
       "      <td>0.0</td>\n",
       "      <td>0.0</td>\n",
       "      <td>0.0</td>\n",
       "      <td>0.0</td>\n",
       "      <td>0.0</td>\n",
       "      <td>0.0</td>\n",
       "    </tr>\n",
       "    <tr>\n",
       "      <th>2</th>\n",
       "      <td>3</td>\n",
       "      <td>Grumpier Old Men (1995)</td>\n",
       "      <td>Comedy|Romance</td>\n",
       "      <td>0.0</td>\n",
       "      <td>0.0</td>\n",
       "      <td>0.0</td>\n",
       "      <td>0.0</td>\n",
       "      <td>1.0</td>\n",
       "      <td>0.0</td>\n",
       "      <td>0.0</td>\n",
       "      <td>...</td>\n",
       "      <td>0.0</td>\n",
       "      <td>0.0</td>\n",
       "      <td>0.0</td>\n",
       "      <td>0.0</td>\n",
       "      <td>0.0</td>\n",
       "      <td>1.0</td>\n",
       "      <td>0.0</td>\n",
       "      <td>0.0</td>\n",
       "      <td>0.0</td>\n",
       "      <td>0.0</td>\n",
       "    </tr>\n",
       "  </tbody>\n",
       "</table>\n",
       "<p>3 rows × 21 columns</p>\n",
       "</div>"
      ],
      "text/plain": [
       "   id                    title                        genres  Action  \\\n",
       "0   1         Toy Story (1995)   Animation|Children's|Comedy     0.0   \n",
       "1   2           Jumanji (1995)  Adventure|Children's|Fantasy     0.0   \n",
       "2   3  Grumpier Old Men (1995)                Comedy|Romance     0.0   \n",
       "\n",
       "   Adventure  Animation  Children  Comedy  Crime  Documentary  ...  Fantasy  \\\n",
       "0        0.0        1.0       1.0     1.0    0.0          0.0  ...      0.0   \n",
       "1        1.0        0.0       1.0     0.0    0.0          0.0  ...      1.0   \n",
       "2        0.0        0.0       0.0     1.0    0.0          0.0  ...      0.0   \n",
       "\n",
       "   Film-Noir  Horror  Musical  Mystery  Romance  Sci-Fi  Thriller  War  \\\n",
       "0        0.0     0.0      0.0      0.0      0.0     0.0       0.0  0.0   \n",
       "1        0.0     0.0      0.0      0.0      0.0     0.0       0.0  0.0   \n",
       "2        0.0     0.0      0.0      0.0      1.0     0.0       0.0  0.0   \n",
       "\n",
       "   Western  \n",
       "0      0.0  \n",
       "1      0.0  \n",
       "2      0.0  \n",
       "\n",
       "[3 rows x 21 columns]"
      ]
     },
     "execution_count": 8,
     "metadata": {},
     "output_type": "execute_result"
    }
   ],
   "source": [
    "movie_data.head(3)"
   ]
  },
  {
   "cell_type": "code",
   "execution_count": 34,
   "id": "c509c040",
   "metadata": {},
   "outputs": [],
   "source": [
    "num_test = int(np.ceil(ratings_data.shape[0] * 0.1))\n",
    "shuffled_idx = np.random.permutation(ratings_data.shape[0])\n",
    "all_train_rating_data = ratings_data.iloc[shuffled_idx[num_test: ]]"
   ]
  },
  {
   "cell_type": "code",
   "execution_count": 36,
   "id": "670ab885",
   "metadata": {},
   "outputs": [
    {
     "data": {
      "text/plain": [
       "(900188, 4)"
      ]
     },
     "execution_count": 36,
     "metadata": {},
     "output_type": "execute_result"
    }
   ],
   "source": [
    "all_train_rating_data.shape"
   ]
  },
  {
   "cell_type": "code",
   "execution_count": 75,
   "id": "7fc95783",
   "metadata": {},
   "outputs": [],
   "source": [
    "def _drop_unseen_nodes(orign_info, cmp_col_name, reserved_ids_set, label):\n",
    "    \n",
    "    pd_rating_ids = pd.DataFrame(list(reserved_ids_set), columns=[\"id_graph\"])\n",
    "    data_info = orign_info.merge(pd_rating_ids, left_on=cmp_col_name, right_on='id_graph', how='outer')\n",
    "#     print(data_info)\n",
    "    data_info = data_info.dropna(subset=[cmp_col_name, 'id_graph'])\n",
    "    data_info = data_info.drop(columns=[\"id_graph\"])\n",
    "    data_info = data_info.reset_index(drop=True)\n",
    "    return data_info"
   ]
  },
  {
   "cell_type": "code",
   "execution_count": 126,
   "id": "c61d3c98",
   "metadata": {},
   "outputs": [],
   "source": [
    "movie_data = _drop_unseen_nodes(orign_info=movie_data, cmp_col_name=\"id\",\n",
    "                                        reserved_ids_set=set(ratings_data[\"movie_id\"].values), label=\"movie\")"
   ]
  },
  {
   "cell_type": "code",
   "execution_count": 129,
   "id": "ef6eb02d",
   "metadata": {},
   "outputs": [
    {
     "data": {
      "text/plain": [
       "(3706, 21)"
      ]
     },
     "execution_count": 129,
     "metadata": {},
     "output_type": "execute_result"
    }
   ],
   "source": [
    "movie_data.shape"
   ]
  },
  {
   "cell_type": "code",
   "execution_count": 82,
   "id": "969a1b19",
   "metadata": {},
   "outputs": [],
   "source": [
    "user_data = _drop_unseen_nodes(orign_info=user_data, cmp_col_name=\"id\",\n",
    "                                        reserved_ids_set=set(ratings_data[\"user_id\"].values), label=\"user\")"
   ]
  },
  {
   "cell_type": "code",
   "execution_count": 104,
   "id": "e388b251",
   "metadata": {},
   "outputs": [],
   "source": [
    "global_user_id_map = {ele: i for i, ele in enumerate(user_data['id'])}\n",
    "global_user_id_reverse_map = {i: ele for i, ele in enumerate(user_data['id'])}\n",
    "\n",
    "global_movie_id_map = {ele: i for i, ele in enumerate(movie_data['id'])}\n",
    "global_movie_id_reverse_map = {i: ele for i, ele in enumerate(movie_data['id'])}"
   ]
  },
  {
   "cell_type": "code",
   "execution_count": 108,
   "id": "9bc29bd6",
   "metadata": {},
   "outputs": [
    {
     "data": {
      "text/plain": [
       "(3883, 21)"
      ]
     },
     "execution_count": 108,
     "metadata": {},
     "output_type": "execute_result"
    }
   ],
   "source": [
    "movie_data.shape"
   ]
  },
  {
   "cell_type": "code",
   "execution_count": 116,
   "id": "d1dea206",
   "metadata": {},
   "outputs": [
    {
     "data": {
      "text/html": [
       "<div>\n",
       "<style scoped>\n",
       "    .dataframe tbody tr th:only-of-type {\n",
       "        vertical-align: middle;\n",
       "    }\n",
       "\n",
       "    .dataframe tbody tr th {\n",
       "        vertical-align: top;\n",
       "    }\n",
       "\n",
       "    .dataframe thead th {\n",
       "        text-align: right;\n",
       "    }\n",
       "</style>\n",
       "<table border=\"1\" class=\"dataframe\">\n",
       "  <thead>\n",
       "    <tr style=\"text-align: right;\">\n",
       "      <th></th>\n",
       "      <th>id</th>\n",
       "      <th>gender</th>\n",
       "      <th>age</th>\n",
       "      <th>occupation</th>\n",
       "      <th>zip_code</th>\n",
       "    </tr>\n",
       "  </thead>\n",
       "  <tbody>\n",
       "    <tr>\n",
       "      <th>0</th>\n",
       "      <td>1</td>\n",
       "      <td>F</td>\n",
       "      <td>1</td>\n",
       "      <td>10</td>\n",
       "      <td>48067</td>\n",
       "    </tr>\n",
       "    <tr>\n",
       "      <th>1</th>\n",
       "      <td>2</td>\n",
       "      <td>M</td>\n",
       "      <td>56</td>\n",
       "      <td>16</td>\n",
       "      <td>70072</td>\n",
       "    </tr>\n",
       "    <tr>\n",
       "      <th>2</th>\n",
       "      <td>3</td>\n",
       "      <td>M</td>\n",
       "      <td>25</td>\n",
       "      <td>15</td>\n",
       "      <td>55117</td>\n",
       "    </tr>\n",
       "    <tr>\n",
       "      <th>3</th>\n",
       "      <td>4</td>\n",
       "      <td>M</td>\n",
       "      <td>45</td>\n",
       "      <td>7</td>\n",
       "      <td>02460</td>\n",
       "    </tr>\n",
       "    <tr>\n",
       "      <th>4</th>\n",
       "      <td>5</td>\n",
       "      <td>M</td>\n",
       "      <td>25</td>\n",
       "      <td>20</td>\n",
       "      <td>55455</td>\n",
       "    </tr>\n",
       "    <tr>\n",
       "      <th>...</th>\n",
       "      <td>...</td>\n",
       "      <td>...</td>\n",
       "      <td>...</td>\n",
       "      <td>...</td>\n",
       "      <td>...</td>\n",
       "    </tr>\n",
       "    <tr>\n",
       "      <th>6035</th>\n",
       "      <td>6036</td>\n",
       "      <td>F</td>\n",
       "      <td>25</td>\n",
       "      <td>15</td>\n",
       "      <td>32603</td>\n",
       "    </tr>\n",
       "    <tr>\n",
       "      <th>6036</th>\n",
       "      <td>6037</td>\n",
       "      <td>F</td>\n",
       "      <td>45</td>\n",
       "      <td>1</td>\n",
       "      <td>76006</td>\n",
       "    </tr>\n",
       "    <tr>\n",
       "      <th>6037</th>\n",
       "      <td>6038</td>\n",
       "      <td>F</td>\n",
       "      <td>56</td>\n",
       "      <td>1</td>\n",
       "      <td>14706</td>\n",
       "    </tr>\n",
       "    <tr>\n",
       "      <th>6038</th>\n",
       "      <td>6039</td>\n",
       "      <td>F</td>\n",
       "      <td>45</td>\n",
       "      <td>0</td>\n",
       "      <td>01060</td>\n",
       "    </tr>\n",
       "    <tr>\n",
       "      <th>6039</th>\n",
       "      <td>6040</td>\n",
       "      <td>M</td>\n",
       "      <td>25</td>\n",
       "      <td>6</td>\n",
       "      <td>11106</td>\n",
       "    </tr>\n",
       "  </tbody>\n",
       "</table>\n",
       "<p>6040 rows × 5 columns</p>\n",
       "</div>"
      ],
      "text/plain": [
       "        id gender  age  occupation zip_code\n",
       "0        1      F    1          10    48067\n",
       "1        2      M   56          16    70072\n",
       "2        3      M   25          15    55117\n",
       "3        4      M   45           7    02460\n",
       "4        5      M   25          20    55455\n",
       "...    ...    ...  ...         ...      ...\n",
       "6035  6036      F   25          15    32603\n",
       "6036  6037      F   45           1    76006\n",
       "6037  6038      F   56           1    14706\n",
       "6038  6039      F   45           0    01060\n",
       "6039  6040      M   25           6    11106\n",
       "\n",
       "[6040 rows x 5 columns]"
      ]
     },
     "execution_count": 116,
     "metadata": {},
     "output_type": "execute_result"
    }
   ],
   "source": [
    "user_data"
   ]
  },
  {
   "cell_type": "code",
   "execution_count": 114,
   "id": "40bf3d4a",
   "metadata": {},
   "outputs": [],
   "source": [
    "import torch"
   ]
  },
  {
   "cell_type": "code",
   "execution_count": null,
   "id": "e7cdeebd",
   "metadata": {},
   "outputs": [],
   "source": []
  },
  {
   "cell_type": "code",
   "execution_count": 124,
   "id": "fbb13f46",
   "metadata": {},
   "outputs": [],
   "source": [
    "hetero_graph.nodes['user'].data['node_ID'] = torch.tensor(user_data['id'].to_numpy()).squeeze()"
   ]
  },
  {
   "cell_type": "code",
   "execution_count": 127,
   "id": "d8025e58",
   "metadata": {},
   "outputs": [
    {
     "ename": "DGLError",
     "evalue": "Expect number of features to match number of nodes (len(u)). Got 3706 and 3953 instead.",
     "output_type": "error",
     "traceback": [
      "\u001b[0;31m---------------------------------------------------------------------------\u001b[0m",
      "\u001b[0;31mDGLError\u001b[0m                                  Traceback (most recent call last)",
      "Cell \u001b[0;32mIn [127], line 1\u001b[0m\n\u001b[0;32m----> 1\u001b[0m \u001b[43mhetero_graph\u001b[49m\u001b[38;5;241;43m.\u001b[39;49m\u001b[43mnodes\u001b[49m\u001b[43m[\u001b[49m\u001b[38;5;124;43m'\u001b[39;49m\u001b[38;5;124;43mmovie\u001b[39;49m\u001b[38;5;124;43m'\u001b[39;49m\u001b[43m]\u001b[49m\u001b[38;5;241;43m.\u001b[39;49m\u001b[43mdata\u001b[49m\u001b[43m[\u001b[49m\u001b[38;5;124;43m'\u001b[39;49m\u001b[38;5;124;43mnode_ID\u001b[39;49m\u001b[38;5;124;43m'\u001b[39;49m\u001b[43m]\u001b[49m \u001b[38;5;241m=\u001b[39m torch\u001b[38;5;241m.\u001b[39mtensor(movie_data[\u001b[38;5;124m'\u001b[39m\u001b[38;5;124mid\u001b[39m\u001b[38;5;124m'\u001b[39m]\u001b[38;5;241m.\u001b[39mto_numpy())\u001b[38;5;241m.\u001b[39msqueeze()\n",
      "File \u001b[0;32m~/DGL/graph-rec/venv/lib/python3.8/site-packages/dgl/view.py:84\u001b[0m, in \u001b[0;36mHeteroNodeDataView.__setitem__\u001b[0;34m(self, key, val)\u001b[0m\n\u001b[1;32m     80\u001b[0m \u001b[38;5;28;01melse\u001b[39;00m:\n\u001b[1;32m     81\u001b[0m     \u001b[38;5;28;01massert\u001b[39;00m \u001b[38;5;28misinstance\u001b[39m(val, \u001b[38;5;28mdict\u001b[39m) \u001b[38;5;129;01mis\u001b[39;00m \u001b[38;5;28;01mFalse\u001b[39;00m, \\\n\u001b[1;32m     82\u001b[0m         \u001b[38;5;124m'\u001b[39m\u001b[38;5;124mThe HeteroNodeDataView has only one node type. \u001b[39m\u001b[38;5;124m'\u001b[39m \\\n\u001b[1;32m     83\u001b[0m         \u001b[38;5;124m'\u001b[39m\u001b[38;5;124mplease pass a tensor directly\u001b[39m\u001b[38;5;124m'\u001b[39m\n\u001b[0;32m---> 84\u001b[0m     \u001b[38;5;28;43mself\u001b[39;49m\u001b[38;5;241;43m.\u001b[39;49m\u001b[43m_graph\u001b[49m\u001b[38;5;241;43m.\u001b[39;49m\u001b[43m_set_n_repr\u001b[49m\u001b[43m(\u001b[49m\u001b[38;5;28;43mself\u001b[39;49m\u001b[38;5;241;43m.\u001b[39;49m\u001b[43m_ntid\u001b[49m\u001b[43m,\u001b[49m\u001b[43m \u001b[49m\u001b[38;5;28;43mself\u001b[39;49m\u001b[38;5;241;43m.\u001b[39;49m\u001b[43m_nodes\u001b[49m\u001b[43m,\u001b[49m\u001b[43m \u001b[49m\u001b[43m{\u001b[49m\u001b[43mkey\u001b[49m\u001b[43m \u001b[49m\u001b[43m:\u001b[49m\u001b[43m \u001b[49m\u001b[43mval\u001b[49m\u001b[43m}\u001b[49m\u001b[43m)\u001b[49m\n",
      "File \u001b[0;32m~/DGL/graph-rec/venv/lib/python3.8/site-packages/dgl/heterograph.py:4119\u001b[0m, in \u001b[0;36mDGLHeteroGraph._set_n_repr\u001b[0;34m(self, ntid, u, data)\u001b[0m\n\u001b[1;32m   4117\u001b[0m nfeats \u001b[38;5;241m=\u001b[39m F\u001b[38;5;241m.\u001b[39mshape(val)[\u001b[38;5;241m0\u001b[39m]\n\u001b[1;32m   4118\u001b[0m \u001b[38;5;28;01mif\u001b[39;00m nfeats \u001b[38;5;241m!=\u001b[39m num_nodes:\n\u001b[0;32m-> 4119\u001b[0m     \u001b[38;5;28;01mraise\u001b[39;00m DGLError(\u001b[38;5;124m'\u001b[39m\u001b[38;5;124mExpect number of features to match number of nodes (len(u)).\u001b[39m\u001b[38;5;124m'\u001b[39m\n\u001b[1;32m   4120\u001b[0m                    \u001b[38;5;124m'\u001b[39m\u001b[38;5;124m Got \u001b[39m\u001b[38;5;132;01m%d\u001b[39;00m\u001b[38;5;124m and \u001b[39m\u001b[38;5;132;01m%d\u001b[39;00m\u001b[38;5;124m instead.\u001b[39m\u001b[38;5;124m'\u001b[39m \u001b[38;5;241m%\u001b[39m (nfeats, num_nodes))\n\u001b[1;32m   4121\u001b[0m \u001b[38;5;28;01mif\u001b[39;00m F\u001b[38;5;241m.\u001b[39mcontext(val) \u001b[38;5;241m!=\u001b[39m \u001b[38;5;28mself\u001b[39m\u001b[38;5;241m.\u001b[39mdevice:\n\u001b[1;32m   4122\u001b[0m     \u001b[38;5;28;01mraise\u001b[39;00m DGLError(\u001b[38;5;124m'\u001b[39m\u001b[38;5;124mCannot assign node feature \u001b[39m\u001b[38;5;124m\"\u001b[39m\u001b[38;5;132;01m{}\u001b[39;00m\u001b[38;5;124m\"\u001b[39m\u001b[38;5;124m on device \u001b[39m\u001b[38;5;132;01m{}\u001b[39;00m\u001b[38;5;124m to a graph on\u001b[39m\u001b[38;5;124m'\u001b[39m\n\u001b[1;32m   4123\u001b[0m                    \u001b[38;5;124m'\u001b[39m\u001b[38;5;124m device \u001b[39m\u001b[38;5;132;01m{}\u001b[39;00m\u001b[38;5;124m. Call DGLGraph.to() to copy the graph to the\u001b[39m\u001b[38;5;124m'\u001b[39m\n\u001b[1;32m   4124\u001b[0m                    \u001b[38;5;124m'\u001b[39m\u001b[38;5;124m same device.\u001b[39m\u001b[38;5;124m'\u001b[39m\u001b[38;5;241m.\u001b[39mformat(key, F\u001b[38;5;241m.\u001b[39mcontext(val), \u001b[38;5;28mself\u001b[39m\u001b[38;5;241m.\u001b[39mdevice))\n",
      "\u001b[0;31mDGLError\u001b[0m: Expect number of features to match number of nodes (len(u)). Got 3706 and 3953 instead."
     ]
    }
   ],
   "source": [
    "hetero_graph.nodes['movie'].data['node_ID'] = torch.tensor(movie_data['id'].to_numpy()).squeeze()"
   ]
  },
  {
   "cell_type": "code",
   "execution_count": 120,
   "id": "27ece2ff",
   "metadata": {},
   "outputs": [],
   "source": [
    "hetero_graph = dgl.heterograph({('user', 'rates', 'movie'): (ratings_data['user_id'].to_numpy(), ratings_data['movie_id'].to_numpy())})"
   ]
  },
  {
   "cell_type": "code",
   "execution_count": 122,
   "id": "61b71897",
   "metadata": {},
   "outputs": [],
   "source": [
    "isolated_nodes =  (hetero_graph.out_degrees(etype='rates') == 0).nonzero().squeeze(1)\n",
    "hetero_graph = dgl.remove_nodes(hetero_graph, isolated_nodes, ntype='user')"
   ]
  },
  {
   "cell_type": "code",
   "execution_count": 123,
   "id": "6a66c1b1",
   "metadata": {},
   "outputs": [
    {
     "data": {
      "text/plain": [
       "Graph(num_nodes={'movie': 3953, 'user': 6040},\n",
       "      num_edges={('user', 'rates', 'movie'): 1000209},\n",
       "      metagraph=[('user', 'movie', 'rates')])"
      ]
     },
     "execution_count": 123,
     "metadata": {},
     "output_type": "execute_result"
    }
   ],
   "source": [
    "hetero_graph"
   ]
  },
  {
   "cell_type": "code",
   "execution_count": null,
   "id": "1a846cd1",
   "metadata": {},
   "outputs": [],
   "source": []
  },
  {
   "cell_type": "code",
   "execution_count": null,
   "id": "5fa78ac8",
   "metadata": {},
   "outputs": [],
   "source": []
  },
  {
   "cell_type": "code",
   "execution_count": 86,
   "id": "dddc4fe4",
   "metadata": {},
   "outputs": [
    {
     "name": "stdout",
     "output_type": "stream",
     "text": [
      "Total user number = 6040, movie number = 3706\n"
     ]
    }
   ],
   "source": [
    "print('Total user number = {}, movie number = {}'.format(len(global_user_id_map), len(global_movie_id_map)))\n"
   ]
  },
  {
   "cell_type": "code",
   "execution_count": 89,
   "id": "0e0e20c3",
   "metadata": {},
   "outputs": [],
   "source": [
    "def _generate_pair_value(rating_info):\n",
    "        rating_pairs = (np.array([global_user_id_map[ele] for ele in rating_info[\"user_id\"]],\n",
    "                                 dtype=np.int64),\n",
    "                        np.array([global_movie_id_map[ele] for ele in rating_info[\"movie_id\"]],\n",
    "                                 dtype=np.int64))\n",
    "        rating_values = rating_info[\"rating\"].values.astype(np.float32)\n",
    "        return rating_pairs, rating_values"
   ]
  },
  {
   "cell_type": "code",
   "execution_count": 100,
   "id": "5f2634e1",
   "metadata": {},
   "outputs": [],
   "source": [
    "def _generate_enc_graph(rating_pairs, add_support=False):\n",
    "\n",
    "        data_dict = dict()\n",
    "#         num_nodes_dict = {'user': self._num_user, 'movie': self._num_movie}\n",
    "        rating_row, rating_col = rating_pairs\n",
    "\n",
    "        data_dict.update({\n",
    "                ('user', 'rates', 'movie'): (rating_row, rating_col),\n",
    "                ('movie', 'rev-rates', 'user'): (rating_col, rating_row)\n",
    "            })\n",
    "\n",
    "        graph = dgl.heterograph(data_dict)\n",
    "\n",
    "        # sanity check\n",
    "        assert len(rating_pairs[0]) == sum([graph.number_of_edges(et) for et in graph.etypes]) // 2\n",
    " \n",
    "        return graph"
   ]
  },
  {
   "cell_type": "code",
   "execution_count": 91,
   "id": "f829b5d7",
   "metadata": {},
   "outputs": [],
   "source": [
    "((x, y), z) = _generate_pair_value(ratings_data)"
   ]
  },
  {
   "cell_type": "code",
   "execution_count": 101,
   "id": "278fecbb",
   "metadata": {},
   "outputs": [],
   "source": [
    "train_enc_graph = _generate_enc_graph((x, y))"
   ]
  },
  {
   "cell_type": "code",
   "execution_count": 103,
   "id": "ca2d0645",
   "metadata": {},
   "outputs": [
    {
     "data": {
      "text/plain": [
       "Graph(num_nodes={'movie': 3706, 'user': 6040},\n",
       "      num_edges={('movie', 'rev-rates', 'user'): 1000209, ('user', 'rates', 'movie'): 1000209},\n",
       "      metagraph=[('movie', 'user', 'rev-rates'), ('user', 'movie', 'rates')])"
      ]
     },
     "execution_count": 103,
     "metadata": {},
     "output_type": "execute_result"
    }
   ],
   "source": [
    "train_enc_graph"
   ]
  },
  {
   "cell_type": "code",
   "execution_count": null,
   "id": "1d61bc9b",
   "metadata": {},
   "outputs": [],
   "source": []
  }
 ],
 "metadata": {
  "kernelspec": {
   "display_name": "venv",
   "language": "python",
   "name": "venv"
  },
  "language_info": {
   "codemirror_mode": {
    "name": "ipython",
    "version": 3
   },
   "file_extension": ".py",
   "mimetype": "text/x-python",
   "name": "python",
   "nbconvert_exporter": "python",
   "pygments_lexer": "ipython3",
   "version": "3.8.8"
  }
 },
 "nbformat": 4,
 "nbformat_minor": 5
}
