{
 "cells": [
  {
   "cell_type": "markdown",
   "id": "e91189ea",
   "metadata": {},
   "source": [
    "# Try on temporary graph"
   ]
  },
  {
   "cell_type": "code",
   "execution_count": 1,
   "id": "c7dad04a",
   "metadata": {},
   "outputs": [
    {
     "name": "stderr",
     "output_type": "stream",
     "text": [
      "/Users/pratikaher/DGL/graph-rec/venv/lib/python3.8/site-packages/tqdm/auto.py:22: TqdmWarning: IProgress not found. Please update jupyter and ipywidgets. See https://ipywidgets.readthedocs.io/en/stable/user_install.html\n",
      "  from .autonotebook import tqdm as notebook_tqdm\n"
     ]
    }
   ],
   "source": [
    "import dgl\n",
    "import torch"
   ]
  },
  {
   "cell_type": "code",
   "execution_count": 2,
   "id": "b3aedd17",
   "metadata": {},
   "outputs": [],
   "source": [
    "GENRES_ML_100K =\\\n",
    "    ['unknown', 'Action', 'Adventure', 'Animation',\n",
    "     'Children', 'Comedy', 'Crime', 'Documentary', 'Drama', 'Fantasy',\n",
    "     'Film-Noir', 'Horror', 'Musical', 'Mystery', 'Romance', 'Sci-Fi',\n",
    "     'Thriller', 'War', 'Western']\n",
    "GENRES_ML_1M = GENRES_ML_100K[1:]"
   ]
  },
  {
   "cell_type": "code",
   "execution_count": 3,
   "id": "8c256484",
   "metadata": {},
   "outputs": [],
   "source": [
    "graph_data = {\n",
    "    ('user','rates','movie') : (torch.tensor([5, 2, 2]), torch.tensor([10, 10, 7])),\n",
    "    ('movie','rev-rates','user') : (torch.tensor([10, 7]), torch.tensor([5, 15]))\n",
    "}\n",
    "\n",
    "hetero_graph = dgl.heterograph(graph_data)\n",
    "\n",
    "all_edges_rates = hetero_graph.edges(etype='rates')\n",
    "all_edges_rev_rates = hetero_graph.edges(etype='rev-rates')\n",
    "\n",
    "actual_users = list(set(all_edges_rates[0].tolist()).union(all_edges_rev_rates[1].tolist()))\n",
    "actual_movies = list(set(all_edges_rates[1].tolist()).union(all_edges_rev_rates[0].tolist()))\n",
    "\n",
    "ex_users = hetero_graph.nodes(ntype='user').tolist()\n",
    "ex_movies = hetero_graph.nodes(ntype='movie').tolist()\n",
    "\n",
    "hetero_graph.nodes['user'].data['node_ID'] = torch.tensor(ex_users).squeeze()\n",
    "hetero_graph.nodes['movie'].data['node_ID'] = torch.tensor(ex_movies).squeeze()\n",
    "\n",
    "not_users = list(set(ex_users).difference(set(actual_users)))\n",
    "not_movies = list(set(ex_movies).difference(set(actual_movies)))\n",
    "\n",
    "hetero_graph.remove_nodes(torch.tensor(not_users), ntype='user')\n",
    "hetero_graph.remove_nodes(torch.tensor(not_movies), ntype='movie')\n",
    "# hetero_graph.remove_nodes(torch.tensor(not_users), ntype='A')\n",
    "# hetero_graph.remove_nodes(torch.tensor(not_movies), ntype='C')"
   ]
  },
  {
   "cell_type": "code",
   "execution_count": 4,
   "id": "1ab6c333",
   "metadata": {},
   "outputs": [
    {
     "data": {
      "text/plain": [
       "tensor([ 2,  5, 15])"
      ]
     },
     "execution_count": 4,
     "metadata": {},
     "output_type": "execute_result"
    }
   ],
   "source": [
    "hetero_graph.nodes['user'].data['node_ID']"
   ]
  },
  {
   "cell_type": "code",
   "execution_count": 5,
   "id": "028ed43e",
   "metadata": {},
   "outputs": [],
   "source": [
    "MAP = {\n",
    "    2 : torch.tensor([1,1,0,0,1]),\n",
    "    5 : torch.tensor([1,1,0,0,1]),\n",
    "    15: torch.tensor([1,0,0,0,1]),\n",
    "}"
   ]
  },
  {
   "cell_type": "code",
   "execution_count": null,
   "id": "f4cf6c42",
   "metadata": {},
   "outputs": [],
   "source": []
  },
  {
   "cell_type": "code",
   "execution_count": 6,
   "id": "bc178f39",
   "metadata": {},
   "outputs": [],
   "source": [
    "a=torch.randn(2,3)\n",
    "b=torch.randn(2,3)"
   ]
  },
  {
   "cell_type": "code",
   "execution_count": 7,
   "id": "e1ec65ea",
   "metadata": {},
   "outputs": [
    {
     "data": {
      "text/plain": [
       "tensor([[1, 1, 0, 0, 1],\n",
       "        [1, 1, 0, 0, 1],\n",
       "        [1, 0, 0, 0, 1]])"
      ]
     },
     "execution_count": 7,
     "metadata": {},
     "output_type": "execute_result"
    }
   ],
   "source": [
    "torch.stack([MAP[2], MAP[5], MAP[15]], axis=0)"
   ]
  },
  {
   "cell_type": "code",
   "execution_count": 8,
   "id": "1b014b22",
   "metadata": {},
   "outputs": [],
   "source": [
    " third_tensor = torch.stack([MAP[2], MAP[5], MAP[15]], axis=0)"
   ]
  },
  {
   "cell_type": "code",
   "execution_count": 9,
   "id": "91be5fa1",
   "metadata": {},
   "outputs": [
    {
     "data": {
      "text/plain": [
       "tensor([[1, 1, 0, 0, 1],\n",
       "        [1, 1, 0, 0, 1],\n",
       "        [1, 0, 0, 0, 1]])"
      ]
     },
     "execution_count": 9,
     "metadata": {},
     "output_type": "execute_result"
    }
   ],
   "source": [
    "third_tensor"
   ]
  },
  {
   "cell_type": "code",
   "execution_count": 10,
   "id": "d3201056",
   "metadata": {},
   "outputs": [],
   "source": [
    "hetero_graph.nodes['user'].data['age'] = third_tensor"
   ]
  },
  {
   "cell_type": "code",
   "execution_count": 11,
   "id": "7acb7298",
   "metadata": {},
   "outputs": [
    {
     "data": {
      "text/plain": [
       "NodeSpace(data={'node_ID': tensor([ 2,  5, 15]), 'age': tensor([[1, 1, 0, 0, 1],\n",
       "        [1, 1, 0, 0, 1],\n",
       "        [1, 0, 0, 0, 1]])})"
      ]
     },
     "execution_count": 11,
     "metadata": {},
     "output_type": "execute_result"
    }
   ],
   "source": [
    "hetero_graph.nodes['user']"
   ]
  },
  {
   "cell_type": "code",
   "execution_count": 12,
   "id": "913f28a8",
   "metadata": {},
   "outputs": [
    {
     "data": {
      "text/plain": [
       "defaultdict(<class 'dict'>, {'node_ID': {'movie': tensor([ 7, 10]), 'user': tensor([ 2,  5, 15])}, 'age': {'user': tensor([[1, 1, 0, 0, 1],\n",
       "        [1, 1, 0, 0, 1],\n",
       "        [1, 0, 0, 0, 1]])}})"
      ]
     },
     "execution_count": 12,
     "metadata": {},
     "output_type": "execute_result"
    }
   ],
   "source": [
    "hetero_graph.ndata"
   ]
  },
  {
   "cell_type": "code",
   "execution_count": 13,
   "id": "f70e5065",
   "metadata": {},
   "outputs": [
    {
     "data": {
      "text/plain": [
       "tensor([ 7, 10])"
      ]
     },
     "execution_count": 13,
     "metadata": {},
     "output_type": "execute_result"
    }
   ],
   "source": [
    "hetero_graph.nodes['movie'].data['node_ID']"
   ]
  },
  {
   "cell_type": "code",
   "execution_count": 14,
   "id": "9a513be7",
   "metadata": {},
   "outputs": [
    {
     "data": {
      "text/plain": [
       "2"
      ]
     },
     "execution_count": 14,
     "metadata": {},
     "output_type": "execute_result"
    }
   ],
   "source": [
    "hetero_graph.num_nodes(ntype='movie')"
   ]
  },
  {
   "cell_type": "code",
   "execution_count": 15,
   "id": "95d56efc",
   "metadata": {},
   "outputs": [],
   "source": [
    "hetero_graph.ndata['x']['movie'] = torch.zeros((3, 5))"
   ]
  },
  {
   "cell_type": "code",
   "execution_count": 16,
   "id": "66df19e2",
   "metadata": {},
   "outputs": [
    {
     "data": {
      "text/plain": [
       "defaultdict(<class 'dict'>, {'node_ID': {'movie': tensor([ 7, 10]), 'user': tensor([ 2,  5, 15])}, 'age': {'user': tensor([[1, 1, 0, 0, 1],\n",
       "        [1, 1, 0, 0, 1],\n",
       "        [1, 0, 0, 0, 1]])}})"
      ]
     },
     "execution_count": 16,
     "metadata": {},
     "output_type": "execute_result"
    }
   ],
   "source": [
    "hetero_graph.ndata"
   ]
  },
  {
   "cell_type": "code",
   "execution_count": 17,
   "id": "8f281383",
   "metadata": {},
   "outputs": [
    {
     "data": {
      "text/plain": [
       "tensor([ 7, 10])"
      ]
     },
     "execution_count": 17,
     "metadata": {},
     "output_type": "execute_result"
    }
   ],
   "source": [
    "hetero_graph.nodes['movie'].data['node_ID']"
   ]
  },
  {
   "cell_type": "code",
   "execution_count": null,
   "id": "79c1cf39",
   "metadata": {},
   "outputs": [],
   "source": []
  },
  {
   "cell_type": "code",
   "execution_count": null,
   "id": "2a82cbd8",
   "metadata": {},
   "outputs": [],
   "source": []
  },
  {
   "cell_type": "markdown",
   "id": "af5a8b14",
   "metadata": {},
   "source": [
    "# Attempt on real dataset"
   ]
  },
  {
   "cell_type": "code",
   "execution_count": 18,
   "id": "081e1bb4",
   "metadata": {},
   "outputs": [],
   "source": [
    "from dgl.data.utils import get_download_dir\n",
    "import os\n",
    "import pandas as pd\n",
    "import numpy as np\n",
    "import dgl"
   ]
  },
  {
   "cell_type": "code",
   "execution_count": 19,
   "id": "a93e2a15",
   "metadata": {},
   "outputs": [],
   "source": [
    "download_dir = get_download_dir()\n",
    "_dir = os.path.join(download_dir, \"ml-1m\", \"ml-1m\")"
   ]
  },
  {
   "cell_type": "code",
   "execution_count": 21,
   "id": "01a438f3",
   "metadata": {},
   "outputs": [],
   "source": [
    "def _load_rating_info(file_path, sep):\n",
    "\n",
    "        rating_info = pd.read_csv(\n",
    "            file_path, sep=sep, header=None,\n",
    "            names=['user_id', 'movie_id', 'rating', 'timestamp'],\n",
    "            dtype={'user_id': np.int32, 'movie_id' : np.int32,\n",
    "                   'ratings': np.float32, 'timestamp': np.int64}, engine='python')\n",
    "        return rating_info\n",
    "\n",
    "def _load_raw_user_info(file_path):\n",
    "\n",
    "    user_info = pd.read_csv(file_path, sep='::', header=None,\n",
    "                            names=['id', 'gender', 'age', 'occupation', 'zip_code'], engine='python')\n",
    "\n",
    "    return user_info\n",
    "    \n",
    "def _load_raw_movie_info(file_path):\n",
    "\n",
    "        GENRES = GENRES_ML_1M\n",
    "\n",
    "        movie_info = pd.read_csv(file_path, sep='::', header=None,\n",
    "                                    names=['id', 'title', 'genres'], encoding='iso-8859-1')\n",
    "        genre_map = {ele: i for i, ele in enumerate(GENRES)}\n",
    "        genre_map['Children\\'s'] = genre_map['Children']\n",
    "        genre_map['Childrens'] = genre_map['Children']\n",
    "        movie_genres = np.zeros(shape=(movie_info.shape[0], len(GENRES)), dtype=np.float32)\n",
    "        for i, genres in enumerate(movie_info['genres']):\n",
    "            for ele in genres.split('|'):\n",
    "                if ele in genre_map:\n",
    "                    movie_genres[i, genre_map[ele]] = 1.0\n",
    "                else:\n",
    "                    print('genres not found, filled with unknown: {}'.format(genres))\n",
    "                    movie_genres[i, genre_map['unknown']] = 1.0\n",
    "        \n",
    "        for idx, genre_name in enumerate(GENRES):\n",
    "            assert idx == genre_map[genre_name]\n",
    "            movie_info[genre_name] = movie_genres[:, idx]\n",
    "        \n",
    "        movie_info.drop(columns=[\"genres\"])\n",
    "\n",
    "        return movie_info"
   ]
  },
  {
   "cell_type": "code",
   "execution_count": 22,
   "id": "2aa8b1c5",
   "metadata": {},
   "outputs": [
    {
     "name": "stderr",
     "output_type": "stream",
     "text": [
      "/var/folders/7w/pm43w7t11438_6102vq5jc6c0000gn/T/ipykernel_34944/2533451727.py:21: ParserWarning: Falling back to the 'python' engine because the 'c' engine does not support regex separators (separators > 1 char and different from '\\s+' are interpreted as regex); you can avoid this warning by specifying engine='python'.\n",
      "  movie_info = pd.read_csv(file_path, sep='::', header=None,\n"
     ]
    }
   ],
   "source": [
    "user_data = _load_raw_user_info(os.path.join(_dir, 'users.dat'))\n",
    "movie_data = _load_raw_movie_info(os.path.join(_dir, 'movies.dat'))\n",
    "ratings_data = _load_rating_info(os.path.join(_dir, 'ratings.dat'), '::')"
   ]
  },
  {
   "cell_type": "markdown",
   "id": "bf9826db",
   "metadata": {},
   "source": [
    "# We create an index on the movie data so that we can use that to change ids on the ratings dataset"
   ]
  },
  {
   "cell_type": "code",
   "execution_count": 25,
   "id": "99e3228e",
   "metadata": {},
   "outputs": [],
   "source": [
    "movie_data[\"movie_id\"] = movie_data.index\n",
    "user_data[\"user_id\"] = user_data.index"
   ]
  },
  {
   "cell_type": "code",
   "execution_count": 26,
   "id": "77a01d02",
   "metadata": {},
   "outputs": [],
   "source": [
    "HM_movie_ID = dict(zip(movie_data.id,movie_data.movie_id))\n",
    "HM_user_ID = dict(zip(user_data.id,user_data.user_id))"
   ]
  },
  {
   "cell_type": "code",
   "execution_count": 27,
   "id": "de557aeb",
   "metadata": {},
   "outputs": [],
   "source": [
    "ratings_data[\"user_id\"] = ratings_data[\"user_id\"].map(HM_user_ID)\n",
    "ratings_data[\"movie_id\"] = ratings_data[\"movie_id\"].map(HM_movie_ID)"
   ]
  },
  {
   "cell_type": "code",
   "execution_count": 28,
   "id": "1209dd09",
   "metadata": {},
   "outputs": [
    {
     "data": {
      "text/html": [
       "<div>\n",
       "<style scoped>\n",
       "    .dataframe tbody tr th:only-of-type {\n",
       "        vertical-align: middle;\n",
       "    }\n",
       "\n",
       "    .dataframe tbody tr th {\n",
       "        vertical-align: top;\n",
       "    }\n",
       "\n",
       "    .dataframe thead th {\n",
       "        text-align: right;\n",
       "    }\n",
       "</style>\n",
       "<table border=\"1\" class=\"dataframe\">\n",
       "  <thead>\n",
       "    <tr style=\"text-align: right;\">\n",
       "      <th></th>\n",
       "      <th>user_id</th>\n",
       "      <th>movie_id</th>\n",
       "      <th>rating</th>\n",
       "      <th>timestamp</th>\n",
       "    </tr>\n",
       "  </thead>\n",
       "  <tbody>\n",
       "    <tr>\n",
       "      <th>0</th>\n",
       "      <td>0</td>\n",
       "      <td>1176</td>\n",
       "      <td>5</td>\n",
       "      <td>978300760</td>\n",
       "    </tr>\n",
       "    <tr>\n",
       "      <th>1</th>\n",
       "      <td>0</td>\n",
       "      <td>655</td>\n",
       "      <td>3</td>\n",
       "      <td>978302109</td>\n",
       "    </tr>\n",
       "    <tr>\n",
       "      <th>2</th>\n",
       "      <td>0</td>\n",
       "      <td>902</td>\n",
       "      <td>3</td>\n",
       "      <td>978301968</td>\n",
       "    </tr>\n",
       "    <tr>\n",
       "      <th>3</th>\n",
       "      <td>0</td>\n",
       "      <td>3339</td>\n",
       "      <td>4</td>\n",
       "      <td>978300275</td>\n",
       "    </tr>\n",
       "    <tr>\n",
       "      <th>4</th>\n",
       "      <td>0</td>\n",
       "      <td>2286</td>\n",
       "      <td>5</td>\n",
       "      <td>978824291</td>\n",
       "    </tr>\n",
       "  </tbody>\n",
       "</table>\n",
       "</div>"
      ],
      "text/plain": [
       "   user_id  movie_id  rating  timestamp\n",
       "0        0      1176       5  978300760\n",
       "1        0       655       3  978302109\n",
       "2        0       902       3  978301968\n",
       "3        0      3339       4  978300275\n",
       "4        0      2286       5  978824291"
      ]
     },
     "execution_count": 28,
     "metadata": {},
     "output_type": "execute_result"
    }
   ],
   "source": [
    "ratings_data.head()"
   ]
  },
  {
   "cell_type": "code",
   "execution_count": 29,
   "id": "b2509406",
   "metadata": {},
   "outputs": [
    {
     "data": {
      "text/plain": [
       "6040"
      ]
     },
     "execution_count": 29,
     "metadata": {},
     "output_type": "execute_result"
    }
   ],
   "source": [
    "ratings_data['user_id'].nunique()"
   ]
  },
  {
   "cell_type": "code",
   "execution_count": 30,
   "id": "2ebdd74a",
   "metadata": {},
   "outputs": [
    {
     "data": {
      "text/plain": [
       "3706"
      ]
     },
     "execution_count": 30,
     "metadata": {},
     "output_type": "execute_result"
    }
   ],
   "source": [
    "ratings_data['movie_id'].nunique()"
   ]
  },
  {
   "cell_type": "code",
   "execution_count": 42,
   "id": "18939b11",
   "metadata": {},
   "outputs": [],
   "source": [
    "graph_data = {\n",
    "    ('user','rates','movie') : (ratings_data['user_id'].to_numpy(), ratings_data['movie_id'].to_numpy()),\n",
    "    ('movie','rev-rates','user') : (ratings_data['movie_id'].to_numpy(), ratings_data['user_id'].to_numpy())\n",
    "}\n",
    "\n",
    "movie_hetero_graph = dgl.heterograph(graph_data)"
   ]
  },
  {
   "cell_type": "code",
   "execution_count": 43,
   "id": "e585da03",
   "metadata": {},
   "outputs": [],
   "source": [
    "movie_hetero_graph.nodes['movie'].data['node_ID'] = torch.tensor(movie_data[\"movie_id\"]).squeeze()"
   ]
  },
  {
   "cell_type": "code",
   "execution_count": 44,
   "id": "11a56ff6",
   "metadata": {},
   "outputs": [],
   "source": [
    "movie_hetero_graph.nodes['user'].data['node_ID'] = torch.tensor(user_data[\"user_id\"]).squeeze()"
   ]
  },
  {
   "cell_type": "code",
   "execution_count": 45,
   "id": "68915799",
   "metadata": {},
   "outputs": [
    {
     "data": {
      "text/plain": [
       "Graph(num_nodes={'movie': 3883, 'user': 6040},\n",
       "      num_edges={('movie', 'rev-rates', 'user'): 1000209, ('user', 'rates', 'movie'): 1000209},\n",
       "      metagraph=[('movie', 'user', 'rev-rates'), ('user', 'movie', 'rates')])"
      ]
     },
     "execution_count": 45,
     "metadata": {},
     "output_type": "execute_result"
    }
   ],
   "source": [
    "movie_hetero_graph"
   ]
  },
  {
   "cell_type": "code",
   "execution_count": 46,
   "id": "1a4718c5",
   "metadata": {},
   "outputs": [
    {
     "data": {
      "text/plain": [
       "Graph(num_nodes={'movie': 3883, 'user': 6040},\n",
       "      num_edges={('movie', 'rev-rates', 'user'): 1000209, ('user', 'rates', 'movie'): 1000209},\n",
       "      metagraph=[('movie', 'user', 'rev-rates'), ('user', 'movie', 'rates')])"
      ]
     },
     "execution_count": 46,
     "metadata": {},
     "output_type": "execute_result"
    }
   ],
   "source": [
    "movie_hetero_graph"
   ]
  },
  {
   "cell_type": "code",
   "execution_count": 47,
   "id": "d5d2b807",
   "metadata": {},
   "outputs": [],
   "source": [
    "isolated_nodes =  (movie_hetero_graph.in_degrees(etype='rates') == 0).nonzero().squeeze(1)"
   ]
  },
  {
   "cell_type": "code",
   "execution_count": 48,
   "id": "c566ac66",
   "metadata": {},
   "outputs": [],
   "source": [
    "# isolated_nodes =  (movie_hetero_graph.out_degrees(etype='rev-rates') == 0).nonzero().squeeze(1)"
   ]
  },
  {
   "cell_type": "code",
   "execution_count": 49,
   "id": "14ae3387",
   "metadata": {},
   "outputs": [
    {
     "data": {
      "text/plain": [
       "tensor([  50,  107,  113,  141,  281,  282,  391,  395,  396,  399,  600,  616,\n",
       "         620,  624,  631,  648,  669,  670,  676,  684,  690,  704,  712,  714,\n",
       "         718,  729,  730,  742,  758,  760,  762,  763,  767,  784,  785,  787,\n",
       "         802,  806,  808,  811,  814,  834,  844,  845,  846,  860,  862,  878,\n",
       "         882,  967,  971,  988, 1032, 1038, 1051, 1059, 1090, 1092, 1093, 1094,\n",
       "        1106, 1121, 1124, 1125, 1127, 1130, 1139, 1140, 1141, 1142, 1143, 1150,\n",
       "        1288, 1289, 1294, 1298, 1299, 1347, 1379, 1400, 1418, 1423, 1435, 1440,\n",
       "        1488, 1518, 1520, 1528, 1536, 1537, 1585, 1650, 1651, 1657, 1658, 1660,\n",
       "        1662, 1667, 1674, 1687, 1689, 1691, 1704, 1710, 1712, 1718, 1719, 1723,\n",
       "        1730, 1753, 1778, 1961, 2130, 2147, 2151, 2153, 2155, 2156, 2159, 2160,\n",
       "        2161, 2201, 2205, 2250, 2420, 2439, 2478, 2495, 2519, 2526, 2532, 2534,\n",
       "        2535, 2611, 2615, 2629, 2763, 2769, 2841, 2885, 2888, 2889, 2911, 2940,\n",
       "        2954, 2990, 3011, 3101, 3122, 3124, 3126, 3157, 3158, 3162, 3165, 3209,\n",
       "        3210, 3263, 3279, 3287, 3300, 3314, 3342, 3386, 3472, 3489, 3491, 3492,\n",
       "        3513, 3514, 3520, 3561, 3581, 3681, 3759, 3786, 3837])"
      ]
     },
     "execution_count": 49,
     "metadata": {},
     "output_type": "execute_result"
    }
   ],
   "source": [
    "isolated_nodes"
   ]
  },
  {
   "cell_type": "code",
   "execution_count": 50,
   "id": "257a15bc",
   "metadata": {},
   "outputs": [],
   "source": [
    "movie_hetero_graph.remove_nodes(isolated_nodes.clone().detach(), ntype='movie')"
   ]
  },
  {
   "cell_type": "code",
   "execution_count": 51,
   "id": "8cd67565",
   "metadata": {},
   "outputs": [
    {
     "data": {
      "text/plain": [
       "Graph(num_nodes={'movie': 3706, 'user': 6040},\n",
       "      num_edges={('movie', 'rev-rates', 'user'): 1000209, ('user', 'rates', 'movie'): 1000209},\n",
       "      metagraph=[('movie', 'user', 'rev-rates'), ('user', 'movie', 'rates')])"
      ]
     },
     "execution_count": 51,
     "metadata": {},
     "output_type": "execute_result"
    }
   ],
   "source": [
    "movie_hetero_graph"
   ]
  },
  {
   "cell_type": "code",
   "execution_count": 53,
   "id": "b94c9178",
   "metadata": {},
   "outputs": [
    {
     "data": {
      "text/html": [
       "<div>\n",
       "<style scoped>\n",
       "    .dataframe tbody tr th:only-of-type {\n",
       "        vertical-align: middle;\n",
       "    }\n",
       "\n",
       "    .dataframe tbody tr th {\n",
       "        vertical-align: top;\n",
       "    }\n",
       "\n",
       "    .dataframe thead th {\n",
       "        text-align: right;\n",
       "    }\n",
       "</style>\n",
       "<table border=\"1\" class=\"dataframe\">\n",
       "  <thead>\n",
       "    <tr style=\"text-align: right;\">\n",
       "      <th></th>\n",
       "      <th>id</th>\n",
       "      <th>title</th>\n",
       "      <th>genres</th>\n",
       "      <th>Action</th>\n",
       "      <th>Adventure</th>\n",
       "      <th>Animation</th>\n",
       "      <th>Children</th>\n",
       "      <th>Comedy</th>\n",
       "      <th>Crime</th>\n",
       "      <th>Documentary</th>\n",
       "      <th>...</th>\n",
       "      <th>Film-Noir</th>\n",
       "      <th>Horror</th>\n",
       "      <th>Musical</th>\n",
       "      <th>Mystery</th>\n",
       "      <th>Romance</th>\n",
       "      <th>Sci-Fi</th>\n",
       "      <th>Thriller</th>\n",
       "      <th>War</th>\n",
       "      <th>Western</th>\n",
       "      <th>movie_id</th>\n",
       "    </tr>\n",
       "  </thead>\n",
       "  <tbody>\n",
       "    <tr>\n",
       "      <th>0</th>\n",
       "      <td>1</td>\n",
       "      <td>Toy Story (1995)</td>\n",
       "      <td>Animation|Children's|Comedy</td>\n",
       "      <td>0.0</td>\n",
       "      <td>0.0</td>\n",
       "      <td>1.0</td>\n",
       "      <td>1.0</td>\n",
       "      <td>1.0</td>\n",
       "      <td>0.0</td>\n",
       "      <td>0.0</td>\n",
       "      <td>...</td>\n",
       "      <td>0.0</td>\n",
       "      <td>0.0</td>\n",
       "      <td>0.0</td>\n",
       "      <td>0.0</td>\n",
       "      <td>0.0</td>\n",
       "      <td>0.0</td>\n",
       "      <td>0.0</td>\n",
       "      <td>0.0</td>\n",
       "      <td>0.0</td>\n",
       "      <td>0</td>\n",
       "    </tr>\n",
       "  </tbody>\n",
       "</table>\n",
       "<p>1 rows × 22 columns</p>\n",
       "</div>"
      ],
      "text/plain": [
       "   id             title                       genres  Action  Adventure  \\\n",
       "0   1  Toy Story (1995)  Animation|Children's|Comedy     0.0        0.0   \n",
       "\n",
       "   Animation  Children  Comedy  Crime  Documentary  ...  Film-Noir  Horror  \\\n",
       "0        1.0       1.0     1.0    0.0          0.0  ...        0.0     0.0   \n",
       "\n",
       "   Musical  Mystery  Romance  Sci-Fi  Thriller  War  Western  movie_id  \n",
       "0      0.0      0.0      0.0     0.0       0.0  0.0      0.0         0  \n",
       "\n",
       "[1 rows x 22 columns]"
      ]
     },
     "execution_count": 53,
     "metadata": {},
     "output_type": "execute_result"
    }
   ],
   "source": [
    "movie_data.head(1)"
   ]
  },
  {
   "cell_type": "code",
   "execution_count": 54,
   "id": "4e927233",
   "metadata": {},
   "outputs": [
    {
     "data": {
      "text/plain": [
       "torch.Size([53])"
      ]
     },
     "execution_count": 54,
     "metadata": {},
     "output_type": "execute_result"
    }
   ],
   "source": [
    "movie_hetero_graph.successors(0, etype='rates').shape"
   ]
  },
  {
   "cell_type": "code",
   "execution_count": 55,
   "id": "af877957",
   "metadata": {},
   "outputs": [
    {
     "data": {
      "text/plain": [
       "(53, 4)"
      ]
     },
     "execution_count": 55,
     "metadata": {},
     "output_type": "execute_result"
    }
   ],
   "source": [
    "ratings_data[ratings_data.user_id == 0].shape"
   ]
  },
  {
   "cell_type": "code",
   "execution_count": 56,
   "id": "c5fcf7df",
   "metadata": {},
   "outputs": [],
   "source": [
    "def _process_user_fea(user_data):\n",
    "    HM = {}\n",
    "    \n",
    "    for index, row in user_data.iterrows():\n",
    "        \n",
    "        age = row['age']\n",
    "        gender = (row['gender'] == 'F')\n",
    "        \n",
    "        HM[row['user_id']] = torch.FloatTensor([age, gender])\n",
    "        \n",
    "    return HM"
   ]
  },
  {
   "cell_type": "code",
   "execution_count": 57,
   "id": "671fe78c",
   "metadata": {},
   "outputs": [],
   "source": [
    "def _process_movie_fea(movie_data):\n",
    "    \n",
    "    import re\n",
    "    \n",
    "    HM = {}\n",
    "    p = re.compile(r'(.+)\\s*\\((\\d+)\\)')\n",
    "    \n",
    "    for index, row in movie_data.iterrows():\n",
    "        match_res = p.match(row['title'])\n",
    "        \n",
    "        if match_res is None:\n",
    "            print('{} cannot be matched, index={}, name={}'.format(title, i, self._name))\n",
    "            title_context, year = title, 1950\n",
    "        else:\n",
    "            title_context, year = match_res.groups()\n",
    "        \n",
    "        HM[row['movie_id']] = torch.FloatTensor([ (float(year)- 1950.0) / 100.0])\n",
    "\n",
    "    return HM"
   ]
  },
  {
   "cell_type": "code",
   "execution_count": 58,
   "id": "7e9782f0",
   "metadata": {},
   "outputs": [],
   "source": [
    "movieid_to_feat = _process_movie_fea(movie_data)"
   ]
  },
  {
   "cell_type": "code",
   "execution_count": 59,
   "id": "e7cc756f",
   "metadata": {},
   "outputs": [],
   "source": [
    "userid_to_feat = _process_user_fea(user_data)"
   ]
  },
  {
   "cell_type": "markdown",
   "id": "38175b38",
   "metadata": {},
   "source": [
    "# Create User and Movie Features"
   ]
  },
  {
   "cell_type": "code",
   "execution_count": 60,
   "id": "8016dd68",
   "metadata": {},
   "outputs": [
    {
     "data": {
      "text/plain": [
       "tensor([   0,    1,    2,  ..., 3880, 3881, 3882])"
      ]
     },
     "execution_count": 60,
     "metadata": {},
     "output_type": "execute_result"
    }
   ],
   "source": [
    "movie_hetero_graph.nodes['movie'].data['node_ID']"
   ]
  },
  {
   "cell_type": "code",
   "execution_count": 61,
   "id": "dd617ff8",
   "metadata": {},
   "outputs": [],
   "source": [
    "mapped_movie_features = []\n",
    "for value in movie_hetero_graph.nodes['movie'].data['node_ID'].tolist():\n",
    "    mapped_movie_features.append(movieid_to_feat[value])"
   ]
  },
  {
   "cell_type": "code",
   "execution_count": 62,
   "id": "dfd7f5b8",
   "metadata": {},
   "outputs": [],
   "source": [
    "mapped_user_features = []\n",
    "for value in movie_hetero_graph.nodes['user'].data['node_ID'].tolist():\n",
    "    mapped_user_features.append(userid_to_feat[value])"
   ]
  },
  {
   "cell_type": "code",
   "execution_count": 63,
   "id": "8717fee3",
   "metadata": {},
   "outputs": [],
   "source": [
    "movie_hetero_graph.nodes['user'].data['features'] = torch.stack(mapped_user_features, axis=0)"
   ]
  },
  {
   "cell_type": "code",
   "execution_count": 64,
   "id": "723bd05b",
   "metadata": {},
   "outputs": [],
   "source": [
    "movie_hetero_graph.nodes['movie'].data['features'] = torch.stack(mapped_movie_features, axis=0)"
   ]
  },
  {
   "cell_type": "code",
   "execution_count": 65,
   "id": "192e070a",
   "metadata": {},
   "outputs": [
    {
     "data": {
      "text/plain": [
       "tensor([[ 1.,  1.],\n",
       "        [56.,  0.],\n",
       "        [25.,  0.],\n",
       "        ...,\n",
       "        [56.,  1.],\n",
       "        [45.,  1.],\n",
       "        [25.,  0.]])"
      ]
     },
     "execution_count": 65,
     "metadata": {},
     "output_type": "execute_result"
    }
   ],
   "source": [
    "movie_hetero_graph.nodes['user'].data['features']"
   ]
  },
  {
   "cell_type": "code",
   "execution_count": 66,
   "id": "fa429ec9",
   "metadata": {},
   "outputs": [
    {
     "data": {
      "text/html": [
       "<div>\n",
       "<style scoped>\n",
       "    .dataframe tbody tr th:only-of-type {\n",
       "        vertical-align: middle;\n",
       "    }\n",
       "\n",
       "    .dataframe tbody tr th {\n",
       "        vertical-align: top;\n",
       "    }\n",
       "\n",
       "    .dataframe thead th {\n",
       "        text-align: right;\n",
       "    }\n",
       "</style>\n",
       "<table border=\"1\" class=\"dataframe\">\n",
       "  <thead>\n",
       "    <tr style=\"text-align: right;\">\n",
       "      <th></th>\n",
       "      <th>id</th>\n",
       "      <th>gender</th>\n",
       "      <th>age</th>\n",
       "      <th>occupation</th>\n",
       "      <th>zip_code</th>\n",
       "      <th>user_id</th>\n",
       "    </tr>\n",
       "  </thead>\n",
       "  <tbody>\n",
       "    <tr>\n",
       "      <th>1</th>\n",
       "      <td>2</td>\n",
       "      <td>M</td>\n",
       "      <td>56</td>\n",
       "      <td>16</td>\n",
       "      <td>70072</td>\n",
       "      <td>1</td>\n",
       "    </tr>\n",
       "  </tbody>\n",
       "</table>\n",
       "</div>"
      ],
      "text/plain": [
       "   id gender  age  occupation zip_code  user_id\n",
       "1   2      M   56          16    70072        1"
      ]
     },
     "execution_count": 66,
     "metadata": {},
     "output_type": "execute_result"
    }
   ],
   "source": [
    "user_data[user_data.user_id == 1]"
   ]
  },
  {
   "cell_type": "markdown",
   "id": "697b2924",
   "metadata": {},
   "source": [
    "## We can see that second node has value of age as '56'. Hence we can confirm that features are mapped to the correct node."
   ]
  },
  {
   "cell_type": "code",
   "execution_count": 67,
   "id": "a1aeabfb",
   "metadata": {},
   "outputs": [
    {
     "data": {
      "text/plain": [
       "tensor([[0.4500],\n",
       "        [0.4500],\n",
       "        [0.4500],\n",
       "        ...,\n",
       "        [0.5000],\n",
       "        [0.5000],\n",
       "        [0.5000]])"
      ]
     },
     "execution_count": 67,
     "metadata": {},
     "output_type": "execute_result"
    }
   ],
   "source": [
    "movie_hetero_graph.nodes['movie'].data['features']"
   ]
  },
  {
   "cell_type": "code",
   "execution_count": 68,
   "id": "e46af3c7",
   "metadata": {},
   "outputs": [
    {
     "data": {
      "text/html": [
       "<div>\n",
       "<style scoped>\n",
       "    .dataframe tbody tr th:only-of-type {\n",
       "        vertical-align: middle;\n",
       "    }\n",
       "\n",
       "    .dataframe tbody tr th {\n",
       "        vertical-align: top;\n",
       "    }\n",
       "\n",
       "    .dataframe thead th {\n",
       "        text-align: right;\n",
       "    }\n",
       "</style>\n",
       "<table border=\"1\" class=\"dataframe\">\n",
       "  <thead>\n",
       "    <tr style=\"text-align: right;\">\n",
       "      <th></th>\n",
       "      <th>id</th>\n",
       "      <th>title</th>\n",
       "      <th>genres</th>\n",
       "      <th>Action</th>\n",
       "      <th>Adventure</th>\n",
       "      <th>Animation</th>\n",
       "      <th>Children</th>\n",
       "      <th>Comedy</th>\n",
       "      <th>Crime</th>\n",
       "      <th>Documentary</th>\n",
       "      <th>...</th>\n",
       "      <th>Film-Noir</th>\n",
       "      <th>Horror</th>\n",
       "      <th>Musical</th>\n",
       "      <th>Mystery</th>\n",
       "      <th>Romance</th>\n",
       "      <th>Sci-Fi</th>\n",
       "      <th>Thriller</th>\n",
       "      <th>War</th>\n",
       "      <th>Western</th>\n",
       "      <th>movie_id</th>\n",
       "    </tr>\n",
       "  </thead>\n",
       "  <tbody>\n",
       "    <tr>\n",
       "      <th>1</th>\n",
       "      <td>2</td>\n",
       "      <td>Jumanji (1995)</td>\n",
       "      <td>Adventure|Children's|Fantasy</td>\n",
       "      <td>0.0</td>\n",
       "      <td>1.0</td>\n",
       "      <td>0.0</td>\n",
       "      <td>1.0</td>\n",
       "      <td>0.0</td>\n",
       "      <td>0.0</td>\n",
       "      <td>0.0</td>\n",
       "      <td>...</td>\n",
       "      <td>0.0</td>\n",
       "      <td>0.0</td>\n",
       "      <td>0.0</td>\n",
       "      <td>0.0</td>\n",
       "      <td>0.0</td>\n",
       "      <td>0.0</td>\n",
       "      <td>0.0</td>\n",
       "      <td>0.0</td>\n",
       "      <td>0.0</td>\n",
       "      <td>1</td>\n",
       "    </tr>\n",
       "  </tbody>\n",
       "</table>\n",
       "<p>1 rows × 22 columns</p>\n",
       "</div>"
      ],
      "text/plain": [
       "   id           title                        genres  Action  Adventure  \\\n",
       "1   2  Jumanji (1995)  Adventure|Children's|Fantasy     0.0        1.0   \n",
       "\n",
       "   Animation  Children  Comedy  Crime  Documentary  ...  Film-Noir  Horror  \\\n",
       "1        0.0       1.0     0.0    0.0          0.0  ...        0.0     0.0   \n",
       "\n",
       "   Musical  Mystery  Romance  Sci-Fi  Thriller  War  Western  movie_id  \n",
       "1      0.0      0.0      0.0     0.0       0.0  0.0      0.0         1  \n",
       "\n",
       "[1 rows x 22 columns]"
      ]
     },
     "execution_count": 68,
     "metadata": {},
     "output_type": "execute_result"
    }
   ],
   "source": [
    "movie_data[movie_data.movie_id == 1]"
   ]
  },
  {
   "cell_type": "code",
   "execution_count": 69,
   "id": "9b53100d",
   "metadata": {},
   "outputs": [
    {
     "data": {
      "text/plain": [
       "0.45"
      ]
     },
     "execution_count": 69,
     "metadata": {},
     "output_type": "execute_result"
    }
   ],
   "source": [
    "(1995-1950)/100"
   ]
  },
  {
   "cell_type": "markdown",
   "id": "e19c5679",
   "metadata": {},
   "source": [
    "## We can see that first node has value of movie feature as '0.45'. We also see 1st movie ids release year. Hence we can confirm that features are mapped to the correct node."
   ]
  },
  {
   "cell_type": "code",
   "execution_count": null,
   "id": "8adfd564",
   "metadata": {},
   "outputs": [],
   "source": []
  }
 ],
 "metadata": {
  "kernelspec": {
   "display_name": "venv",
   "language": "python",
   "name": "venv"
  },
  "language_info": {
   "codemirror_mode": {
    "name": "ipython",
    "version": 3
   },
   "file_extension": ".py",
   "mimetype": "text/x-python",
   "name": "python",
   "nbconvert_exporter": "python",
   "pygments_lexer": "ipython3",
   "version": "3.8.8"
  }
 },
 "nbformat": 4,
 "nbformat_minor": 5
}
